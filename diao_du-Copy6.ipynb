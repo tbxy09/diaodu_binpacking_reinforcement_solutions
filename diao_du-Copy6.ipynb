{
 "cells": [
  {
   "cell_type": "markdown",
   "metadata": {},
   "source": [
    "/data/dotfiles_xy/nvim/plugged/tutorials/beginner_source/nlp/word_embeddings_tutorial.py "
   ]
  },
  {
   "cell_type": "code",
   "execution_count": 1,
   "metadata": {
    "run_control": {
     "marked": true
    }
   },
   "outputs": [
    {
     "data": {
      "text/plain": [
       "'%load_ext autoreload \\n %autoreload 2'"
      ]
     },
     "execution_count": 1,
     "metadata": {},
     "output_type": "execute_result"
    }
   ],
   "source": [
    "at"
   ]
  },
  {
   "cell_type": "code",
   "execution_count": 2,
   "metadata": {
    "code_folding": [],
    "hide_input": false,
    "run_control": {
     "marked": true
    }
   },
   "outputs": [
    {
     "data": {
      "text/plain": [
       "<torch._C.Generator at 0x7fec88b995f0>"
      ]
     },
     "execution_count": 2,
     "metadata": {},
     "output_type": "execute_result"
    }
   ],
   "source": [
    "# %%file diaodu/preprocess.py\n",
    "#### import and reading data\n",
    "import pandas as pd\n",
    "import numpy as np\n",
    "import random\n",
    "import torch.nn as nn\n",
    "import torch.optim as optim\n",
    "import torch\n",
    "import gc\n",
    "from funtest.test_pathlib import first_try\n",
    "import matplotlib.pyplot as plt\n",
    "import numpy as np\n",
    "torch.manual_seed(2018)\n",
    "%matplotlib inline\n",
    "import sys\n",
    "# sys.path.append('/opt/playground/web_traffic/')\n",
    "# from util import threed_view\n",
    "# from threed_view import *# from util import threed_view\n",
    "sys.path.append('/opt/playground/diaodu/')\n",
    "from dst import *\n",
    "from model import *\n",
    "sys.path.append('/opt/playground/diaodu/util')\n",
    "from gen_expand import *\n",
    "from threed_view import *\n",
    "from meter import AverageMeter\n",
    "import random\n",
    "from preprocess import Preprocess\n",
    "from preprocess import en_vec\n",
    "torch.manual_seed(random.randint(1,2888))"
   ]
  },
  {
   "cell_type": "code",
   "execution_count": 59,
   "metadata": {
    "code_folding": [
     0
    ],
    "hide_input": false,
    "run_control": {
     "marked": false
    }
   },
   "outputs": [
    {
     "name": "stdout",
     "output_type": "stream",
     "text": [
      "Overwriting diaodu/preprocess.py\n"
     ]
    }
   ],
   "source": [
    "%%file diaodu/preprocess.py\n",
    "import pandas as pd\n",
    "class Preprocess():\n",
    "    def __init__(self):\n",
    "        self.data_read()\n",
    "    def data_read():\n",
    "        base='/mnt/osstb/tianchi/diaodu/'\n",
    "\n",
    "        fn=first_try(base,'*.csv')\n",
    "\n",
    "        col_li_aid='aid_cpu_mem_disk_p_m_pm'\n",
    "        col_li_mid='mid_cpu_mem_disk_p_m_pm'\n",
    "        col_li_aid=col_li_aid.split('_')\n",
    "        col_li_mid=col_li_mid.split('_')\n",
    "\n",
    "        self.df_app_inter=pd.read_csv(fn[0],names=['aid','bid','v'],usecols=None,index_col=None)\n",
    "\n",
    "        self.df_app_res=pd.read_csv(fn[1],names=list('abcdefg'))\n",
    "\n",
    "        self.df_app_res=pd.read_csv(fn[1],names=col_li_aid)\n",
    "\n",
    "        self.df_ins=pd.read_csv(fn[2],names=['iid','aid','mid'])\n",
    "\n",
    "        self.df_machine=pd.read_csv(fn[3],names=col_li_mid)\n",
    "\n",
    "        self.df_su=pd.read_csv(fn[4])\n",
    "\n",
    "# df_app_res['aid']=df_app_res.aid.str.split('_',expand=True)[1]\n",
    "    def df_app_res_handling(self):\n",
    "        for c in ['cpu','mem']:\n",
    "            self.df_app_res=pd.concat( [df_app_res,df_app_res[c].str.split('|',expand=True)],axis=1)\n",
    "    def df_machine_handling(self):\n",
    "        cols=['cpu','mem','disk','p','m','pm']\n",
    "        cols_rn=[]\n",
    "        for c in cols:\n",
    "            val_map={each:str(id) for id,each in enumerate(df_machine[c].unique())}\n",
    "            c_rn='_'.join([c,'en'])\n",
    "            cols_rn.append(c_rn)\n",
    "            self.df_machine[c_rn]=self.df_machine[c].map(val_map)\n",
    "\n",
    "        self.df_machine[cols_rn].sum(axis=1).value_counts()\n",
    "\n",
    "        self.df_machine['target']=self.df_machine[cols_rn].sum(axis=1)\n",
    "\n",
    "        self.df_machine['target']\n",
    "        val_map={each:id for id,each in enumerate(self.df_machine.target.unique())}\n",
    "        self.df_machine['target']=self.df_machine['target'].map(val_map)\n",
    "\n",
    "    def make_vector(self,aids):\n",
    "        vec=np.zeros(df_ins.aid.nunique())\n",
    "\n",
    "\n",
    "\n",
    "        for id,values in zip(aids.bid,aids.v):\n",
    "            index=int(id.split('_')[-1])-1\n",
    "    #         vec[int(id.split('_')[-1])-1]+=values\n",
    "    #         if id=='app_8129':\n",
    "    #             print(id,values)\n",
    "    #             print(vec.max())\n",
    "            vec[index]+=values\n",
    "        if len(np.argwhere(vec==7))>0:\n",
    "            print('----------')\n",
    "            print(np.argwhere(vec==7))\n",
    "        vec=vec.astype(int)\n",
    "    #     return pd.Series([''.join(vec.astype(str)),vec.max()],index=['vec','vec_max'])\n",
    "        return pd.Series([(vec==7)*vec.T,(vec==5)*vec.T,(vec==4)*vec.T,(vec==3)*vec.T,(vec==1)*vec.T],\n",
    "                         index['vec7','vec5','vec4','vec3','vec1'])\n",
    "    def df_app_inter_handling(self):\n",
    "        nonly=self.df_ins.aid.nunique()\n",
    "        def make_vector(nonly,aids):\n",
    "            vec=np.zeros(nonly)\n",
    "\n",
    "            for id,values in zip(aids.bid,aids.v):\n",
    "                index=int(id.split('_')[-1])-1\n",
    "        #         vec[int(id.split('_')[-1])-1]+=values\n",
    "        #         if id=='app_8129':\n",
    "        #             print(id,values)\n",
    "        #             print(vec.max())\n",
    "                vec[index]+=values\n",
    "            if len(np.argwhere(vec==7))>0:\n",
    "                print('----------')\n",
    "                print(np.argwhere(vec==7))\n",
    "            vec=vec.astype(int)\n",
    "        #     return pd.Series([''.join(vec.astype(str)),vec.max()],index=['vec','vec_max'])\n",
    "            return pd.Series([(vec==7)*vec.T,(vec==5)*vec.T,(vec==4)*vec.T,(vec==3)*vec.T,(vec==1)*vec.T],\n",
    "                             index['vec7','vec5','vec4','vec3','vec1'])\n",
    "        cols=['bid','v']\n",
    "\n",
    "        # df_app_inter=df_app_inter.groupby('aid')[cols].apply(lambda x: ':'.join(x.v),axis=1).reset_index()\n",
    "        self.df_app_inter=self.df_app_inter.groupby('aid')[cols].apply(lambda x: make_vector(nonly,x)).reset_index()\n",
    "\n",
    "        self.df_app_inter['vec7']=self.df_app_inter.vec7.apply(lambda x:''.join(x.astype(str)))\n",
    "        self.df_app_inter['vec4']=self.df_app_inter.vec4.apply(lambda x:''.join(x.astype(str)))\n",
    "        self.df_app_inter['vec3']=self.df_app_inter.vec3.apply(lambda x:''.join(x.astype(str)))\n",
    "        self.df_app_inter['vec5']=self.df_app_inter.vec5.apply(lambda x:''.join(x.astype(str)))\n",
    "        self.df_app_inter['vec1']=self.df_app_inter.vec1.apply(lambda x:''.join(x.astype(str)))\n",
    "\n",
    "        #### here, i freeze the handler into a csv file\n",
    "\n",
    "        self.df_app_inter.to_csv('./data/diaodu/df_app_inter.csv')\n",
    "\n",
    "        #### reading from the csv\n",
    "    def df_app_inter_fromcsv():\n",
    "        self.df_app_inter=pd.read_csv('./data/diaodu/df_app_inter.csv')\n",
    "    def run_pre(self):\n",
    "        df_app_res_handling()\n",
    "        df_machine_handling()\n",
    "        df_app_inter_fromcsv()\n",
    "        return self.df_app_res.copy(),self.df_machine.copy(),self.df_ins.copy(),df_app_inter.copy()"
   ]
  },
  {
   "cell_type": "code",
   "execution_count": 3,
   "metadata": {
    "code_folding": [],
    "collapsed": true,
    "hide_input": false,
    "run_control": {
     "marked": false
    }
   },
   "outputs": [
    {
     "ename": "NameError",
     "evalue": "name 'df_app_inter' is not defined",
     "output_type": "error",
     "traceback": [
      "\u001b[0;31m---------------------------------------------------------------------------\u001b[0m",
      "\u001b[0;31mNameError\u001b[0m                                 Traceback (most recent call last)",
      "\u001b[0;32m<ipython-input-3-b1d2198b8ab6>\u001b[0m in \u001b[0;36m<module>\u001b[0;34m()\u001b[0m\n\u001b[0;32m----> 1\u001b[0;31m \u001b[0mdf_app_inter_copy\u001b[0m\u001b[0;34m=\u001b[0m\u001b[0mdf_app_inter\u001b[0m\u001b[0;34m.\u001b[0m\u001b[0mcopy\u001b[0m\u001b[0;34m(\u001b[0m\u001b[0;34m)\u001b[0m\u001b[0;34m\u001b[0m\u001b[0m\n\u001b[0m\u001b[1;32m      2\u001b[0m \u001b[0;34m\u001b[0m\u001b[0m\n\u001b[1;32m      3\u001b[0m \u001b[0mdf_app_inter\u001b[0m\u001b[0;34m=\u001b[0m\u001b[0mdf_app_inter_copy\u001b[0m\u001b[0;34m.\u001b[0m\u001b[0mcopy\u001b[0m\u001b[0;34m(\u001b[0m\u001b[0;34m)\u001b[0m\u001b[0;34m\u001b[0m\u001b[0m\n\u001b[1;32m      4\u001b[0m \u001b[0;34m\u001b[0m\u001b[0m\n\u001b[1;32m      5\u001b[0m \u001b[0mvalues\u001b[0m\u001b[0;34m=\u001b[0m\u001b[0mnp\u001b[0m\u001b[0;34m.\u001b[0m\u001b[0mvstack\u001b[0m\u001b[0;34m(\u001b[0m\u001b[0;34m[\u001b[0m\u001b[0mdf_app_inter\u001b[0m\u001b[0;34m.\u001b[0m\u001b[0mvalues\u001b[0m\u001b[0;34m,\u001b[0m\u001b[0mdf_app_inter\u001b[0m\u001b[0;34m[\u001b[0m\u001b[0;34m[\u001b[0m\u001b[0;34m'bid'\u001b[0m\u001b[0;34m,\u001b[0m\u001b[0;34m'aid'\u001b[0m\u001b[0;34m,\u001b[0m\u001b[0;34m'v'\u001b[0m\u001b[0;34m]\u001b[0m\u001b[0;34m]\u001b[0m\u001b[0;34m.\u001b[0m\u001b[0mvalues\u001b[0m\u001b[0;34m]\u001b[0m\u001b[0;34m)\u001b[0m\u001b[0;34m\u001b[0m\u001b[0m\n",
      "\u001b[0;31mNameError\u001b[0m: name 'df_app_inter' is not defined"
     ]
    }
   ],
   "source": [
    "df_app_inter_copy=df_app_inter.copy()\n",
    "\n",
    "df_app_inter=df_app_inter_copy.copy()\n",
    "\n",
    "values=np.vstack([df_app_inter.values,df_app_inter[['bid','aid','v']].values])\n",
    "\n",
    "df_app_inter=pd.DataFrame(values,columns=['aid','bid','v'])\n",
    "\n",
    "# df_exp=df_app_inter.groupby('aid')['bid'].apply(lambda x: x.duplicated().sum())"
   ]
  },
  {
   "cell_type": "code",
   "execution_count": 4,
   "metadata": {
    "code_folding": [
     0
    ],
    "collapsed": true,
    "hide_input": false,
    "run_control": {
     "marked": false
    }
   },
   "outputs": [
    {
     "ename": "NameError",
     "evalue": "name 'df_ins' is not defined",
     "output_type": "error",
     "traceback": [
      "\u001b[0;31m---------------------------------------------------------------------------\u001b[0m",
      "\u001b[0;31mNameError\u001b[0m                                 Traceback (most recent call last)",
      "\u001b[0;32m<ipython-input-4-647deb706d62>\u001b[0m in \u001b[0;36m<module>\u001b[0;34m()\u001b[0m\n\u001b[1;32m      1\u001b[0m \u001b[0;31m#### instance deploy , null find, and devide\u001b[0m\u001b[0;34m\u001b[0m\u001b[0;34m\u001b[0m\u001b[0m\n\u001b[1;32m      2\u001b[0m \u001b[0;34m\u001b[0m\u001b[0m\n\u001b[0;32m----> 3\u001b[0;31m \u001b[0mdf_ins_undeploy\u001b[0m\u001b[0;34m=\u001b[0m\u001b[0mdf_ins\u001b[0m\u001b[0;34m[\u001b[0m\u001b[0mdf_ins\u001b[0m\u001b[0;34m[\u001b[0m\u001b[0;34m'mid'\u001b[0m\u001b[0;34m]\u001b[0m\u001b[0;34m.\u001b[0m\u001b[0misnull\u001b[0m\u001b[0;34m(\u001b[0m\u001b[0;34m)\u001b[0m\u001b[0;34m]\u001b[0m\u001b[0;34m\u001b[0m\u001b[0m\n\u001b[0m\u001b[1;32m      4\u001b[0m \u001b[0;34m\u001b[0m\u001b[0m\n\u001b[1;32m      5\u001b[0m \u001b[0mdf_ins_deploy\u001b[0m\u001b[0;34m=\u001b[0m\u001b[0mdf_ins\u001b[0m\u001b[0;34m[\u001b[0m\u001b[0mdf_ins\u001b[0m\u001b[0;34m[\u001b[0m\u001b[0;34m'mid'\u001b[0m\u001b[0;34m]\u001b[0m\u001b[0;34m.\u001b[0m\u001b[0mnotnull\u001b[0m\u001b[0;34m(\u001b[0m\u001b[0;34m)\u001b[0m\u001b[0;34m]\u001b[0m\u001b[0;34m\u001b[0m\u001b[0m\n",
      "\u001b[0;31mNameError\u001b[0m: name 'df_ins' is not defined"
     ]
    }
   ],
   "source": [
    "#### instance deploy , null find, and devide\n",
    "\n",
    "df_ins_undeploy=df_ins[df_ins['mid'].isnull()]\n",
    "\n",
    "df_ins_deploy=df_ins[df_ins['mid'].notnull()]\n",
    "\n",
    "df_ins_deploy.shape,df_ins_undeploy.shape"
   ]
  },
  {
   "cell_type": "markdown",
   "metadata": {},
   "source": [
    "#### interference"
   ]
  },
  {
   "cell_type": "code",
   "execution_count": 62,
   "metadata": {
    "hide_input": true,
    "run_control": {
     "marked": false
    }
   },
   "outputs": [
    {
     "data": {
      "text/plain": [
       "(35242, 3)"
      ]
     },
     "execution_count": 62,
     "metadata": {},
     "output_type": "execute_result"
    }
   ],
   "source": [
    "df_app_inter.shape"
   ]
  },
  {
   "cell_type": "code",
   "execution_count": 63,
   "metadata": {
    "hide_input": true,
    "run_control": {
     "marked": false
    }
   },
   "outputs": [
    {
     "data": {
      "text/plain": [
       "aid    app_6585\n",
       "bid    app_8959\n",
       "v             0\n",
       "Name: 1, dtype: object"
      ]
     },
     "execution_count": 63,
     "metadata": {},
     "output_type": "execute_result"
    }
   ],
   "source": [
    "df_app_inter.iloc[1]"
   ]
  },
  {
   "cell_type": "code",
   "execution_count": 65,
   "metadata": {
    "collapsed": true,
    "hide_input": true,
    "run_control": {
     "marked": false
    }
   },
   "outputs": [
    {
     "data": {
      "text/html": [
       "<div>\n",
       "<style scoped>\n",
       "    .dataframe tbody tr th:only-of-type {\n",
       "        vertical-align: middle;\n",
       "    }\n",
       "\n",
       "    .dataframe tbody tr th {\n",
       "        vertical-align: top;\n",
       "    }\n",
       "\n",
       "    .dataframe thead th {\n",
       "        text-align: right;\n",
       "    }\n",
       "</style>\n",
       "<table border=\"1\" class=\"dataframe\">\n",
       "  <thead>\n",
       "    <tr style=\"text-align: right;\">\n",
       "      <th></th>\n",
       "      <th>aid</th>\n",
       "      <th>bid</th>\n",
       "      <th>v</th>\n",
       "    </tr>\n",
       "  </thead>\n",
       "  <tbody>\n",
       "    <tr>\n",
       "      <th>0</th>\n",
       "      <td>app_8361</td>\n",
       "      <td>app_2163</td>\n",
       "      <td>0</td>\n",
       "    </tr>\n",
       "    <tr>\n",
       "      <th>1</th>\n",
       "      <td>app_6585</td>\n",
       "      <td>app_8959</td>\n",
       "      <td>0</td>\n",
       "    </tr>\n",
       "    <tr>\n",
       "      <th>2</th>\n",
       "      <td>app_5732</td>\n",
       "      <td>app_3361</td>\n",
       "      <td>2</td>\n",
       "    </tr>\n",
       "    <tr>\n",
       "      <th>3</th>\n",
       "      <td>app_5732</td>\n",
       "      <td>app_1919</td>\n",
       "      <td>2</td>\n",
       "    </tr>\n",
       "    <tr>\n",
       "      <th>4</th>\n",
       "      <td>app_5732</td>\n",
       "      <td>app_2749</td>\n",
       "      <td>2</td>\n",
       "    </tr>\n",
       "    <tr>\n",
       "      <th>5</th>\n",
       "      <td>app_5732</td>\n",
       "      <td>app_1148</td>\n",
       "      <td>2</td>\n",
       "    </tr>\n",
       "    <tr>\n",
       "      <th>6</th>\n",
       "      <td>app_5732</td>\n",
       "      <td>app_2482</td>\n",
       "      <td>2</td>\n",
       "    </tr>\n",
       "    <tr>\n",
       "      <th>7</th>\n",
       "      <td>app_5732</td>\n",
       "      <td>app_6234</td>\n",
       "      <td>2</td>\n",
       "    </tr>\n",
       "    <tr>\n",
       "      <th>8</th>\n",
       "      <td>app_5732</td>\n",
       "      <td>app_8017</td>\n",
       "      <td>1</td>\n",
       "    </tr>\n",
       "    <tr>\n",
       "      <th>9</th>\n",
       "      <td>app_5732</td>\n",
       "      <td>app_4193</td>\n",
       "      <td>2</td>\n",
       "    </tr>\n",
       "    <tr>\n",
       "      <th>10</th>\n",
       "      <td>app_5732</td>\n",
       "      <td>app_8524</td>\n",
       "      <td>2</td>\n",
       "    </tr>\n",
       "    <tr>\n",
       "      <th>11</th>\n",
       "      <td>app_5732</td>\n",
       "      <td>app_9201</td>\n",
       "      <td>1</td>\n",
       "    </tr>\n",
       "    <tr>\n",
       "      <th>12</th>\n",
       "      <td>app_5732</td>\n",
       "      <td>app_7025</td>\n",
       "      <td>2</td>\n",
       "    </tr>\n",
       "    <tr>\n",
       "      <th>13</th>\n",
       "      <td>app_5732</td>\n",
       "      <td>app_4883</td>\n",
       "      <td>1</td>\n",
       "    </tr>\n",
       "    <tr>\n",
       "      <th>14</th>\n",
       "      <td>app_5732</td>\n",
       "      <td>app_4512</td>\n",
       "      <td>1</td>\n",
       "    </tr>\n",
       "    <tr>\n",
       "      <th>15</th>\n",
       "      <td>app_5732</td>\n",
       "      <td>app_3571</td>\n",
       "      <td>1</td>\n",
       "    </tr>\n",
       "    <tr>\n",
       "      <th>16</th>\n",
       "      <td>app_5732</td>\n",
       "      <td>app_9174</td>\n",
       "      <td>1</td>\n",
       "    </tr>\n",
       "    <tr>\n",
       "      <th>17</th>\n",
       "      <td>app_5732</td>\n",
       "      <td>app_7818</td>\n",
       "      <td>2</td>\n",
       "    </tr>\n",
       "    <tr>\n",
       "      <th>18</th>\n",
       "      <td>app_5732</td>\n",
       "      <td>app_8532</td>\n",
       "      <td>1</td>\n",
       "    </tr>\n",
       "    <tr>\n",
       "      <th>19</th>\n",
       "      <td>app_5732</td>\n",
       "      <td>app_4157</td>\n",
       "      <td>1</td>\n",
       "    </tr>\n",
       "    <tr>\n",
       "      <th>20</th>\n",
       "      <td>app_5732</td>\n",
       "      <td>app_4735</td>\n",
       "      <td>2</td>\n",
       "    </tr>\n",
       "    <tr>\n",
       "      <th>21</th>\n",
       "      <td>app_5732</td>\n",
       "      <td>app_5148</td>\n",
       "      <td>2</td>\n",
       "    </tr>\n",
       "    <tr>\n",
       "      <th>22</th>\n",
       "      <td>app_5732</td>\n",
       "      <td>app_4114</td>\n",
       "      <td>1</td>\n",
       "    </tr>\n",
       "    <tr>\n",
       "      <th>23</th>\n",
       "      <td>app_5732</td>\n",
       "      <td>app_839</td>\n",
       "      <td>1</td>\n",
       "    </tr>\n",
       "    <tr>\n",
       "      <th>24</th>\n",
       "      <td>app_5732</td>\n",
       "      <td>app_1644</td>\n",
       "      <td>2</td>\n",
       "    </tr>\n",
       "    <tr>\n",
       "      <th>25</th>\n",
       "      <td>app_5732</td>\n",
       "      <td>app_1333</td>\n",
       "      <td>2</td>\n",
       "    </tr>\n",
       "    <tr>\n",
       "      <th>26</th>\n",
       "      <td>app_5732</td>\n",
       "      <td>app_8166</td>\n",
       "      <td>1</td>\n",
       "    </tr>\n",
       "    <tr>\n",
       "      <th>27</th>\n",
       "      <td>app_5732</td>\n",
       "      <td>app_3572</td>\n",
       "      <td>1</td>\n",
       "    </tr>\n",
       "    <tr>\n",
       "      <th>28</th>\n",
       "      <td>app_5732</td>\n",
       "      <td>app_2499</td>\n",
       "      <td>1</td>\n",
       "    </tr>\n",
       "    <tr>\n",
       "      <th>29</th>\n",
       "      <td>app_5732</td>\n",
       "      <td>app_4366</td>\n",
       "      <td>1</td>\n",
       "    </tr>\n",
       "    <tr>\n",
       "      <th>...</th>\n",
       "      <td>...</td>\n",
       "      <td>...</td>\n",
       "      <td>...</td>\n",
       "    </tr>\n",
       "    <tr>\n",
       "      <th>35212</th>\n",
       "      <td>app_9157</td>\n",
       "      <td>app_3969</td>\n",
       "      <td>1</td>\n",
       "    </tr>\n",
       "    <tr>\n",
       "      <th>35213</th>\n",
       "      <td>app_9157</td>\n",
       "      <td>app_1207</td>\n",
       "      <td>1</td>\n",
       "    </tr>\n",
       "    <tr>\n",
       "      <th>35214</th>\n",
       "      <td>app_9157</td>\n",
       "      <td>app_6347</td>\n",
       "      <td>2</td>\n",
       "    </tr>\n",
       "    <tr>\n",
       "      <th>35215</th>\n",
       "      <td>app_9157</td>\n",
       "      <td>app_5767</td>\n",
       "      <td>1</td>\n",
       "    </tr>\n",
       "    <tr>\n",
       "      <th>35216</th>\n",
       "      <td>app_9157</td>\n",
       "      <td>app_2821</td>\n",
       "      <td>1</td>\n",
       "    </tr>\n",
       "    <tr>\n",
       "      <th>35217</th>\n",
       "      <td>app_9157</td>\n",
       "      <td>app_6938</td>\n",
       "      <td>1</td>\n",
       "    </tr>\n",
       "    <tr>\n",
       "      <th>35218</th>\n",
       "      <td>app_9157</td>\n",
       "      <td>app_4218</td>\n",
       "      <td>2</td>\n",
       "    </tr>\n",
       "    <tr>\n",
       "      <th>35219</th>\n",
       "      <td>app_9157</td>\n",
       "      <td>app_3522</td>\n",
       "      <td>1</td>\n",
       "    </tr>\n",
       "    <tr>\n",
       "      <th>35220</th>\n",
       "      <td>app_9157</td>\n",
       "      <td>app_2624</td>\n",
       "      <td>2</td>\n",
       "    </tr>\n",
       "    <tr>\n",
       "      <th>35221</th>\n",
       "      <td>app_9157</td>\n",
       "      <td>app_5881</td>\n",
       "      <td>0</td>\n",
       "    </tr>\n",
       "    <tr>\n",
       "      <th>35222</th>\n",
       "      <td>app_9157</td>\n",
       "      <td>app_2452</td>\n",
       "      <td>1</td>\n",
       "    </tr>\n",
       "    <tr>\n",
       "      <th>35223</th>\n",
       "      <td>app_9157</td>\n",
       "      <td>app_3642</td>\n",
       "      <td>0</td>\n",
       "    </tr>\n",
       "    <tr>\n",
       "      <th>35224</th>\n",
       "      <td>app_9157</td>\n",
       "      <td>app_8997</td>\n",
       "      <td>1</td>\n",
       "    </tr>\n",
       "    <tr>\n",
       "      <th>35225</th>\n",
       "      <td>app_9157</td>\n",
       "      <td>app_2591</td>\n",
       "      <td>0</td>\n",
       "    </tr>\n",
       "    <tr>\n",
       "      <th>35226</th>\n",
       "      <td>app_9157</td>\n",
       "      <td>app_8050</td>\n",
       "      <td>1</td>\n",
       "    </tr>\n",
       "    <tr>\n",
       "      <th>35227</th>\n",
       "      <td>app_6303</td>\n",
       "      <td>app_7516</td>\n",
       "      <td>2</td>\n",
       "    </tr>\n",
       "    <tr>\n",
       "      <th>35228</th>\n",
       "      <td>app_5901</td>\n",
       "      <td>app_8002</td>\n",
       "      <td>2</td>\n",
       "    </tr>\n",
       "    <tr>\n",
       "      <th>35229</th>\n",
       "      <td>app_5089</td>\n",
       "      <td>app_4445</td>\n",
       "      <td>0</td>\n",
       "    </tr>\n",
       "    <tr>\n",
       "      <th>35230</th>\n",
       "      <td>app_5089</td>\n",
       "      <td>app_3652</td>\n",
       "      <td>0</td>\n",
       "    </tr>\n",
       "    <tr>\n",
       "      <th>35231</th>\n",
       "      <td>app_1071</td>\n",
       "      <td>app_6823</td>\n",
       "      <td>2</td>\n",
       "    </tr>\n",
       "    <tr>\n",
       "      <th>35232</th>\n",
       "      <td>app_1071</td>\n",
       "      <td>app_3851</td>\n",
       "      <td>1</td>\n",
       "    </tr>\n",
       "    <tr>\n",
       "      <th>35233</th>\n",
       "      <td>app_1071</td>\n",
       "      <td>app_1071</td>\n",
       "      <td>1</td>\n",
       "    </tr>\n",
       "    <tr>\n",
       "      <th>35234</th>\n",
       "      <td>app_9087</td>\n",
       "      <td>app_8130</td>\n",
       "      <td>1</td>\n",
       "    </tr>\n",
       "    <tr>\n",
       "      <th>35235</th>\n",
       "      <td>app_8908</td>\n",
       "      <td>app_75</td>\n",
       "      <td>2</td>\n",
       "    </tr>\n",
       "    <tr>\n",
       "      <th>35236</th>\n",
       "      <td>app_8908</td>\n",
       "      <td>app_3271</td>\n",
       "      <td>2</td>\n",
       "    </tr>\n",
       "    <tr>\n",
       "      <th>35237</th>\n",
       "      <td>app_8534</td>\n",
       "      <td>app_6694</td>\n",
       "      <td>0</td>\n",
       "    </tr>\n",
       "    <tr>\n",
       "      <th>35238</th>\n",
       "      <td>app_9188</td>\n",
       "      <td>app_531</td>\n",
       "      <td>0</td>\n",
       "    </tr>\n",
       "    <tr>\n",
       "      <th>35239</th>\n",
       "      <td>app_9188</td>\n",
       "      <td>app_6554</td>\n",
       "      <td>0</td>\n",
       "    </tr>\n",
       "    <tr>\n",
       "      <th>35240</th>\n",
       "      <td>app_9188</td>\n",
       "      <td>app_7447</td>\n",
       "      <td>0</td>\n",
       "    </tr>\n",
       "    <tr>\n",
       "      <th>35241</th>\n",
       "      <td>app_9188</td>\n",
       "      <td>app_6694</td>\n",
       "      <td>0</td>\n",
       "    </tr>\n",
       "  </tbody>\n",
       "</table>\n",
       "<p>35242 rows × 3 columns</p>\n",
       "</div>"
      ],
      "text/plain": [
       "            aid       bid  v\n",
       "0      app_8361  app_2163  0\n",
       "1      app_6585  app_8959  0\n",
       "2      app_5732  app_3361  2\n",
       "3      app_5732  app_1919  2\n",
       "4      app_5732  app_2749  2\n",
       "5      app_5732  app_1148  2\n",
       "6      app_5732  app_2482  2\n",
       "7      app_5732  app_6234  2\n",
       "8      app_5732  app_8017  1\n",
       "9      app_5732  app_4193  2\n",
       "10     app_5732  app_8524  2\n",
       "11     app_5732  app_9201  1\n",
       "12     app_5732  app_7025  2\n",
       "13     app_5732  app_4883  1\n",
       "14     app_5732  app_4512  1\n",
       "15     app_5732  app_3571  1\n",
       "16     app_5732  app_9174  1\n",
       "17     app_5732  app_7818  2\n",
       "18     app_5732  app_8532  1\n",
       "19     app_5732  app_4157  1\n",
       "20     app_5732  app_4735  2\n",
       "21     app_5732  app_5148  2\n",
       "22     app_5732  app_4114  1\n",
       "23     app_5732   app_839  1\n",
       "24     app_5732  app_1644  2\n",
       "25     app_5732  app_1333  2\n",
       "26     app_5732  app_8166  1\n",
       "27     app_5732  app_3572  1\n",
       "28     app_5732  app_2499  1\n",
       "29     app_5732  app_4366  1\n",
       "...         ...       ... ..\n",
       "35212  app_9157  app_3969  1\n",
       "35213  app_9157  app_1207  1\n",
       "35214  app_9157  app_6347  2\n",
       "35215  app_9157  app_5767  1\n",
       "35216  app_9157  app_2821  1\n",
       "35217  app_9157  app_6938  1\n",
       "35218  app_9157  app_4218  2\n",
       "35219  app_9157  app_3522  1\n",
       "35220  app_9157  app_2624  2\n",
       "35221  app_9157  app_5881  0\n",
       "35222  app_9157  app_2452  1\n",
       "35223  app_9157  app_3642  0\n",
       "35224  app_9157  app_8997  1\n",
       "35225  app_9157  app_2591  0\n",
       "35226  app_9157  app_8050  1\n",
       "35227  app_6303  app_7516  2\n",
       "35228  app_5901  app_8002  2\n",
       "35229  app_5089  app_4445  0\n",
       "35230  app_5089  app_3652  0\n",
       "35231  app_1071  app_6823  2\n",
       "35232  app_1071  app_3851  1\n",
       "35233  app_1071  app_1071  1\n",
       "35234  app_9087  app_8130  1\n",
       "35235  app_8908    app_75  2\n",
       "35236  app_8908  app_3271  2\n",
       "35237  app_8534  app_6694  0\n",
       "35238  app_9188   app_531  0\n",
       "35239  app_9188  app_6554  0\n",
       "35240  app_9188  app_7447  0\n",
       "35241  app_9188  app_6694  0\n",
       "\n",
       "[35242 rows x 3 columns]"
      ]
     },
     "execution_count": 65,
     "metadata": {},
     "output_type": "execute_result"
    }
   ],
   "source": [
    "df_app_inter"
   ]
  },
  {
   "cell_type": "code",
   "execution_count": 66,
   "metadata": {
    "hide_input": true,
    "run_control": {
     "marked": false
    }
   },
   "outputs": [
    {
     "data": {
      "text/plain": [
       "aid     app_626\n",
       "bid    app_2245\n",
       "v             2\n",
       "Name: 10372, dtype: object"
      ]
     },
     "execution_count": 66,
     "metadata": {},
     "output_type": "execute_result"
    }
   ],
   "source": [
    "idx=random.randint(1,df_app_inter.shape[0])\n",
    "df_app_inter.iloc[idx]"
   ]
  },
  {
   "cell_type": "code",
   "execution_count": 67,
   "metadata": {
    "hide_input": true,
    "run_control": {
     "marked": false
    }
   },
   "outputs": [
    {
     "data": {
      "text/plain": [
       "dtype('int64')"
      ]
     },
     "execution_count": 67,
     "metadata": {},
     "output_type": "execute_result"
    }
   ],
   "source": [
    "df_app_inter['v'].dtype"
   ]
  },
  {
   "cell_type": "markdown",
   "metadata": {},
   "source": [
    "#### machine resource"
   ]
  },
  {
   "cell_type": "code",
   "execution_count": 70,
   "metadata": {
    "hide_input": true,
    "run_control": {
     "marked": false
    }
   },
   "outputs": [
    {
     "data": {
      "text/plain": [
       "mid     machine_1\n",
       "cpu            32\n",
       "mem            64\n",
       "disk          600\n",
       "p               7\n",
       "m               3\n",
       "pm              7\n",
       "Name: 0, dtype: object"
      ]
     },
     "execution_count": 70,
     "metadata": {},
     "output_type": "execute_result"
    }
   ],
   "source": [
    "df_machine.iloc[0]"
   ]
  },
  {
   "cell_type": "code",
   "execution_count": 71,
   "metadata": {
    "hide_input": true,
    "run_control": {
     "marked": false
    }
   },
   "outputs": [
    {
     "data": {
      "text/plain": [
       "7    3000\n",
       "9    3000\n",
       "Name: pm, dtype: int64"
      ]
     },
     "execution_count": 71,
     "metadata": {},
     "output_type": "execute_result"
    }
   ],
   "source": [
    "df_machine.p.value_counts()\n",
    "\n",
    "df_machine.m.value_counts()\n",
    "\n",
    "df_machine.pm.value_counts()"
   ]
  },
  {
   "cell_type": "code",
   "execution_count": 72,
   "metadata": {
    "hide_input": true,
    "run_control": {
     "marked": false
    }
   },
   "outputs": [
    {
     "data": {
      "text/plain": [
       "((6000,), (6000, 7))"
      ]
     },
     "execution_count": 72,
     "metadata": {},
     "output_type": "execute_result"
    }
   ],
   "source": [
    "df_machine.mid.unique().shape,df_machine.shape"
   ]
  },
  {
   "cell_type": "code",
   "execution_count": 73,
   "metadata": {
    "collapsed": true,
    "hide_input": true,
    "run_control": {
     "marked": false
    }
   },
   "outputs": [
    {
     "name": "stdout",
     "output_type": "stream",
     "text": [
      "cpu has unique value 2\n",
      "cpu has unique value [32 92]\n",
      "cpu has unique value [3000 3000]\n",
      "mem has unique value 2\n",
      "mem has unique value [ 64 288]\n",
      "mem has unique value [3000 3000]\n",
      "disk has unique value 2\n",
      "disk has unique value [ 600 1024]\n",
      "disk has unique value [3000 3000]\n",
      "p has unique value 1\n",
      "p has unique value [7]\n",
      "p has unique value [6000]\n",
      "m has unique value 2\n",
      "m has unique value [3 7]\n",
      "m has unique value [3000 3000]\n",
      "pm has unique value 2\n",
      "pm has unique value [7 9]\n",
      "pm has unique value [3000 3000]\n"
     ]
    }
   ],
   "source": [
    "cols=df_machine.columns\n",
    "for c in df_machine.columns[1:]:\n",
    "    print('{} has unique value {}'.format(c,len(df_machine[c].unique())))\n",
    "    print('{} has unique value {}'.format(c,df_machine[c].unique()))\n",
    "    print('{} has unique value {}'.format(c,df_machine[c].value_counts().values))\n",
    "    \n"
   ]
  },
  {
   "cell_type": "code",
   "execution_count": 74,
   "metadata": {
    "hide_input": true,
    "run_control": {
     "marked": false
    }
   },
   "outputs": [
    {
     "data": {
      "text/plain": [
       "inst_101        inst_103\n",
       " machine_1     machine_3\n",
       "Name: 1, dtype: object"
      ]
     },
     "execution_count": 74,
     "metadata": {},
     "output_type": "execute_result"
    }
   ],
   "source": [
    "df_su.iloc[1]"
   ]
  },
  {
   "cell_type": "code",
   "execution_count": 81,
   "metadata": {
    "hide_input": true,
    "run_control": {
     "marked": false
    }
   },
   "outputs": [
    {
     "data": {
      "text/plain": [
       "1    3000\n",
       "0    3000\n",
       "Name: target, dtype: int64"
      ]
     },
     "execution_count": 81,
     "metadata": {},
     "output_type": "execute_result"
    }
   ],
   "source": [
    "df_machine.target.value_counts()"
   ]
  },
  {
   "cell_type": "code",
   "execution_count": 82,
   "metadata": {
    "hide_input": false,
    "run_control": {
     "marked": false
    }
   },
   "outputs": [
    {
     "data": {
      "text/plain": [
       "((35242, 3), (9338, 203), (68219, 3), (6000, 14))"
      ]
     },
     "execution_count": 82,
     "metadata": {},
     "output_type": "execute_result"
    }
   ],
   "source": [
    "df_app_inter.values.shape, df_app_res.values.shape, df_ins.values.shape, df_machine.shape"
   ]
  },
  {
   "cell_type": "code",
   "execution_count": 5,
   "metadata": {
    "collapsed": true,
    "hide_input": false,
    "run_control": {
     "marked": false
    }
   },
   "outputs": [
    {
     "ename": "NameError",
     "evalue": "name 'df_app_inter' is not defined",
     "output_type": "error",
     "traceback": [
      "\u001b[0;31m---------------------------------------------------------------------------\u001b[0m",
      "\u001b[0;31mNameError\u001b[0m                                 Traceback (most recent call last)",
      "\u001b[0;32m<ipython-input-5-3c0ab5c13bcc>\u001b[0m in \u001b[0;36m<module>\u001b[0;34m()\u001b[0m\n\u001b[0;32m----> 1\u001b[0;31m \u001b[0mdf_app_inter\u001b[0m\u001b[0;34m.\u001b[0m\u001b[0mshape\u001b[0m\u001b[0;34m\u001b[0m\u001b[0m\n\u001b[0m",
      "\u001b[0;31mNameError\u001b[0m: name 'df_app_inter' is not defined"
     ]
    }
   ],
   "source": [
    "df_app_inter.shape"
   ]
  },
  {
   "cell_type": "code",
   "execution_count": 6,
   "metadata": {
    "collapsed": true,
    "hide_input": false,
    "run_control": {
     "marked": false
    }
   },
   "outputs": [
    {
     "ename": "NameError",
     "evalue": "name 'df_app_inter' is not defined",
     "output_type": "error",
     "traceback": [
      "\u001b[0;31m---------------------------------------------------------------------------\u001b[0m",
      "\u001b[0;31mNameError\u001b[0m                                 Traceback (most recent call last)",
      "\u001b[0;32m<ipython-input-6-c77adce5419f>\u001b[0m in \u001b[0;36m<module>\u001b[0;34m()\u001b[0m\n\u001b[0;32m----> 1\u001b[0;31m \u001b[0mdf_app_inter\u001b[0m\u001b[0;34m.\u001b[0m\u001b[0mhead\u001b[0m\u001b[0;34m(\u001b[0m\u001b[0;34m)\u001b[0m\u001b[0;34m\u001b[0m\u001b[0m\n\u001b[0m",
      "\u001b[0;31mNameError\u001b[0m: name 'df_app_inter' is not defined"
     ]
    }
   ],
   "source": [
    "df_app_inter.head()"
   ]
  },
  {
   "cell_type": "code",
   "execution_count": null,
   "metadata": {
    "collapsed": true,
    "run_control": {
     "marked": false
    }
   },
   "outputs": [],
   "source": [
    "df_app_inter.describe()"
   ]
  },
  {
   "cell_type": "markdown",
   "metadata": {},
   "source": [
    "### merge"
   ]
  },
  {
   "cell_type": "code",
   "execution_count": null,
   "metadata": {
    "collapsed": true,
    "hide_input": true,
    "run_control": {
     "marked": false
    }
   },
   "outputs": [],
   "source": [
    "# df_sum=pd.merge(df_machine,df_ins_deploy,on='mid',how='outer')"
   ]
  },
  {
   "cell_type": "code",
   "execution_count": 3,
   "metadata": {
    "hide_input": false,
    "run_control": {
     "marked": true
    }
   },
   "outputs": [
    {
     "data": {
      "text/plain": [
       "199"
      ]
     },
     "execution_count": 3,
     "metadata": {},
     "output_type": "execute_result"
    }
   ],
   "source": [
    "pre_processor=Preprocess()\n",
    "df_app_res,df_machine,df_ins,df_app_inter,df_ins_sum=pre_processor.run_pre()\n",
    "del pre_processor\n",
    "gc.collect()"
   ]
  },
  {
   "cell_type": "code",
   "execution_count": 54,
   "metadata": {
    "run_control": {
     "marked": false
    }
   },
   "outputs": [
    {
     "name": "stderr",
     "output_type": "stream",
     "text": [
      "/home/.tbxy09/anaconda/envs/patent-landscape/lib/python3.5/site-packages/ipykernel_launcher.py:9: FutureWarning: using a dict on a Series for aggregation\n",
      "is deprecated and will be removed in a future version\n",
      "  if __name__ == '__main__':\n"
     ]
    }
   ],
   "source": [
    "grouped=df_ins_sum[['iid','aid']].groupby('aid')\n",
    "a_i={}\n",
    "i_a={}\n",
    "def sum_():\n",
    "    return {\n",
    "        'iid':np.sum,\n",
    "        'num':lambda x: len(x),\n",
    "    }\n",
    "for a,i in zip(grouped.iid.agg('sum').reset_index().aid,grouped.iid.agg(sum_()).reset_index().num):\n",
    "    a_i[a]=i\n",
    "\n",
    "a_i['app_7189']\n",
    "for i,a in zip(df_ins_sum.iid,df_ins_sum.aid):\n",
    "#     print(i,a)\n",
    "    i_a[i]=a"
   ]
  },
  {
   "cell_type": "code",
   "execution_count": 52,
   "metadata": {
    "run_control": {
     "marked": false
    }
   },
   "outputs": [
    {
     "data": {
      "text/plain": [
       "9338"
      ]
     },
     "execution_count": 52,
     "metadata": {},
     "output_type": "execute_result"
    }
   ],
   "source": [
    "/len a_i"
   ]
  },
  {
   "cell_type": "code",
   "execution_count": 53,
   "metadata": {
    "collapsed": true,
    "run_control": {
     "marked": false
    }
   },
   "outputs": [
    {
     "data": {
      "text/plain": [
       "{'app_7189': 1,\n",
       " 'app_8812': 3,\n",
       " 'app_7286': 3,\n",
       " 'app_8800': 2,\n",
       " 'app_3029': 2,\n",
       " 'app_6204': 1,\n",
       " 'app_5479': 6,\n",
       " 'app_4872': 2,\n",
       " 'app_1789': 2,\n",
       " 'app_2770': 8,\n",
       " 'app_1331': 1,\n",
       " 'app_8282': 2,\n",
       " 'app_31': 1,\n",
       " 'app_9140': 4,\n",
       " 'app_7048': 1,\n",
       " 'app_117': 1,\n",
       " 'app_2804': 2,\n",
       " 'app_4836': 2,\n",
       " 'app_3145': 5,\n",
       " 'app_1682': 2,\n",
       " 'app_9199': 1,\n",
       " 'app_8691': 2,\n",
       " 'app_7177': 2,\n",
       " 'app_7709': 4,\n",
       " 'app_8622': 15,\n",
       " 'app_6782': 1,\n",
       " 'app_2848': 1,\n",
       " 'app_5787': 1,\n",
       " 'app_6594': 1,\n",
       " 'app_176': 1,\n",
       " 'app_6595': 8,\n",
       " 'app_3231': 2,\n",
       " 'app_3536': 2,\n",
       " 'app_240': 1,\n",
       " 'app_839': 10,\n",
       " 'app_1086': 2,\n",
       " 'app_1470': 2,\n",
       " 'app_2664': 6,\n",
       " 'app_4309': 1,\n",
       " 'app_651': 2,\n",
       " 'app_4698': 565,\n",
       " 'app_3891': 5,\n",
       " 'app_3364': 1,\n",
       " 'app_3301': 3,\n",
       " 'app_3099': 1,\n",
       " 'app_2953': 2,\n",
       " 'app_4643': 1,\n",
       " 'app_8750': 2,\n",
       " 'app_8523': 6,\n",
       " 'app_505': 14,\n",
       " 'app_7313': 1,\n",
       " 'app_8113': 4,\n",
       " 'app_2960': 1,\n",
       " 'app_3320': 1,\n",
       " 'app_2265': 2,\n",
       " 'app_7494': 2,\n",
       " 'app_6962': 2,\n",
       " 'app_6496': 3,\n",
       " 'app_2805': 2,\n",
       " 'app_983': 1,\n",
       " 'app_3843': 3,\n",
       " 'app_7023': 2,\n",
       " 'app_6498': 1,\n",
       " 'app_3722': 9,\n",
       " 'app_256': 2,\n",
       " 'app_5574': 1,\n",
       " 'app_2734': 2,\n",
       " 'app_6966': 2,\n",
       " 'app_205': 1,\n",
       " 'app_4119': 2,\n",
       " 'app_7020': 2,\n",
       " 'app_16': 2,\n",
       " 'app_2191': 1,\n",
       " 'app_4645': 1,\n",
       " 'app_2906': 2,\n",
       " 'app_1683': 71,\n",
       " 'app_7714': 2,\n",
       " 'app_9092': 1,\n",
       " 'app_3894': 66,\n",
       " 'app_3335': 5,\n",
       " 'app_8663': 4,\n",
       " 'app_2263': 318,\n",
       " 'app_6647': 4,\n",
       " 'app_2941': 1,\n",
       " 'app_262': 29,\n",
       " 'app_380': 2,\n",
       " 'app_5020': 2,\n",
       " 'app_2447': 4,\n",
       " 'app_7752': 2,\n",
       " 'app_3670': 2,\n",
       " 'app_2140': 7,\n",
       " 'app_5286': 2,\n",
       " 'app_6192': 2,\n",
       " 'app_6084': 1,\n",
       " 'app_1537': 4,\n",
       " 'app_7329': 1,\n",
       " 'app_7342': 2,\n",
       " 'app_1443': 103,\n",
       " 'app_5567': 2,\n",
       " 'app_1457': 1,\n",
       " 'app_4602': 1,\n",
       " 'app_4263': 3,\n",
       " 'app_5915': 3,\n",
       " 'app_3432': 1,\n",
       " 'app_6886': 2,\n",
       " 'app_3034': 2,\n",
       " 'app_1585': 1,\n",
       " 'app_5552': 3,\n",
       " 'app_6480': 1,\n",
       " 'app_2868': 1,\n",
       " 'app_8763': 1,\n",
       " 'app_8380': 2,\n",
       " 'app_3323': 2,\n",
       " 'app_7267': 6,\n",
       " 'app_9157': 5,\n",
       " 'app_8912': 2,\n",
       " 'app_9182': 2,\n",
       " 'app_1517': 1,\n",
       " 'app_1749': 3,\n",
       " 'app_2375': 1,\n",
       " 'app_1340': 1,\n",
       " 'app_4710': 1,\n",
       " 'app_8562': 1,\n",
       " 'app_2012': 1,\n",
       " 'app_1897': 1,\n",
       " 'app_5553': 2,\n",
       " 'app_4433': 1,\n",
       " 'app_6599': 2,\n",
       " 'app_4341': 2,\n",
       " 'app_3097': 9,\n",
       " 'app_3152': 3,\n",
       " 'app_2830': 1,\n",
       " 'app_6269': 174,\n",
       " 'app_8109': 3,\n",
       " 'app_1400': 1,\n",
       " 'app_6151': 28,\n",
       " 'app_3714': 2,\n",
       " 'app_2935': 3,\n",
       " 'app_5289': 6,\n",
       " 'app_6570': 2,\n",
       " 'app_5731': 57,\n",
       " 'app_1053': 1,\n",
       " 'app_1742': 11,\n",
       " 'app_6880': 75,\n",
       " 'app_3684': 1,\n",
       " 'app_6219': 1,\n",
       " 'app_7037': 3,\n",
       " 'app_2997': 2,\n",
       " 'app_7779': 1,\n",
       " 'app_1116': 2,\n",
       " 'app_8686': 1,\n",
       " 'app_5073': 2,\n",
       " 'app_6359': 2,\n",
       " 'app_1823': 1,\n",
       " 'app_2420': 2,\n",
       " 'app_7817': 1,\n",
       " 'app_1199': 1,\n",
       " 'app_4322': 3,\n",
       " 'app_1526': 2,\n",
       " 'app_2669': 2,\n",
       " 'app_8980': 2,\n",
       " 'app_1379': 1,\n",
       " 'app_1185': 2,\n",
       " 'app_7306': 1,\n",
       " 'app_3224': 2,\n",
       " 'app_8803': 2,\n",
       " 'app_218': 1,\n",
       " 'app_431': 2,\n",
       " 'app_835': 7,\n",
       " 'app_3649': 4,\n",
       " 'app_3084': 2,\n",
       " 'app_2847': 5,\n",
       " 'app_6112': 2,\n",
       " 'app_4534': 14,\n",
       " 'app_4738': 7,\n",
       " 'app_8108': 1,\n",
       " 'app_2143': 24,\n",
       " 'app_8286': 1,\n",
       " 'app_1933': 1,\n",
       " 'app_8492': 2,\n",
       " 'app_4725': 3,\n",
       " 'app_3990': 1,\n",
       " 'app_5189': 4,\n",
       " 'app_2837': 1,\n",
       " 'app_344': 17,\n",
       " 'app_527': 2,\n",
       " 'app_9184': 1,\n",
       " 'app_1592': 43,\n",
       " 'app_4068': 26,\n",
       " 'app_1668': 10,\n",
       " 'app_4776': 1,\n",
       " 'app_6389': 1,\n",
       " 'app_2811': 1,\n",
       " 'app_108': 3,\n",
       " 'app_6068': 1,\n",
       " 'app_3165': 8,\n",
       " 'app_2064': 2,\n",
       " 'app_3128': 2,\n",
       " 'app_4420': 4,\n",
       " 'app_5109': 25,\n",
       " 'app_7013': 6,\n",
       " 'app_120': 7,\n",
       " 'app_1972': 14,\n",
       " 'app_3010': 10,\n",
       " 'app_2148': 15,\n",
       " 'app_2358': 2,\n",
       " 'app_8661': 2,\n",
       " 'app_6920': 3,\n",
       " 'app_5633': 7,\n",
       " 'app_6366': 1,\n",
       " 'app_2841': 3,\n",
       " 'app_7818': 2,\n",
       " 'app_1040': 28,\n",
       " 'app_2745': 46,\n",
       " 'app_3013': 2,\n",
       " 'app_6743': 1,\n",
       " 'app_5849': 2,\n",
       " 'app_2628': 5,\n",
       " 'app_1413': 2,\n",
       " 'app_1740': 4,\n",
       " 'app_2361': 1,\n",
       " 'app_4313': 1,\n",
       " 'app_5102': 2,\n",
       " 'app_2211': 3,\n",
       " 'app_2730': 1,\n",
       " 'app_7561': 2,\n",
       " 'app_4607': 2,\n",
       " 'app_3401': 16,\n",
       " 'app_3551': 5,\n",
       " 'app_9231': 3,\n",
       " 'app_3544': 4,\n",
       " 'app_6693': 1,\n",
       " 'app_8050': 1,\n",
       " 'app_2825': 4,\n",
       " 'app_738': 8,\n",
       " 'app_7617': 2,\n",
       " 'app_7924': 4,\n",
       " 'app_4377': 2,\n",
       " 'app_187': 5,\n",
       " 'app_6014': 1,\n",
       " 'app_2715': 2,\n",
       " 'app_6767': 2,\n",
       " 'app_5041': 3,\n",
       " 'app_5708': 2,\n",
       " 'app_6504': 2,\n",
       " 'app_3210': 24,\n",
       " 'app_2370': 1,\n",
       " 'app_6622': 13,\n",
       " 'app_5961': 6,\n",
       " 'app_70': 2,\n",
       " 'app_9016': 4,\n",
       " 'app_6656': 6,\n",
       " 'app_3147': 2,\n",
       " 'app_4497': 1,\n",
       " 'app_2248': 2,\n",
       " 'app_3566': 1,\n",
       " 'app_5875': 3,\n",
       " 'app_3377': 2,\n",
       " 'app_9077': 33,\n",
       " 'app_6763': 4,\n",
       " 'app_5724': 5,\n",
       " 'app_6059': 2,\n",
       " 'app_2759': 2,\n",
       " 'app_8438': 5,\n",
       " 'app_6301': 2,\n",
       " 'app_8040': 2,\n",
       " 'app_5436': 40,\n",
       " 'app_8752': 1,\n",
       " 'app_8640': 1,\n",
       " 'app_2802': 2,\n",
       " 'app_2489': 14,\n",
       " 'app_6530': 12,\n",
       " 'app_4067': 5,\n",
       " 'app_9236': 2,\n",
       " 'app_5825': 2,\n",
       " 'app_8434': 14,\n",
       " 'app_8039': 1,\n",
       " 'app_6863': 1,\n",
       " 'app_2541': 2,\n",
       " 'app_2887': 18,\n",
       " 'app_8218': 4,\n",
       " 'app_6268': 4,\n",
       " 'app_558': 4,\n",
       " 'app_6587': 3,\n",
       " 'app_3007': 4,\n",
       " 'app_7974': 3,\n",
       " 'app_8537': 2,\n",
       " 'app_7992': 4,\n",
       " 'app_6434': 5,\n",
       " 'app_250': 13,\n",
       " 'app_7178': 15,\n",
       " 'app_4636': 2,\n",
       " 'app_9032': 4,\n",
       " 'app_5310': 2,\n",
       " 'app_2073': 2,\n",
       " 'app_3004': 1,\n",
       " 'app_3446': 1,\n",
       " 'app_6237': 5,\n",
       " 'app_3969': 2,\n",
       " 'app_1710': 6,\n",
       " 'app_4367': 2,\n",
       " 'app_6169': 1,\n",
       " 'app_1952': 152,\n",
       " 'app_6994': 1,\n",
       " 'app_3887': 1,\n",
       " 'app_2686': 2,\n",
       " 'app_3062': 2,\n",
       " 'app_7982': 2,\n",
       " 'app_1858': 52,\n",
       " 'app_7205': 1,\n",
       " 'app_3271': 46,\n",
       " 'app_1148': 5,\n",
       " 'app_2078': 9,\n",
       " 'app_6110': 6,\n",
       " 'app_2354': 3,\n",
       " 'app_2290': 19,\n",
       " 'app_775': 2,\n",
       " 'app_4970': 1,\n",
       " 'app_6198': 1,\n",
       " 'app_7771': 2,\n",
       " 'app_7288': 2,\n",
       " 'app_1657': 3,\n",
       " 'app_9132': 4,\n",
       " 'app_5589': 4,\n",
       " 'app_404': 2,\n",
       " 'app_4192': 2,\n",
       " 'app_657': 1,\n",
       " 'app_144': 2,\n",
       " 'app_1894': 2,\n",
       " 'app_6678': 2,\n",
       " 'app_1756': 2,\n",
       " 'app_1439': 1,\n",
       " 'app_6095': 17,\n",
       " 'app_4826': 2,\n",
       " 'app_5854': 2,\n",
       " 'app_6914': 5,\n",
       " 'app_633': 4,\n",
       " 'app_3602': 3,\n",
       " 'app_6339': 1,\n",
       " 'app_5075': 1,\n",
       " 'app_8388': 2,\n",
       " 'app_7359': 1,\n",
       " 'app_9330': 11,\n",
       " 'app_6239': 17,\n",
       " 'app_7431': 1,\n",
       " 'app_137': 2,\n",
       " 'app_1689': 2,\n",
       " 'app_3349': 116,\n",
       " 'app_3066': 13,\n",
       " 'app_4769': 1,\n",
       " 'app_2650': 3,\n",
       " 'app_6107': 1,\n",
       " 'app_1743': 2,\n",
       " 'app_3468': 4,\n",
       " 'app_7149': 1,\n",
       " 'app_8417': 14,\n",
       " 'app_4558': 41,\n",
       " 'app_8913': 1,\n",
       " 'app_2339': 1,\n",
       " 'app_6892': 4,\n",
       " 'app_6346': 1,\n",
       " 'app_1730': 4,\n",
       " 'app_671': 2,\n",
       " 'app_950': 2,\n",
       " 'app_6356': 1,\n",
       " 'app_737': 10,\n",
       " 'app_7542': 2,\n",
       " 'app_4399': 1,\n",
       " 'app_7304': 17,\n",
       " 'app_8366': 4,\n",
       " 'app_2203': 1,\n",
       " 'app_4703': 2,\n",
       " 'app_3994': 211,\n",
       " 'app_3643': 3,\n",
       " 'app_221': 1,\n",
       " 'app_5370': 3,\n",
       " 'app_877': 5,\n",
       " 'app_7333': 12,\n",
       " 'app_4905': 1,\n",
       " 'app_119': 1,\n",
       " 'app_3438': 1,\n",
       " 'app_4370': 3,\n",
       " 'app_8454': 3,\n",
       " 'app_1417': 1,\n",
       " 'app_6970': 3,\n",
       " 'app_6411': 2,\n",
       " 'app_6850': 2,\n",
       " 'app_2419': 2,\n",
       " 'app_7171': 2,\n",
       " 'app_7959': 7,\n",
       " 'app_2357': 2,\n",
       " 'app_5431': 1,\n",
       " 'app_2706': 2,\n",
       " 'app_7235': 1,\n",
       " 'app_7912': 1,\n",
       " 'app_3283': 240,\n",
       " 'app_3903': 2,\n",
       " 'app_7095': 3,\n",
       " 'app_8870': 2,\n",
       " 'app_4784': 2,\n",
       " 'app_3427': 7,\n",
       " 'app_5306': 5,\n",
       " 'app_8798': 3,\n",
       " 'app_7481': 7,\n",
       " 'app_1452': 3,\n",
       " 'app_4718': 57,\n",
       " 'app_5799': 1,\n",
       " 'app_711': 2,\n",
       " 'app_6628': 21,\n",
       " 'app_2019': 60,\n",
       " 'app_1626': 1,\n",
       " 'app_6086': 2,\n",
       " 'app_8014': 10,\n",
       " 'app_8190': 2,\n",
       " 'app_5892': 1,\n",
       " 'app_5269': 4,\n",
       " 'app_6306': 8,\n",
       " 'app_2462': 5,\n",
       " 'app_1530': 10,\n",
       " 'app_8391': 3,\n",
       " 'app_1252': 2,\n",
       " 'app_7087': 25,\n",
       " 'app_3817': 2,\n",
       " 'app_4368': 2,\n",
       " 'app_8408': 4,\n",
       " 'app_4755': 1,\n",
       " 'app_939': 1,\n",
       " 'app_1298': 27,\n",
       " 'app_5428': 1,\n",
       " 'app_7255': 45,\n",
       " 'app_6801': 3,\n",
       " 'app_6516': 2,\n",
       " 'app_479': 2,\n",
       " 'app_7956': 6,\n",
       " 'app_4535': 2,\n",
       " 'app_4922': 1,\n",
       " 'app_4303': 1,\n",
       " 'app_1598': 2,\n",
       " 'app_843': 1,\n",
       " 'app_5387': 3,\n",
       " 'app_5394': 19,\n",
       " 'app_4107': 5,\n",
       " 'app_1058': 1,\n",
       " 'app_7595': 1,\n",
       " 'app_3386': 2,\n",
       " 'app_4964': 1,\n",
       " 'app_8612': 2,\n",
       " 'app_7069': 1,\n",
       " 'app_136': 1,\n",
       " 'app_5824': 2,\n",
       " 'app_1703': 21,\n",
       " 'app_1346': 3,\n",
       " 'app_7135': 1,\n",
       " 'app_5652': 2,\n",
       " 'app_7672': 2,\n",
       " 'app_5705': 59,\n",
       " 'app_3546': 2,\n",
       " 'app_9217': 1,\n",
       " 'app_1150': 4,\n",
       " 'app_3883': 1,\n",
       " 'app_8603': 1,\n",
       " 'app_6721': 2,\n",
       " 'app_3884': 2,\n",
       " 'app_6242': 1,\n",
       " 'app_6494': 3,\n",
       " 'app_3637': 150,\n",
       " 'app_893': 1,\n",
       " 'app_237': 1,\n",
       " 'app_14': 3,\n",
       " 'app_5600': 5,\n",
       " 'app_1926': 1,\n",
       " 'app_7218': 1,\n",
       " 'app_6453': 1,\n",
       " 'app_3594': 2,\n",
       " 'app_4340': 2,\n",
       " 'app_7268': 14,\n",
       " 'app_6298': 2,\n",
       " 'app_3064': 1,\n",
       " 'app_2460': 5,\n",
       " 'app_7891': 3,\n",
       " 'app_8508': 1,\n",
       " 'app_214': 1,\n",
       " 'app_1399': 2,\n",
       " 'app_6811': 1,\n",
       " 'app_1498': 2,\n",
       " 'app_5648': 2,\n",
       " 'app_1821': 12,\n",
       " 'app_2790': 2,\n",
       " 'app_8023': 3,\n",
       " 'app_4939': 18,\n",
       " 'app_1828': 2,\n",
       " 'app_238': 37,\n",
       " 'app_6980': 1,\n",
       " 'app_1811': 1,\n",
       " 'app_5043': 2,\n",
       " 'app_2573': 2,\n",
       " 'app_1568': 1,\n",
       " 'app_2177': 1,\n",
       " 'app_1064': 1,\n",
       " 'app_3897': 1,\n",
       " 'app_336': 2,\n",
       " 'app_1022': 2,\n",
       " 'app_33': 1,\n",
       " 'app_1877': 4,\n",
       " 'app_3123': 2,\n",
       " 'app_6025': 19,\n",
       " 'app_1278': 6,\n",
       " 'app_1451': 1,\n",
       " 'app_4671': 12,\n",
       " 'app_7036': 2,\n",
       " 'app_8684': 13,\n",
       " 'app_2969': 3,\n",
       " 'app_6652': 2,\n",
       " 'app_7795': 3,\n",
       " 'app_8959': 2,\n",
       " 'app_4619': 10,\n",
       " 'app_5348': 2,\n",
       " 'app_59': 1,\n",
       " 'app_7748': 2,\n",
       " 'app_4783': 2,\n",
       " 'app_1246': 1,\n",
       " 'app_3628': 55,\n",
       " 'app_7092': 6,\n",
       " 'app_471': 1,\n",
       " 'app_6485': 3,\n",
       " 'app_7266': 10,\n",
       " 'app_2056': 1,\n",
       " 'app_7951': 2,\n",
       " 'app_1534': 2,\n",
       " 'app_7679': 4,\n",
       " 'app_4979': 2,\n",
       " 'app_4164': 4,\n",
       " 'app_2888': 2,\n",
       " 'app_291': 1,\n",
       " 'app_7174': 4,\n",
       " 'app_1177': 1,\n",
       " 'app_1292': 4,\n",
       " 'app_1787': 2,\n",
       " 'app_805': 1,\n",
       " 'app_861': 3,\n",
       " 'app_4073': 1,\n",
       " 'app_4748': 4,\n",
       " 'app_8158': 2,\n",
       " 'app_3598': 2,\n",
       " 'app_3760': 1,\n",
       " 'app_6535': 1,\n",
       " 'app_626': 100,\n",
       " 'app_784': 1,\n",
       " 'app_2245': 3,\n",
       " 'app_3075': 2,\n",
       " 'app_2899': 5,\n",
       " 'app_1666': 1,\n",
       " 'app_1035': 1,\n",
       " 'app_1863': 60,\n",
       " 'app_1758': 11,\n",
       " 'app_1635': 52,\n",
       " 'app_6904': 2,\n",
       " 'app_4122': 7,\n",
       " 'app_8066': 1,\n",
       " 'app_6019': 2,\n",
       " 'app_8447': 1,\n",
       " 'app_6020': 31,\n",
       " 'app_1236': 2,\n",
       " 'app_2362': 1,\n",
       " 'app_6852': 2,\n",
       " 'app_4272': 2,\n",
       " 'app_4722': 1,\n",
       " 'app_7373': 2,\n",
       " 'app_186': 2,\n",
       " 'app_6476': 1,\n",
       " 'app_8055': 2,\n",
       " 'app_587': 1,\n",
       " 'app_4612': 1,\n",
       " 'app_963': 18,\n",
       " 'app_7812': 2,\n",
       " 'app_6755': 2,\n",
       " 'app_6348': 2,\n",
       " 'app_8392': 22,\n",
       " 'app_8658': 1,\n",
       " 'app_8939': 3,\n",
       " 'app_5200': 3,\n",
       " 'app_8049': 3,\n",
       " 'app_6409': 10,\n",
       " 'app_2493': 10,\n",
       " 'app_3533': 1,\n",
       " 'app_5976': 2,\n",
       " 'app_3383': 4,\n",
       " 'app_820': 2,\n",
       " 'app_3789': 1,\n",
       " 'app_6006': 2,\n",
       " 'app_334': 2,\n",
       " 'app_4515': 1,\n",
       " 'app_4567': 1,\n",
       " 'app_7137': 2,\n",
       " 'app_5341': 4,\n",
       " 'app_4121': 3,\n",
       " 'app_6556': 1,\n",
       " 'app_7791': 1,\n",
       " 'app_4054': 2,\n",
       " 'app_5272': 3,\n",
       " 'app_5813': 2,\n",
       " 'app_1565': 8,\n",
       " 'app_6649': 1,\n",
       " 'app_8150': 2,\n",
       " 'app_4899': 1,\n",
       " 'app_3159': 1,\n",
       " 'app_3412': 1,\n",
       " 'app_6225': 2,\n",
       " 'app_8255': 2,\n",
       " 'app_4676': 2,\n",
       " 'app_1223': 1,\n",
       " 'app_8047': 2,\n",
       " 'app_7870': 4,\n",
       " 'app_5217': 28,\n",
       " 'app_6529': 1,\n",
       " 'app_4093': 1,\n",
       " 'app_919': 1,\n",
       " 'app_8768': 1,\n",
       " 'app_6486': 15,\n",
       " 'app_1899': 6,\n",
       " 'app_538': 2,\n",
       " 'app_2950': 1,\n",
       " 'app_2388': 1,\n",
       " 'app_7977': 2,\n",
       " 'app_1963': 1,\n",
       " 'app_7018': 2,\n",
       " 'app_7230': 2,\n",
       " 'app_5542': 1,\n",
       " 'app_8895': 1,\n",
       " 'app_169': 6,\n",
       " 'app_8769': 1,\n",
       " 'app_3014': 2,\n",
       " 'app_2069': 1,\n",
       " 'app_3958': 2,\n",
       " 'app_637': 1,\n",
       " 'app_752': 2,\n",
       " 'app_2535': 2,\n",
       " 'app_1998': 79,\n",
       " 'app_7029': 2,\n",
       " 'app_4238': 1,\n",
       " 'app_7789': 2,\n",
       " 'app_9219': 5,\n",
       " 'app_8084': 2,\n",
       " 'app_6711': 14,\n",
       " 'app_8230': 1,\n",
       " 'app_4716': 1,\n",
       " 'app_1370': 1,\n",
       " 'app_3623': 2,\n",
       " 'app_4871': 1,\n",
       " 'app_7867': 2,\n",
       " 'app_4158': 2,\n",
       " 'app_3423': 2,\n",
       " 'app_349': 3,\n",
       " 'app_3434': 2,\n",
       " 'app_3580': 8,\n",
       " 'app_8548': 2,\n",
       " 'app_3008': 5,\n",
       " 'app_2108': 4,\n",
       " 'app_2761': 9,\n",
       " 'app_2878': 2,\n",
       " 'app_2052': 1,\n",
       " 'app_3587': 3,\n",
       " 'app_8567': 2,\n",
       " 'app_5742': 2,\n",
       " 'app_1621': 2,\n",
       " 'app_3342': 3,\n",
       " 'app_2060': 1,\n",
       " 'app_2618': 7,\n",
       " 'app_1343': 40,\n",
       " 'app_7507': 6,\n",
       " 'app_4485': 1,\n",
       " 'app_1665': 2,\n",
       " 'app_4677': 5,\n",
       " 'app_5077': 2,\n",
       " 'app_2502': 9,\n",
       " 'app_7': 1,\n",
       " 'app_472': 2,\n",
       " 'app_7986': 2,\n",
       " 'app_1255': 2,\n",
       " 'app_6244': 1,\n",
       " 'app_1993': 6,\n",
       " 'app_1924': 1,\n",
       " 'app_7215': 2,\n",
       " 'app_630': 2,\n",
       " 'app_6197': 3,\n",
       " 'app_730': 3,\n",
       " 'app_3934': 1,\n",
       " 'app_7007': 16,\n",
       " 'app_4346': 3,\n",
       " 'app_2416': 2,\n",
       " 'app_8065': 2,\n",
       " 'app_8074': 3,\n",
       " 'app_6951': 2,\n",
       " 'app_1382': 5,\n",
       " 'app_2376': 1,\n",
       " 'app_8270': 6,\n",
       " 'app_3764': 2,\n",
       " 'app_8588': 5,\n",
       " 'app_8632': 1,\n",
       " 'app_2486': 519,\n",
       " 'app_9057': 3,\n",
       " 'app_6534': 8,\n",
       " 'app_4307': 2,\n",
       " 'app_9139': 22,\n",
       " 'app_1109': 2,\n",
       " 'app_2601': 2,\n",
       " 'app_8609': 2,\n",
       " 'app_5195': 1,\n",
       " 'app_2630': 5,\n",
       " 'app_300': 2,\n",
       " 'app_2918': 7,\n",
       " 'app_3132': 3,\n",
       " 'app_8166': 13,\n",
       " 'app_4590': 1,\n",
       " 'app_6131': 1,\n",
       " 'app_1021': 3,\n",
       " 'app_3353': 1,\n",
       " 'app_1357': 1,\n",
       " 'app_3207': 1,\n",
       " 'app_4268': 9,\n",
       " 'app_2167': 1,\n",
       " 'app_673': 1,\n",
       " 'app_2528': 2,\n",
       " 'app_916': 2,\n",
       " 'app_7880': 49,\n",
       " 'app_8331': 34,\n",
       " 'app_4799': 7,\n",
       " 'app_2819': 4,\n",
       " 'app_6206': 1,\n",
       " 'app_7509': 8,\n",
       " 'app_7819': 1,\n",
       " 'app_5833': 2,\n",
       " 'app_4415': 2,\n",
       " 'app_4457': 3,\n",
       " 'app_4117': 2,\n",
       " 'app_6218': 4,\n",
       " 'app_1616': 5,\n",
       " 'app_8416': 2,\n",
       " 'app_681': 3,\n",
       " 'app_1112': 2,\n",
       " 'app_3578': 2,\n",
       " 'app_8363': 7,\n",
       " 'app_7573': 1,\n",
       " 'app_4994': 1,\n",
       " 'app_1809': 1,\n",
       " 'app_1362': 7,\n",
       " 'app_4811': 2,\n",
       " 'app_2212': 2,\n",
       " 'app_7117': 20,\n",
       " 'app_9009': 2,\n",
       " 'app_88': 5,\n",
       " 'app_6610': 12,\n",
       " 'app_6661': 5,\n",
       " 'app_5778': 2,\n",
       " 'app_1120': 2,\n",
       " 'app_4543': 44,\n",
       " 'app_1306': 1,\n",
       " 'app_9177': 1,\n",
       " 'app_8067': 1,\n",
       " 'app_6050': 6,\n",
       " 'app_1584': 2,\n",
       " 'app_2972': 1,\n",
       " 'app_2417': 2,\n",
       " 'app_6036': 6,\n",
       " 'app_6386': 1,\n",
       " 'app_8360': 25,\n",
       " 'app_748': 2,\n",
       " 'app_1825': 2,\n",
       " 'app_7391': 3,\n",
       " 'app_8783': 8,\n",
       " 'app_7499': 1,\n",
       " 'app_8621': 1,\n",
       " 'app_4181': 2,\n",
       " 'app_6555': 2,\n",
       " 'app_1389': 8,\n",
       " 'app_4232': 1,\n",
       " 'app_127': 21,\n",
       " 'app_8032': 1,\n",
       " 'app_6820': 6,\n",
       " 'app_4739': 2,\n",
       " 'app_4934': 4,\n",
       " 'app_2962': 6,\n",
       " 'app_1571': 1,\n",
       " 'app_8648': 20,\n",
       " 'app_5381': 2,\n",
       " 'app_972': 7,\n",
       " 'app_678': 1,\n",
       " 'app_6078': 14,\n",
       " 'app_5114': 2,\n",
       " 'app_6335': 6,\n",
       " 'app_5625': 1,\n",
       " 'app_6022': 2,\n",
       " 'app_959': 2,\n",
       " 'app_2406': 1,\n",
       " 'app_7908': 2,\n",
       " 'app_7577': 1,\n",
       " 'app_7057': 1,\n",
       " 'app_6407': 2,\n",
       " 'app_263': 2,\n",
       " 'app_3101': 15,\n",
       " 'app_5248': 2,\n",
       " 'app_116': 3,\n",
       " 'app_928': 3,\n",
       " 'app_2464': 6,\n",
       " 'app_4190': 23,\n",
       " 'app_279': 7,\n",
       " 'app_2403': 1,\n",
       " 'app_6816': 2,\n",
       " 'app_5765': 1,\n",
       " 'app_9088': 1,\n",
       " 'app_6309': 1,\n",
       " 'app_3967': 1,\n",
       " 'app_8998': 5,\n",
       " 'app_774': 40,\n",
       " 'app_4604': 2,\n",
       " 'app_6537': 1,\n",
       " 'app_2743': 1,\n",
       " 'app_6769': 2,\n",
       " 'app_5196': 1,\n",
       " 'app_2714': 1,\n",
       " 'app_2684': 1,\n",
       " 'app_8468': 1,\n",
       " 'app_2013': 2,\n",
       " 'app_321': 6,\n",
       " 'app_2893': 2,\n",
       " 'app_8518': 1,\n",
       " 'app_5058': 1,\n",
       " 'app_6799': 2,\n",
       " 'app_5161': 3,\n",
       " 'app_2637': 1,\n",
       " 'app_7475': 5,\n",
       " 'app_8530': 2,\n",
       " 'app_5037': 2,\n",
       " 'app_194': 1,\n",
       " 'app_1454': 3,\n",
       " 'app_755': 6,\n",
       " 'app_6300': 5,\n",
       " 'app_3261': 2,\n",
       " 'app_1060': 2,\n",
       " 'app_7653': 1,\n",
       " 'app_5866': 2,\n",
       " 'app_4200': 1,\n",
       " 'app_6220': 3,\n",
       " 'app_1889': 12,\n",
       " 'app_3697': 1,\n",
       " 'app_7578': 6,\n",
       " 'app_7374': 6,\n",
       " 'app_602': 3,\n",
       " 'app_7699': 2,\n",
       " 'app_3521': 2,\n",
       " 'app_7534': 2,\n",
       " 'app_8614': 1,\n",
       " 'app_7625': 2,\n",
       " 'app_5578': 2,\n",
       " 'app_8831': 1,\n",
       " 'app_6443': 2,\n",
       " 'app_2158': 2,\n",
       " 'app_4694': 4,\n",
       " 'app_3619': 4,\n",
       " 'app_3180': 3,\n",
       " 'app_2026': 2,\n",
       " 'app_3444': 2,\n",
       " 'app_1094': 1,\n",
       " 'app_1766': 7,\n",
       " 'app_8225': 2,\n",
       " 'app_7016': 3,\n",
       " 'app_4641': 1,\n",
       " 'app_4357': 2,\n",
       " 'app_4589': 1,\n",
       " 'app_2580': 2,\n",
       " 'app_1891': 2,\n",
       " 'app_4883': 11,\n",
       " 'app_8585': 2,\n",
       " 'app_7366': 4,\n",
       " 'app_2213': 2,\n",
       " 'app_264': 1,\n",
       " 'app_5123': 1,\n",
       " 'app_3363': 5,\n",
       " 'app_6277': 1,\n",
       " 'app_5158': 1,\n",
       " 'app_2351': 2,\n",
       " 'app_1780': 2,\n",
       " 'app_122': 36,\n",
       " 'app_9083': 1,\n",
       " 'app_1620': 1,\n",
       " 'app_3006': 1,\n",
       " 'app_4413': 1,\n",
       " 'app_5891': 1,\n",
       " 'app_2328': 1,\n",
       " 'app_3856': 2,\n",
       " 'app_1192': 2,\n",
       " 'app_1717': 1,\n",
       " 'app_3367': 2,\n",
       " 'app_8591': 1,\n",
       " 'app_6889': 2,\n",
       " 'app_8316': 2,\n",
       " 'app_2570': 2,\n",
       " 'app_8395': 2,\n",
       " 'app_7394': 251,\n",
       " 'app_4302': 4,\n",
       " 'app_3212': 3,\n",
       " 'app_6475': 4,\n",
       " 'app_9283': 103,\n",
       " 'app_322': 2,\n",
       " 'app_7553': 1,\n",
       " 'app_2144': 1,\n",
       " 'app_5171': 1,\n",
       " 'app_5416': 2,\n",
       " 'app_2824': 1,\n",
       " 'app_4005': 2,\n",
       " 'app_2989': 2,\n",
       " 'app_7855': 2,\n",
       " 'app_655': 26,\n",
       " 'app_6345': 2,\n",
       " 'app_19': 5,\n",
       " 'app_974': 1,\n",
       " 'app_625': 5,\n",
       " 'app_2421': 2,\n",
       " 'app_5048': 2,\n",
       " 'app_5968': 3,\n",
       " 'app_4556': 1,\n",
       " 'app_2149': 1,\n",
       " 'app_371': 5,\n",
       " 'app_4648': 80,\n",
       " 'app_5145': 2,\n",
       " 'app_3146': 3,\n",
       " 'app_8897': 8,\n",
       " 'app_1763': 1,\n",
       " 'app_3911': 2,\n",
       " 'app_954': 1,\n",
       " 'app_693': 14,\n",
       " 'app_1721': 2,\n",
       " 'app_1569': 1,\n",
       " 'app_8801': 2,\n",
       " 'app_6739': 4,\n",
       " 'app_1170': 2,\n",
       " 'app_2912': 3,\n",
       " 'app_6081': 5,\n",
       " 'app_5965': 2,\n",
       " 'app_634': 2,\n",
       " 'app_2652': 1,\n",
       " 'app_1425': 39,\n",
       " 'app_8698': 18,\n",
       " 'app_9275': 3,\n",
       " 'app_6165': 2,\n",
       " 'app_1129': 2,\n",
       " 'app_2728': 10,\n",
       " 'app_4772': 7,\n",
       " 'app_2124': 3,\n",
       " 'app_4203': 1,\n",
       " 'app_6512': 1,\n",
       " 'app_6471': 1,\n",
       " 'app_7080': 26,\n",
       " 'app_5153': 1,\n",
       " 'app_121': 5,\n",
       " 'app_1731': 2,\n",
       " 'app_8466': 2,\n",
       " 'app_4105': 1,\n",
       " 'app_8274': 3,\n",
       " 'app_4551': 29,\n",
       " 'app_2150': 2,\n",
       " 'app_8246': 3,\n",
       " 'app_1424': 6,\n",
       " 'app_8227': 2,\n",
       " 'app_5356': 1,\n",
       " 'app_90': 2,\n",
       " 'app_6996': 2,\n",
       " 'app_9030': 1,\n",
       " 'app_7198': 5,\n",
       " 'app_1720': 2,\n",
       " 'app_8006': 4,\n",
       " 'app_1850': 1,\n",
       " 'app_3321': 150,\n",
       " 'app_7145': 2,\n",
       " 'app_3103': 8,\n",
       " 'app_2449': 4,\n",
       " 'app_2982': 2,\n",
       " 'app_1688': 2,\n",
       " 'app_4016': 2,\n",
       " 'app_8251': 3,\n",
       " 'app_3031': 2,\n",
       " 'app_1114': 1,\n",
       " 'app_7282': 3,\n",
       " 'app_8707': 1,\n",
       " 'app_8498': 17,\n",
       " 'app_5018': 1,\n",
       " 'app_856': 1,\n",
       " 'app_8642': 2,\n",
       " 'app_8784': 1,\n",
       " 'app_883': 13,\n",
       " 'app_703': 8,\n",
       " 'app_6460': 2,\n",
       " 'app_6252': 1,\n",
       " 'app_8278': 3,\n",
       " 'app_9022': 2,\n",
       " 'app_7309': 87,\n",
       " 'app_906': 2,\n",
       " 'app_8114': 3,\n",
       " 'app_5579': 5,\n",
       " 'app_3463': 2,\n",
       " ...}"
      ]
     },
     "execution_count": 53,
     "metadata": {},
     "output_type": "execute_result"
    }
   ],
   "source": [
    "a_i"
   ]
  },
  {
   "cell_type": "code",
   "execution_count": 40,
   "metadata": {
    "run_control": {
     "marked": false
    }
   },
   "outputs": [
    {
     "data": {
      "text/plain": [
       "68219"
      ]
     },
     "execution_count": 40,
     "metadata": {},
     "output_type": "execute_result"
    }
   ],
   "source": [
    "/len i_a"
   ]
  },
  {
   "cell_type": "code",
   "execution_count": 36,
   "metadata": {
    "collapsed": true,
    "run_control": {
     "marked": false
    }
   },
   "outputs": [
    {
     "data": {
      "text/plain": [
       "{'app_7189': 'inst_321',\n",
       " 'app_8812': 'inst_84832inst_14622inst_87772',\n",
       " 'app_7286': 'inst_35461inst_43805inst_93999',\n",
       " 'app_8800': 'inst_93578inst_51318',\n",
       " 'app_3029': 'inst_71370inst_35402',\n",
       " 'app_6204': 'inst_12907',\n",
       " 'app_5479': 'inst_94561inst_41274inst_87476inst_2578inst_804inst_64285',\n",
       " 'app_4872': 'inst_74601inst_42230',\n",
       " 'app_1789': 'inst_21447inst_84652',\n",
       " 'app_2770': 'inst_12417inst_42744inst_73203inst_85746inst_78329inst_15103inst_10258inst_91366',\n",
       " 'app_1331': 'inst_97390',\n",
       " 'app_8282': 'inst_86939inst_65582',\n",
       " 'app_31': 'inst_10981',\n",
       " 'app_9140': 'inst_15255inst_57741inst_12659inst_61773',\n",
       " 'app_7048': 'inst_67210',\n",
       " 'app_117': 'inst_65377',\n",
       " 'app_2804': 'inst_66143inst_6555',\n",
       " 'app_4836': 'inst_42832inst_21257',\n",
       " 'app_3145': 'inst_37212inst_53993inst_54867inst_40314inst_3699',\n",
       " 'app_1682': 'inst_58896inst_18606',\n",
       " 'app_9199': 'inst_78126',\n",
       " 'app_8691': 'inst_17281inst_25241',\n",
       " 'app_7177': 'inst_43323inst_27350',\n",
       " 'app_7709': 'inst_22772inst_31315inst_36199inst_35998',\n",
       " 'app_8622': 'inst_5935inst_39279inst_23811inst_51110inst_9594inst_72903inst_30051inst_75497inst_53897inst_91264inst_53462inst_52111inst_46485inst_75322inst_62394',\n",
       " 'app_6782': 'inst_72199',\n",
       " 'app_2848': 'inst_46844',\n",
       " 'app_5787': 'inst_32667',\n",
       " 'app_6594': 'inst_6545',\n",
       " 'app_176': 'inst_23652',\n",
       " 'app_6595': 'inst_64011inst_74347inst_77842inst_83331inst_81474inst_26841inst_55160inst_37697',\n",
       " 'app_3231': 'inst_73985inst_74845',\n",
       " 'app_3536': 'inst_99303inst_69827',\n",
       " 'app_240': 'inst_18283',\n",
       " 'app_839': 'inst_64455inst_11316inst_45202inst_50658inst_59568inst_23622inst_39466inst_74126inst_17326inst_24216',\n",
       " 'app_1086': 'inst_83800inst_51640',\n",
       " 'app_1470': 'inst_20687inst_4479',\n",
       " 'app_2664': 'inst_27281inst_11348inst_51810inst_7866inst_84180inst_36338',\n",
       " 'app_4309': 'inst_7674',\n",
       " 'app_651': 'inst_22763inst_92989',\n",
       " 'app_4698': 'inst_79825inst_3632inst_43669inst_4967inst_69966inst_21166inst_66647inst_69144inst_11417inst_90345inst_71983inst_37255inst_14889inst_61133inst_94294inst_21504inst_30914inst_10534inst_6653inst_97766inst_25822inst_45083inst_69321inst_69165inst_17137inst_82774inst_75035inst_4249inst_69025inst_41077inst_80940inst_64388inst_29935inst_58590inst_28596inst_37748inst_86842inst_84443inst_48381inst_73446inst_10510inst_38365inst_71145inst_39993inst_81291inst_1481inst_20622inst_83080inst_80085inst_59012inst_62863inst_45382inst_54206inst_4396inst_60626inst_2737inst_59962inst_48974inst_68534inst_22601inst_42305inst_69282inst_11171inst_70215inst_34804inst_80579inst_20575inst_77653inst_706inst_62824inst_32514inst_97358inst_3664inst_52285inst_87840inst_7440inst_35839inst_54659inst_32260inst_95611inst_91085inst_41110inst_64630inst_18385inst_48921inst_41692inst_45437inst_31354inst_41769inst_93618inst_78249inst_39828inst_10745inst_47481inst_65299inst_96867inst_40999inst_80589inst_1851inst_52900inst_74188inst_42349inst_77976inst_96116inst_98500inst_37400inst_53351inst_38054inst_96865inst_96201inst_81259inst_50536inst_36738inst_7604inst_89497inst_66439inst_58456inst_20811inst_1111inst_99369inst_73573inst_51616inst_57138inst_16259inst_65420inst_52627inst_8206inst_9592inst_76168inst_52284inst_78912inst_39421inst_78732inst_99919inst_76673inst_59418inst_97403inst_26078inst_40729inst_86943inst_68208inst_4717inst_1531inst_8727inst_15633inst_46496inst_97478inst_49157inst_76759inst_36706inst_79422inst_11546inst_19782inst_97579inst_39050inst_27849inst_24780inst_43431inst_83609inst_88362inst_57717inst_64157inst_32889inst_45540inst_95490inst_6490inst_84350inst_12083inst_73962inst_19177inst_47378inst_66369inst_78222inst_57167inst_79375inst_5503inst_45030inst_51097inst_99405inst_18847inst_91892inst_86709inst_32020inst_81594inst_8369inst_16962inst_17921inst_68446inst_4879inst_98318inst_1695inst_5332inst_76923inst_29932inst_44486inst_4042inst_45536inst_56740inst_97066inst_12436inst_6535inst_7848inst_19032inst_45867inst_91159inst_64363inst_46247inst_75922inst_14984inst_47214inst_52234inst_82388inst_80541inst_97900inst_3207inst_99916inst_95835inst_15741inst_62155inst_62609inst_15364inst_59176inst_33872inst_24742inst_85123inst_10491inst_92103inst_28996inst_73175inst_97518inst_12623inst_74967inst_69587inst_32516inst_13499inst_8497inst_30778inst_33272inst_87332inst_4941inst_18866inst_17393inst_38581inst_95898inst_44915inst_78534inst_52883inst_37659inst_97522inst_74734inst_25566inst_43912inst_50459inst_55943inst_95434inst_77223inst_28496inst_1515inst_94409inst_11330inst_55275inst_83326inst_66835inst_64745inst_5976inst_62799inst_6764inst_84930inst_80213inst_28908inst_50931inst_1560inst_27245inst_79567inst_29433inst_25364inst_74951inst_40978inst_15612inst_10482inst_19413inst_939inst_36306inst_51143inst_47577inst_25393inst_14197inst_89762inst_36372inst_45822inst_13112inst_39321inst_77393inst_38635inst_28156inst_57159inst_87216inst_92579inst_49641inst_86067inst_5405inst_39482inst_98325inst_53579inst_52051inst_69207inst_91538inst_43283inst_85966inst_55286inst_49342inst_67282inst_90902inst_56381inst_46211inst_13902inst_12728inst_17690inst_42766inst_18617inst_25205inst_35584inst_22126inst_36764inst_9620inst_91289inst_27105inst_57698inst_33691inst_8189inst_73627inst_87018inst_67786inst_96619inst_42621inst_55459inst_86907inst_60923inst_23195inst_12703inst_26874inst_59169inst_38446inst_54117inst_3325inst_49571inst_29978inst_68133inst_84632inst_91542inst_9012inst_49732inst_70088inst_65065inst_44775inst_16604inst_97698inst_88909inst_65075inst_326inst_60983inst_97506inst_13425inst_92534inst_76446inst_96809inst_19424inst_1501inst_16391inst_38443inst_2693inst_6186inst_17358inst_89613inst_19524inst_73119inst_35525inst_91838inst_76792inst_53975inst_72016inst_14760inst_12873inst_85037inst_10514inst_86398inst_35922inst_54928inst_57953inst_2506inst_77395inst_62678inst_9508inst_67447inst_93247inst_32960inst_68054inst_92645inst_14182inst_74697inst_55741inst_24168inst_98865inst_54731inst_93366inst_17850inst_77815inst_58609inst_31097inst_77365inst_84198inst_4000inst_56689inst_58229inst_84693inst_92954inst_96182inst_12797inst_74069inst_31467inst_19767inst_50960inst_75563inst_74690inst_88228inst_27535inst_47429inst_58178inst_49343inst_59978inst_98438inst_47790inst_55682inst_98960inst_59819inst_34532inst_62864inst_58869inst_45180inst_79164inst_54799inst_14242inst_62570inst_16779inst_22282inst_28068inst_71692inst_64781inst_6890inst_80659inst_98494inst_94682inst_99386inst_58570inst_96403inst_60718inst_88478inst_29233inst_26470inst_97357inst_53551inst_40685inst_38509inst_61652inst_49950inst_87807inst_78264inst_21595inst_6068inst_41210inst_79316inst_98014inst_39763inst_82755inst_9039inst_542inst_45823inst_17556inst_77507inst_85757inst_242inst_96989inst_87138inst_5012inst_50775inst_23562inst_71113inst_9424inst_14193inst_67674inst_64301inst_94510inst_79440inst_80128inst_49046inst_65026inst_40694inst_32160inst_81147inst_86702inst_8288inst_66895inst_84157inst_74493inst_4550inst_75754inst_91441inst_96221inst_89671inst_74956inst_50238inst_30625inst_16956inst_68754inst_55840inst_30366inst_78009inst_189inst_73581inst_55017inst_16764inst_23974inst_83034inst_29951inst_78088inst_59131inst_55301inst_39016inst_60470inst_30414inst_46241inst_55993inst_26973inst_40733inst_52342inst_86916inst_54360inst_83936inst_89457inst_6511inst_79391inst_28879inst_42686inst_74672inst_41750inst_65113inst_78141inst_89272inst_27699inst_71917inst_74291inst_58641inst_3158inst_37784inst_27568inst_40574inst_8717inst_38686inst_7583inst_81865inst_29592inst_91081inst_42787inst_90831inst_96697',\n",
       " 'app_3891': 'inst_69953inst_99294inst_15366inst_36185inst_69339',\n",
       " 'app_3364': 'inst_86716',\n",
       " 'app_3301': 'inst_39576inst_85783inst_80753',\n",
       " 'app_3099': 'inst_64862',\n",
       " 'app_2953': 'inst_19245inst_83920',\n",
       " 'app_4643': 'inst_113',\n",
       " 'app_8750': 'inst_97795inst_70680',\n",
       " 'app_8523': 'inst_10752inst_32975inst_4570inst_80550inst_61775inst_83913',\n",
       " 'app_505': 'inst_31034inst_84600inst_87705inst_21043inst_87865inst_67708inst_72651inst_66700inst_42852inst_28080inst_90616inst_94280inst_77856inst_20927',\n",
       " 'app_7313': 'inst_43995',\n",
       " 'app_8113': 'inst_16405inst_38093inst_26650inst_48017',\n",
       " 'app_2960': 'inst_59163',\n",
       " 'app_3320': 'inst_63265',\n",
       " 'app_2265': 'inst_33580inst_91442',\n",
       " 'app_7494': 'inst_65650inst_37589',\n",
       " 'app_6962': 'inst_92444inst_67960',\n",
       " 'app_6496': 'inst_22901inst_83139inst_10572',\n",
       " 'app_2805': 'inst_61129inst_16768',\n",
       " 'app_983': 'inst_83655',\n",
       " 'app_3843': 'inst_95209inst_51058inst_91544',\n",
       " 'app_7023': 'inst_40877inst_3913',\n",
       " 'app_6498': 'inst_31988',\n",
       " 'app_3722': 'inst_5298inst_31101inst_36862inst_6728inst_32250inst_84878inst_29831inst_18729inst_93986',\n",
       " 'app_256': 'inst_23744inst_36152',\n",
       " 'app_5574': 'inst_60534',\n",
       " 'app_2734': 'inst_79159inst_40546',\n",
       " 'app_6966': 'inst_6424inst_67218',\n",
       " 'app_205': 'inst_40841',\n",
       " 'app_4119': 'inst_69407inst_82540',\n",
       " 'app_7020': 'inst_42644inst_26999',\n",
       " 'app_16': 'inst_48529inst_8095',\n",
       " 'app_2191': 'inst_21273',\n",
       " 'app_4645': 'inst_40594',\n",
       " 'app_2906': 'inst_19390inst_65104',\n",
       " 'app_1683': 'inst_1432inst_17403inst_40538inst_44336inst_82663inst_4334inst_37109inst_44455inst_49606inst_67289inst_77137inst_39180inst_67658inst_46519inst_89798inst_86152inst_98375inst_77814inst_18880inst_91555inst_27438inst_74788inst_98812inst_16025inst_4549inst_55932inst_1365inst_96493inst_2569inst_40808inst_50152inst_33518inst_28654inst_29423inst_94066inst_54082inst_19280inst_92136inst_57425inst_50718inst_838inst_65979inst_74627inst_61113inst_72699inst_91931inst_6604inst_31562inst_70039inst_13241inst_94448inst_78838inst_84253inst_31233inst_12776inst_35159inst_19787inst_57074inst_56537inst_79621inst_38204inst_61550inst_35861inst_6098inst_64184inst_76744inst_64934inst_28326inst_56116inst_48136inst_13510',\n",
       " 'app_7714': 'inst_60619inst_64876',\n",
       " 'app_9092': 'inst_33492',\n",
       " 'app_3894': 'inst_75638inst_83224inst_59625inst_67992inst_66536inst_45436inst_66754inst_44148inst_77660inst_40554inst_46906inst_59125inst_94245inst_19669inst_83637inst_36271inst_1107inst_93534inst_37634inst_2605inst_97747inst_20937inst_10003inst_58644inst_57070inst_10461inst_67778inst_40692inst_44916inst_79221inst_11107inst_28344inst_76668inst_58592inst_15182inst_96481inst_16649inst_5281inst_99531inst_19147inst_52023inst_32654inst_85561inst_12171inst_14105inst_80527inst_60860inst_70498inst_20385inst_81553inst_22840inst_65102inst_96113inst_2377inst_49205inst_15857inst_46811inst_89289inst_93877inst_52851inst_23143inst_66196inst_18095inst_60569inst_26418inst_53491',\n",
       " 'app_3335': 'inst_47242inst_40731inst_60530inst_3397inst_56692',\n",
       " 'app_8663': 'inst_53995inst_42469inst_70885inst_43193',\n",
       " 'app_2263': 'inst_55310inst_61977inst_45328inst_53773inst_15840inst_39002inst_7791inst_84291inst_89831inst_85083inst_39773inst_96663inst_32814inst_75565inst_46827inst_21663inst_72864inst_85552inst_33635inst_79611inst_96048inst_5838inst_45697inst_30869inst_38890inst_58783inst_56824inst_55337inst_76373inst_28878inst_87085inst_64946inst_779inst_64527inst_84214inst_13058inst_13442inst_31689inst_45478inst_34010inst_24866inst_429inst_5784inst_86926inst_36907inst_37757inst_7304inst_43353inst_44750inst_82261inst_75851inst_87106inst_92641inst_94005inst_37668inst_16327inst_26956inst_14586inst_49765inst_16663inst_98045inst_22989inst_33611inst_64182inst_74732inst_31594inst_83100inst_97099inst_89880inst_7972inst_13232inst_36268inst_96055inst_19784inst_1114inst_18459inst_36510inst_75621inst_47464inst_17486inst_44058inst_40091inst_92872inst_56819inst_16269inst_28973inst_78745inst_80722inst_41889inst_11665inst_62477inst_26868inst_64648inst_96293inst_51188inst_24633inst_45913inst_52934inst_72764inst_41823inst_12649inst_10398inst_88030inst_576inst_9942inst_54022inst_67994inst_16996inst_44460inst_71590inst_70383inst_16247inst_58411inst_35606inst_75925inst_27855inst_7822inst_30985inst_20639inst_20122inst_30954inst_23007inst_4219inst_33190inst_46407inst_39966inst_79169inst_63270inst_26822inst_12849inst_2311inst_56614inst_56110inst_39972inst_22806inst_60535inst_8874inst_39729inst_96873inst_56724inst_43635inst_67394inst_99677inst_12045inst_3092inst_56656inst_52337inst_89911inst_98105inst_10607inst_86241inst_46100inst_34223inst_10128inst_36833inst_44828inst_67114inst_63012inst_33695inst_99071inst_70826inst_5203inst_82182inst_2092inst_79356inst_89915inst_28818inst_59015inst_80662inst_9908inst_92839inst_54286inst_35173inst_73769inst_55214inst_82223inst_3612inst_4244inst_53578inst_74148inst_83258inst_17260inst_92049inst_21680inst_52253inst_60932inst_77535inst_78507inst_46673inst_97133inst_95642inst_61813inst_87285inst_59646inst_50490inst_23590inst_88255inst_94688inst_71323inst_65896inst_13336inst_39824inst_24630inst_69560inst_38590inst_91197inst_52976inst_24454inst_79028inst_7126inst_97836inst_8785inst_97729inst_4397inst_91796inst_71943inst_11356inst_11031inst_26808inst_92462inst_39389inst_78986inst_53651inst_66469inst_45794inst_11816inst_36937inst_8532inst_74589inst_65728inst_20354inst_80492inst_79856inst_99680inst_17949inst_68110inst_95948inst_16000inst_4664inst_95975inst_56208inst_29864inst_46239inst_37538inst_43561inst_40124inst_28507inst_57663inst_26937inst_39900inst_1956inst_74003inst_6820inst_8979inst_16790inst_32787inst_88896inst_92007inst_1100inst_98878inst_89061inst_82321inst_16574inst_77416inst_64288inst_59172inst_22730inst_64904inst_76998inst_25424inst_4911inst_55509inst_40696inst_13118inst_80986inst_30473inst_6965inst_50937inst_22095inst_37544inst_90762inst_63286inst_49139inst_77825inst_8430inst_77508inst_82901inst_90905inst_93668inst_22910inst_65254inst_14564inst_96907inst_59002inst_32106inst_34234inst_58053inst_21135inst_41105inst_59165inst_62746inst_13729inst_89331inst_34288inst_80506inst_1092inst_36179inst_98855inst_3072inst_5507inst_95048inst_9071inst_26645inst_16011inst_18734inst_35509inst_43598inst_16926',\n",
       " 'app_6647': 'inst_54142inst_79807inst_12460inst_6277',\n",
       " 'app_2941': 'inst_37186',\n",
       " 'app_262': 'inst_31538inst_69001inst_39322inst_62203inst_70855inst_27847inst_78412inst_63309inst_27454inst_58325inst_30479inst_24877inst_48398inst_68953inst_9222inst_49549inst_46592inst_79194inst_2650inst_1291inst_97815inst_60909inst_92744inst_86299inst_8176inst_79443inst_49882inst_54028inst_42355',\n",
       " 'app_380': 'inst_58239inst_45257',\n",
       " 'app_5020': 'inst_80945inst_61640',\n",
       " 'app_2447': 'inst_14800inst_17372inst_6266inst_44461',\n",
       " 'app_7752': 'inst_88167inst_69864',\n",
       " 'app_3670': 'inst_28833inst_55404',\n",
       " 'app_2140': 'inst_41094inst_26556inst_28506inst_60374inst_30798inst_80678inst_49880',\n",
       " 'app_5286': 'inst_88314inst_80184',\n",
       " 'app_6192': 'inst_26788inst_5321',\n",
       " 'app_6084': 'inst_41047',\n",
       " 'app_1537': 'inst_94890inst_60728inst_68432inst_14591',\n",
       " 'app_7329': 'inst_66318',\n",
       " 'app_7342': 'inst_73744inst_66512',\n",
       " 'app_1443': 'inst_43321inst_81436inst_75404inst_84631inst_3454inst_58832inst_31871inst_10104inst_7409inst_80193inst_85489inst_48737inst_61176inst_75281inst_96041inst_84452inst_22999inst_53761inst_33313inst_2532inst_86833inst_23813inst_57529inst_63644inst_10806inst_94215inst_3421inst_44720inst_81562inst_14302inst_89614inst_15767inst_52511inst_88826inst_78679inst_42387inst_60632inst_29718inst_80036inst_79522inst_84938inst_72701inst_52273inst_97619inst_48382inst_86204inst_58441inst_30559inst_89100inst_25799inst_88019inst_54414inst_53567inst_75257inst_99132inst_27844inst_22353inst_49288inst_77716inst_82883inst_73841inst_84251inst_61214inst_23433inst_77042inst_37809inst_34709inst_53781inst_92063inst_92163inst_71681inst_65542inst_96475inst_75305inst_31727inst_72122inst_14599inst_15945inst_80763inst_80929inst_56912inst_14669inst_65265inst_6009inst_15080inst_32100inst_62908inst_42336inst_64055inst_60077inst_80776inst_19582inst_27077inst_53330inst_5400inst_55008inst_89586inst_52699inst_21950inst_89261inst_57038inst_3739inst_87241',\n",
       " 'app_5567': 'inst_49818inst_83177',\n",
       " 'app_1457': 'inst_51961',\n",
       " 'app_4602': 'inst_51272',\n",
       " 'app_4263': 'inst_9215inst_16161inst_34632',\n",
       " 'app_5915': 'inst_81769inst_36148inst_75699',\n",
       " 'app_3432': 'inst_23032',\n",
       " 'app_6886': 'inst_40971inst_99772',\n",
       " 'app_3034': 'inst_22370inst_63346',\n",
       " 'app_1585': 'inst_26458',\n",
       " 'app_5552': 'inst_39247inst_98360inst_66241',\n",
       " 'app_6480': 'inst_73317',\n",
       " 'app_2868': 'inst_98669',\n",
       " 'app_8763': 'inst_36761',\n",
       " 'app_8380': 'inst_3308inst_297',\n",
       " 'app_3323': 'inst_15137inst_7605',\n",
       " 'app_7267': 'inst_3901inst_93067inst_18260inst_11499inst_64328inst_53786',\n",
       " 'app_9157': 'inst_20382inst_31234inst_80340inst_86522inst_47586',\n",
       " 'app_8912': 'inst_27003inst_91068',\n",
       " 'app_9182': 'inst_38880inst_60358',\n",
       " 'app_1517': 'inst_2746',\n",
       " 'app_1749': 'inst_30981inst_42913inst_14834',\n",
       " 'app_2375': 'inst_36166',\n",
       " 'app_1340': 'inst_94039',\n",
       " 'app_4710': 'inst_82826',\n",
       " 'app_8562': 'inst_30938',\n",
       " 'app_2012': 'inst_50427',\n",
       " 'app_1897': 'inst_34259',\n",
       " 'app_5553': 'inst_62560inst_40225',\n",
       " 'app_4433': 'inst_38151',\n",
       " 'app_6599': 'inst_51989inst_40861',\n",
       " 'app_4341': 'inst_38097inst_4518',\n",
       " 'app_3097': 'inst_71752inst_3917inst_48254inst_77922inst_45586inst_92637inst_78174inst_6145inst_99270',\n",
       " 'app_3152': 'inst_12948inst_21731inst_46509',\n",
       " 'app_2830': 'inst_27478',\n",
       " 'app_6269': 'inst_19476inst_29678inst_76708inst_88576inst_13673inst_67395inst_86416inst_16726inst_62495inst_16110inst_66493inst_91111inst_49739inst_88578inst_44650inst_47153inst_36498inst_45123inst_32334inst_80754inst_34062inst_41446inst_59141inst_15066inst_81489inst_13105inst_36143inst_80597inst_10680inst_94388inst_95154inst_95155inst_3514inst_68660inst_74624inst_71372inst_74091inst_66824inst_73653inst_85810inst_27942inst_17250inst_25279inst_48447inst_63489inst_74386inst_81633inst_96290inst_615inst_9806inst_36643inst_72518inst_43756inst_45112inst_13808inst_56209inst_67156inst_88669inst_71134inst_31635inst_73390inst_27002inst_81312inst_55920inst_70323inst_53599inst_14396inst_44666inst_75043inst_60373inst_60142inst_84038inst_30328inst_38328inst_14838inst_59717inst_63514inst_4508inst_73916inst_41770inst_36730inst_98637inst_6114inst_29424inst_5962inst_61107inst_52294inst_37325inst_60879inst_32011inst_50587inst_60080inst_42942inst_76967inst_34575inst_29652inst_33764inst_61557inst_92418inst_16612inst_72602inst_49021inst_90728inst_19266inst_86647inst_93602inst_33464inst_66471inst_85877inst_30076inst_45857inst_70515inst_63428inst_73771inst_50343inst_76367inst_52943inst_35904inst_38526inst_94617inst_47901inst_76260inst_39218inst_15308inst_62937inst_41014inst_90664inst_98955inst_36820inst_39647inst_46164inst_20292inst_42561inst_41527inst_39610inst_50762inst_12795inst_11459inst_80263inst_93872inst_42401inst_73937inst_97872inst_3283inst_83762inst_70644inst_98705inst_43572inst_19125inst_36417inst_25976inst_41058inst_38315inst_52671inst_93024inst_71053inst_38440inst_67274inst_92511inst_17591inst_14550inst_53262inst_4370inst_21200inst_73215inst_6787inst_92493inst_2600inst_93568inst_29566inst_56919inst_66696inst_32625inst_85917',\n",
       " 'app_8109': 'inst_28735inst_58622inst_30998',\n",
       " 'app_1400': 'inst_8475',\n",
       " 'app_6151': 'inst_89790inst_40115inst_144inst_88164inst_93649inst_55906inst_90186inst_52827inst_74274inst_66653inst_27252inst_88978inst_98726inst_84025inst_31450inst_62206inst_96951inst_83394inst_7220inst_32758inst_10574inst_41756inst_77984inst_61255inst_56072inst_26203inst_56075inst_82683',\n",
       " 'app_3714': 'inst_54155inst_75669',\n",
       " 'app_2935': 'inst_64668inst_56179inst_50456',\n",
       " 'app_5289': 'inst_81060inst_6917inst_74533inst_87777inst_33858inst_11562',\n",
       " 'app_6570': 'inst_3573inst_51624',\n",
       " 'app_5731': 'inst_15483inst_45882inst_75931inst_15253inst_20468inst_55931inst_32099inst_5429inst_25561inst_32399inst_52368inst_86419inst_3364inst_12844inst_56163inst_30521inst_45082inst_84235inst_32463inst_80774inst_21985inst_18850inst_64616inst_56007inst_83567inst_33882inst_37535inst_27319inst_48069inst_54910inst_59901inst_83991inst_70069inst_23404inst_99647inst_94139inst_57678inst_71832inst_11161inst_575inst_32178inst_36908inst_87140inst_37374inst_67908inst_19809inst_9049inst_17410inst_74794inst_14705inst_87956inst_18393inst_37260inst_76019inst_84671inst_57262inst_14746',\n",
       " 'app_1053': 'inst_99225',\n",
       " 'app_1742': 'inst_80100inst_72206inst_32298inst_6846inst_7307inst_93900inst_8464inst_95396inst_62429inst_2418inst_35835',\n",
       " 'app_6880': 'inst_52456inst_56018inst_26785inst_27271inst_6311inst_61627inst_88810inst_46574inst_8014inst_94549inst_12884inst_43420inst_36187inst_51083inst_24249inst_81977inst_68258inst_9167inst_49656inst_24273inst_74992inst_88979inst_21357inst_89620inst_78848inst_64160inst_32725inst_34310inst_1950inst_55222inst_2328inst_23297inst_82290inst_63690inst_94109inst_64437inst_89192inst_86554inst_2627inst_37127inst_77870inst_61078inst_87811inst_43677inst_55761inst_36069inst_26364inst_95810inst_96553inst_73266inst_74719inst_4782inst_56408inst_36243inst_12987inst_66803inst_59857inst_28142inst_18070inst_15403inst_283inst_49986inst_36746inst_28964inst_1155inst_25567inst_68456inst_821inst_48786inst_37000inst_79285inst_41380inst_53774inst_17070inst_95335',\n",
       " 'app_3684': 'inst_79528',\n",
       " 'app_6219': 'inst_51786',\n",
       " 'app_7037': 'inst_29624inst_3591inst_77106',\n",
       " 'app_2997': 'inst_15030inst_56263',\n",
       " 'app_7779': 'inst_85258',\n",
       " 'app_1116': 'inst_458inst_660',\n",
       " 'app_8686': 'inst_22844',\n",
       " 'app_5073': 'inst_17971inst_59545',\n",
       " 'app_6359': 'inst_89257inst_57814',\n",
       " 'app_1823': 'inst_33606',\n",
       " 'app_2420': 'inst_13020inst_86575',\n",
       " 'app_7817': 'inst_39714',\n",
       " 'app_1199': 'inst_59288',\n",
       " 'app_4322': 'inst_65191inst_29444inst_10280',\n",
       " 'app_1526': 'inst_61035inst_80123',\n",
       " 'app_2669': 'inst_76496inst_48562',\n",
       " 'app_8980': 'inst_66399inst_22108',\n",
       " 'app_1379': 'inst_42201',\n",
       " 'app_1185': 'inst_7814inst_79576',\n",
       " 'app_7306': 'inst_80865',\n",
       " 'app_3224': 'inst_23552inst_36551',\n",
       " 'app_8803': 'inst_7286inst_21976',\n",
       " 'app_218': 'inst_34872',\n",
       " 'app_431': 'inst_10090inst_28774',\n",
       " 'app_835': 'inst_4537inst_11815inst_76211inst_85600inst_6433inst_89146inst_1354',\n",
       " 'app_3649': 'inst_67704inst_96829inst_55083inst_53345',\n",
       " 'app_3084': 'inst_6061inst_3079',\n",
       " 'app_2847': 'inst_26641inst_86020inst_57701inst_36620inst_2',\n",
       " 'app_6112': 'inst_19630inst_5199',\n",
       " 'app_4534': 'inst_81670inst_93642inst_22610inst_83349inst_12891inst_30634inst_24117inst_44456inst_94411inst_42646inst_45734inst_652inst_92204inst_81452',\n",
       " 'app_4738': 'inst_56031inst_33720inst_51420inst_67530inst_90069inst_98565inst_46107',\n",
       " 'app_8108': 'inst_87773',\n",
       " 'app_2143': 'inst_70180inst_41855inst_37575inst_11354inst_33015inst_66550inst_2881inst_87125inst_6552inst_73619inst_30217inst_12004inst_8431inst_67477inst_56425inst_25111inst_70006inst_16430inst_94764inst_93851inst_70115inst_13333inst_1381inst_143',\n",
       " 'app_8286': 'inst_63556',\n",
       " 'app_1933': 'inst_58537',\n",
       " 'app_8492': 'inst_57344inst_44532',\n",
       " 'app_4725': 'inst_63564inst_7809inst_19969',\n",
       " 'app_3990': 'inst_34934',\n",
       " 'app_5189': 'inst_27897inst_48555inst_75197inst_22670',\n",
       " 'app_2837': 'inst_13318',\n",
       " 'app_344': 'inst_75757inst_31070inst_97074inst_99292inst_20574inst_65092inst_79730inst_56590inst_39678inst_97166inst_87524inst_80760inst_1904inst_2265inst_26714inst_18141inst_40883',\n",
       " 'app_527': 'inst_52947inst_71305',\n",
       " 'app_9184': 'inst_59613',\n",
       " 'app_1592': 'inst_72050inst_218inst_41492inst_76151inst_97467inst_5155inst_61600inst_62737inst_82244inst_90188inst_76964inst_78438inst_74065inst_56608inst_78765inst_58224inst_27608inst_72462inst_86594inst_98651inst_96102inst_21342inst_42012inst_93167inst_80903inst_12983inst_81781inst_67715inst_72005inst_54467inst_58931inst_90648inst_40313inst_71565inst_66246inst_59328inst_15468inst_43813inst_13999inst_43788inst_26642inst_87746inst_44796',\n",
       " 'app_4068': 'inst_95065inst_40358inst_18899inst_15723inst_79907inst_97695inst_38693inst_20236inst_48659inst_91219inst_86580inst_51921inst_72295inst_21974inst_4652inst_89879inst_63252inst_76749inst_51147inst_67743inst_37787inst_70214inst_36377inst_81551inst_62165inst_29521',\n",
       " 'app_1668': 'inst_58106inst_36321inst_41817inst_84615inst_22606inst_42150inst_20898inst_50251inst_22584inst_48206',\n",
       " 'app_4776': 'inst_89865',\n",
       " 'app_6389': 'inst_92856',\n",
       " 'app_2811': 'inst_23346',\n",
       " 'app_108': 'inst_49176inst_69657inst_94400',\n",
       " 'app_6068': 'inst_55496',\n",
       " 'app_3165': 'inst_77979inst_22913inst_21912inst_82981inst_98129inst_60817inst_89655inst_68867',\n",
       " 'app_2064': 'inst_53508inst_37335',\n",
       " 'app_3128': 'inst_61287inst_47161',\n",
       " 'app_4420': 'inst_32764inst_17878inst_22837inst_38648',\n",
       " 'app_5109': 'inst_21561inst_60001inst_43277inst_91427inst_84932inst_28273inst_80038inst_65250inst_47687inst_57240inst_56662inst_13250inst_69239inst_15913inst_1453inst_43416inst_38999inst_34550inst_30644inst_9054inst_72502inst_28604inst_10397inst_66006inst_64237',\n",
       " 'app_7013': 'inst_50301inst_19511inst_5942inst_52888inst_78147inst_85513',\n",
       " 'app_120': 'inst_14300inst_5008inst_1242inst_38897inst_87800inst_84537inst_57037',\n",
       " 'app_1972': 'inst_89206inst_544inst_94287inst_77938inst_76656inst_67587inst_17913inst_48558inst_74885inst_97615inst_86329inst_96349inst_7713inst_52321',\n",
       " 'app_3010': 'inst_71635inst_15592inst_85668inst_6005inst_22625inst_71807inst_42166inst_28708inst_53992inst_75050',\n",
       " 'app_2148': 'inst_54620inst_74407inst_65539inst_5021inst_39903inst_64322inst_36089inst_26023inst_66887inst_23452inst_12622inst_20802inst_43548inst_19460inst_10506',\n",
       " 'app_2358': 'inst_39285inst_52121',\n",
       " 'app_8661': 'inst_70600inst_89868',\n",
       " 'app_6920': 'inst_83096inst_15793inst_35500',\n",
       " 'app_5633': 'inst_29530inst_97932inst_88179inst_11714inst_5442inst_32945inst_80031',\n",
       " 'app_6366': 'inst_83605',\n",
       " 'app_2841': 'inst_93436inst_3743inst_10567',\n",
       " 'app_7818': 'inst_57030inst_50018',\n",
       " 'app_1040': 'inst_37514inst_39939inst_93219inst_28378inst_6564inst_1542inst_82153inst_92968inst_71555inst_97021inst_59849inst_76179inst_50753inst_92677inst_14227inst_10834inst_41585inst_25608inst_80384inst_41857inst_12401inst_26637inst_82424inst_15694inst_79983inst_14362inst_20416inst_43980',\n",
       " 'app_2745': 'inst_41128inst_34208inst_91956inst_22814inst_16404inst_2111inst_34290inst_21613inst_54057inst_48124inst_7896inst_96450inst_24006inst_27153inst_65698inst_68501inst_58900inst_24799inst_57162inst_81089inst_88418inst_94653inst_14337inst_36751inst_17694inst_73353inst_35795inst_28490inst_20664inst_8010inst_50907inst_81592inst_6231inst_79876inst_59598inst_59485inst_83632inst_63717inst_36090inst_3529inst_45267inst_66172inst_93532inst_63430inst_65134inst_62791',\n",
       " 'app_3013': 'inst_84925inst_84162',\n",
       " 'app_6743': 'inst_70276',\n",
       " 'app_5849': 'inst_37417inst_17555',\n",
       " 'app_2628': 'inst_87407inst_25893inst_21020inst_36274inst_95449',\n",
       " 'app_1413': 'inst_31462inst_87755',\n",
       " 'app_1740': 'inst_10132inst_70803inst_42764inst_9312',\n",
       " 'app_2361': 'inst_29559',\n",
       " 'app_4313': 'inst_87693',\n",
       " 'app_5102': 'inst_42504inst_63082',\n",
       " 'app_2211': 'inst_14631inst_69301inst_30260',\n",
       " 'app_2730': 'inst_87180',\n",
       " 'app_7561': 'inst_64593inst_32538',\n",
       " 'app_4607': 'inst_35935inst_73223',\n",
       " 'app_3401': 'inst_89999inst_13269inst_42625inst_45060inst_25493inst_94597inst_61575inst_73075inst_51806inst_27452inst_85314inst_84608inst_78101inst_92121inst_20590inst_57590',\n",
       " 'app_3551': 'inst_68314inst_30584inst_69612inst_63833inst_9440',\n",
       " 'app_9231': 'inst_84533inst_59152inst_76543',\n",
       " 'app_3544': 'inst_28521inst_30645inst_94164inst_30994',\n",
       " 'app_6693': 'inst_5868',\n",
       " 'app_8050': 'inst_78800',\n",
       " 'app_2825': 'inst_46726inst_99058inst_91494inst_49123',\n",
       " 'app_738': 'inst_18116inst_59876inst_45019inst_42559inst_35987inst_15236inst_88845inst_1049',\n",
       " 'app_7617': 'inst_90799inst_99744',\n",
       " 'app_7924': 'inst_9458inst_72880inst_57157inst_40708',\n",
       " 'app_4377': 'inst_52655inst_60175',\n",
       " 'app_187': 'inst_49321inst_13430inst_37323inst_72418inst_81094',\n",
       " 'app_6014': 'inst_70988',\n",
       " 'app_2715': 'inst_23140inst_51135',\n",
       " 'app_6767': 'inst_94112inst_60963',\n",
       " 'app_5041': 'inst_53183inst_89800inst_72643',\n",
       " 'app_5708': 'inst_93274inst_99763',\n",
       " 'app_6504': 'inst_31383inst_56010',\n",
       " 'app_3210': 'inst_67263inst_87251inst_95955inst_66451inst_68429inst_2772inst_10228inst_52767inst_2236inst_74337inst_71709inst_73687inst_40401inst_2122inst_80653inst_89149inst_91754inst_6400inst_5150inst_70830inst_16894inst_48726inst_5440inst_36853',\n",
       " 'app_2370': 'inst_22654',\n",
       " 'app_6622': 'inst_95788inst_71162inst_28143inst_9293inst_56049inst_34120inst_53120inst_12247inst_74184inst_30738inst_14902inst_28527inst_55248',\n",
       " 'app_5961': 'inst_77169inst_61567inst_61329inst_99416inst_89622inst_36805',\n",
       " 'app_70': 'inst_84303inst_64124',\n",
       " 'app_9016': 'inst_82354inst_98022inst_17772inst_83307',\n",
       " 'app_6656': 'inst_92195inst_84476inst_73267inst_11305inst_56424inst_62786',\n",
       " 'app_3147': 'inst_1850inst_47400',\n",
       " 'app_4497': 'inst_84014',\n",
       " 'app_2248': 'inst_18467inst_37983',\n",
       " 'app_3566': 'inst_73319',\n",
       " 'app_5875': 'inst_17144inst_44776inst_2208',\n",
       " 'app_3377': 'inst_40395inst_1578',\n",
       " 'app_9077': 'inst_8119inst_29319inst_82723inst_28955inst_92127inst_28664inst_86922inst_27820inst_27351inst_17550inst_21933inst_73020inst_98434inst_58452inst_38002inst_69583inst_946inst_20716inst_28003inst_24417inst_60889inst_75327inst_81587inst_38787inst_53005inst_56699inst_15921inst_94712inst_22824inst_55716inst_82667inst_21529inst_26658',\n",
       " 'app_6763': 'inst_36788inst_83235inst_59107inst_14785',\n",
       " 'app_5724': 'inst_26510inst_80075inst_68619inst_59326inst_40472',\n",
       " 'app_6059': 'inst_50924inst_64218',\n",
       " 'app_2759': 'inst_13363inst_15428',\n",
       " 'app_8438': 'inst_85975inst_95159inst_2332inst_32730inst_19027',\n",
       " 'app_6301': 'inst_73679inst_55368',\n",
       " 'app_8040': 'inst_35050inst_61995',\n",
       " 'app_5436': 'inst_70000inst_88856inst_97480inst_78295inst_92335inst_28674inst_53284inst_15697inst_97487inst_76716inst_86357inst_40161inst_70367inst_68895inst_90124inst_17738inst_1986inst_19290inst_86967inst_93135inst_87295inst_35213inst_89065inst_36595inst_33377inst_51820inst_75903inst_23845inst_55679inst_93221inst_18867inst_91641inst_50918inst_95556inst_16201inst_47304inst_8871inst_79609inst_29761inst_61952',\n",
       " 'app_8752': 'inst_25588',\n",
       " 'app_8640': 'inst_29742',\n",
       " 'app_2802': 'inst_78575inst_48499',\n",
       " 'app_2489': 'inst_84606inst_99383inst_53794inst_8858inst_2762inst_52889inst_2912inst_70467inst_62189inst_95811inst_46166inst_63inst_85148inst_78603',\n",
       " 'app_6530': 'inst_90563inst_98243inst_64491inst_48666inst_63856inst_29092inst_55703inst_89373inst_20522inst_61753inst_40154inst_37288',\n",
       " 'app_4067': 'inst_72113inst_37930inst_39964inst_48954inst_17209',\n",
       " 'app_9236': 'inst_3215inst_45361',\n",
       " 'app_5825': 'inst_96659inst_81644',\n",
       " 'app_8434': 'inst_42297inst_72019inst_63721inst_33174inst_14345inst_31640inst_87319inst_86231inst_78078inst_28707inst_18371inst_70736inst_45826inst_20055',\n",
       " 'app_8039': 'inst_44938',\n",
       " 'app_6863': 'inst_16421',\n",
       " 'app_2541': 'inst_47646inst_92211',\n",
       " 'app_2887': 'inst_54376inst_25409inst_75329inst_75834inst_28573inst_64631inst_50446inst_74185inst_98911inst_34162inst_52918inst_78793inst_28711inst_59344inst_99563inst_47844inst_35973inst_5994',\n",
       " 'app_8218': 'inst_16094inst_45779inst_31811inst_38349',\n",
       " 'app_6268': 'inst_14155inst_15922inst_92489inst_8191',\n",
       " 'app_558': 'inst_46664inst_73809inst_51756inst_45672',\n",
       " 'app_6587': 'inst_59756inst_43155inst_90673',\n",
       " 'app_3007': 'inst_890inst_97979inst_58627inst_29751',\n",
       " 'app_7974': 'inst_32489inst_60086inst_6623',\n",
       " 'app_8537': 'inst_73561inst_78897',\n",
       " 'app_7992': 'inst_68143inst_27012inst_76579inst_18154',\n",
       " 'app_6434': 'inst_95475inst_13312inst_3621inst_8967inst_77951',\n",
       " 'app_250': 'inst_45115inst_68822inst_40471inst_47787inst_6417inst_32456inst_7353inst_17462inst_41593inst_65361inst_17108inst_62835inst_74745',\n",
       " 'app_7178': 'inst_46968inst_83755inst_63000inst_10784inst_66955inst_81235inst_75464inst_12860inst_52207inst_12072inst_31249inst_20796inst_10513inst_83428inst_79806',\n",
       " 'app_4636': 'inst_27181inst_70159',\n",
       " 'app_9032': 'inst_80257inst_31608inst_71270inst_81957',\n",
       " 'app_5310': 'inst_37883inst_39940',\n",
       " 'app_2073': 'inst_34283inst_91065',\n",
       " 'app_3004': 'inst_13911',\n",
       " 'app_3446': 'inst_63861',\n",
       " 'app_6237': 'inst_4361inst_61284inst_3906inst_71585inst_83395',\n",
       " 'app_3969': 'inst_34194inst_55874',\n",
       " 'app_1710': 'inst_68611inst_95386inst_85638inst_85486inst_3759inst_52870',\n",
       " 'app_4367': 'inst_77193inst_50408',\n",
       " 'app_6169': 'inst_24921',\n",
       " 'app_1952': 'inst_65301inst_70264inst_24849inst_66582inst_30616inst_20438inst_67560inst_94889inst_74867inst_80470inst_36555inst_62696inst_57928inst_53784inst_77379inst_71948inst_82423inst_32917inst_30180inst_50421inst_19764inst_89922inst_92894inst_51613inst_79471inst_78843inst_57807inst_53935inst_38558inst_21596inst_70079inst_40321inst_85371inst_12799inst_20712inst_56554inst_34904inst_68033inst_81040inst_12543inst_57569inst_12677inst_73369inst_94433inst_18383inst_40785inst_40960inst_13913inst_54518inst_70175inst_90255inst_6404inst_63146inst_42512inst_39989inst_67682inst_13687inst_59023inst_98301inst_60211inst_4539inst_85629inst_30959inst_38364inst_39589inst_98658inst_13480inst_17356inst_87260inst_77907inst_132inst_90983inst_65327inst_91621inst_45326inst_8357inst_98997inst_70964inst_93162inst_32130inst_78096inst_5394inst_28718inst_53793inst_46229inst_68692inst_35380inst_73289inst_49inst_59801inst_60742inst_92775inst_41680inst_82061inst_1901inst_77262inst_30610inst_5810inst_8629inst_3087inst_79703inst_63243inst_10851inst_40144inst_75567inst_39138inst_46757inst_26414inst_87123inst_38103inst_28681inst_10453inst_91460inst_72959inst_53602inst_80451inst_44772inst_95558inst_4523inst_62485inst_51476inst_8118inst_60598inst_29420inst_96868inst_83941inst_26477inst_42393inst_14873inst_73542inst_90736inst_85432inst_56345inst_11948inst_83630inst_14695inst_69040inst_83502inst_96129inst_56654inst_27736inst_24068inst_58079inst_89321inst_64884inst_97339inst_10600inst_26730inst_60169inst_51682inst_10212inst_76552',\n",
       " 'app_6994': 'inst_99022',\n",
       " 'app_3887': 'inst_6634',\n",
       " 'app_2686': 'inst_69078inst_21113',\n",
       " 'app_3062': 'inst_18613inst_44366',\n",
       " 'app_7982': 'inst_77305inst_31403',\n",
       " 'app_1858': 'inst_77540inst_94251inst_89621inst_37193inst_37111inst_47655inst_84221inst_97778inst_86194inst_7872inst_37203inst_61275inst_31869inst_66021inst_73861inst_10076inst_31615inst_12302inst_79535inst_5757inst_48095inst_30787inst_2513inst_38086inst_66806inst_54362inst_13235inst_90218inst_60554inst_12398inst_2846inst_40221inst_85838inst_59377inst_32562inst_60174inst_90003inst_75179inst_53868inst_96503inst_70585inst_71320inst_99749inst_56894inst_17641inst_37031inst_54878inst_59467inst_95923inst_23500inst_50075inst_31095',\n",
       " 'app_7205': 'inst_60064',\n",
       " 'app_3271': 'inst_78289inst_48531inst_92525inst_97604inst_56649inst_17409inst_95054inst_36094inst_64961inst_64036inst_78964inst_79969inst_15025inst_44016inst_48inst_57231inst_75473inst_76517inst_88591inst_4787inst_27015inst_29543inst_41808inst_91251inst_12645inst_17491inst_41528inst_11996inst_76309inst_14438inst_44582inst_89225inst_40116inst_76965inst_8832inst_8854inst_33106inst_54840inst_65565inst_83650inst_33179inst_85205inst_28486inst_38124inst_91846inst_1370',\n",
       " 'app_1148': 'inst_65799inst_26673inst_28919inst_15644inst_41886',\n",
       " 'app_2078': 'inst_28348inst_36999inst_51536inst_73780inst_64483inst_14951inst_22655inst_11540inst_72924',\n",
       " 'app_6110': 'inst_54608inst_16293inst_50066inst_9929inst_22217inst_84199',\n",
       " 'app_2354': 'inst_87890inst_23037inst_17185',\n",
       " 'app_2290': 'inst_48308inst_46570inst_74284inst_78020inst_65321inst_57789inst_51722inst_38304inst_63182inst_38047inst_63989inst_36341inst_74514inst_83106inst_8265inst_50755inst_65977inst_87479inst_40605',\n",
       " 'app_775': 'inst_24991inst_48691',\n",
       " 'app_4970': 'inst_49803',\n",
       " 'app_6198': 'inst_55025',\n",
       " 'app_7771': 'inst_71540inst_84313',\n",
       " 'app_7288': 'inst_48630inst_31628',\n",
       " 'app_1657': 'inst_27144inst_23987inst_36935',\n",
       " 'app_9132': 'inst_33363inst_59489inst_89484inst_58845',\n",
       " 'app_5589': 'inst_81892inst_5210inst_46689inst_45035',\n",
       " 'app_404': 'inst_42537inst_20377',\n",
       " 'app_4192': 'inst_35655inst_8450',\n",
       " 'app_657': 'inst_70933',\n",
       " 'app_144': 'inst_129inst_22085',\n",
       " 'app_1894': 'inst_45411inst_42241',\n",
       " 'app_6678': 'inst_90818inst_31210',\n",
       " 'app_1756': 'inst_78893inst_97316',\n",
       " 'app_1439': 'inst_28967',\n",
       " 'app_6095': 'inst_15432inst_71242inst_27759inst_51039inst_20339inst_32482inst_19481inst_19876inst_87630inst_9386inst_44508inst_10741inst_87797inst_90771inst_83414inst_5937inst_61343',\n",
       " 'app_4826': 'inst_9470inst_77370',\n",
       " 'app_5854': 'inst_69072inst_12102',\n",
       " 'app_6914': 'inst_55435inst_84418inst_8513inst_71365inst_25660',\n",
       " 'app_633': 'inst_18079inst_81881inst_52289inst_7738',\n",
       " 'app_3602': 'inst_12289inst_47760inst_81949',\n",
       " 'app_6339': 'inst_31311',\n",
       " 'app_5075': 'inst_58351',\n",
       " 'app_8388': 'inst_72346inst_4002',\n",
       " 'app_7359': 'inst_17300',\n",
       " 'app_9330': 'inst_92809inst_5781inst_81294inst_54420inst_27190inst_80682inst_77537inst_9979inst_77793inst_63313inst_18695',\n",
       " 'app_6239': 'inst_95215inst_14897inst_73971inst_34463inst_23147inst_14263inst_52771inst_34988inst_21045inst_52106inst_7343inst_17692inst_10111inst_96582inst_84723inst_2375inst_17998',\n",
       " 'app_7431': 'inst_74574',\n",
       " 'app_137': 'inst_43400inst_79533',\n",
       " 'app_1689': 'inst_76525inst_46058',\n",
       " 'app_3349': 'inst_91758inst_25482inst_67844inst_52770inst_71982inst_78707inst_70218inst_98936inst_60789inst_40875inst_38806inst_27799inst_84902inst_73783inst_52862inst_17130inst_99234inst_20452inst_63627inst_14175inst_14920inst_23931inst_9180inst_65572inst_61752inst_8236inst_17523inst_34618inst_75713inst_5377inst_86119inst_11835inst_53281inst_910inst_4107inst_7549inst_4048inst_48220inst_31415inst_14645inst_61065inst_99146inst_42937inst_88305inst_42785inst_94835inst_94180inst_48731inst_41561inst_56760inst_45400inst_38265inst_48490inst_32857inst_96215inst_6741inst_54689inst_55818inst_7684inst_39950inst_32042inst_84957inst_80761inst_53660inst_42386inst_97229inst_961inst_11593inst_26864inst_39758inst_51169inst_89135inst_81194inst_2065inst_64717inst_45544inst_670inst_2038inst_84182inst_22413inst_53008inst_61391inst_57419inst_14837inst_80586inst_71537inst_84923inst_87506inst_32203inst_22031inst_73531inst_1129inst_94266inst_42868inst_24494inst_42597inst_21498inst_92399inst_3019inst_63985inst_10266inst_97087inst_71019inst_46447inst_84793inst_40899inst_38544inst_37525inst_1150inst_56770inst_67365inst_114inst_28445inst_9655inst_53355inst_91164',\n",
       " 'app_3066': 'inst_46611inst_17814inst_24458inst_42483inst_5417inst_32653inst_20827inst_37683inst_12638inst_64531inst_93395inst_44483inst_54657',\n",
       " 'app_4769': 'inst_54182',\n",
       " 'app_2650': 'inst_61548inst_25248inst_87679',\n",
       " 'app_6107': 'inst_71933',\n",
       " 'app_1743': 'inst_65906inst_43556',\n",
       " 'app_3468': 'inst_80688inst_90181inst_27000inst_50552',\n",
       " 'app_7149': 'inst_72177',\n",
       " 'app_8417': 'inst_77456inst_82336inst_32122inst_14285inst_28517inst_6308inst_37049inst_11342inst_44052inst_49310inst_79912inst_8869inst_23934inst_44027',\n",
       " 'app_4558': 'inst_36612inst_28777inst_53115inst_6160inst_57085inst_89840inst_30683inst_98763inst_9085inst_45495inst_77801inst_34078inst_48623inst_17746inst_58337inst_54789inst_75135inst_86501inst_83098inst_3055inst_50309inst_6178inst_45381inst_41215inst_70691inst_43279inst_52345inst_53940inst_84390inst_82986inst_4090inst_13527inst_29216inst_33638inst_42774inst_33742inst_55271inst_68245inst_57464inst_10716inst_88877',\n",
       " 'app_8913': 'inst_41161',\n",
       " 'app_2339': 'inst_35717',\n",
       " 'app_6892': 'inst_33011inst_36701inst_86292inst_19273',\n",
       " 'app_6346': 'inst_26497',\n",
       " 'app_1730': 'inst_64383inst_68349inst_87634inst_89629',\n",
       " 'app_671': 'inst_63306inst_11292',\n",
       " 'app_950': 'inst_92429inst_48239',\n",
       " 'app_6356': 'inst_88612',\n",
       " 'app_737': 'inst_40058inst_5686inst_51694inst_38808inst_81354inst_59097inst_48657inst_71349inst_22348inst_29281',\n",
       " 'app_7542': 'inst_22955inst_41660',\n",
       " 'app_4399': 'inst_54671',\n",
       " 'app_7304': 'inst_4054inst_46028inst_4296inst_63885inst_6790inst_18942inst_48134inst_38764inst_3031inst_21402inst_30776inst_59014inst_25525inst_4876inst_31036inst_63356inst_48023',\n",
       " 'app_8366': 'inst_50979inst_77532inst_93691inst_97876',\n",
       " 'app_2203': 'inst_21589',\n",
       " 'app_4703': 'inst_77974inst_40690',\n",
       " 'app_3994': 'inst_15493inst_81272inst_73478inst_89596inst_84648inst_83189inst_1328inst_38861inst_83461inst_8502inst_70877inst_38270inst_95517inst_85562inst_7245inst_45167inst_43526inst_35361inst_65492inst_41864inst_95388inst_83417inst_41439inst_56575inst_84590inst_26194inst_35348inst_13165inst_53097inst_94776inst_68137inst_84594inst_93728inst_48892inst_26187inst_18130inst_97113inst_66522inst_57396inst_32133inst_91317inst_2309inst_62568inst_88091inst_17541inst_2911inst_77568inst_42562inst_68661inst_44467inst_90918inst_42257inst_19414inst_95649inst_89055inst_3286inst_232inst_1997inst_62590inst_80141inst_25358inst_89455inst_75381inst_23374inst_14449inst_63207inst_27317inst_11968inst_58977inst_36482inst_13827inst_88448inst_92631inst_17016inst_30271inst_67622inst_1427inst_49808inst_30113inst_93773inst_47172inst_6455inst_18067inst_21226inst_42979inst_56683inst_96574inst_26289inst_69184inst_2026inst_46904inst_33965inst_73779inst_88017inst_26955inst_48812inst_82759inst_76413inst_82651inst_15883inst_72593inst_1389inst_15318inst_91470inst_52351inst_54777inst_2212inst_87358inst_57035inst_20028inst_76911inst_34590inst_1538inst_6852inst_33366inst_75598inst_80555inst_13034inst_99418inst_94228inst_1957inst_49767inst_9679inst_34442inst_93161inst_59387inst_56188inst_38584inst_75307inst_6028inst_99507inst_55893inst_68918inst_15715inst_10594inst_58575inst_3768inst_64116inst_10154inst_66097inst_77650inst_14297inst_56421inst_82481inst_73682inst_64937inst_79625inst_70202inst_65334inst_8441inst_86841inst_42993inst_982inst_96510inst_17849inst_41550inst_63548inst_66302inst_40908inst_40419inst_62487inst_33078inst_45881inst_54797inst_32574inst_83890inst_76417inst_13197inst_70856inst_24187inst_74659inst_7251inst_21280inst_92214inst_89525inst_6828inst_61127inst_58029inst_32869inst_40155inst_92151inst_22677inst_71329inst_17251inst_98584inst_1711inst_30419inst_27462inst_60022inst_38409inst_22849inst_13072inst_26234inst_9203inst_74506inst_54739inst_76434inst_81093inst_22006inst_89142inst_84568inst_14466inst_94683inst_64172inst_22746inst_16843inst_73092inst_59321inst_84750inst_49146inst_7528',\n",
       " 'app_3643': 'inst_11945inst_4430inst_41759',\n",
       " 'app_221': 'inst_76479',\n",
       " 'app_5370': 'inst_50279inst_19339inst_30761',\n",
       " 'app_877': 'inst_41560inst_42185inst_2448inst_46369inst_5148',\n",
       " 'app_7333': 'inst_45003inst_12093inst_57759inst_99394inst_57662inst_38185inst_99027inst_38425inst_59424inst_64815inst_28952inst_97396',\n",
       " 'app_4905': 'inst_10894',\n",
       " 'app_119': 'inst_77771',\n",
       " 'app_3438': 'inst_53799',\n",
       " 'app_4370': 'inst_2698inst_87371inst_93860',\n",
       " 'app_8454': 'inst_51145inst_83399inst_12111',\n",
       " 'app_1417': 'inst_44128',\n",
       " 'app_6970': 'inst_70679inst_14845inst_91404',\n",
       " 'app_6411': 'inst_72958inst_59840',\n",
       " 'app_6850': 'inst_2727inst_64401',\n",
       " 'app_2419': 'inst_61109inst_74685',\n",
       " 'app_7171': 'inst_65076inst_32387',\n",
       " 'app_7959': 'inst_95313inst_59311inst_55223inst_69596inst_67483inst_95904inst_15261',\n",
       " 'app_2357': 'inst_23270inst_87520',\n",
       " 'app_5431': 'inst_25804',\n",
       " 'app_2706': 'inst_59687inst_4859',\n",
       " 'app_7235': 'inst_80699',\n",
       " 'app_7912': 'inst_29776',\n",
       " 'app_3283': 'inst_48834inst_97634inst_64128inst_42591inst_29834inst_30621inst_79981inst_97949inst_15910inst_87560inst_50187inst_82832inst_98796inst_82844inst_33385inst_46079inst_31792inst_43497inst_12029inst_92825inst_59889inst_95423inst_83576inst_19713inst_35074inst_63213inst_43812inst_3371inst_3986inst_10782inst_56312inst_74423inst_49834inst_11625inst_32404inst_99693inst_61704inst_75620inst_7239inst_34944inst_51965inst_93317inst_42637inst_55660inst_4912inst_13106inst_33125inst_40614inst_25671inst_68347inst_775inst_85498inst_22761inst_1658inst_21970inst_37563inst_74262inst_32626inst_86781inst_38352inst_32613inst_2886inst_92376inst_71660inst_34511inst_4925inst_17514inst_73159inst_63895inst_11712inst_58240inst_85417inst_31067inst_72577inst_24531inst_49081inst_60488inst_98944inst_19967inst_37296inst_5902inst_97882inst_43797inst_50812inst_94272inst_29019inst_36052inst_13201inst_63791inst_71142inst_9976inst_82748inst_65677inst_20813inst_13997inst_92021inst_43847inst_21298inst_8419inst_76946inst_7714inst_84083inst_47808inst_60914inst_15332inst_30913inst_74123inst_64545inst_89638inst_91461inst_9174inst_98794inst_95484inst_56910inst_94728inst_42809inst_44688inst_78871inst_32739inst_65003inst_29723inst_81962inst_94408inst_19504inst_85053inst_50189inst_16884inst_81917inst_855inst_44581inst_69373inst_88446inst_59493inst_31224inst_78585inst_22729inst_61517inst_22004inst_11592inst_34476inst_23969inst_53139inst_12789inst_16195inst_36649inst_75301inst_12136inst_96178inst_8341inst_40108inst_49360inst_1196inst_25052inst_63344inst_81777inst_45300inst_90636inst_16242inst_52468inst_99177inst_90300inst_30679inst_57259inst_12962inst_7487inst_4017inst_49636inst_92847inst_58763inst_17764inst_10943inst_17759inst_9436inst_74769inst_35950inst_63094inst_64194inst_10919inst_22090inst_13060inst_40753inst_28261inst_25816inst_35802inst_25678inst_63872inst_16565inst_30663inst_96228inst_27900inst_14102inst_22572inst_77386inst_63103inst_22183inst_57640inst_76376inst_94573inst_77399inst_51229inst_70683inst_91209inst_76487inst_70154inst_6922inst_69043inst_97272inst_82731inst_12423inst_8624inst_79415inst_75362inst_13642inst_53861inst_43395inst_62174inst_20614inst_70513inst_88298inst_95399inst_76261inst_87480inst_68710inst_93044inst_61863inst_70904inst_70136inst_40264inst_70500inst_85204inst_52283inst_41177inst_69121inst_67089inst_97427inst_31408inst_50337inst_6268inst_1804inst_24639',\n",
       " 'app_3903': 'inst_51517inst_75424',\n",
       " 'app_7095': 'inst_13965inst_72609inst_16347',\n",
       " 'app_8870': 'inst_79115inst_4566',\n",
       " 'app_4784': 'inst_47937inst_81739',\n",
       " 'app_3427': 'inst_34627inst_89485inst_28316inst_63665inst_33196inst_30386inst_50551',\n",
       " 'app_5306': 'inst_68407inst_1025inst_33343inst_65021inst_28370',\n",
       " 'app_8798': 'inst_31322inst_12546inst_69045',\n",
       " 'app_7481': 'inst_75666inst_90725inst_7101inst_14763inst_93782inst_31844inst_51626',\n",
       " 'app_1452': 'inst_30552inst_21414inst_52749',\n",
       " 'app_4718': 'inst_81133inst_66385inst_47741inst_35619inst_88380inst_22502inst_79790inst_5285inst_5940inst_44628inst_81309inst_82494inst_98489inst_92998inst_73295inst_91549inst_52657inst_45974inst_58899inst_83739inst_26837inst_82714inst_70607inst_61678inst_75365inst_38892inst_88639inst_65879inst_83887inst_88230inst_41269inst_74288inst_70305inst_84420inst_72347inst_37251inst_62685inst_54279inst_18492inst_40476inst_15457inst_93088inst_58864inst_49082inst_89683inst_64853inst_95919inst_87770inst_12471inst_83677inst_64610inst_84043inst_85165inst_94516inst_90506inst_93701inst_30658',\n",
       " 'app_5799': 'inst_50594',\n",
       " 'app_711': 'inst_2761inst_12069',\n",
       " 'app_6628': 'inst_26816inst_26274inst_25802inst_9610inst_44080inst_71333inst_28026inst_46252inst_27762inst_22259inst_68854inst_21203inst_81021inst_80232inst_69936inst_65822inst_20525inst_78042inst_99696inst_9644inst_40514',\n",
       " 'app_2019': 'inst_22114inst_36731inst_73277inst_99408inst_75702inst_71132inst_87023inst_35824inst_27761inst_10251inst_34816inst_76712inst_84508inst_41626inst_75891inst_11113inst_1828inst_37314inst_45597inst_4821inst_33435inst_79731inst_56038inst_28074inst_66176inst_66764inst_36990inst_8469inst_63107inst_31227inst_96072inst_88295inst_80543inst_96439inst_65604inst_93751inst_99221inst_85406inst_86756inst_83481inst_51235inst_33679inst_73548inst_14929inst_21562inst_26040inst_9084inst_8571inst_15817inst_36722inst_13055inst_62773inst_10314inst_52946inst_47934inst_10394inst_46780inst_6900inst_379inst_61619',\n",
       " 'app_1626': 'inst_90500',\n",
       " 'app_6086': 'inst_58524inst_93599',\n",
       " 'app_8014': 'inst_76599inst_9612inst_33673inst_62758inst_80271inst_70134inst_39839inst_42423inst_33944inst_689',\n",
       " 'app_8190': 'inst_91160inst_57424',\n",
       " 'app_5892': 'inst_97996',\n",
       " 'app_5269': 'inst_27972inst_43059inst_82735inst_90875',\n",
       " 'app_6306': 'inst_85862inst_93569inst_1138inst_98605inst_46259inst_98628inst_15285inst_48502',\n",
       " 'app_2462': 'inst_41480inst_4088inst_45843inst_76582inst_14313',\n",
       " 'app_1530': 'inst_96562inst_370inst_66257inst_68377inst_65880inst_67493inst_83086inst_30077inst_83101inst_89276',\n",
       " 'app_8391': 'inst_56002inst_98488inst_48056',\n",
       " 'app_1252': 'inst_80452inst_33230',\n",
       " 'app_7087': 'inst_5696inst_5005inst_21955inst_70212inst_70510inst_12888inst_44360inst_82820inst_48072inst_56764inst_39717inst_98835inst_2126inst_22705inst_71637inst_42789inst_36926inst_47730inst_44272inst_74744inst_93109inst_41143inst_17206inst_35172inst_57822',\n",
       " 'app_3817': 'inst_46781inst_77332',\n",
       " 'app_4368': 'inst_97817inst_13138',\n",
       " 'app_8408': 'inst_20454inst_81484inst_32213inst_24160',\n",
       " 'app_4755': 'inst_40788',\n",
       " 'app_939': 'inst_34494',\n",
       " 'app_1298': 'inst_69833inst_46404inst_66215inst_99615inst_38710inst_91257inst_96196inst_34032inst_88558inst_71636inst_15892inst_45977inst_37864inst_20751inst_24632inst_53947inst_59284inst_82823inst_87902inst_67754inst_21530inst_45911inst_7014inst_73096inst_44503inst_75124inst_62854',\n",
       " 'app_5428': 'inst_41401',\n",
       " 'app_7255': 'inst_11224inst_76080inst_6670inst_30647inst_91511inst_46656inst_3515inst_327inst_7345inst_56200inst_55696inst_85649inst_1610inst_46555inst_71817inst_53760inst_81818inst_7766inst_90651inst_98727inst_11647inst_40357inst_20024inst_57541inst_63549inst_22434inst_90293inst_39713inst_4943inst_12376inst_92834inst_49185inst_14843inst_25444inst_58860inst_68725inst_34963inst_27308inst_62782inst_47624inst_31533inst_6478inst_33336inst_33759inst_19213',\n",
       " 'app_6801': 'inst_37825inst_36218inst_71842',\n",
       " 'app_6516': 'inst_22557inst_63152',\n",
       " 'app_479': 'inst_76284inst_41078',\n",
       " 'app_7956': 'inst_65696inst_66300inst_44326inst_54791inst_15765inst_258',\n",
       " 'app_4535': 'inst_54824inst_40969',\n",
       " 'app_4922': 'inst_33798',\n",
       " 'app_4303': 'inst_92306',\n",
       " 'app_1598': 'inst_81445inst_54637',\n",
       " 'app_843': 'inst_49071',\n",
       " 'app_5387': 'inst_16564inst_84324inst_30301',\n",
       " 'app_5394': 'inst_81634inst_37136inst_17011inst_90808inst_23964inst_60066inst_52561inst_81580inst_39819inst_8340inst_78702inst_77214inst_1466inst_70993inst_32180inst_30755inst_19168inst_69790inst_6697',\n",
       " 'app_4107': 'inst_44390inst_87837inst_50576inst_35736inst_52137',\n",
       " 'app_1058': 'inst_72721',\n",
       " 'app_7595': 'inst_35075',\n",
       " 'app_3386': 'inst_9469inst_28860',\n",
       " 'app_4964': 'inst_58168',\n",
       " 'app_8612': 'inst_44223inst_6649',\n",
       " 'app_7069': 'inst_1843',\n",
       " 'app_136': 'inst_23230',\n",
       " 'app_5824': 'inst_40195inst_31252',\n",
       " 'app_1703': 'inst_6218inst_71041inst_99778inst_28025inst_6558inst_92081inst_15447inst_33271inst_44626inst_47463inst_86779inst_30436inst_81237inst_98847inst_88338inst_36584inst_49426inst_48891inst_40935inst_24990inst_18536',\n",
       " 'app_1346': 'inst_14505inst_21756inst_26468',\n",
       " 'app_7135': 'inst_99152',\n",
       " 'app_5652': 'inst_81810inst_99805',\n",
       " 'app_7672': 'inst_49744inst_90491',\n",
       " 'app_5705': 'inst_6593inst_51411inst_37751inst_52548inst_78268inst_29106inst_94631inst_14289inst_25046inst_89984inst_67652inst_95992inst_71108inst_40488inst_89554inst_99060inst_5552inst_54085inst_85434inst_38601inst_89402inst_46097inst_34863inst_91997inst_97548inst_7979inst_34101inst_62577inst_57202inst_77159inst_34447inst_85391inst_33505inst_8277inst_36104inst_10647inst_32974inst_96162inst_52569inst_5556inst_682inst_8650inst_63361inst_30069inst_76448inst_1622inst_12126inst_60120inst_40394inst_37395inst_13933inst_8620inst_63307inst_75292inst_16872inst_36006inst_44784inst_27749inst_43301',\n",
       " 'app_3546': 'inst_33354inst_10422',\n",
       " 'app_9217': 'inst_47009',\n",
       " 'app_1150': 'inst_4192inst_14540inst_58645inst_36533',\n",
       " 'app_3883': 'inst_33347',\n",
       " 'app_8603': 'inst_6452',\n",
       " 'app_6721': 'inst_32248inst_36553',\n",
       " 'app_3884': 'inst_94086inst_24913',\n",
       " 'app_6242': 'inst_53007',\n",
       " 'app_6494': 'inst_41299inst_55179inst_3412',\n",
       " 'app_3637': 'inst_56962inst_76384inst_60872inst_97350inst_58040inst_93785inst_56196inst_30916inst_85959inst_124inst_84934inst_33471inst_1089inst_40353inst_1689inst_18832inst_6224inst_8815inst_38576inst_53866inst_63947inst_70892inst_58547inst_47941inst_6039inst_84393inst_51168inst_74807inst_88058inst_63820inst_63283inst_28391inst_26963inst_93464inst_53477inst_26064inst_81189inst_8270inst_92242inst_72656inst_32577inst_9519inst_85888inst_28382inst_25646inst_42119inst_72710inst_52791inst_95448inst_53606inst_97796inst_42709inst_18423inst_85992inst_50320inst_7617inst_8324inst_78427inst_76617inst_96596inst_61821inst_22686inst_76982inst_49002inst_20404inst_50265inst_54855inst_53117inst_46376inst_16543inst_3445inst_61436inst_81287inst_86467inst_52421inst_10089inst_98495inst_8508inst_59895inst_67026inst_61641inst_69309inst_15957inst_44297inst_35665inst_40148inst_13894inst_59991inst_2363inst_2768inst_60878inst_1536inst_81951inst_8880inst_54861inst_22899inst_96961inst_45842inst_65956inst_35902inst_79405inst_4896inst_85488inst_31193inst_28589inst_32238inst_18276inst_31120inst_15214inst_30553inst_60890inst_66372inst_29439inst_43576inst_67538inst_2371inst_73248inst_92522inst_90033inst_52113inst_53755inst_48061inst_32182inst_11999inst_55610inst_72505inst_71313inst_33642inst_52587inst_18985inst_44615inst_50742inst_22347inst_15648inst_26603inst_49551inst_50577inst_74209inst_77149inst_75256inst_27046inst_61311inst_75271inst_48232inst_31165inst_72928inst_45279inst_85427inst_96204inst_71052',\n",
       " 'app_893': 'inst_3318',\n",
       " 'app_237': 'inst_25503',\n",
       " 'app_14': 'inst_60505inst_35200inst_82571',\n",
       " 'app_5600': 'inst_22876inst_8184inst_17464inst_1180inst_19461',\n",
       " 'app_1926': 'inst_80279',\n",
       " 'app_7218': 'inst_70324',\n",
       " 'app_6453': 'inst_76764',\n",
       " 'app_3594': 'inst_44399inst_61911',\n",
       " 'app_4340': 'inst_57108inst_3586',\n",
       " 'app_7268': 'inst_36528inst_30405inst_63970inst_9999inst_35493inst_66281inst_16605inst_57750inst_15269inst_45644inst_14489inst_29018inst_22426inst_18288',\n",
       " 'app_6298': 'inst_7545inst_59463',\n",
       " 'app_3064': 'inst_88470',\n",
       " 'app_2460': 'inst_63426inst_7450inst_82057inst_18935inst_35809',\n",
       " 'app_7891': 'inst_85300inst_551inst_64645',\n",
       " 'app_8508': 'inst_74640',\n",
       " 'app_214': 'inst_25844',\n",
       " 'app_1399': 'inst_6798inst_91492',\n",
       " 'app_6811': 'inst_74909',\n",
       " 'app_1498': 'inst_31655inst_13915',\n",
       " 'app_5648': 'inst_2606inst_35516',\n",
       " 'app_1821': 'inst_63025inst_15550inst_20686inst_39399inst_88667inst_22228inst_42991inst_95200inst_58096inst_67855inst_41162inst_53950',\n",
       " 'app_2790': 'inst_58739inst_97183',\n",
       " 'app_8023': 'inst_52952inst_47216inst_98353',\n",
       " 'app_4939': 'inst_68354inst_79764inst_18885inst_40958inst_19908inst_33940inst_89606inst_74189inst_87069inst_33830inst_49317inst_21361inst_90561inst_30945inst_38972inst_64804inst_84160inst_86662',\n",
       " 'app_1828': 'inst_16781inst_6281',\n",
       " 'app_238': 'inst_77013inst_76916inst_73050inst_81345inst_4353inst_55176inst_39204inst_66545inst_3268inst_27126inst_28539inst_42609inst_59945inst_85936inst_62982inst_61787inst_95516inst_18184inst_65125inst_21521inst_7629inst_59453inst_3770inst_94789inst_47658inst_45090inst_97880inst_83466inst_79662inst_8160inst_20669inst_95534inst_92213inst_48926inst_29117inst_89179inst_31323',\n",
       " 'app_6980': 'inst_85125',\n",
       " 'app_1811': 'inst_25803',\n",
       " 'app_5043': 'inst_83287inst_77677',\n",
       " 'app_2573': 'inst_25125inst_36600',\n",
       " 'app_1568': 'inst_99802',\n",
       " 'app_2177': 'inst_3816',\n",
       " 'app_1064': 'inst_87317',\n",
       " 'app_3897': 'inst_53561',\n",
       " 'app_336': 'inst_71130inst_14804',\n",
       " 'app_1022': 'inst_5180inst_44104',\n",
       " 'app_33': 'inst_51651',\n",
       " 'app_1877': 'inst_90740inst_25138inst_53492inst_50403',\n",
       " 'app_3123': 'inst_39320inst_44795',\n",
       " 'app_6025': 'inst_8865inst_26295inst_98478inst_5839inst_40054inst_26502inst_23027inst_59567inst_62836inst_26904inst_98853inst_67537inst_22497inst_9135inst_85472inst_29045inst_36902inst_99049inst_38280',\n",
       " 'app_1278': 'inst_35325inst_8801inst_14930inst_13840inst_93012inst_50455',\n",
       " 'app_1451': 'inst_22751',\n",
       " 'app_4671': 'inst_47010inst_30083inst_65066inst_11524inst_17845inst_94334inst_87933inst_64277inst_96425inst_14206inst_66179inst_88443',\n",
       " 'app_7036': 'inst_24811inst_8685',\n",
       " 'app_8684': 'inst_23714inst_32519inst_96164inst_667inst_66730inst_56021inst_41998inst_11820inst_31464inst_48924inst_66341inst_97086inst_69430',\n",
       " 'app_2969': 'inst_98026inst_57837inst_65662',\n",
       " 'app_6652': 'inst_3943inst_44639',\n",
       " 'app_7795': 'inst_55553inst_88777inst_22065',\n",
       " 'app_8959': 'inst_69876inst_75932',\n",
       " 'app_4619': 'inst_71250inst_80223inst_76161inst_69593inst_72868inst_19635inst_15785inst_21898inst_90689inst_70790',\n",
       " 'app_5348': 'inst_27738inst_62361',\n",
       " 'app_59': 'inst_92143',\n",
       " 'app_7748': 'inst_11629inst_41396',\n",
       " 'app_4783': 'inst_9128inst_17308',\n",
       " 'app_1246': 'inst_59392',\n",
       " 'app_3628': 'inst_2978inst_71965inst_64181inst_74965inst_20693inst_68842inst_46145inst_8172inst_8804inst_56164inst_38775inst_35696inst_61866inst_75112inst_54503inst_66991inst_60911inst_77767inst_57031inst_68946inst_14084inst_19675inst_35979inst_93246inst_42165inst_66585inst_82150inst_37429inst_15794inst_66269inst_50202inst_71020inst_31745inst_87032inst_85327inst_86422inst_87824inst_4678inst_39035inst_48043inst_299inst_3365inst_18959inst_43838inst_1462inst_21577inst_71150inst_85878inst_80514inst_47568inst_17727inst_64525inst_89157inst_36755inst_9545',\n",
       " 'app_7092': 'inst_72353inst_33805inst_1938inst_93033inst_21070inst_1909',\n",
       " 'app_471': 'inst_32955',\n",
       " 'app_6485': 'inst_78570inst_14876inst_8664',\n",
       " 'app_7266': 'inst_64400inst_78894inst_68281inst_94097inst_36394inst_53103inst_25614inst_89252inst_64222inst_54434',\n",
       " 'app_2056': 'inst_18509',\n",
       " 'app_7951': 'inst_3879inst_91583',\n",
       " 'app_1534': 'inst_40239inst_44089',\n",
       " 'app_7679': 'inst_26333inst_88359inst_94131inst_55188',\n",
       " 'app_4979': 'inst_72727inst_32422',\n",
       " 'app_4164': 'inst_2422inst_7762inst_72504inst_79800',\n",
       " 'app_2888': 'inst_68693inst_35510',\n",
       " 'app_291': 'inst_84104',\n",
       " 'app_7174': 'inst_13943inst_93363inst_17912inst_46854',\n",
       " 'app_1177': 'inst_43570',\n",
       " 'app_1292': 'inst_67486inst_19153inst_38898inst_835',\n",
       " 'app_1787': 'inst_16584inst_55097',\n",
       " 'app_805': 'inst_58008',\n",
       " 'app_861': 'inst_62998inst_18032inst_48241',\n",
       " 'app_4073': 'inst_72759',\n",
       " 'app_4748': 'inst_50943inst_7347inst_66279inst_65355',\n",
       " 'app_8158': 'inst_17940inst_26919',\n",
       " 'app_3598': 'inst_56439inst_79479',\n",
       " 'app_3760': 'inst_51637',\n",
       " 'app_6535': 'inst_12946',\n",
       " 'app_626': 'inst_41610inst_13614inst_57372inst_67256inst_17269inst_61820inst_73378inst_76085inst_60387inst_30278inst_75747inst_87000inst_98333inst_97891inst_22472inst_90115inst_3151inst_36119inst_3337inst_78013inst_60212inst_44335inst_39123inst_77253inst_20548inst_93606inst_42835inst_27390inst_33836inst_30438inst_44605inst_25679inst_58193inst_12486inst_27025inst_69727inst_20565inst_79269inst_11605inst_22683inst_62645inst_95424inst_94200inst_62962inst_31633inst_19914inst_86678inst_67224inst_92293inst_58764inst_59274inst_34664inst_18003inst_65686inst_66089inst_95576inst_71324inst_62574inst_31501inst_53727inst_59228inst_81604inst_93940inst_37487inst_92793inst_88648inst_79585inst_76862inst_23473inst_15517inst_54869inst_3263inst_46366inst_55612inst_92294inst_78477inst_47616inst_72773inst_73828inst_95195inst_25753inst_99439inst_60723inst_98397inst_23480inst_59056inst_69422inst_12094inst_83959inst_22740inst_91032inst_1981inst_34646inst_34052inst_39891inst_32615inst_39633inst_97975inst_32492inst_99348',\n",
       " 'app_784': 'inst_6431',\n",
       " 'app_2245': 'inst_91150inst_68424inst_87695',\n",
       " 'app_3075': 'inst_3588inst_98612',\n",
       " 'app_2899': 'inst_42339inst_60614inst_44867inst_85501inst_61179',\n",
       " 'app_1666': 'inst_91157',\n",
       " 'app_1035': 'inst_46961',\n",
       " 'app_1863': 'inst_42819inst_75811inst_24101inst_53461inst_62474inst_75310inst_7145inst_128inst_60006inst_96585inst_47247inst_42062inst_80596inst_17067inst_34187inst_57603inst_22978inst_62582inst_30031inst_77377inst_44422inst_75172inst_63510inst_13689inst_14465inst_53817inst_58165inst_51847inst_74102inst_32050inst_397inst_34071inst_1750inst_41325inst_5215inst_46547inst_80577inst_67140inst_42028inst_66181inst_28232inst_98207inst_6771inst_71721inst_95619inst_7912inst_56346inst_66574inst_47054inst_65391inst_60862inst_64897inst_72708inst_77012inst_34440inst_61485inst_21076inst_2508inst_8840inst_22789',\n",
       " 'app_1758': 'inst_3177inst_24134inst_5438inst_44001inst_44356inst_9191inst_69590inst_10660inst_97731inst_45566inst_97826',\n",
       " 'app_1635': 'inst_74110inst_98240inst_22034inst_63851inst_79411inst_95278inst_56697inst_27289inst_31940inst_39375inst_11584inst_18999inst_69135inst_80462inst_31213inst_41831inst_29355inst_93811inst_69523inst_5099inst_45142inst_61123inst_95168inst_65302inst_25267inst_43139inst_82622inst_12170inst_83974inst_68132inst_80068inst_50342inst_70293inst_480inst_67310inst_66345inst_35716inst_38390inst_49907inst_85091inst_25932inst_65447inst_30934inst_8821inst_69549inst_68795inst_63986inst_34740inst_47795inst_25644inst_46322inst_82861',\n",
       " 'app_6904': 'inst_43613inst_85410',\n",
       " 'app_4122': 'inst_80127inst_49112inst_48795inst_26995inst_30972inst_56485inst_88070',\n",
       " 'app_8066': 'inst_29227',\n",
       " 'app_6019': 'inst_13621inst_34421',\n",
       " 'app_8447': 'inst_95870',\n",
       " 'app_6020': 'inst_55059inst_39946inst_92132inst_47393inst_11840inst_97974inst_41974inst_30037inst_80421inst_28826inst_85655inst_11503inst_48148inst_56964inst_76233inst_31081inst_17493inst_68440inst_58315inst_93755inst_62122inst_77988inst_17226inst_28340inst_34260inst_93934inst_84617inst_190inst_66286inst_17604inst_16171',\n",
       " 'app_1236': 'inst_17097inst_90324',\n",
       " 'app_2362': 'inst_46739',\n",
       " 'app_6852': 'inst_81597inst_24818',\n",
       " 'app_4272': 'inst_62304inst_88513',\n",
       " 'app_4722': 'inst_16304',\n",
       " 'app_7373': 'inst_91681inst_7152',\n",
       " 'app_186': 'inst_39936inst_51660',\n",
       " 'app_6476': 'inst_18331',\n",
       " 'app_8055': 'inst_58874inst_89431',\n",
       " 'app_587': 'inst_45346',\n",
       " 'app_4612': 'inst_67737',\n",
       " 'app_963': 'inst_41208inst_86840inst_71260inst_93442inst_46413inst_64576inst_92098inst_92149inst_47228inst_90852inst_87819inst_85680inst_35464inst_5255inst_61007inst_69548inst_19066inst_70837',\n",
       " 'app_7812': 'inst_80121inst_15093',\n",
       " 'app_6755': 'inst_17066inst_35588',\n",
       " 'app_6348': 'inst_59053inst_19155',\n",
       " 'app_8392': 'inst_32231inst_14021inst_85769inst_42091inst_29237inst_18051inst_45678inst_77921inst_38497inst_834inst_64488inst_69099inst_97690inst_84175inst_71554inst_57763inst_49248inst_3270inst_89364inst_24436inst_34913inst_92161',\n",
       " 'app_8658': 'inst_16130',\n",
       " 'app_8939': 'inst_57950inst_89672inst_94083',\n",
       " 'app_5200': 'inst_26903inst_26137inst_9507',\n",
       " 'app_8049': 'inst_61111inst_81674inst_32567',\n",
       " 'app_6409': 'inst_68219inst_40521inst_45650inst_2929inst_75353inst_40513inst_40931inst_73394inst_32757inst_68655',\n",
       " 'app_2493': 'inst_85521inst_18517inst_47061inst_29792inst_60046inst_29375inst_16610inst_56295inst_22869inst_67339',\n",
       " 'app_3533': 'inst_14615',\n",
       " 'app_5976': 'inst_14755inst_58671',\n",
       " 'app_3383': 'inst_34611inst_39014inst_6866inst_34548',\n",
       " 'app_820': 'inst_13195inst_95593',\n",
       " 'app_3789': 'inst_82594',\n",
       " 'app_6006': 'inst_9479inst_53208',\n",
       " 'app_334': 'inst_69214inst_77228',\n",
       " 'app_4515': 'inst_5898',\n",
       " 'app_4567': 'inst_24843',\n",
       " 'app_7137': 'inst_91062inst_89919',\n",
       " 'app_5341': 'inst_44636inst_41706inst_42024inst_76412',\n",
       " 'app_4121': 'inst_2333inst_72185inst_60967',\n",
       " 'app_6556': 'inst_70002',\n",
       " 'app_7791': 'inst_7665',\n",
       " 'app_4054': 'inst_73553inst_81269',\n",
       " 'app_5272': 'inst_35101inst_26310inst_78787',\n",
       " 'app_5813': 'inst_80882inst_82746',\n",
       " 'app_1565': 'inst_18100inst_28300inst_42877inst_39109inst_50891inst_62867inst_82508inst_14793',\n",
       " 'app_6649': 'inst_32954',\n",
       " 'app_8150': 'inst_69829inst_44425',\n",
       " 'app_4899': 'inst_18275',\n",
       " 'app_3159': 'inst_19910',\n",
       " 'app_3412': 'inst_43098',\n",
       " 'app_6225': 'inst_95305inst_78243',\n",
       " 'app_8255': 'inst_92381inst_60548',\n",
       " 'app_4676': 'inst_54939inst_83276',\n",
       " 'app_1223': 'inst_41599',\n",
       " 'app_8047': 'inst_96901inst_56048',\n",
       " 'app_7870': 'inst_35222inst_58865inst_78920inst_72460',\n",
       " 'app_5217': 'inst_85654inst_46942inst_71101inst_18496inst_89081inst_88967inst_24439inst_88453inst_52913inst_29457inst_20307inst_39776inst_31529inst_36869inst_36330inst_18607inst_6546inst_63364inst_87714inst_47971inst_76598inst_75787inst_54292inst_67324inst_83586inst_28305inst_43375inst_82700',\n",
       " 'app_6529': 'inst_23513',\n",
       " 'app_4093': 'inst_32233',\n",
       " 'app_919': 'inst_86535',\n",
       " 'app_8768': 'inst_24610',\n",
       " 'app_6486': 'inst_57679inst_57inst_77091inst_16122inst_43654inst_43295inst_41336inst_28442inst_17683inst_1163inst_41268inst_26740inst_46505inst_9710inst_29455',\n",
       " 'app_1899': 'inst_75601inst_88400inst_12263inst_37107inst_41882inst_58384',\n",
       " 'app_538': 'inst_15536inst_43064',\n",
       " 'app_2950': 'inst_93264',\n",
       " 'app_2388': 'inst_83836',\n",
       " 'app_7977': 'inst_98149inst_63736',\n",
       " 'app_1963': 'inst_43032',\n",
       " 'app_7018': 'inst_20116inst_48263',\n",
       " 'app_7230': 'inst_92867inst_81028',\n",
       " 'app_5542': 'inst_1239',\n",
       " 'app_8895': 'inst_87889',\n",
       " 'app_169': 'inst_23682inst_87214inst_23904inst_92800inst_39671inst_6449',\n",
       " 'app_8769': 'inst_64165',\n",
       " 'app_3014': 'inst_67673inst_2008',\n",
       " 'app_2069': 'inst_54601',\n",
       " 'app_3958': 'inst_76769inst_47774',\n",
       " 'app_637': 'inst_20264',\n",
       " 'app_752': 'inst_79143inst_20131',\n",
       " 'app_2535': 'inst_50209inst_15717',\n",
       " 'app_1998': 'inst_92640inst_4158inst_45505inst_66130inst_49665inst_24149inst_60431inst_68991inst_34002inst_57871inst_11857inst_67848inst_78930inst_30166inst_28852inst_72853inst_38410inst_2559inst_98158inst_8950inst_63311inst_45195inst_54667inst_962inst_58440inst_18872inst_20892inst_82671inst_34072inst_20534inst_73521inst_62992inst_4996inst_25999inst_49327inst_29001inst_94702inst_80779inst_990inst_51982inst_72072inst_5225inst_33406inst_54792inst_73795inst_30878inst_4651inst_19552inst_65939inst_92365inst_43911inst_34168inst_92225inst_21315inst_38921inst_43489inst_1495inst_87282inst_12730inst_22856inst_1190inst_56565inst_60925inst_30001inst_54954inst_31062inst_37669inst_607inst_93414inst_75358inst_65511inst_85526inst_94869inst_90695inst_45951inst_18487inst_62422inst_30897inst_69943',\n",
       " 'app_7029': 'inst_18573inst_37614',\n",
       " 'app_4238': 'inst_55126',\n",
       " 'app_7789': 'inst_1546inst_66663',\n",
       " 'app_9219': 'inst_35077inst_27636inst_39395inst_96738inst_94948',\n",
       " 'app_8084': 'inst_71415inst_47342',\n",
       " 'app_6711': 'inst_81700inst_59245inst_25754inst_11174inst_82140inst_86847inst_6403inst_13246inst_22636inst_9037inst_37077inst_43365inst_21140inst_79992',\n",
       " 'app_8230': 'inst_38538',\n",
       " 'app_4716': 'inst_75583',\n",
       " 'app_1370': 'inst_52422',\n",
       " 'app_3623': 'inst_48229inst_2704',\n",
       " 'app_4871': 'inst_13980',\n",
       " 'app_7867': 'inst_50416inst_3462',\n",
       " 'app_4158': 'inst_86222inst_10069',\n",
       " 'app_3423': 'inst_33235inst_39405',\n",
       " 'app_349': 'inst_70609inst_3695inst_60417',\n",
       " 'app_3434': 'inst_72672inst_67352',\n",
       " 'app_3580': 'inst_34654inst_41085inst_83636inst_95689inst_39642inst_57585inst_87533inst_6274',\n",
       " 'app_8548': 'inst_89271inst_63415',\n",
       " 'app_3008': 'inst_82493inst_82754inst_15303inst_70527inst_56001',\n",
       " 'app_2108': 'inst_35478inst_82880inst_69134inst_3684',\n",
       " 'app_2761': 'inst_72567inst_89959inst_59950inst_30066inst_48379inst_20626inst_8479inst_17715inst_89788',\n",
       " 'app_2878': 'inst_81004inst_36739',\n",
       " 'app_2052': 'inst_45981',\n",
       " 'app_3587': 'inst_15286inst_38268inst_43963',\n",
       " 'app_8567': 'inst_85493inst_74358',\n",
       " 'app_5742': 'inst_74868inst_60567',\n",
       " 'app_1621': 'inst_31985inst_96108',\n",
       " 'app_3342': 'inst_54313inst_69177inst_67456',\n",
       " 'app_2060': 'inst_84491',\n",
       " 'app_2618': 'inst_48376inst_60910inst_61924inst_68122inst_16540inst_58394inst_34961',\n",
       " 'app_1343': 'inst_24957inst_26667inst_54457inst_63993inst_6429inst_51409inst_7429inst_53753inst_16160inst_10990inst_13081inst_85496inst_33647inst_47719inst_28782inst_77409inst_99inst_11291inst_14433inst_63839inst_40084inst_80802inst_99565inst_11049inst_85787inst_77259inst_73837inst_9887inst_92424inst_96292inst_52175inst_57087inst_32517inst_85885inst_49077inst_36773inst_75244inst_36905inst_7082inst_23589',\n",
       " 'app_7507': 'inst_21387inst_47377inst_19811inst_25818inst_98453inst_80960',\n",
       " 'app_4485': 'inst_47109',\n",
       " 'app_1665': 'inst_40543inst_74857',\n",
       " 'app_4677': 'inst_58994inst_46886inst_13961inst_93981inst_51893',\n",
       " 'app_5077': 'inst_40178inst_72355',\n",
       " 'app_2502': 'inst_35919inst_36950inst_19595inst_57382inst_19606inst_59718inst_18518inst_47212inst_3757',\n",
       " 'app_7': 'inst_91780',\n",
       " 'app_472': 'inst_94170inst_46816',\n",
       " 'app_7986': 'inst_76022inst_18746',\n",
       " 'app_1255': 'inst_70066inst_3713',\n",
       " 'app_6244': 'inst_69925',\n",
       " 'app_1993': 'inst_92853inst_83175inst_32745inst_45446inst_2460inst_8227',\n",
       " 'app_1924': 'inst_44189',\n",
       " 'app_7215': 'inst_59287inst_68461',\n",
       " 'app_630': 'inst_61881inst_57484',\n",
       " 'app_6197': 'inst_73029inst_75536inst_48461',\n",
       " 'app_730': 'inst_27223inst_22135inst_49052',\n",
       " 'app_3934': 'inst_83673',\n",
       " 'app_7007': 'inst_89673inst_84638inst_38840inst_13515inst_52466inst_94165inst_93367inst_38682inst_31910inst_45010inst_62901inst_83021inst_65812inst_31656inst_99182inst_34377',\n",
       " 'app_4346': 'inst_89808inst_70859inst_17981',\n",
       " 'app_2416': 'inst_72667inst_99938',\n",
       " 'app_8065': 'inst_32189inst_21467',\n",
       " 'app_8074': 'inst_91721inst_74259inst_39721',\n",
       " 'app_6951': 'inst_48313inst_28580',\n",
       " 'app_1382': 'inst_85047inst_79634inst_46513inst_66066inst_93026',\n",
       " 'app_2376': 'inst_12098',\n",
       " 'app_8270': 'inst_96067inst_37681inst_24517inst_21247inst_2581inst_35135',\n",
       " 'app_3764': 'inst_68255inst_11206',\n",
       " 'app_8588': 'inst_18058inst_204inst_17483inst_42084inst_16042',\n",
       " 'app_8632': 'inst_1121',\n",
       " 'app_2486': 'inst_71410inst_67241inst_80292inst_99672inst_84802inst_8693inst_57075inst_62261inst_83322inst_52004inst_92554inst_18860inst_91994inst_34925inst_78647inst_40479inst_15265inst_24575inst_88525inst_46338inst_52869inst_70241inst_98192inst_48354inst_8945inst_71503inst_85842inst_4745inst_30428inst_78080inst_55590inst_20624inst_76053inst_46526inst_78703inst_69704inst_5367inst_20376inst_74462inst_20554inst_72218inst_72290inst_62134inst_95673inst_9315inst_57737inst_99429inst_97582inst_40101inst_89358inst_86068inst_94044inst_41285inst_81535inst_6754inst_20316inst_9565inst_38819inst_72020inst_73630inst_64321inst_53788inst_60996inst_27183inst_18910inst_28404inst_14882inst_44521inst_21337inst_87783inst_23963inst_63622inst_52333inst_76544inst_13793inst_55922inst_99923inst_19296inst_90585inst_79195inst_99440inst_33676inst_61934inst_79235inst_37619inst_82453inst_25807inst_11513inst_61211inst_44790inst_9295inst_92087inst_11150inst_81362inst_67923inst_7133inst_99082inst_42450inst_9575inst_50652inst_69032inst_36817inst_76633inst_79264inst_39397inst_45690inst_60371inst_38939inst_63013inst_37411inst_39261inst_9735inst_60657inst_34822inst_74877inst_46606inst_35157inst_54812inst_20967inst_4268inst_5947inst_44465inst_6978inst_93308inst_61534inst_3999inst_14040inst_74532inst_96301inst_29148inst_47791inst_92261inst_10120inst_19262inst_43443inst_91914inst_99709inst_11237inst_2249inst_42648inst_82646inst_25297inst_77514inst_13288inst_16315inst_15797inst_54968inst_16129inst_17621inst_74665inst_50648inst_89577inst_44648inst_80316inst_35679inst_7354inst_3724inst_37473inst_90746inst_22825inst_50429inst_88672inst_56175inst_44116inst_15464inst_42044inst_52540inst_75839inst_1231inst_643inst_14217inst_4522inst_20332inst_54064inst_71843inst_56796inst_26088inst_50906inst_91774inst_82994inst_66771inst_43944inst_66923inst_15174inst_43152inst_65962inst_47965inst_33322inst_35309inst_4536inst_22997inst_36552inst_3182inst_75435inst_88147inst_26053inst_89662inst_83185inst_31437inst_75475inst_62525inst_74400inst_17997inst_88902inst_63174inst_26082inst_37329inst_12174inst_85326inst_27453inst_48179inst_80560inst_250inst_80093inst_86370inst_37608inst_67375inst_96205inst_31922inst_52818inst_35043inst_3607inst_61802inst_52577inst_60679inst_63140inst_83628inst_25308inst_31452inst_88331inst_56961inst_47188inst_3900inst_80379inst_54842inst_53533inst_2474inst_98909inst_11533inst_61052inst_61336inst_5193inst_36885inst_75818inst_85558inst_1632inst_10744inst_36786inst_14053inst_2503inst_76937inst_67090inst_53830inst_94162inst_26056inst_18771inst_86317inst_63862inst_3799inst_56776inst_50494inst_71371inst_72033inst_69599inst_28472inst_67067inst_50353inst_85346inst_9711inst_6986inst_56298inst_339inst_89676inst_54347inst_66782inst_87176inst_34603inst_11372inst_32820inst_18808inst_76126inst_90153inst_63302inst_88360inst_52268inst_41924inst_78156inst_12947inst_97245inst_80308inst_23721inst_2292inst_10773inst_90531inst_71213inst_27792inst_87747inst_69578inst_7703inst_23085inst_50080inst_89571inst_16619inst_97544inst_94328inst_711inst_62332inst_52805inst_27999inst_93243inst_58177inst_50623inst_20658inst_98618inst_40550inst_3648inst_82294inst_64500inst_87002inst_38484inst_15426inst_19895inst_7726inst_10595inst_28101inst_77672inst_35838inst_65303inst_44476inst_21458inst_48135inst_48880inst_6463inst_97510inst_57991inst_60621inst_62022inst_71597inst_14868inst_9855inst_58099inst_34240inst_24801inst_54417inst_57450inst_26304inst_49255inst_83421inst_13369inst_44996inst_9632inst_62664inst_92960inst_77853inst_22668inst_48046inst_92177inst_93457inst_62602inst_97934inst_66507inst_94551inst_50947inst_49888inst_23327inst_50992inst_75057inst_26877inst_21654inst_81178inst_23063inst_47241inst_87290inst_1091inst_56832inst_16267inst_42263inst_64647inst_25128inst_32972inst_71287inst_95781inst_39531inst_51994inst_4692inst_25872inst_80987inst_46784inst_86260inst_98085inst_95101inst_99491inst_56181inst_72933inst_72284inst_4940inst_23033inst_20027inst_70452inst_45200inst_27503inst_55150inst_84917inst_32617inst_73079inst_5657inst_98795inst_58600inst_74772inst_36226inst_11001inst_37304inst_23777inst_54293inst_54853inst_15609inst_80391inst_14225inst_65968inst_28761inst_42408inst_43108inst_13507inst_78189inst_41930inst_79955inst_27089inst_46837inst_46298inst_86905inst_20476inst_38152inst_65151inst_33444inst_67645inst_88928inst_49757inst_37881inst_3653inst_15363inst_66527inst_120inst_98202inst_13862inst_3059inst_53624inst_91013inst_75429inst_80334inst_8259inst_99627inst_33486inst_88439inst_61193inst_72104inst_98982inst_69235inst_53931inst_19776inst_12672inst_96092inst_3625inst_58486inst_35513inst_19449inst_16104inst_38932inst_51861inst_48951inst_57683inst_31368inst_78435inst_99039inst_81043inst_55997inst_80954inst_86313inst_13274inst_46588inst_73242inst_91623inst_40809inst_67938inst_32229inst_22394inst_74972inst_13146inst_81327inst_65709inst_21877inst_30510inst_48300inst_18366inst_62220inst_32701inst_97109inst_84576inst_60418inst_23545inst_98330inst_69302inst_23539inst_93517inst_13580inst_47589inst_16548inst_43051inst_4301inst_96311inst_67648inst_19852inst_90634inst_20737inst_69108inst_51304inst_11754inst_4938inst_18706inst_50228',\n",
       " 'app_9057': 'inst_36041inst_97036inst_57257',\n",
       " 'app_6534': 'inst_48738inst_27943inst_88414inst_15889inst_51728inst_82242inst_65043inst_92045',\n",
       " 'app_4307': 'inst_10903inst_61392',\n",
       " 'app_9139': 'inst_82256inst_38104inst_95464inst_39889inst_22098inst_26536inst_31113inst_89489inst_73219inst_98783inst_90976inst_5406inst_12861inst_47677inst_26182inst_46858inst_21938inst_85550inst_16742inst_93291inst_12704inst_64666',\n",
       " 'app_1109': 'inst_65889inst_63878',\n",
       " 'app_2601': 'inst_46587inst_92316',\n",
       " 'app_8609': 'inst_13898inst_55334',\n",
       " 'app_5195': 'inst_7837',\n",
       " 'app_2630': 'inst_78750inst_91238inst_88197inst_64898inst_60400',\n",
       " 'app_300': 'inst_32088inst_34533',\n",
       " 'app_2918': 'inst_65946inst_96166inst_74411inst_95812inst_60670inst_38578inst_65429',\n",
       " 'app_3132': 'inst_80472inst_57754inst_33613',\n",
       " 'app_8166': 'inst_9437inst_8936inst_50383inst_28806inst_61868inst_65154inst_60635inst_92597inst_95538inst_300inst_17681inst_66133inst_22165',\n",
       " 'app_4590': 'inst_69735',\n",
       " 'app_6131': 'inst_91615',\n",
       " 'app_1021': 'inst_14461inst_71925inst_47913',\n",
       " 'app_3353': 'inst_93641',\n",
       " 'app_1357': 'inst_27160',\n",
       " 'app_3207': 'inst_18265',\n",
       " 'app_4268': 'inst_7582inst_57360inst_33688inst_34601inst_46897inst_97496inst_3803inst_51909inst_14638',\n",
       " 'app_2167': 'inst_87910',\n",
       " 'app_673': 'inst_36318',\n",
       " 'app_2528': 'inst_72949inst_61780',\n",
       " 'app_916': 'inst_41240inst_68164',\n",
       " 'app_7880': 'inst_52030inst_2597inst_81998inst_84916inst_94761inst_86687inst_74220inst_59438inst_14925inst_59882inst_23861inst_93912inst_72963inst_56333inst_5669inst_53017inst_76095inst_35054inst_15234inst_79378inst_91589inst_55335inst_8204inst_96764inst_41956inst_75181inst_48384inst_2711inst_86302inst_41652inst_70475inst_70941inst_29922inst_45904inst_23693inst_4799inst_6705inst_77749inst_59543inst_47434inst_57208inst_46985inst_35165inst_72410inst_47532inst_56672inst_36356inst_49187inst_52969',\n",
       " 'app_8331': 'inst_36923inst_74892inst_89454inst_14853inst_14664inst_82158inst_73097inst_12787inst_70854inst_85261inst_45865inst_65854inst_93418inst_97973inst_81786inst_95268inst_64192inst_85419inst_5006inst_27534inst_12150inst_95618inst_69336inst_89023inst_29799inst_19612inst_48478inst_56316inst_84488inst_11359inst_66951inst_13676inst_39343inst_99515',\n",
       " 'app_4799': 'inst_87916inst_35856inst_47949inst_17837inst_18171inst_81120inst_39171',\n",
       " 'app_2819': 'inst_15719inst_76438inst_47082inst_18625',\n",
       " 'app_6206': 'inst_53292',\n",
       " 'app_7509': 'inst_79735inst_83156inst_50268inst_92746inst_15620inst_10098inst_85112inst_32022',\n",
       " 'app_7819': 'inst_32852',\n",
       " 'app_5833': 'inst_41494inst_44123',\n",
       " 'app_4415': 'inst_16891inst_15546',\n",
       " 'app_4457': 'inst_71834inst_93118inst_67611',\n",
       " 'app_4117': 'inst_81138inst_78053',\n",
       " 'app_6218': 'inst_27649inst_15410inst_93453inst_27226',\n",
       " 'app_1616': 'inst_54026inst_85402inst_99069inst_28347inst_94014',\n",
       " 'app_8416': 'inst_53569inst_16286',\n",
       " 'app_681': 'inst_15292inst_93790inst_21730',\n",
       " 'app_1112': 'inst_39962inst_71000',\n",
       " 'app_3578': 'inst_76847inst_9715',\n",
       " 'app_8363': 'inst_96131inst_50624inst_87127inst_12889inst_29428inst_42865inst_48627',\n",
       " 'app_7573': 'inst_39861',\n",
       " 'app_4994': 'inst_13764',\n",
       " 'app_1809': 'inst_42369',\n",
       " 'app_1362': 'inst_51596inst_77249inst_35233inst_9706inst_78130inst_45198inst_34065',\n",
       " 'app_4811': 'inst_94598inst_88631',\n",
       " 'app_2212': 'inst_9337inst_62284',\n",
       " 'app_7117': 'inst_74507inst_30882inst_22883inst_46637inst_60719inst_72490inst_16788inst_35018inst_33536inst_82640inst_12832inst_43214inst_92067inst_6673inst_56304inst_58264inst_19739inst_99206inst_54570inst_5023',\n",
       " 'app_9009': 'inst_87795inst_75060',\n",
       " 'app_88': 'inst_92086inst_76559inst_88399inst_14180inst_1876',\n",
       " 'app_6610': 'inst_30984inst_57898inst_17313inst_90544inst_18663inst_33711inst_77194inst_40491inst_676inst_65674inst_95654inst_63104',\n",
       " 'app_6661': 'inst_8429inst_60696inst_19021inst_95124inst_13443',\n",
       " 'app_5778': 'inst_15843inst_76876',\n",
       " 'app_1120': 'inst_2799inst_25700',\n",
       " 'app_4543': 'inst_59469inst_75774inst_68145inst_7911inst_90900inst_40728inst_16388inst_24410inst_72136inst_6302inst_63383inst_97627inst_36449inst_854inst_65545inst_41345inst_21885inst_59213inst_34675inst_3475inst_15585inst_22942inst_49457inst_26026inst_24661inst_83667inst_81688inst_12883inst_33924inst_95894inst_24244inst_9131inst_72575inst_67429inst_34051inst_22201inst_13803inst_49476inst_91331inst_4635inst_30497inst_17461inst_39224inst_49930',\n",
       " 'app_1306': 'inst_33641',\n",
       " 'app_9177': 'inst_1712',\n",
       " 'app_8067': 'inst_37150',\n",
       " 'app_6050': 'inst_20420inst_37491inst_86144inst_80364inst_64087inst_48637',\n",
       " 'app_1584': 'inst_93777inst_85606',\n",
       " 'app_2972': 'inst_60227',\n",
       " 'app_2417': 'inst_52800inst_4405',\n",
       " 'app_6036': 'inst_20890inst_90301inst_87115inst_1217inst_55460inst_33588',\n",
       " 'app_6386': 'inst_608',\n",
       " 'app_8360': 'inst_40065inst_54295inst_6784inst_30270inst_84032inst_18176inst_98348inst_59275inst_11079inst_74564inst_4919inst_20293inst_42182inst_19425inst_46865inst_76103inst_61081inst_38246inst_11591inst_78612inst_59334inst_66287inst_13302inst_70485inst_44823',\n",
       " 'app_748': 'inst_8510inst_44186',\n",
       " 'app_1825': 'inst_18822inst_14950',\n",
       " 'app_7391': 'inst_58338inst_77557inst_66213',\n",
       " 'app_8783': 'inst_48864inst_93879inst_72262inst_47328inst_9079inst_49076inst_12204inst_34191',\n",
       " 'app_7499': 'inst_26968',\n",
       " 'app_8621': 'inst_64831',\n",
       " 'app_4181': 'inst_66080inst_44107',\n",
       " 'app_6555': 'inst_64478inst_44934',\n",
       " 'app_1389': 'inst_54065inst_53287inst_41989inst_41042inst_54564inst_52026inst_64721inst_61372',\n",
       " 'app_4232': 'inst_62484',\n",
       " 'app_127': 'inst_92585inst_68829inst_66971inst_67388inst_10063inst_28747inst_83067inst_29128inst_42674inst_54310inst_86938inst_72867inst_64737inst_40359inst_31515inst_19720inst_19402inst_60122inst_6679inst_49943inst_58691',\n",
       " 'app_8032': 'inst_59881',\n",
       " 'app_6820': 'inst_14435inst_31045inst_12684inst_79831inst_63931inst_570',\n",
       " 'app_4739': 'inst_32530inst_19653',\n",
       " 'app_4934': 'inst_63979inst_85510inst_24126inst_40213',\n",
       " 'app_2962': 'inst_7941inst_96594inst_78520inst_80529inst_56420inst_77247',\n",
       " 'app_1571': 'inst_67597',\n",
       " 'app_8648': 'inst_22771inst_13794inst_33753inst_93684inst_23192inst_68790inst_42244inst_20457inst_74375inst_48567inst_16937inst_46190inst_97692inst_8601inst_58617inst_61871inst_12761inst_39912inst_69844inst_17575',\n",
       " 'app_5381': 'inst_15370inst_45795',\n",
       " 'app_972': 'inst_31723inst_40167inst_10187inst_79133inst_56274inst_24320inst_34005',\n",
       " 'app_678': 'inst_93828',\n",
       " 'app_6078': 'inst_43449inst_48675inst_19791inst_6659inst_62357inst_28615inst_1888inst_93357inst_64865inst_27393inst_31854inst_47369inst_99497inst_31859',\n",
       " 'app_5114': 'inst_51175inst_60349',\n",
       " 'app_6335': 'inst_76093inst_79062inst_78803inst_55397inst_96339inst_98552',\n",
       " 'app_5625': 'inst_2534',\n",
       " 'app_6022': 'inst_28979inst_42314',\n",
       " 'app_959': 'inst_55849inst_43681',\n",
       " 'app_2406': 'inst_25265',\n",
       " 'app_7908': 'inst_70784inst_58594',\n",
       " 'app_7577': 'inst_24795',\n",
       " 'app_7057': 'inst_98841',\n",
       " 'app_6407': 'inst_14818inst_7746',\n",
       " 'app_263': 'inst_41591inst_894',\n",
       " 'app_3101': 'inst_8038inst_195inst_27217inst_47993inst_78512inst_14422inst_79502inst_54989inst_8183inst_65493inst_65711inst_67460inst_57144inst_90379inst_6192',\n",
       " 'app_5248': 'inst_95136inst_41205',\n",
       " 'app_116': 'inst_5543inst_75177inst_56404',\n",
       " 'app_928': 'inst_44931inst_28289inst_51180',\n",
       " 'app_2464': 'inst_87387inst_86382inst_24328inst_68955inst_16108inst_74047',\n",
       " 'app_4190': 'inst_62529inst_66319inst_51471inst_99253inst_85254inst_73892inst_73433inst_15225inst_69792inst_41794inst_21349inst_15655inst_17091inst_35617inst_59734inst_90618inst_98866inst_88899inst_97756inst_26875inst_56146inst_24490inst_67884',\n",
       " 'app_279': 'inst_63534inst_41166inst_59807inst_63375inst_71573inst_88746inst_77166',\n",
       " 'app_2403': 'inst_23135',\n",
       " 'app_6816': 'inst_65233inst_145',\n",
       " 'app_5765': 'inst_79539',\n",
       " 'app_9088': 'inst_36961',\n",
       " 'app_6309': 'inst_99481',\n",
       " 'app_3967': 'inst_77146',\n",
       " 'app_8998': 'inst_3885inst_24736inst_22351inst_43852inst_5969',\n",
       " 'app_774': 'inst_92651inst_80519inst_57465inst_64793inst_74324inst_46642inst_96567inst_20848inst_39814inst_28396inst_31174inst_6297inst_59746inst_40257inst_55324inst_96508inst_28668inst_72332inst_36717inst_76897inst_64973inst_73245inst_36451inst_67225inst_8859inst_87322inst_59134inst_13394inst_43607inst_65575inst_31279inst_24019inst_31111inst_96753inst_2166inst_73965inst_31668inst_52136inst_51271inst_97596',\n",
       " 'app_4604': 'inst_77788inst_64020',\n",
       " 'app_6537': 'inst_5758',\n",
       " 'app_2743': 'inst_17235',\n",
       " 'app_6769': 'inst_12116inst_33152',\n",
       " 'app_5196': 'inst_29372',\n",
       " 'app_2714': 'inst_87544',\n",
       " 'app_2684': 'inst_73022',\n",
       " 'app_8468': 'inst_30514',\n",
       " 'app_2013': 'inst_70617inst_6152',\n",
       " 'app_321': 'inst_64016inst_22890inst_64216inst_20874inst_9459inst_6739',\n",
       " 'app_2893': 'inst_29707inst_83976',\n",
       " 'app_8518': 'inst_85699',\n",
       " 'app_5058': 'inst_8911',\n",
       " 'app_6799': 'inst_47857inst_18151',\n",
       " 'app_5161': 'inst_614inst_25912inst_64821',\n",
       " 'app_2637': 'inst_40769',\n",
       " 'app_7475': 'inst_94624inst_20073inst_30838inst_70503inst_95441',\n",
       " 'app_8530': 'inst_22250inst_41075',\n",
       " 'app_5037': 'inst_48353inst_21276',\n",
       " 'app_194': 'inst_15748',\n",
       " 'app_1454': 'inst_32342inst_97923inst_87623',\n",
       " 'app_755': 'inst_80608inst_61285inst_90952inst_93544inst_9983inst_68606',\n",
       " 'app_6300': 'inst_76256inst_49228inst_29255inst_43313inst_26232',\n",
       " 'app_3261': 'inst_18665inst_36774',\n",
       " 'app_1060': 'inst_45606inst_48797',\n",
       " 'app_7653': 'inst_25275',\n",
       " 'app_5866': 'inst_22041inst_20400',\n",
       " 'app_4200': 'inst_31772',\n",
       " 'app_6220': 'inst_64247inst_18652inst_39592',\n",
       " 'app_1889': 'inst_57989inst_82491inst_4624inst_53inst_46835inst_26665inst_36350inst_95791inst_37161inst_20764inst_76223inst_37068',\n",
       " 'app_3697': 'inst_47346',\n",
       " 'app_7578': 'inst_23740inst_24570inst_13289inst_80970inst_41537inst_6293',\n",
       " 'app_7374': 'inst_46362inst_44821inst_87897inst_94767inst_19794inst_46677',\n",
       " 'app_602': 'inst_84625inst_31619inst_41556',\n",
       " 'app_7699': 'inst_60278inst_35711',\n",
       " 'app_3521': 'inst_89994inst_19909',\n",
       " 'app_7534': 'inst_15888inst_45462',\n",
       " 'app_8614': 'inst_94372',\n",
       " 'app_7625': 'inst_76424inst_93677',\n",
       " 'app_5578': 'inst_31800inst_21420',\n",
       " 'app_8831': 'inst_91690',\n",
       " 'app_6443': 'inst_73114inst_29527',\n",
       " 'app_2158': 'inst_24631inst_832',\n",
       " 'app_4694': 'inst_49994inst_43468inst_84400inst_61045',\n",
       " 'app_3619': 'inst_69231inst_13032inst_3940inst_50135',\n",
       " 'app_3180': 'inst_40370inst_91824inst_15504',\n",
       " 'app_2026': 'inst_12932inst_32944',\n",
       " 'app_3444': 'inst_73264inst_60427',\n",
       " 'app_1094': 'inst_65622',\n",
       " 'app_1766': 'inst_37822inst_29965inst_85425inst_92146inst_47797inst_89280inst_80890',\n",
       " 'app_8225': 'inst_19744inst_87753',\n",
       " 'app_7016': 'inst_96853inst_83955inst_33890',\n",
       " 'app_4641': 'inst_97912',\n",
       " 'app_4357': 'inst_72376inst_16060',\n",
       " 'app_4589': 'inst_47672',\n",
       " 'app_2580': 'inst_16113inst_77560',\n",
       " 'app_1891': 'inst_57122inst_57993',\n",
       " 'app_4883': 'inst_89069inst_53405inst_66293inst_75222inst_34639inst_83042inst_79108inst_80069inst_243inst_23263inst_53159',\n",
       " 'app_8585': 'inst_97649inst_29595',\n",
       " 'app_7366': 'inst_58755inst_69611inst_66157inst_9844',\n",
       " 'app_2213': 'inst_11112inst_47651',\n",
       " 'app_264': 'inst_67984',\n",
       " 'app_5123': 'inst_90610',\n",
       " 'app_3363': 'inst_69081inst_98119inst_11193inst_38064inst_39360',\n",
       " 'app_6277': 'inst_82486',\n",
       " 'app_5158': 'inst_4908',\n",
       " 'app_2351': 'inst_84604inst_21527',\n",
       " 'app_1780': 'inst_75067inst_6723',\n",
       " 'app_122': 'inst_74082inst_34755inst_81846inst_43786inst_38625inst_18510inst_95098inst_46860inst_91015inst_61665inst_1819inst_91710inst_13569inst_53873inst_71175inst_6600inst_1292inst_75623inst_72808inst_81428inst_81672inst_96497inst_25916inst_30067inst_39859inst_2074inst_1682inst_4856inst_71012inst_53027inst_94538inst_15310inst_5065inst_72753inst_59651inst_26939',\n",
       " 'app_9083': 'inst_32023',\n",
       " 'app_1620': 'inst_28863',\n",
       " 'app_3006': 'inst_73945',\n",
       " 'app_4413': 'inst_54986',\n",
       " 'app_5891': 'inst_13929',\n",
       " 'app_2328': 'inst_74655',\n",
       " 'app_3856': 'inst_1353inst_72182',\n",
       " 'app_1192': 'inst_95598inst_72638',\n",
       " 'app_1717': 'inst_9694',\n",
       " 'app_3367': 'inst_81829inst_96669',\n",
       " 'app_8591': 'inst_81151',\n",
       " 'app_6889': 'inst_93502inst_79814',\n",
       " 'app_8316': 'inst_16328inst_69805',\n",
       " 'app_2570': 'inst_62153inst_97997',\n",
       " 'app_8395': 'inst_54141inst_33311',\n",
       " 'app_7394': 'inst_90783inst_12353inst_99130inst_91233inst_13440inst_86759inst_17655inst_89057inst_53626inst_96639inst_34727inst_79828inst_92025inst_17980inst_7955inst_27898inst_31017inst_53407inst_11733inst_90687inst_27971inst_33633inst_27905inst_92811inst_53217inst_68869inst_42656inst_33142inst_3363inst_67101inst_16260inst_26492inst_59inst_32285inst_59112inst_57869inst_58973inst_62234inst_6058inst_39836inst_38570inst_53282inst_35614inst_78491inst_9306inst_81827inst_71092inst_72510inst_79287inst_77464inst_55802inst_51593inst_46983inst_96532inst_90295inst_63675inst_75456inst_31066inst_78879inst_56505inst_76067inst_86997inst_42225inst_52241inst_87095inst_11852inst_8792inst_91635inst_84645inst_89803inst_4444inst_42309inst_84852inst_21841inst_68335inst_61514inst_18416inst_95296inst_3572inst_25480inst_81257inst_38228inst_12949inst_49940inst_64850inst_87601inst_35759inst_94223inst_50564inst_13179inst_29382inst_13517inst_21339inst_63789inst_10486inst_44740inst_87563inst_31947inst_64692inst_94937inst_95934inst_55869inst_62167inst_74012inst_87inst_11907inst_34085inst_96005inst_48082inst_26496inst_33183inst_18037inst_1230inst_21659inst_69902inst_88890inst_59301inst_47862inst_77432inst_57228inst_52524inst_87161inst_17179inst_67034inst_12780inst_27193inst_8873inst_90086inst_89119inst_28921inst_80081inst_1395inst_2540inst_84535inst_58292inst_31536inst_67765inst_53543inst_79098inst_80668inst_15284inst_23268inst_42199inst_76414inst_92539inst_89690inst_41991inst_98599inst_91045inst_62515inst_21090inst_52743inst_77294inst_72408inst_5665inst_50325inst_9105inst_42357inst_72074inst_89391inst_90786inst_97687inst_87542inst_38838inst_63084inst_6619inst_22124inst_12306inst_41596inst_85431inst_82879inst_21162inst_48342inst_62697inst_51654inst_52686inst_25288inst_25258inst_82386inst_33140inst_19442inst_85897inst_51555inst_10885inst_89093inst_57866inst_94645inst_96813inst_71562inst_72836inst_36154inst_58571inst_33349inst_82604inst_69682inst_55332inst_87147inst_54122inst_76177inst_39216inst_5333inst_87128inst_47349inst_94104inst_30455inst_51939inst_11717inst_12476inst_47972inst_20301inst_48420inst_19112inst_65234inst_28854inst_49400inst_41838inst_95482inst_5022inst_89424inst_73869inst_76330inst_17943inst_14202inst_12432inst_77839inst_17438inst_79421inst_54848inst_50505inst_27778inst_74266inst_1617inst_9118inst_19006inst_4728inst_81268inst_44923inst_35283inst_14881inst_42999inst_72014inst_72291inst_75936inst_19567inst_46221inst_8051inst_71883inst_50534inst_6844inst_88792inst_96558',\n",
       " 'app_4302': 'inst_93719inst_51719inst_97628inst_57919',\n",
       " 'app_3212': 'inst_66405inst_48581inst_75416',\n",
       " 'app_6475': 'inst_98845inst_28139inst_50096inst_35677',\n",
       " 'app_9283': 'inst_44863inst_46768inst_79699inst_96681inst_44012inst_33284inst_65300inst_62418inst_8197inst_98829inst_41347inst_43055inst_28721inst_6074inst_25289inst_92053inst_25484inst_84546inst_25126inst_35497inst_77288inst_14666inst_97055inst_31973inst_51307inst_31755inst_98371inst_64706inst_80202inst_31570inst_49275inst_54698inst_67895inst_55185inst_95486inst_87899inst_15927inst_48248inst_11686inst_30744inst_25097inst_96274inst_30431inst_13928inst_72004inst_95343inst_75020inst_62282inst_96218inst_53258inst_59137inst_55575inst_23951inst_19728inst_43964inst_32441inst_25427inst_14451inst_63894inst_45590inst_53059inst_25387inst_82666inst_40000inst_52961inst_21152inst_33188inst_58inst_57538inst_67127inst_37081inst_34321inst_28706inst_87416inst_96388inst_59862inst_59225inst_47874inst_60245inst_90464inst_17203inst_9693inst_49593inst_19228inst_98147inst_58026inst_95754inst_70428inst_53912inst_39159inst_34210inst_30771inst_58956inst_53613inst_8739inst_15968inst_83341inst_2224inst_56976inst_34107inst_16015inst_12747inst_95222',\n",
       " 'app_322': 'inst_33783inst_54771',\n",
       " 'app_7553': 'inst_92953',\n",
       " 'app_2144': 'inst_11520',\n",
       " 'app_5171': 'inst_8059',\n",
       " 'app_5416': 'inst_65430inst_58481',\n",
       " 'app_2824': 'inst_61764',\n",
       " 'app_4005': 'inst_4855inst_68474',\n",
       " 'app_2989': 'inst_93266inst_24415',\n",
       " 'app_7855': 'inst_16923inst_38356',\n",
       " 'app_655': 'inst_46226inst_24214inst_80632inst_96027inst_49163inst_93991inst_65120inst_8835inst_86945inst_79069inst_88427inst_32277inst_15667inst_21533inst_80300inst_85828inst_11416inst_30195inst_18672inst_96637inst_75328inst_25359inst_88702inst_4331inst_10583inst_564',\n",
       " 'app_6345': 'inst_45924inst_76021',\n",
       " 'app_19': 'inst_87958inst_41638inst_39605inst_508inst_43235',\n",
       " 'app_974': 'inst_52256',\n",
       " 'app_625': 'inst_48440inst_578inst_62810inst_42770inst_31902',\n",
       " 'app_2421': 'inst_29259inst_7452',\n",
       " 'app_5048': 'inst_15879inst_64912',\n",
       " 'app_5968': 'inst_99773inst_36097inst_5013',\n",
       " 'app_4556': 'inst_38618',\n",
       " 'app_2149': 'inst_13221',\n",
       " 'app_371': 'inst_84747inst_63716inst_31179inst_13172inst_73411',\n",
       " 'app_4648': 'inst_90716inst_18736inst_55749inst_59793inst_65853inst_49213inst_1096inst_40226inst_50137inst_68728inst_55867inst_8828inst_95667inst_65331inst_63384inst_163inst_61815inst_30283inst_88828inst_73947inst_87894inst_15908inst_92510inst_33317inst_51831inst_61500inst_73453inst_47040inst_68360inst_88936inst_93388inst_66481inst_54826inst_71694inst_49252inst_24274inst_63687inst_92337inst_78822inst_26795inst_24326inst_32348inst_55967inst_6111inst_22188inst_71095inst_6291inst_41753inst_66167inst_29574inst_64416inst_55468inst_2591inst_10091inst_40585inst_24444inst_6565inst_15943inst_81771inst_38824inst_90159inst_77564inst_25110inst_41918inst_54230inst_42288inst_59764inst_78197inst_56769inst_22794inst_96336inst_22886inst_80437inst_97035inst_38909inst_97373inst_27525inst_5456inst_11467inst_17397',\n",
       " 'app_5145': 'inst_79478inst_27537',\n",
       " 'app_3146': 'inst_13188inst_59760inst_50509',\n",
       " 'app_8897': 'inst_32957inst_48058inst_46790inst_54990inst_37826inst_44969inst_65974inst_17099',\n",
       " 'app_1763': 'inst_26151',\n",
       " 'app_3911': 'inst_78749inst_26332',\n",
       " 'app_954': 'inst_45712',\n",
       " 'app_693': 'inst_27821inst_71346inst_30932inst_47953inst_36040inst_47071inst_78730inst_54309inst_39480inst_565inst_20422inst_58358inst_55152inst_46053',\n",
       " 'app_1721': 'inst_54591inst_93297',\n",
       " 'app_1569': 'inst_14976',\n",
       " 'app_8801': 'inst_20589inst_88623',\n",
       " 'app_6739': 'inst_68069inst_98135inst_43713inst_17321',\n",
       " 'app_1170': 'inst_65488inst_12079',\n",
       " 'app_2912': 'inst_41287inst_62192inst_22197',\n",
       " 'app_6081': 'inst_92184inst_74996inst_87826inst_78360inst_15940',\n",
       " 'app_5965': 'inst_58361inst_32642',\n",
       " 'app_634': 'inst_30801inst_1550',\n",
       " 'app_2652': 'inst_13975',\n",
       " 'app_1425': 'inst_90503inst_39433inst_90419inst_78273inst_65942inst_25623inst_84513inst_5961inst_34520inst_36955inst_98408inst_64750inst_26032inst_90980inst_77848inst_82174inst_52067inst_65363inst_55720inst_63399inst_95325inst_40863inst_70760inst_64161inst_16715inst_47659inst_53067inst_85713inst_86601inst_66199inst_65141inst_34905inst_79857inst_10374inst_48024inst_98327inst_36027inst_55975inst_19817',\n",
       " 'app_8698': 'inst_78892inst_83078inst_43028inst_83870inst_60804inst_47654inst_22346inst_38706inst_57441inst_5557inst_80077inst_16277inst_11889inst_70558inst_33476inst_22802inst_43177inst_12455',\n",
       " 'app_9275': 'inst_83591inst_5240inst_50758',\n",
       " 'app_6165': 'inst_49126inst_43175',\n",
       " 'app_1129': 'inst_29494inst_64773',\n",
       " 'app_2728': 'inst_83309inst_64334inst_97004inst_23201inst_48939inst_93206inst_79998inst_88771inst_32905inst_39838',\n",
       " 'app_4772': 'inst_96104inst_2813inst_74078inst_97413inst_21400inst_56013inst_70927',\n",
       " 'app_2124': 'inst_81625inst_64677inst_34552',\n",
       " 'app_4203': 'inst_44785',\n",
       " 'app_6512': 'inst_17781',\n",
       " 'app_6471': 'inst_58538',\n",
       " 'app_7080': 'inst_14231inst_80593inst_43049inst_32384inst_75120inst_97106inst_40398inst_76293inst_88827inst_94885inst_65343inst_33956inst_64992inst_40028inst_4630inst_2585inst_2248inst_55930inst_65831inst_53530inst_30906inst_29265inst_53852inst_56076inst_38619inst_28031',\n",
       " 'app_5153': 'inst_66061',\n",
       " 'app_121': 'inst_46125inst_73750inst_37220inst_14017inst_89809',\n",
       " 'app_1731': 'inst_9100inst_64782',\n",
       " 'app_8466': 'inst_62774inst_87079',\n",
       " 'app_4105': 'inst_4260',\n",
       " 'app_8274': 'inst_15149inst_61770inst_5054',\n",
       " 'app_4551': 'inst_14311inst_77945inst_81472inst_64028inst_57846inst_18450inst_51105inst_26003inst_53313inst_27795inst_79247inst_34756inst_90172inst_75444inst_74346inst_54188inst_26613inst_51860inst_63245inst_58427inst_82154inst_8631inst_21557inst_18347inst_69564inst_69747inst_36513inst_89105inst_26654',\n",
       " 'app_2150': 'inst_96013inst_83402',\n",
       " 'app_8246': 'inst_9366inst_14677inst_64722',\n",
       " 'app_1424': 'inst_43490inst_59936inst_30774inst_55723inst_42473inst_4675',\n",
       " 'app_8227': 'inst_10489inst_30111',\n",
       " 'app_5356': 'inst_53796',\n",
       " 'app_90': 'inst_82970inst_54584',\n",
       " 'app_6996': 'inst_25490inst_97654',\n",
       " 'app_9030': 'inst_22838',\n",
       " 'app_7198': 'inst_48418inst_40343inst_50934inst_68395inst_66639',\n",
       " 'app_1720': 'inst_20765inst_64123',\n",
       " 'app_8006': 'inst_20004inst_87945inst_22972inst_969',\n",
       " 'app_1850': 'inst_64551',\n",
       " 'app_3321': 'inst_10925inst_56041inst_22174inst_33555inst_14072inst_58469inst_20829inst_99162inst_45725inst_81635inst_61615inst_36036inst_38191inst_42532inst_8255inst_78321inst_56778inst_20461inst_91591inst_88740inst_44930inst_68862inst_92033inst_12166inst_37640inst_25761inst_61670inst_48817inst_65041inst_22222inst_83962inst_52464inst_3189inst_42623inst_96824inst_91755inst_11014inst_63417inst_6237inst_73908inst_87530inst_13704inst_93887inst_78847inst_56451inst_37307inst_73720inst_45393inst_79793inst_46155inst_34836inst_83629inst_29593inst_51111inst_47047inst_29184inst_57266inst_70533inst_15138inst_57504inst_74623inst_83469inst_41144inst_84103inst_54079inst_88481inst_54829inst_76570inst_13624inst_11219inst_87891inst_96423inst_1022inst_43433inst_5232inst_52314inst_11190inst_23178inst_6932inst_9877inst_48960inst_58049inst_44656inst_9226inst_86638inst_25067inst_37590inst_86973inst_31712inst_94244inst_2838inst_15722inst_64122inst_82314inst_34225inst_28013inst_78inst_89068inst_78448inst_20698inst_19599inst_83892inst_76226inst_54489inst_85830inst_53556inst_65408inst_84764inst_52455inst_78339inst_84556inst_27977inst_10537inst_51914inst_97905inst_98497inst_98819inst_59052inst_62743inst_79545inst_33043inst_30027inst_69237inst_65525inst_73226inst_82964inst_87745inst_21512inst_83703inst_62589inst_35750inst_73876inst_14276inst_79186inst_21053inst_58223inst_92691inst_29709inst_73709inst_81454inst_85861inst_78297inst_36323inst_19141inst_35870inst_19779inst_48190inst_72038inst_47117inst_14893',\n",
       " 'app_7145': 'inst_81950inst_13426',\n",
       " 'app_3103': 'inst_13008inst_16713inst_1805inst_77941inst_76541inst_51076inst_14702inst_53751',\n",
       " 'app_2449': 'inst_66275inst_27260inst_78074inst_55272',\n",
       " 'app_2982': 'inst_72744inst_74242',\n",
       " 'app_1688': 'inst_34715inst_59238',\n",
       " 'app_4016': 'inst_759inst_88946',\n",
       " 'app_8251': 'inst_19465inst_4997inst_17324',\n",
       " 'app_3031': 'inst_71775inst_68916',\n",
       " 'app_1114': 'inst_73427',\n",
       " 'app_7282': 'inst_7453inst_75908inst_32058',\n",
       " 'app_8707': 'inst_64619',\n",
       " 'app_8498': 'inst_69920inst_37503inst_11469inst_43733inst_26215inst_6657inst_71953inst_97650inst_5818inst_9835inst_92370inst_25780inst_89393inst_33697inst_27459inst_4069inst_95820',\n",
       " 'app_5018': 'inst_64746',\n",
       " 'app_856': 'inst_49990',\n",
       " 'app_8642': 'inst_73660inst_74084',\n",
       " 'app_8784': 'inst_69999',\n",
       " 'app_883': 'inst_74931inst_16232inst_38962inst_2050inst_99628inst_7546inst_49132inst_47678inst_83845inst_67378inst_94220inst_89422inst_61318',\n",
       " 'app_703': 'inst_23006inst_79966inst_26844inst_9351inst_37672inst_94299inst_25357inst_35477',\n",
       " 'app_6460': 'inst_58980inst_18155',\n",
       " 'app_6252': 'inst_7386',\n",
       " 'app_8278': 'inst_6567inst_14395inst_19801',\n",
       " 'app_9022': 'inst_10929inst_9712',\n",
       " 'app_7309': 'inst_56361inst_72694inst_69486inst_57599inst_16939inst_15062inst_62713inst_51858inst_52554inst_48185inst_71994inst_653inst_60913inst_85368inst_77670inst_54983inst_53006inst_43027inst_48222inst_11755inst_99864inst_27375inst_6929inst_14874inst_75144inst_42139inst_14254inst_96323inst_65835inst_22377inst_98245inst_5764inst_41744inst_82415inst_67776inst_41136inst_78790inst_10967inst_36951inst_82977inst_20706inst_97812inst_46206inst_69039inst_7897inst_52641inst_74698inst_93964inst_28328inst_1706inst_13149inst_72392inst_36877inst_40846inst_34149inst_56840inst_40874inst_60897inst_85512inst_46363inst_69635inst_54625inst_87690inst_58399inst_27057inst_12827inst_78908inst_74595inst_69729inst_52066inst_23393inst_97311inst_12850inst_96952inst_63282inst_32197inst_2479inst_89089inst_56998inst_24878inst_34261inst_16089inst_46025inst_55442inst_56594inst_76898inst_34243',\n",
       " 'app_906': 'inst_50335inst_48799',\n",
       " 'app_8114': 'inst_17150inst_30063inst_65829',\n",
       " 'app_5579': 'inst_56315inst_56933inst_6012inst_17277inst_67364',\n",
       " 'app_3463': 'inst_39896inst_79864',\n",
       " ...}"
      ]
     },
     "execution_count": 36,
     "metadata": {},
     "output_type": "execute_result"
    }
   ],
   "source": [
    "a_i"
   ]
  },
  {
   "cell_type": "code",
   "execution_count": 35,
   "metadata": {
    "run_control": {
     "marked": false
    }
   },
   "outputs": [
    {
     "data": {
      "text/plain": [
       "'inst_321'"
      ]
     },
     "execution_count": 35,
     "metadata": {},
     "output_type": "execute_result"
    }
   ],
   "source": [
    "a_i['app_7189']"
   ]
  },
  {
   "cell_type": "code",
   "execution_count": 115,
   "metadata": {
    "run_control": {
     "marked": false
    }
   },
   "outputs": [
    {
     "name": "stdout",
     "output_type": "stream",
     "text": [
      "Overwriting diaodu/testcase.py\n"
     ]
    }
   ],
   "source": [
    "%%file diaodu/testcase.py\n",
    "# df_app_inter[['aid','bid']].sum(axis=1)\n",
    "df_app_inter['ab']=df_app_inter[['aid','bid','v']].apply(lambda x:'({})'.format(x.aid)\n",
    "                                                         +'(.*?{})'.format(x.bid)*(int(x.v)+1),axis=1)\n",
    "df_app_inter['ab_example']=df_app_inter[['aid','bid','v']].apply(lambda x:x.aid+''+x.bid*(x.v+1),axis=1)\n",
    "df_app_inter['ab_example']=df_app_inter[['aid','bid','v']].apply(lambda x:x.bid+''+x.aid*(x.v+1),axis=1)\n",
    "df_app_inter['ab_example']=df_app_inter[['aid','bid','v']].apply(lambda x:x.aid+''+x.bid*(x.v+0),axis=1)\n",
    "df_app_inter['ab_example']=df_app_inter[['aid','bid','v']].apply(lambda x:x.aid+'app_1111'+x.bid*(x.v+1),axis=1)\n",
    "# df_app_inter['reg']\n",
    "\n",
    "import re\n",
    "df_app_inter.ab.apply(lambda x: re.findall(x,df_app_inter.ab_example[101])).max()\n",
    "\n",
    "df_app_inter.ab_example[101]\n",
    "\n",
    "df_app_inter.ab[101]"
   ]
  },
  {
   "cell_type": "code",
   "execution_count": null,
   "metadata": {
    "run_control": {
     "marked": false
    }
   },
   "outputs": [],
   "source": [
    "df_app_inter.ab"
   ]
  },
  {
   "cell_type": "code",
   "execution_count": 53,
   "metadata": {
    "code_folding": [],
    "run_control": {
     "marked": false
    }
   },
   "outputs": [],
   "source": [
    "##grouped\n",
    "grouped=df_app_inter.iloc[:].groupby('aid')\n",
    "\n",
    "grouped.first()\n",
    "# grouped.get_group('app_100')\n",
    "# grouped.get_group('app_100')\n",
    "# grouped.boxplot()\n",
    "def f(group):\n",
    "    return pd.DataFrame({\n",
    "#         'aid':group.aid,\n",
    "        'bid':'|'.join(group.bid.tolist()),\n",
    "        'len': len(group.bid),})\n",
    "#         'v': group.v})\n",
    "def f(group):\n",
    "    return{\n",
    "#         'aid':group.aid,\n",
    "        'bid':'|'.join(group.bid.tolist()),\n",
    "        'len': len(group.bid),\n",
    "        'v': '|'.join(group.v.values.astype(str))}\n",
    "def fa(group):\n",
    "    return  len(group.bid),\n",
    "def fb(group):\n",
    "    return '|'.join(group.bid.tolist())\n",
    "# df_app_inter_grouped=grouped['v','bid'].agg(lambda x:len(x.bid))\n",
    "df_app_inter_grouped=grouped['v','bid'].agg(f)\n",
    "# df_app_inter_grouped=grouped['v','bid'].agg(f)\n",
    "# rename(columns={'bid':'bid_len'})\n",
    "# grouped['v','bid'].a\n",
    "# grouped.bid.sum()\n",
    "# grouped.v.mean()\n"
   ]
  },
  {
   "cell_type": "code",
   "execution_count": 20,
   "metadata": {
    "run_control": {
     "marked": false
    }
   },
   "outputs": [
    {
     "data": {
      "text/html": [
       "<div>\n",
       "<style scoped>\n",
       "    .dataframe tbody tr th:only-of-type {\n",
       "        vertical-align: middle;\n",
       "    }\n",
       "\n",
       "    .dataframe tbody tr th {\n",
       "        vertical-align: top;\n",
       "    }\n",
       "\n",
       "    .dataframe thead th {\n",
       "        text-align: right;\n",
       "    }\n",
       "</style>\n",
       "<table border=\"1\" class=\"dataframe\">\n",
       "  <thead>\n",
       "    <tr style=\"text-align: right;\">\n",
       "      <th></th>\n",
       "      <th>bid</th>\n",
       "      <th>len</th>\n",
       "      <th>v</th>\n",
       "    </tr>\n",
       "  </thead>\n",
       "  <tbody>\n",
       "    <tr>\n",
       "      <th>0</th>\n",
       "      <td>app_2163</td>\n",
       "      <td>1</td>\n",
       "      <td>0</td>\n",
       "    </tr>\n",
       "    <tr>\n",
       "      <th>1</th>\n",
       "      <td>app_8959</td>\n",
       "      <td>1</td>\n",
       "      <td>0</td>\n",
       "    </tr>\n",
       "    <tr>\n",
       "      <th>2</th>\n",
       "      <td>app_3361|app_1919|app_2749|app_1148|app_2482|a...</td>\n",
       "      <td>29</td>\n",
       "      <td>2</td>\n",
       "    </tr>\n",
       "    <tr>\n",
       "      <th>3</th>\n",
       "      <td>app_3361|app_1919|app_2749|app_1148|app_2482|a...</td>\n",
       "      <td>29</td>\n",
       "      <td>2</td>\n",
       "    </tr>\n",
       "    <tr>\n",
       "      <th>4</th>\n",
       "      <td>app_3361|app_1919|app_2749|app_1148|app_2482|a...</td>\n",
       "      <td>29</td>\n",
       "      <td>2</td>\n",
       "    </tr>\n",
       "  </tbody>\n",
       "</table>\n",
       "</div>"
      ],
      "text/plain": [
       "                                                 bid  len  v\n",
       "0                                           app_2163    1  0\n",
       "1                                           app_8959    1  0\n",
       "2  app_3361|app_1919|app_2749|app_1148|app_2482|a...   29  2\n",
       "3  app_3361|app_1919|app_2749|app_1148|app_2482|a...   29  2\n",
       "4  app_3361|app_1919|app_2749|app_1148|app_2482|a...   29  2"
      ]
     },
     "execution_count": 20,
     "metadata": {},
     "output_type": "execute_result"
    }
   ],
   "source": [
    "df_app_inter_grouped.head()"
   ]
  },
  {
   "cell_type": "code",
   "execution_count": 61,
   "metadata": {
    "hide_input": false,
    "run_control": {
     "marked": false
    }
   },
   "outputs": [],
   "source": [
    "df_sum=pd.merge(df_machine,df_ins,on='mid',how='outer')\n",
    "# after the merge of machine info into the sum, the deployed iid, and plus the undeployed iid, {{df_sum.iid.nunique()+df_sum.iid.isnull().sum()}}\n",
    "df_sum.shape\n",
    "# del df_machine,df_ins\n",
    "# gc.collect()\n",
    "df_sum=pd.merge(df_sum,df_app_res,on='aid',how='outer')\n",
    "# del df_app_res\n",
    "# gc.collect()\n",
    "\n",
    "df_sum['disk']=df_sum['disk'+'_y']/df_sum['disk'+'_x']\n",
    "\n",
    "# df_sum_dp['disk'].value_counts()\n",
    "\n",
    "df_sum['deploy']=df_sum['mid'].notnull()&df_sum['iid'].notnull()\n",
    "# df_sum['deploy']=df_sum['mid'].notnull()\n",
    "\n",
    "df_sum=pd.merge(df_sum,df_app_inter_grouped,on='aid',how='outer')\n",
    "\n",
    "# del df_app_inter\n",
    "# gc.collect()\n",
    "# fe=en_vec(df_sum[col_in_en])\n",
    "df_sum_ins=df_sum[df_sum['iid'].notnull()]"
   ]
  },
  {
   "cell_type": "code",
   "execution_count": 42,
   "metadata": {
    "collapsed": true,
    "run_control": {
     "marked": false
    }
   },
   "outputs": [
    {
     "data": {
      "text/plain": [
       "count          68219\n",
       "unique         68219\n",
       "top       inst_92987\n",
       "freq               1\n",
       "Name: iid, dtype: object"
      ]
     },
     "execution_count": 42,
     "metadata": {},
     "output_type": "execute_result"
    }
   ],
   "source": [
    "# df_sum.shape,\n",
    "df_sum.iid.describe()"
   ]
  },
  {
   "cell_type": "code",
   "execution_count": 15,
   "metadata": {
    "collapsed": true,
    "run_control": {
     "marked": false
    }
   },
   "outputs": [
    {
     "data": {
      "text/plain": [
       "Index([       'mid',      'cpu_x',      'mem_x',     'disk_x',        'p_x',\n",
       "              'm_x',       'pm_x',     'cpu_en',     'mem_en',    'disk_en',\n",
       "       ...\n",
       "                 96,           97,       'disk',     'deploy', 'Unnamed: 0',\n",
       "             'vec7',       'vec5',       'vec4',       'vec3',       'vec1'],\n",
       "      dtype='object', length=226)"
      ]
     },
     "execution_count": 15,
     "metadata": {},
     "output_type": "execute_result"
    }
   ],
   "source": [
    "df_sum.columns"
   ]
  },
  {
   "cell_type": "code",
   "execution_count": 16,
   "metadata": {
    "run_control": {
     "marked": false
    }
   },
   "outputs": [
    {
     "data": {
      "text/plain": [
       "1    3000\n",
       "0    3000\n",
       "Name: target, dtype: int64"
      ]
     },
     "execution_count": 16,
     "metadata": {},
     "output_type": "execute_result"
    }
   ],
   "source": [
    "df_machine.target.value_counts()"
   ]
  },
  {
   "cell_type": "code",
   "execution_count": 18,
   "metadata": {
    "collapsed": true,
    "run_control": {
     "marked": false
    }
   },
   "outputs": [
    {
     "data": {
      "text/plain": [
       "count          68219\n",
       "unique         68219\n",
       "top       inst_19785\n",
       "freq               1\n",
       "Name: iid, dtype: object"
      ]
     },
     "execution_count": 18,
     "metadata": {},
     "output_type": "execute_result"
    }
   ],
   "source": [
    "df_sum_ins.iid.describe()"
   ]
  },
  {
   "cell_type": "code",
   "execution_count": 19,
   "metadata": {
    "collapsed": true,
    "run_control": {
     "marked": false
    }
   },
   "outputs": [
    {
     "data": {
      "text/plain": [
       "(68219, 226)"
      ]
     },
     "execution_count": 19,
     "metadata": {},
     "output_type": "execute_result"
    }
   ],
   "source": [
    "df_sum_ins.shape"
   ]
  },
  {
   "cell_type": "code",
   "execution_count": 32,
   "metadata": {
    "collapsed": true,
    "run_control": {
     "marked": false
    }
   },
   "outputs": [
    {
     "data": {
      "text/plain": [
       "array(['aid', 'cpu', 'mem', 'disk', 'p', 'm', 'pm', 0, 1, 2, 3, 4, 5, 6,\n",
       "       7, 8, 9, 10, 11, 12, 13, 14, 15, 16, 17, 18, 19, 20, 21, 22, 23,\n",
       "       24, 25, 26, 27, 28, 29, 30, 31, 32, 33, 34, 35, 36, 37, 38, 39, 40,\n",
       "       41, 42, 43, 44, 45, 46, 47, 48, 49, 50, 51, 52, 53, 54, 55, 56, 57,\n",
       "       58, 59, 60, 61, 62, 63, 64, 65, 66, 67, 68, 69, 70, 71, 72, 73, 74,\n",
       "       75, 76, 77, 78, 79, 80, 81, 82, 83, 84, 85, 86, 87, 88, 89, 90, 91,\n",
       "       92, 93, 94, 95, 96, 97, 0, 1, 2, 3, 4, 5, 6, 7, 8, 9, 10, 11, 12,\n",
       "       13, 14, 15, 16, 17, 18, 19, 20, 21, 22, 23, 24, 25, 26, 27, 28, 29,\n",
       "       30, 31, 32, 33, 34, 35, 36, 37, 38, 39, 40, 41, 42, 43, 44, 45, 46,\n",
       "       47, 48, 49, 50, 51, 52, 53, 54, 55, 56, 57, 58, 59, 60, 61, 62, 63,\n",
       "       64, 65, 66, 67, 68, 69, 70, 71, 72, 73, 74, 75, 76, 77, 78, 79, 80,\n",
       "       81, 82, 83, 84, 85, 86, 87, 88, 89, 90, 91, 92, 93, 94, 95, 96, 97],\n",
       "      dtype=object)"
      ]
     },
     "execution_count": 32,
     "metadata": {},
     "output_type": "execute_result"
    }
   ],
   "source": [
    "df_app_res.columns.values"
   ]
  },
  {
   "cell_type": "code",
   "execution_count": 9,
   "metadata": {
    "collapsed": true,
    "hide_input": false,
    "run_control": {
     "marked": false
    }
   },
   "outputs": [
    {
     "ename": "KeyError",
     "evalue": "'deploy'",
     "output_type": "error",
     "traceback": [
      "\u001b[0;31m---------------------------------------------------------------------------\u001b[0m",
      "\u001b[0;31mKeyError\u001b[0m                                  Traceback (most recent call last)",
      "\u001b[0;32m~/anaconda/envs/patent-landscape/lib/python3.5/site-packages/pandas/core/indexes/base.py\u001b[0m in \u001b[0;36mget_loc\u001b[0;34m(self, key, method, tolerance)\u001b[0m\n\u001b[1;32m   2524\u001b[0m             \u001b[0;32mtry\u001b[0m\u001b[0;34m:\u001b[0m\u001b[0;34m\u001b[0m\u001b[0m\n\u001b[0;32m-> 2525\u001b[0;31m                 \u001b[0;32mreturn\u001b[0m \u001b[0mself\u001b[0m\u001b[0;34m.\u001b[0m\u001b[0m_engine\u001b[0m\u001b[0;34m.\u001b[0m\u001b[0mget_loc\u001b[0m\u001b[0;34m(\u001b[0m\u001b[0mkey\u001b[0m\u001b[0;34m)\u001b[0m\u001b[0;34m\u001b[0m\u001b[0m\n\u001b[0m\u001b[1;32m   2526\u001b[0m             \u001b[0;32mexcept\u001b[0m \u001b[0mKeyError\u001b[0m\u001b[0;34m:\u001b[0m\u001b[0;34m\u001b[0m\u001b[0m\n",
      "\u001b[0;32mpandas/_libs/index.pyx\u001b[0m in \u001b[0;36mpandas._libs.index.IndexEngine.get_loc\u001b[0;34m()\u001b[0m\n",
      "\u001b[0;32mpandas/_libs/index.pyx\u001b[0m in \u001b[0;36mpandas._libs.index.IndexEngine.get_loc\u001b[0;34m()\u001b[0m\n",
      "\u001b[0;32mpandas/_libs/hashtable_class_helper.pxi\u001b[0m in \u001b[0;36mpandas._libs.hashtable.PyObjectHashTable.get_item\u001b[0;34m()\u001b[0m\n",
      "\u001b[0;32mpandas/_libs/hashtable_class_helper.pxi\u001b[0m in \u001b[0;36mpandas._libs.hashtable.PyObjectHashTable.get_item\u001b[0;34m()\u001b[0m\n",
      "\u001b[0;31mKeyError\u001b[0m: 'deploy'",
      "\nDuring handling of the above exception, another exception occurred:\n",
      "\u001b[0;31mKeyError\u001b[0m                                  Traceback (most recent call last)",
      "\u001b[0;32m<ipython-input-9-b9a11d011b43>\u001b[0m in \u001b[0;36m<module>\u001b[0;34m()\u001b[0m\n\u001b[0;32m----> 1\u001b[0;31m \u001b[0mdf_sum_dp\u001b[0m\u001b[0;34m=\u001b[0m\u001b[0mdf_sum\u001b[0m\u001b[0;34m[\u001b[0m\u001b[0mdf_sum\u001b[0m\u001b[0;34m[\u001b[0m\u001b[0;34m'deploy'\u001b[0m\u001b[0;34m]\u001b[0m\u001b[0;34m==\u001b[0m\u001b[0;32mTrue\u001b[0m\u001b[0;34m]\u001b[0m\u001b[0;34m\u001b[0m\u001b[0m\n\u001b[0m\u001b[1;32m      2\u001b[0m \u001b[0;32mdel\u001b[0m \u001b[0mdf_sum\u001b[0m\u001b[0;34m\u001b[0m\u001b[0m\n\u001b[1;32m      3\u001b[0m \u001b[0mgc\u001b[0m\u001b[0;34m.\u001b[0m\u001b[0mcollect\u001b[0m\u001b[0;34m(\u001b[0m\u001b[0;34m)\u001b[0m\u001b[0;34m\u001b[0m\u001b[0m\n",
      "\u001b[0;32m~/anaconda/envs/patent-landscape/lib/python3.5/site-packages/pandas/core/frame.py\u001b[0m in \u001b[0;36m__getitem__\u001b[0;34m(self, key)\u001b[0m\n\u001b[1;32m   2137\u001b[0m             \u001b[0;32mreturn\u001b[0m \u001b[0mself\u001b[0m\u001b[0;34m.\u001b[0m\u001b[0m_getitem_multilevel\u001b[0m\u001b[0;34m(\u001b[0m\u001b[0mkey\u001b[0m\u001b[0;34m)\u001b[0m\u001b[0;34m\u001b[0m\u001b[0m\n\u001b[1;32m   2138\u001b[0m         \u001b[0;32melse\u001b[0m\u001b[0;34m:\u001b[0m\u001b[0;34m\u001b[0m\u001b[0m\n\u001b[0;32m-> 2139\u001b[0;31m             \u001b[0;32mreturn\u001b[0m \u001b[0mself\u001b[0m\u001b[0;34m.\u001b[0m\u001b[0m_getitem_column\u001b[0m\u001b[0;34m(\u001b[0m\u001b[0mkey\u001b[0m\u001b[0;34m)\u001b[0m\u001b[0;34m\u001b[0m\u001b[0m\n\u001b[0m\u001b[1;32m   2140\u001b[0m \u001b[0;34m\u001b[0m\u001b[0m\n\u001b[1;32m   2141\u001b[0m     \u001b[0;32mdef\u001b[0m \u001b[0m_getitem_column\u001b[0m\u001b[0;34m(\u001b[0m\u001b[0mself\u001b[0m\u001b[0;34m,\u001b[0m \u001b[0mkey\u001b[0m\u001b[0;34m)\u001b[0m\u001b[0;34m:\u001b[0m\u001b[0;34m\u001b[0m\u001b[0m\n",
      "\u001b[0;32m~/anaconda/envs/patent-landscape/lib/python3.5/site-packages/pandas/core/frame.py\u001b[0m in \u001b[0;36m_getitem_column\u001b[0;34m(self, key)\u001b[0m\n\u001b[1;32m   2149\u001b[0m         \u001b[0mresult\u001b[0m \u001b[0;34m=\u001b[0m \u001b[0mself\u001b[0m\u001b[0;34m.\u001b[0m\u001b[0m_constructor\u001b[0m\u001b[0;34m(\u001b[0m\u001b[0mself\u001b[0m\u001b[0;34m.\u001b[0m\u001b[0m_data\u001b[0m\u001b[0;34m.\u001b[0m\u001b[0mget\u001b[0m\u001b[0;34m(\u001b[0m\u001b[0mkey\u001b[0m\u001b[0;34m)\u001b[0m\u001b[0;34m)\u001b[0m\u001b[0;34m\u001b[0m\u001b[0m\n\u001b[1;32m   2150\u001b[0m         \u001b[0;32mif\u001b[0m \u001b[0mresult\u001b[0m\u001b[0;34m.\u001b[0m\u001b[0mcolumns\u001b[0m\u001b[0;34m.\u001b[0m\u001b[0mis_unique\u001b[0m\u001b[0;34m:\u001b[0m\u001b[0;34m\u001b[0m\u001b[0m\n\u001b[0;32m-> 2151\u001b[0;31m             \u001b[0mresult\u001b[0m \u001b[0;34m=\u001b[0m \u001b[0mresult\u001b[0m\u001b[0;34m[\u001b[0m\u001b[0mkey\u001b[0m\u001b[0;34m]\u001b[0m\u001b[0;34m\u001b[0m\u001b[0m\n\u001b[0m\u001b[1;32m   2152\u001b[0m \u001b[0;34m\u001b[0m\u001b[0m\n\u001b[1;32m   2153\u001b[0m         \u001b[0;32mreturn\u001b[0m \u001b[0mresult\u001b[0m\u001b[0;34m\u001b[0m\u001b[0m\n",
      "\u001b[0;32m~/anaconda/envs/patent-landscape/lib/python3.5/site-packages/pandas/core/frame.py\u001b[0m in \u001b[0;36m__getitem__\u001b[0;34m(self, key)\u001b[0m\n\u001b[1;32m   2137\u001b[0m             \u001b[0;32mreturn\u001b[0m \u001b[0mself\u001b[0m\u001b[0;34m.\u001b[0m\u001b[0m_getitem_multilevel\u001b[0m\u001b[0;34m(\u001b[0m\u001b[0mkey\u001b[0m\u001b[0;34m)\u001b[0m\u001b[0;34m\u001b[0m\u001b[0m\n\u001b[1;32m   2138\u001b[0m         \u001b[0;32melse\u001b[0m\u001b[0;34m:\u001b[0m\u001b[0;34m\u001b[0m\u001b[0m\n\u001b[0;32m-> 2139\u001b[0;31m             \u001b[0;32mreturn\u001b[0m \u001b[0mself\u001b[0m\u001b[0;34m.\u001b[0m\u001b[0m_getitem_column\u001b[0m\u001b[0;34m(\u001b[0m\u001b[0mkey\u001b[0m\u001b[0;34m)\u001b[0m\u001b[0;34m\u001b[0m\u001b[0m\n\u001b[0m\u001b[1;32m   2140\u001b[0m \u001b[0;34m\u001b[0m\u001b[0m\n\u001b[1;32m   2141\u001b[0m     \u001b[0;32mdef\u001b[0m \u001b[0m_getitem_column\u001b[0m\u001b[0;34m(\u001b[0m\u001b[0mself\u001b[0m\u001b[0;34m,\u001b[0m \u001b[0mkey\u001b[0m\u001b[0;34m)\u001b[0m\u001b[0;34m:\u001b[0m\u001b[0;34m\u001b[0m\u001b[0m\n",
      "\u001b[0;32m~/anaconda/envs/patent-landscape/lib/python3.5/site-packages/pandas/core/frame.py\u001b[0m in \u001b[0;36m_getitem_column\u001b[0;34m(self, key)\u001b[0m\n\u001b[1;32m   2144\u001b[0m         \u001b[0;31m# get column\u001b[0m\u001b[0;34m\u001b[0m\u001b[0;34m\u001b[0m\u001b[0m\n\u001b[1;32m   2145\u001b[0m         \u001b[0;32mif\u001b[0m \u001b[0mself\u001b[0m\u001b[0;34m.\u001b[0m\u001b[0mcolumns\u001b[0m\u001b[0;34m.\u001b[0m\u001b[0mis_unique\u001b[0m\u001b[0;34m:\u001b[0m\u001b[0;34m\u001b[0m\u001b[0m\n\u001b[0;32m-> 2146\u001b[0;31m             \u001b[0;32mreturn\u001b[0m \u001b[0mself\u001b[0m\u001b[0;34m.\u001b[0m\u001b[0m_get_item_cache\u001b[0m\u001b[0;34m(\u001b[0m\u001b[0mkey\u001b[0m\u001b[0;34m)\u001b[0m\u001b[0;34m\u001b[0m\u001b[0m\n\u001b[0m\u001b[1;32m   2147\u001b[0m \u001b[0;34m\u001b[0m\u001b[0m\n\u001b[1;32m   2148\u001b[0m         \u001b[0;31m# duplicate columns & possible reduce dimensionality\u001b[0m\u001b[0;34m\u001b[0m\u001b[0;34m\u001b[0m\u001b[0m\n",
      "\u001b[0;32m~/anaconda/envs/patent-landscape/lib/python3.5/site-packages/pandas/core/generic.py\u001b[0m in \u001b[0;36m_get_item_cache\u001b[0;34m(self, item)\u001b[0m\n\u001b[1;32m   1840\u001b[0m         \u001b[0mres\u001b[0m \u001b[0;34m=\u001b[0m \u001b[0mcache\u001b[0m\u001b[0;34m.\u001b[0m\u001b[0mget\u001b[0m\u001b[0;34m(\u001b[0m\u001b[0mitem\u001b[0m\u001b[0;34m)\u001b[0m\u001b[0;34m\u001b[0m\u001b[0m\n\u001b[1;32m   1841\u001b[0m         \u001b[0;32mif\u001b[0m \u001b[0mres\u001b[0m \u001b[0;32mis\u001b[0m \u001b[0;32mNone\u001b[0m\u001b[0;34m:\u001b[0m\u001b[0;34m\u001b[0m\u001b[0m\n\u001b[0;32m-> 1842\u001b[0;31m             \u001b[0mvalues\u001b[0m \u001b[0;34m=\u001b[0m \u001b[0mself\u001b[0m\u001b[0;34m.\u001b[0m\u001b[0m_data\u001b[0m\u001b[0;34m.\u001b[0m\u001b[0mget\u001b[0m\u001b[0;34m(\u001b[0m\u001b[0mitem\u001b[0m\u001b[0;34m)\u001b[0m\u001b[0;34m\u001b[0m\u001b[0m\n\u001b[0m\u001b[1;32m   1843\u001b[0m             \u001b[0mres\u001b[0m \u001b[0;34m=\u001b[0m \u001b[0mself\u001b[0m\u001b[0;34m.\u001b[0m\u001b[0m_box_item_values\u001b[0m\u001b[0;34m(\u001b[0m\u001b[0mitem\u001b[0m\u001b[0;34m,\u001b[0m \u001b[0mvalues\u001b[0m\u001b[0;34m)\u001b[0m\u001b[0;34m\u001b[0m\u001b[0m\n\u001b[1;32m   1844\u001b[0m             \u001b[0mcache\u001b[0m\u001b[0;34m[\u001b[0m\u001b[0mitem\u001b[0m\u001b[0;34m]\u001b[0m \u001b[0;34m=\u001b[0m \u001b[0mres\u001b[0m\u001b[0;34m\u001b[0m\u001b[0m\n",
      "\u001b[0;32m~/anaconda/envs/patent-landscape/lib/python3.5/site-packages/pandas/core/internals.py\u001b[0m in \u001b[0;36mget\u001b[0;34m(self, item, fastpath)\u001b[0m\n\u001b[1;32m   3841\u001b[0m \u001b[0;34m\u001b[0m\u001b[0m\n\u001b[1;32m   3842\u001b[0m             \u001b[0;32mif\u001b[0m \u001b[0;32mnot\u001b[0m \u001b[0misna\u001b[0m\u001b[0;34m(\u001b[0m\u001b[0mitem\u001b[0m\u001b[0;34m)\u001b[0m\u001b[0;34m:\u001b[0m\u001b[0;34m\u001b[0m\u001b[0m\n\u001b[0;32m-> 3843\u001b[0;31m                 \u001b[0mloc\u001b[0m \u001b[0;34m=\u001b[0m \u001b[0mself\u001b[0m\u001b[0;34m.\u001b[0m\u001b[0mitems\u001b[0m\u001b[0;34m.\u001b[0m\u001b[0mget_loc\u001b[0m\u001b[0;34m(\u001b[0m\u001b[0mitem\u001b[0m\u001b[0;34m)\u001b[0m\u001b[0;34m\u001b[0m\u001b[0m\n\u001b[0m\u001b[1;32m   3844\u001b[0m             \u001b[0;32melse\u001b[0m\u001b[0;34m:\u001b[0m\u001b[0;34m\u001b[0m\u001b[0m\n\u001b[1;32m   3845\u001b[0m                 \u001b[0mindexer\u001b[0m \u001b[0;34m=\u001b[0m \u001b[0mnp\u001b[0m\u001b[0;34m.\u001b[0m\u001b[0marange\u001b[0m\u001b[0;34m(\u001b[0m\u001b[0mlen\u001b[0m\u001b[0;34m(\u001b[0m\u001b[0mself\u001b[0m\u001b[0;34m.\u001b[0m\u001b[0mitems\u001b[0m\u001b[0;34m)\u001b[0m\u001b[0;34m)\u001b[0m\u001b[0;34m[\u001b[0m\u001b[0misna\u001b[0m\u001b[0;34m(\u001b[0m\u001b[0mself\u001b[0m\u001b[0;34m.\u001b[0m\u001b[0mitems\u001b[0m\u001b[0;34m)\u001b[0m\u001b[0;34m]\u001b[0m\u001b[0;34m\u001b[0m\u001b[0m\n",
      "\u001b[0;32m~/anaconda/envs/patent-landscape/lib/python3.5/site-packages/pandas/core/indexes/base.py\u001b[0m in \u001b[0;36mget_loc\u001b[0;34m(self, key, method, tolerance)\u001b[0m\n\u001b[1;32m   2525\u001b[0m                 \u001b[0;32mreturn\u001b[0m \u001b[0mself\u001b[0m\u001b[0;34m.\u001b[0m\u001b[0m_engine\u001b[0m\u001b[0;34m.\u001b[0m\u001b[0mget_loc\u001b[0m\u001b[0;34m(\u001b[0m\u001b[0mkey\u001b[0m\u001b[0;34m)\u001b[0m\u001b[0;34m\u001b[0m\u001b[0m\n\u001b[1;32m   2526\u001b[0m             \u001b[0;32mexcept\u001b[0m \u001b[0mKeyError\u001b[0m\u001b[0;34m:\u001b[0m\u001b[0;34m\u001b[0m\u001b[0m\n\u001b[0;32m-> 2527\u001b[0;31m                 \u001b[0;32mreturn\u001b[0m \u001b[0mself\u001b[0m\u001b[0;34m.\u001b[0m\u001b[0m_engine\u001b[0m\u001b[0;34m.\u001b[0m\u001b[0mget_loc\u001b[0m\u001b[0;34m(\u001b[0m\u001b[0mself\u001b[0m\u001b[0;34m.\u001b[0m\u001b[0m_maybe_cast_indexer\u001b[0m\u001b[0;34m(\u001b[0m\u001b[0mkey\u001b[0m\u001b[0;34m)\u001b[0m\u001b[0;34m)\u001b[0m\u001b[0;34m\u001b[0m\u001b[0m\n\u001b[0m\u001b[1;32m   2528\u001b[0m \u001b[0;34m\u001b[0m\u001b[0m\n\u001b[1;32m   2529\u001b[0m         \u001b[0mindexer\u001b[0m \u001b[0;34m=\u001b[0m \u001b[0mself\u001b[0m\u001b[0;34m.\u001b[0m\u001b[0mget_indexer\u001b[0m\u001b[0;34m(\u001b[0m\u001b[0;34m[\u001b[0m\u001b[0mkey\u001b[0m\u001b[0;34m]\u001b[0m\u001b[0;34m,\u001b[0m \u001b[0mmethod\u001b[0m\u001b[0;34m=\u001b[0m\u001b[0mmethod\u001b[0m\u001b[0;34m,\u001b[0m \u001b[0mtolerance\u001b[0m\u001b[0;34m=\u001b[0m\u001b[0mtolerance\u001b[0m\u001b[0;34m)\u001b[0m\u001b[0;34m\u001b[0m\u001b[0m\n",
      "\u001b[0;32mpandas/_libs/index.pyx\u001b[0m in \u001b[0;36mpandas._libs.index.IndexEngine.get_loc\u001b[0;34m()\u001b[0m\n",
      "\u001b[0;32mpandas/_libs/index.pyx\u001b[0m in \u001b[0;36mpandas._libs.index.IndexEngine.get_loc\u001b[0;34m()\u001b[0m\n",
      "\u001b[0;32mpandas/_libs/hashtable_class_helper.pxi\u001b[0m in \u001b[0;36mpandas._libs.hashtable.PyObjectHashTable.get_item\u001b[0;34m()\u001b[0m\n",
      "\u001b[0;32mpandas/_libs/hashtable_class_helper.pxi\u001b[0m in \u001b[0;36mpandas._libs.hashtable.PyObjectHashTable.get_item\u001b[0;34m()\u001b[0m\n",
      "\u001b[0;31mKeyError\u001b[0m: 'deploy'"
     ]
    }
   ],
   "source": [
    "df_sum_dp=df_sum[df_sum['deploy']==True]\n",
    "del df_sum\n",
    "gc.collect()"
   ]
  },
  {
   "cell_type": "code",
   "execution_count": 9,
   "metadata": {
    "code_folding": [
     0
    ],
    "collapsed": true,
    "hide_input": false,
    "run_control": {
     "marked": false
    }
   },
   "outputs": [
    {
     "ename": "NameError",
     "evalue": "name 'df_sum_ins' is not defined",
     "output_type": "error",
     "traceback": [
      "\u001b[0;31m---------------------------------------------------------------------------\u001b[0m",
      "\u001b[0;31mNameError\u001b[0m                                 Traceback (most recent call last)",
      "\u001b[0;32m<ipython-input-9-8cad7cf6fd4e>\u001b[0m in \u001b[0;36m<module>\u001b[0;34m()\u001b[0m\n\u001b[1;32m     31\u001b[0m \u001b[0;31m# col_in+=['vec1']\u001b[0m\u001b[0;34m\u001b[0m\u001b[0;34m\u001b[0m\u001b[0m\n\u001b[1;32m     32\u001b[0m \u001b[0;31m# df_sum_dp[col_in]\u001b[0m\u001b[0;34m\u001b[0m\u001b[0;34m\u001b[0m\u001b[0m\n\u001b[0;32m---> 33\u001b[0;31m \u001b[0mfe\u001b[0m\u001b[0;34m=\u001b[0m\u001b[0men_vec\u001b[0m\u001b[0;34m(\u001b[0m\u001b[0mdf_sum_ins\u001b[0m\u001b[0;34m)\u001b[0m\u001b[0;34m\u001b[0m\u001b[0m\n\u001b[0m",
      "\u001b[0;31mNameError\u001b[0m: name 'df_sum_ins' is not defined"
     ]
    }
   ],
   "source": [
    "# col_in=[]\n",
    "col_in=[]\n",
    "# col_in=['iid','aid','mid','cpu_y','mem_y','disk_y']\n",
    "# col_in=['cpu_y','mem_y']\n",
    "# col_in=[each for each in range(98)]\n",
    "# col_in=col_in+'p_y:m_y:pm_y'.split(':')\n",
    "# col_in+=['target']\n",
    "# col_in+=['disk_x']\n",
    "# col_in+=['disk_y']\n",
    "# col_in+=['deploy']\n",
    "\n",
    "# col_in+='p_m_pm'.split('_')\n",
    "col_in+=['disk']\n",
    "# col_in+=['bid']\n",
    "# col_in+=['v']\n",
    "\n",
    "#### ignore some fe\n",
    "\n",
    "col_in_en=[]\n",
    "col_in_en+=['vec7']\n",
    "col_in_en+=['vec5']\n",
    "col_in_en+=['vec4']\n",
    "col_in_en+=['vec3']\n",
    "col_in_en+=['vec1']\n",
    "# df_sum_dp[col_in]\n",
    "\n",
    "# col_in+=['vec7']\n",
    "# col_in+=['vec5']\n",
    "# col_in+=['vec4']\n",
    "# col_in+=['vec3']\n",
    "# col_in+=['vec1']\n",
    "# df_sum_dp[col_in]\n",
    "fe=en_vec(df_sum_ins)"
   ]
  },
  {
   "cell_type": "code",
   "execution_count": 10,
   "metadata": {
    "code_folding": [
     0
    ],
    "collapsed": true,
    "hide_input": false,
    "run_control": {
     "marked": false
    }
   },
   "outputs": [
    {
     "ename": "NameError",
     "evalue": "name 'df_sum_dp' is not defined",
     "output_type": "error",
     "traceback": [
      "\u001b[0;31m---------------------------------------------------------------------------\u001b[0m",
      "\u001b[0;31mNameError\u001b[0m                                 Traceback (most recent call last)",
      "\u001b[0;32m<ipython-input-10-0f28f213277a>\u001b[0m in \u001b[0;36m<module>\u001b[0;34m()\u001b[0m\n\u001b[1;32m     31\u001b[0m \u001b[0;31m# df_sum_dp[col_in]\u001b[0m\u001b[0;34m\u001b[0m\u001b[0;34m\u001b[0m\u001b[0m\n\u001b[1;32m     32\u001b[0m \u001b[0;34m\u001b[0m\u001b[0m\n\u001b[0;32m---> 33\u001b[0;31m \u001b[0mvec7_id\u001b[0m\u001b[0;34m=\u001b[0m\u001b[0;34m{\u001b[0m\u001b[0mvec\u001b[0m\u001b[0;34m:\u001b[0m\u001b[0mid\u001b[0m \u001b[0;32mfor\u001b[0m \u001b[0mid\u001b[0m\u001b[0;34m,\u001b[0m\u001b[0mvec\u001b[0m \u001b[0;32min\u001b[0m \u001b[0menumerate\u001b[0m\u001b[0;34m(\u001b[0m\u001b[0mdf_sum_dp\u001b[0m\u001b[0;34m.\u001b[0m\u001b[0mvec7\u001b[0m\u001b[0;34m.\u001b[0m\u001b[0munique\u001b[0m\u001b[0;34m(\u001b[0m\u001b[0;34m)\u001b[0m\u001b[0;34m)\u001b[0m\u001b[0;34m}\u001b[0m\u001b[0;34m\u001b[0m\u001b[0m\n\u001b[0m\u001b[1;32m     34\u001b[0m \u001b[0mvec5_id\u001b[0m\u001b[0;34m=\u001b[0m\u001b[0;34m{\u001b[0m\u001b[0mvec\u001b[0m\u001b[0;34m:\u001b[0m\u001b[0mid\u001b[0m \u001b[0;32mfor\u001b[0m \u001b[0mid\u001b[0m\u001b[0;34m,\u001b[0m\u001b[0mvec\u001b[0m \u001b[0;32min\u001b[0m \u001b[0menumerate\u001b[0m\u001b[0;34m(\u001b[0m\u001b[0mdf_sum_dp\u001b[0m\u001b[0;34m.\u001b[0m\u001b[0mvec5\u001b[0m\u001b[0;34m.\u001b[0m\u001b[0munique\u001b[0m\u001b[0;34m(\u001b[0m\u001b[0;34m)\u001b[0m\u001b[0;34m)\u001b[0m\u001b[0;34m}\u001b[0m\u001b[0;34m\u001b[0m\u001b[0m\n\u001b[1;32m     35\u001b[0m \u001b[0mvec4_id\u001b[0m\u001b[0;34m=\u001b[0m\u001b[0;34m{\u001b[0m\u001b[0mvec\u001b[0m\u001b[0;34m:\u001b[0m\u001b[0mid\u001b[0m \u001b[0;32mfor\u001b[0m \u001b[0mid\u001b[0m\u001b[0;34m,\u001b[0m\u001b[0mvec\u001b[0m \u001b[0;32min\u001b[0m \u001b[0menumerate\u001b[0m\u001b[0;34m(\u001b[0m\u001b[0mdf_sum_dp\u001b[0m\u001b[0;34m.\u001b[0m\u001b[0mvec4\u001b[0m\u001b[0;34m.\u001b[0m\u001b[0munique\u001b[0m\u001b[0;34m(\u001b[0m\u001b[0;34m)\u001b[0m\u001b[0;34m)\u001b[0m\u001b[0;34m}\u001b[0m\u001b[0;34m\u001b[0m\u001b[0m\n",
      "\u001b[0;31mNameError\u001b[0m: name 'df_sum_dp' is not defined"
     ]
    }
   ],
   "source": [
    "def en_vec(df)\n",
    "    vec7_id={vec:id for id,vec in enumerate(df.vec7.unique())}\n",
    "    vec5_id={vec:id for id,vec in enumerate(df.vec5.unique())}\n",
    "    vec4_id={vec:id for id,vec in enumerate(df.vec4.unique())}\n",
    "    vec3_id={vec:id for id,vec in enumerate(df.vec3.unique())}\n",
    "    vec1_id={vec:id for id,vec in enumerate(df.vec1.unique())}\n",
    "\n",
    "    df['vec7']=df_sum_dp.vec7.apply(lambda x:vec7_id[x])\n",
    "    df['vec5']=df_sum_dp.vec5.apply(lambda x:vec5_id[x])\n",
    "    df['vec4']=df_sum_dp.vec4.apply(lambda x:vec4_id[x])\n",
    "    df['vec3']=df_sum_dp.vec3.apply(lambda x:vec3_id[x])\n",
    "    df['vec1']=df_sum_dp.vec1.apply(lambda x:vec1_id[x])\n",
    "\n",
    "# df_sum_dp.isnull().sum()\n",
    "\n",
    "# col_in_en=col_in[1:]\n",
    "\n",
    "    fe=encode_page_features(df[col_in_en])"
   ]
  },
  {
   "cell_type": "code",
   "execution_count": 13,
   "metadata": {
    "run_control": {
     "marked": false
    }
   },
   "outputs": [
    {
     "data": {
      "text/plain": [
       "dict_keys(['vec4', 'vec7', 'vec1', 'vec5', 'vec3'])"
      ]
     },
     "execution_count": 13,
     "metadata": {},
     "output_type": "execute_result"
    }
   ],
   "source": [
    "fe.keys()"
   ]
  },
  {
   "cell_type": "markdown",
   "metadata": {},
   "source": [
    "#### TODO here is the problem because i ignore some data, i need to changes it here too"
   ]
  },
  {
   "cell_type": "code",
   "execution_count": 6,
   "metadata": {
    "collapsed": true,
    "hide_input": false,
    "run_control": {
     "marked": false
    }
   },
   "outputs": [
    {
     "ename": "NameError",
     "evalue": "name 'df_sum_ins' is not defined",
     "output_type": "error",
     "traceback": [
      "\u001b[0;31m---------------------------------------------------------------------------\u001b[0m",
      "\u001b[0;31mNameError\u001b[0m                                 Traceback (most recent call last)",
      "\u001b[0;32m<ipython-input-6-f38049adbc3f>\u001b[0m in \u001b[0;36m<module>\u001b[0;34m()\u001b[0m\n\u001b[1;32m      1\u001b[0m \u001b[0ms\u001b[0m\u001b[0;34m=\u001b[0m\u001b[0;34m[\u001b[0m\u001b[0;34m]\u001b[0m\u001b[0;34m\u001b[0m\u001b[0m\n\u001b[1;32m      2\u001b[0m \u001b[0;32mfor\u001b[0m \u001b[0mi\u001b[0m \u001b[0;32min\u001b[0m \u001b[0mrange\u001b[0m\u001b[0;34m(\u001b[0m\u001b[0;36m98\u001b[0m\u001b[0;34m)\u001b[0m\u001b[0;34m:\u001b[0m\u001b[0;34m\u001b[0m\u001b[0m\n\u001b[0;32m----> 3\u001b[0;31m     \u001b[0madd\u001b[0m\u001b[0;34m=\u001b[0m\u001b[0mnp\u001b[0m\u001b[0;34m.\u001b[0m\u001b[0mhstack\u001b[0m\u001b[0;34m(\u001b[0m\u001b[0;34m[\u001b[0m\u001b[0mdf_sum_ins\u001b[0m\u001b[0;34m[\u001b[0m\u001b[0;34m[\u001b[0m\u001b[0mi\u001b[0m\u001b[0;34m]\u001b[0m\u001b[0;34m+\u001b[0m\u001b[0mcol_in\u001b[0m\u001b[0;34m]\u001b[0m\u001b[0;34m.\u001b[0m\u001b[0mvalues\u001b[0m\u001b[0;34m.\u001b[0m\u001b[0mastype\u001b[0m\u001b[0;34m(\u001b[0m\u001b[0mfloat\u001b[0m\u001b[0;34m)\u001b[0m\u001b[0;34m,\u001b[0m\u001b[0mfe\u001b[0m\u001b[0;34m[\u001b[0m\u001b[0;34m'vec7'\u001b[0m\u001b[0;34m]\u001b[0m\u001b[0;34m.\u001b[0m\u001b[0mvalues\u001b[0m\u001b[0;34m.\u001b[0m\u001b[0mastype\u001b[0m\u001b[0;34m(\u001b[0m\u001b[0mfloat\u001b[0m\u001b[0;34m)\u001b[0m\u001b[0;34m]\u001b[0m\u001b[0;34m)\u001b[0m\u001b[0;34m\u001b[0m\u001b[0m\n\u001b[0m\u001b[1;32m      4\u001b[0m     \u001b[0madd\u001b[0m\u001b[0;34m=\u001b[0m\u001b[0mnp\u001b[0m\u001b[0;34m.\u001b[0m\u001b[0mhstack\u001b[0m\u001b[0;34m(\u001b[0m\u001b[0;34m[\u001b[0m\u001b[0madd\u001b[0m\u001b[0;34m,\u001b[0m\u001b[0mfe\u001b[0m\u001b[0;34m[\u001b[0m\u001b[0;34m'vec5'\u001b[0m\u001b[0;34m]\u001b[0m\u001b[0;34m.\u001b[0m\u001b[0mvalues\u001b[0m\u001b[0;34m.\u001b[0m\u001b[0mastype\u001b[0m\u001b[0;34m(\u001b[0m\u001b[0mfloat\u001b[0m\u001b[0;34m)\u001b[0m\u001b[0;34m]\u001b[0m\u001b[0;34m)\u001b[0m\u001b[0;34m\u001b[0m\u001b[0m\n\u001b[1;32m      5\u001b[0m     \u001b[0madd\u001b[0m\u001b[0;34m=\u001b[0m\u001b[0mnp\u001b[0m\u001b[0;34m.\u001b[0m\u001b[0mhstack\u001b[0m\u001b[0;34m(\u001b[0m\u001b[0;34m[\u001b[0m\u001b[0madd\u001b[0m\u001b[0;34m,\u001b[0m\u001b[0mfe\u001b[0m\u001b[0;34m[\u001b[0m\u001b[0;34m'vec4'\u001b[0m\u001b[0;34m]\u001b[0m\u001b[0;34m.\u001b[0m\u001b[0mvalues\u001b[0m\u001b[0;34m.\u001b[0m\u001b[0mastype\u001b[0m\u001b[0;34m(\u001b[0m\u001b[0mfloat\u001b[0m\u001b[0;34m)\u001b[0m\u001b[0;34m]\u001b[0m\u001b[0;34m)\u001b[0m\u001b[0;34m\u001b[0m\u001b[0m\n",
      "\u001b[0;31mNameError\u001b[0m: name 'df_sum_ins' is not defined"
     ]
    }
   ],
   "source": [
    "s=[]\n",
    "for i in range(98):\n",
    "    add=np.hstack([df_sum_ins[[i]+col_in].values.astype(float),fe['vec7'].values.astype(float)])\n",
    "    add=np.hstack([add,fe['vec5'].values.astype(float)])\n",
    "    add=np.hstack([add,fe['vec4'].values.astype(float)])\n",
    "    add=np.hstack([add,fe['vec3'].values.astype(float)])\n",
    "#     add=np.hstack([df_sum_dp[[i]+col_in].values.astype(float),fe['vec7'].values.astype(float)])\n",
    "    s.append(add)\n",
    "#     s.append(df_sum_dp[['disk','vec7','vec5','vec4','vec3','vec1',i]].values.astype(float))\n",
    "#     s.append(fe['vec7'].values)\n",
    "#     s.append(fe['vec4'].values)\n",
    "#     s.append(df_sum_dp[col_in+[i]].values.astype(float))\n",
    "#     s.append(fe['vec7'].values)\n",
    "    \n",
    "s=np.array(s)\n",
    "s=s.transpose(1,0,2)\n",
    "\n",
    "s.shape"
   ]
  },
  {
   "cell_type": "code",
   "execution_count": 22,
   "metadata": {
    "run_control": {
     "marked": false
    }
   },
   "outputs": [],
   "source": [
    "nt=iter(s)"
   ]
  },
  {
   "cell_type": "code",
   "execution_count": 31,
   "metadata": {
    "collapsed": true,
    "run_control": {
     "marked": false
    }
   },
   "outputs": [
    {
     "data": {
      "text/plain": [
       "<mpl_toolkits.mplot3d.axes3d.Axes3D at 0x7fc5a1fcd2b0>"
      ]
     },
     "execution_count": 31,
     "metadata": {},
     "output_type": "execute_result"
    },
    {
     "data": {
      "image/png": "[encoded data removed]",
      "text/plain": [
       "<matplotlib.figure.Figure at 0x7fc5a220c588>"
      ]
     },
     "metadata": {},
     "output_type": "display_data"
    },
    {
     "data": {
      "image/png": "[encoded data removed]",
      "text/plain": [
       "<matplotlib.figure.Figure at 0x7fc5a21eb898>"
      ]
     },
     "metadata": {},
     "output_type": "display_data"
    }
   ],
   "source": [
    "threed_view(next(nt)[:,:],end=98)"
   ]
  },
  {
   "cell_type": "code",
   "execution_count": 15,
   "metadata": {
    "run_control": {
     "marked": false
    }
   },
   "outputs": [
    {
     "data": {
      "text/plain": [
       "(68219, 4)"
      ]
     },
     "execution_count": 15,
     "metadata": {},
     "output_type": "execute_result"
    }
   ],
   "source": [
    "fe['vec7'].shape"
   ]
  },
  {
   "cell_type": "code",
   "execution_count": 6,
   "metadata": {
    "collapsed": true,
    "run_control": {
     "marked": false
    }
   },
   "outputs": [
    {
     "name": "stdout",
     "output_type": "stream",
     "text": [
      "vec5\n",
      "(68219, 2)\n",
      "vec7\n",
      "(68219, 4)\n",
      "vec3\n",
      "(68219, 2)\n",
      "vec1\n",
      "(68219, 3)\n",
      "vec4\n",
      "(68219, 2)\n"
     ]
    }
   ],
   "source": [
    "for id_,each in fe.items():\n",
    "    print(id_)\n",
    "    print(each.shape)"
   ]
  },
  {
   "cell_type": "code",
   "execution_count": 17,
   "metadata": {
    "run_control": {
     "marked": false
    }
   },
   "outputs": [],
   "source": [
    "df_sum_dp=df_sum[df_sum['deploy']==1]"
   ]
  },
  {
   "cell_type": "code",
   "execution_count": 18,
   "metadata": {
    "run_control": {
     "marked": false
    }
   },
   "outputs": [
    {
     "data": {
      "text/plain": [
       "(29996, 226)"
      ]
     },
     "execution_count": 18,
     "metadata": {},
     "output_type": "execute_result"
    }
   ],
   "source": [
    "df_sum_dp.shape"
   ]
  },
  {
   "cell_type": "code",
   "execution_count": 20,
   "metadata": {
    "collapsed": true,
    "run_control": {
     "marked": false
    }
   },
   "outputs": [
    {
     "name": "stderr",
     "output_type": "stream",
     "text": [
      "/opt/playground/diaodu/preprocess.py:11: SettingWithCopyWarning: \n",
      "A value is trying to be set on a copy of a slice from a DataFrame.\n",
      "Try using .loc[row_indexer,col_indexer] = value instead\n",
      "\n",
      "See the caveats in the documentation: http://pandas.pydata.org/pandas-docs/stable/indexing.html#indexing-view-versus-copy\n",
      "  df['vec7']=df.vec7.apply(lambda x:vec7_id[x])\n",
      "/opt/playground/diaodu/preprocess.py:12: SettingWithCopyWarning: \n",
      "A value is trying to be set on a copy of a slice from a DataFrame.\n",
      "Try using .loc[row_indexer,col_indexer] = value instead\n",
      "\n",
      "See the caveats in the documentation: http://pandas.pydata.org/pandas-docs/stable/indexing.html#indexing-view-versus-copy\n",
      "  df['vec5']=df.vec5.apply(lambda x:vec5_id[x])\n",
      "/opt/playground/diaodu/preprocess.py:13: SettingWithCopyWarning: \n",
      "A value is trying to be set on a copy of a slice from a DataFrame.\n",
      "Try using .loc[row_indexer,col_indexer] = value instead\n",
      "\n",
      "See the caveats in the documentation: http://pandas.pydata.org/pandas-docs/stable/indexing.html#indexing-view-versus-copy\n",
      "  df['vec4']=df.vec4.apply(lambda x:vec4_id[x])\n",
      "/opt/playground/diaodu/preprocess.py:14: SettingWithCopyWarning: \n",
      "A value is trying to be set on a copy of a slice from a DataFrame.\n",
      "Try using .loc[row_indexer,col_indexer] = value instead\n",
      "\n",
      "See the caveats in the documentation: http://pandas.pydata.org/pandas-docs/stable/indexing.html#indexing-view-versus-copy\n",
      "  df['vec3']=df.vec3.apply(lambda x:vec3_id[x])\n",
      "/opt/playground/diaodu/preprocess.py:15: SettingWithCopyWarning: \n",
      "A value is trying to be set on a copy of a slice from a DataFrame.\n",
      "Try using .loc[row_indexer,col_indexer] = value instead\n",
      "\n",
      "See the caveats in the documentation: http://pandas.pydata.org/pandas-docs/stable/indexing.html#indexing-view-versus-copy\n",
      "  df['vec1']=df.vec1.apply(lambda x:vec1_id[x])\n"
     ]
    }
   ],
   "source": [
    "fe=en_vec(df_sum_dp)"
   ]
  },
  {
   "cell_type": "code",
   "execution_count": null,
   "metadata": {
    "run_control": {
     "marked": false
    }
   },
   "outputs": [],
   "source": []
  },
  {
   "cell_type": "code",
   "execution_count": 4,
   "metadata": {
    "hide_input": false,
    "run_control": {
     "marked": false
    }
   },
   "outputs": [],
   "source": [
    "rnn=RNN(98,12,128,2,2)\n",
    "loss_fn=nn.CrossEntropyLoss()\n",
    "optimizer=optim.Adam(rnn.parameters(),lr=0.01)\n",
    "# optimizer=optim.SGD(rnn.parameters(),lr=0.1)"
   ]
  },
  {
   "cell_type": "code",
   "execution_count": null,
   "metadata": {
    "run_control": {
     "marked": false
    }
   },
   "outputs": [],
   "source": [
    "#### loss before\n",
    "\n",
    "def closure():\n",
    "    optimizer.zero_grad()\n",
    "    o=rnn(ss)\n",
    "    loss=loss_fn(o,label)\n",
    "    loss.backward()\n",
    "\n",
    "optimizer.step(closure=closure)\n",
    "loss_fn(rnn(ss),label)\n",
    "#### training\n",
    "%%timeit -n 90\n",
    "optimizer.step(closure)\n",
    "loss_fn(rnn(s),label)"
   ]
  },
  {
   "cell_type": "code",
   "execution_count": 5,
   "metadata": {
    "collapsed": true,
    "run_control": {
     "marked": false
    }
   },
   "outputs": [
    {
     "name": "stderr",
     "output_type": "stream",
     "text": [
      "/home/.tbxy09/anaconda/envs/patent-landscape/lib/python3.5/site-packages/h5py/__init__.py:36: FutureWarning: Conversion of the second argument of issubdtype from `float` to `np.floating` is deprecated. In future, it will be treated as `np.float64 == np.dtype(float).type`.\n",
      "  from ._conv import register_converters as _register_converters\n",
      "Using TensorFlow backend.\n"
     ]
    },
    {
     "ename": "NameError",
     "evalue": "name 'dataloader' is not defined",
     "output_type": "error",
     "traceback": [
      "\u001b[0;31m---------------------------------------------------------------------------\u001b[0m",
      "\u001b[0;31mNameError\u001b[0m                                 Traceback (most recent call last)",
      "\u001b[0;32m<ipython-input-5-811b3cbc5cad>\u001b[0m in \u001b[0;36m<module>\u001b[0;34m()\u001b[0m\n\u001b[1;32m      2\u001b[0m \u001b[0mEPOCH\u001b[0m\u001b[0;34m=\u001b[0m\u001b[0;36m100\u001b[0m\u001b[0;34m\u001b[0m\u001b[0m\n\u001b[1;32m      3\u001b[0m \u001b[0mbatch_size\u001b[0m\u001b[0;34m=\u001b[0m\u001b[0;36m80\u001b[0m\u001b[0;34m\u001b[0m\u001b[0m\n\u001b[0;32m----> 4\u001b[0;31m \u001b[0mbatch_round\u001b[0m\u001b[0;34m=\u001b[0m\u001b[0mint\u001b[0m\u001b[0;34m(\u001b[0m\u001b[0mdataloader\u001b[0m\u001b[0;34m.\u001b[0m\u001b[0mdataset\u001b[0m\u001b[0;34m.\u001b[0m\u001b[0mlabel\u001b[0m\u001b[0;34m.\u001b[0m\u001b[0mshape\u001b[0m\u001b[0;34m[\u001b[0m\u001b[0;36m0\u001b[0m\u001b[0;34m]\u001b[0m\u001b[0;34m/\u001b[0m\u001b[0mbatch_size\u001b[0m\u001b[0;34m)\u001b[0m\u001b[0;34m\u001b[0m\u001b[0m\n\u001b[0m\u001b[1;32m      5\u001b[0m \u001b[0;34m\u001b[0m\u001b[0m\n\u001b[1;32m      6\u001b[0m \u001b[0;32mdef\u001b[0m \u001b[0msave_checkpoint\u001b[0m\u001b[0;34m(\u001b[0m\u001b[0mstate_dict\u001b[0m\u001b[0;34m,\u001b[0m\u001b[0mis_best\u001b[0m\u001b[0;34m,\u001b[0m\u001b[0mfn\u001b[0m\u001b[0;34m)\u001b[0m\u001b[0;34m:\u001b[0m\u001b[0;34m\u001b[0m\u001b[0m\n",
      "\u001b[0;31mNameError\u001b[0m: name 'dataloader' is not defined"
     ]
    }
   ],
   "source": [
    "from keras.utils.generic_utils import Progbar\n",
    "EPOCH=100\n",
    "batch_size=80\n",
    "batch_round=int(dataloader.dataset.label.shape[0]/batch_size)\n",
    "\n",
    "def save_checkpoint(state_dict,is_best,fn):\n",
    "    torch.save(state_dict,fn)\n",
    "    if is_best:\n",
    "        shutil.copyfile(fn,'./model/diao_du/model_best.pth.tar')\n",
    "\n",
    "# %load -r 272-289 /data/dotfiles_xy/nvim/plugged/examples/imagenet/main.py"
   ]
  },
  {
   "cell_type": "code",
   "execution_count": 6,
   "metadata": {
    "collapsed": true,
    "run_control": {
     "marked": false
    }
   },
   "outputs": [
    {
     "ename": "NameError",
     "evalue": "name 's' is not defined",
     "output_type": "error",
     "traceback": [
      "\u001b[0;31m---------------------------------------------------------------------------\u001b[0m",
      "\u001b[0;31mNameError\u001b[0m                                 Traceback (most recent call last)",
      "\u001b[0;32m<ipython-input-6-f022b26a74ef>\u001b[0m in \u001b[0;36m<module>\u001b[0;34m()\u001b[0m\n\u001b[0;32m----> 1\u001b[0;31m \u001b[0mdst\u001b[0m\u001b[0;34m=\u001b[0m\u001b[0mDst\u001b[0m\u001b[0;34m(\u001b[0m\u001b[0ms\u001b[0m\u001b[0;34m,\u001b[0m\u001b[0mdf_sum_ins\u001b[0m\u001b[0;34m[\u001b[0m\u001b[0;34m'target'\u001b[0m\u001b[0;34m]\u001b[0m\u001b[0;34m.\u001b[0m\u001b[0mvalues\u001b[0m\u001b[0;34m)\u001b[0m\u001b[0;34m\u001b[0m\u001b[0m\n\u001b[0m\u001b[1;32m      2\u001b[0m \u001b[0mdataloader\u001b[0m\u001b[0;34m=\u001b[0m\u001b[0mtorch\u001b[0m\u001b[0;34m.\u001b[0m\u001b[0mutils\u001b[0m\u001b[0;34m.\u001b[0m\u001b[0mdata\u001b[0m\u001b[0;34m.\u001b[0m\u001b[0mDataLoader\u001b[0m\u001b[0;34m(\u001b[0m\u001b[0mdst\u001b[0m\u001b[0;34m,\u001b[0m\u001b[0mbatch_size\u001b[0m\u001b[0;34m=\u001b[0m\u001b[0mbatch_size\u001b[0m\u001b[0;34m,\u001b[0m\u001b[0mshuffle\u001b[0m\u001b[0;34m=\u001b[0m\u001b[0;32mTrue\u001b[0m\u001b[0;34m)\u001b[0m\u001b[0;34m\u001b[0m\u001b[0m\n",
      "\u001b[0;31mNameError\u001b[0m: name 's' is not defined"
     ]
    }
   ],
   "source": [
    "dst=Dst(s,df_sum_ins['target'].values)\n",
    "dataloader=torch.utils.data.DataLoader(dst,batch_size=batch_size,shuffle=True)"
   ]
  },
  {
   "cell_type": "code",
   "execution_count": 112,
   "metadata": {
    "code_folding": [
     0
    ],
    "collapsed": true,
    "run_control": {
     "marked": false
    }
   },
   "outputs": [
    {
     "name": "stdout",
     "output_type": "stream",
     "text": [
      "374/374 [==============================] - 276s 737ms/step - loss: 0.4368 - batch_time: 0.7321 - load_time: 0.0179\n",
      "374/374 [==============================] - 555s 1s/step - loss: 0.3947 - batch_time: 0.7353 - load_time: 0.0179\n",
      "374/374 [==============================] - 834s 2s/step - loss: 0.2971 - batch_time: 0.7357 - load_time: 0.0179\n",
      "374/374 [==============================] - 1114s 3s/step - loss: 0.3321 - batch_time: 0.7365 - load_time: 0.0179\n",
      "374/374 [==============================] - 1393s 4s/step - loss: 0.2243 - batch_time: 0.7367 - load_time: 0.0179\n",
      "374/374 [==============================] - 1673s 4s/step - loss: 0.1833 - batch_time: 0.7368 - load_time: 0.0179\n",
      "374/374 [==============================] - 1954s 5s/step - loss: 0.1637 - batch_time: 0.7374 - load_time: 0.0179\n",
      "374/374 [==============================] - 2235s 6s/step - loss: 0.1176 - batch_time: 0.7375 - load_time: 0.0179\n",
      "374/374 [==============================] - 2517s 7s/step - loss: 0.2328 - batch_time: 0.7380 - load_time: 0.0179\n",
      "374/374 [==============================] - 2803s 7s/step - loss: 0.1651 - batch_time: 0.7388 - load_time: 0.0179\n",
      "374/374 [==============================] - 3088s 8s/step - loss: 0.1321 - batch_time: 0.7393 - load_time: 0.0179\n",
      "374/374 [==============================] - 3371s 9s/step - loss: 0.0452 - batch_time: 0.7398 - load_time: 0.0179\n",
      "374/374 [==============================] - 3654s 10s/step - loss: 0.0194 - batch_time: 0.7399 - load_time: 0.0179\n",
      "374/374 [==============================] - 3939s 11s/step - loss: -0.0134 - batch_time: 0.7403 - load_time: 0.0179\n",
      "374/374 [==============================] - 4217s 11s/step - loss: 0.0216 - batch_time: 0.7401 - load_time: 0.0179\n",
      "374/374 [==============================] - 4496s 12s/step - loss: -0.0578 - batch_time: 0.7399 - load_time: 0.0179\n",
      "374/374 [==============================] - 4774s 13s/step - loss: 0.0111 - batch_time: 0.7397 - load_time: 0.0179\n",
      "374/374 [==============================] - 5053s 14s/step - loss: 0.0351 - batch_time: 0.7394 - load_time: 0.0179\n",
      "374/374 [==============================] - 5334s 14s/step - loss: 0.1531 - batch_time: 0.7395 - load_time: 0.0179\n",
      "374/374 [==============================] - 5619s 15s/step - loss: 0.1784 - batch_time: 0.7397 - load_time: 0.0179\n",
      "374/374 [==============================] - 5901s 16s/step - loss: 0.1409 - batch_time: 0.7398 - load_time: 0.0179\n",
      "374/374 [==============================] - 6187s 17s/step - loss: 0.0478 - batch_time: 0.7401 - load_time: 0.0179\n",
      "374/374 [==============================] - 6471s 17s/step - loss: 0.1411 - batch_time: 0.7404 - load_time: 0.0179\n",
      "374/374 [==============================] - 6755s 18s/step - loss: 0.1654 - batch_time: 0.7406 - load_time: 0.0179\n",
      "374/374 [==============================] - 7040s 19s/step - loss: 0.1680 - batch_time: 0.7407 - load_time: 0.0179\n",
      "374/374 [==============================] - 7327s 20s/step - loss: 0.1727 - batch_time: 0.7410 - load_time: 0.0179\n",
      "374/374 [==============================] - 7616s 20s/step - loss: 0.1169 - batch_time: 0.7414 - load_time: 0.0179\n",
      "374/374 [==============================] - 7901s 21s/step - loss: 0.1856 - batch_time: 0.7415 - load_time: 0.0179\n",
      "374/374 [==============================] - 8184s 22s/step - loss: 0.1010 - batch_time: 0.7416 - load_time: 0.0179\n",
      "374/374 [==============================] - 8470s 23s/step - loss: 0.1386 - batch_time: 0.7417 - load_time: 0.0179\n",
      "374/374 [==============================] - 8757s 23s/step - loss: 0.0173 - batch_time: 0.7420 - load_time: 0.0179\n",
      "374/374 [==============================] - 9087s 24s/step - loss: 0.2737 - batch_time: 0.7431 - load_time: 0.0179\n",
      "374/374 [==============================] - 9436s 25s/step - loss: 0.1728 - batch_time: 0.7457 - load_time: 0.0179\n",
      "374/374 [==============================] - 9813s 26s/step - loss: -0.0559 - batch_time: 0.7492 - load_time: 0.0179\n",
      "374/374 [==============================] - 10201s 27s/step - loss: -0.0825 - batch_time: 0.7528 - load_time: 0.0179\n",
      "374/374 [==============================] - 10608s 28s/step - loss: -0.0937 - batch_time: 0.7571 - load_time: 0.0179\n",
      "374/374 [==============================] - 11005s 29s/step - loss: -0.0605 - batch_time: 0.7609 - load_time: 0.0179\n",
      "374/374 [==============================] - 11394s 30s/step - loss: -0.1281 - batch_time: 0.7643 - load_time: 0.0179\n",
      "374/374 [==============================] - 11773s 31s/step - loss: -0.2031 - batch_time: 0.7670 - load_time: 0.0179\n",
      "374/374 [==============================] - 12154s 32s/step - loss: -0.1457 - batch_time: 0.7697 - load_time: 0.0179\n",
      "374/374 [==============================] - 12542s 34s/step - loss: -0.1264 - batch_time: 0.7724 - load_time: 0.0179\n",
      "374/374 [==============================] - 12933s 35s/step - loss: -0.1228 - batch_time: 0.7751 - load_time: 0.0179\n",
      "374/374 [==============================] - 13326s 36s/step - loss: -0.1650 - batch_time: 0.7778 - load_time: 0.0179\n",
      "374/374 [==============================] - 13731s 37s/step - loss: -0.1329 - batch_time: 0.7806 - load_time: 0.0179\n",
      "374/374 [==============================] - 14140s 38s/step - loss: -0.0980 - batch_time: 0.7834 - load_time: 0.0179\n",
      "374/374 [==============================] - 14562s 39s/step - loss: -0.0295 - batch_time: 0.7864 - load_time: 0.0179\n",
      "374/374 [==============================] - 14996s 40s/step - loss: -0.0146 - batch_time: 0.7896 - load_time: 0.0179\n",
      "374/374 [==============================] - 15437s 41s/step - loss: 8.7172e-04 - batch_time: 0.7930 - load_time: 0.0179\n",
      "374/374 [==============================] - 15877s 42s/step - loss: 0.0633 - batch_time: 0.7964 - load_time: 0.0179\n",
      "374/374 [==============================] - 16330s 44s/step - loss: 0.1063 - batch_time: 0.7997 - load_time: 0.0179\n",
      "374/374 [==============================] - 16777s 45s/step - loss: 0.1457 - batch_time: 0.8030 - load_time: 0.0179\n",
      "374/374 [==============================] - 17209s 46s/step - loss: 0.2125 - batch_time: 0.8057 - load_time: 0.0179\n",
      "374/374 [==============================] - 17650s 47s/step - loss: 0.2410 - batch_time: 0.8085 - load_time: 0.0179\n",
      "374/374 [==============================] - 18086s 48s/step - loss: 0.3316 - batch_time: 0.8111 - load_time: 0.0179\n",
      "374/374 [==============================] - 18499s 49s/step - loss: 0.2187 - batch_time: 0.8130 - load_time: 0.0179\n",
      "374/374 [==============================] - 18930s 51s/step - loss: 0.1548 - batch_time: 0.8152 - load_time: 0.0179\n",
      "374/374 [==============================] - 19374s 52s/step - loss: 0.1795 - batch_time: 0.8176 - load_time: 0.0179\n",
      "374/374 [==============================] - 19824s 53s/step - loss: 0.1578 - batch_time: 0.8203 - load_time: 0.0179\n",
      "374/374 [==============================] - 20276s 54s/step - loss: 0.1868 - batch_time: 0.8227 - load_time: 0.0179\n",
      "374/374 [==============================] - 20731s 55s/step - loss: 0.2386 - batch_time: 0.8251 - load_time: 0.0179\n",
      "374/374 [==============================] - 21195s 57s/step - loss: 0.2989 - batch_time: 0.8277 - load_time: 0.0179\n",
      "374/374 [==============================] - 21664s 58s/step - loss: 0.3376 - batch_time: 0.8303 - load_time: 0.0179\n",
      "  2/374 [..............................] - ETA: 1119:31:57 - loss: 34.4538 - batch_time: -18.0520 - load_time: 0.0118"
     ]
    },
    {
     "ename": "KeyboardInterrupt",
     "evalue": "",
     "output_type": "error",
     "traceback": [
      "\u001b[0;31m---------------------------------------------------------------------------\u001b[0m",
      "\u001b[0;31mKeyboardInterrupt\u001b[0m                         Traceback (most recent call last)",
      "\u001b[0;32m<ipython-input-112-636a07e3b2d1>\u001b[0m in \u001b[0;36m<module>\u001b[0;34m()\u001b[0m\n\u001b[1;32m     21\u001b[0m \u001b[0;34m\u001b[0m\u001b[0m\n\u001b[1;32m     22\u001b[0m         \u001b[0mloss\u001b[0m\u001b[0;34m=\u001b[0m\u001b[0mloss_fn\u001b[0m\u001b[0;34m(\u001b[0m\u001b[0mo\u001b[0m\u001b[0;34m,\u001b[0m\u001b[0mlabel\u001b[0m\u001b[0;34m)\u001b[0m\u001b[0;34m\u001b[0m\u001b[0m\n\u001b[0;32m---> 23\u001b[0;31m         \u001b[0mloss\u001b[0m\u001b[0;34m.\u001b[0m\u001b[0mbackward\u001b[0m\u001b[0;34m(\u001b[0m\u001b[0;34m)\u001b[0m\u001b[0;34m\u001b[0m\u001b[0m\n\u001b[0m\u001b[1;32m     24\u001b[0m         \u001b[0mshow_loss\u001b[0m\u001b[0;34m=\u001b[0m\u001b[0;34m[\u001b[0m\u001b[0;34m[\u001b[0m\u001b[0;34m'loss'\u001b[0m\u001b[0;34m,\u001b[0m\u001b[0mloss\u001b[0m\u001b[0;34m.\u001b[0m\u001b[0mdata\u001b[0m\u001b[0;34m.\u001b[0m\u001b[0mnumpy\u001b[0m\u001b[0;34m(\u001b[0m\u001b[0;34m)\u001b[0m\u001b[0;34m]\u001b[0m\u001b[0;34m]\u001b[0m\u001b[0;34m\u001b[0m\u001b[0m\n\u001b[1;32m     25\u001b[0m \u001b[0;31m#         show_loss+=[['sizeof rnn',getsizeof(rnn.state_dict())]]\u001b[0m\u001b[0;34m\u001b[0m\u001b[0;34m\u001b[0m\u001b[0m\n",
      "\u001b[0;32m~/anaconda/envs/patent-landscape/lib/python3.5/site-packages/torch/tensor.py\u001b[0m in \u001b[0;36mbackward\u001b[0;34m(self, gradient, retain_graph, create_graph)\u001b[0m\n\u001b[1;32m     91\u001b[0m                 \u001b[0mproducts\u001b[0m\u001b[0;34m.\u001b[0m \u001b[0mDefaults\u001b[0m \u001b[0mto\u001b[0m\u001b[0;31m \u001b[0m\u001b[0;31m`\u001b[0m\u001b[0;31m`\u001b[0m\u001b[0;32mFalse\u001b[0m\u001b[0;31m`\u001b[0m\u001b[0;31m`\u001b[0m\u001b[0;34m.\u001b[0m\u001b[0;34m\u001b[0m\u001b[0m\n\u001b[1;32m     92\u001b[0m         \"\"\"\n\u001b[0;32m---> 93\u001b[0;31m         \u001b[0mtorch\u001b[0m\u001b[0;34m.\u001b[0m\u001b[0mautograd\u001b[0m\u001b[0;34m.\u001b[0m\u001b[0mbackward\u001b[0m\u001b[0;34m(\u001b[0m\u001b[0mself\u001b[0m\u001b[0;34m,\u001b[0m \u001b[0mgradient\u001b[0m\u001b[0;34m,\u001b[0m \u001b[0mretain_graph\u001b[0m\u001b[0;34m,\u001b[0m \u001b[0mcreate_graph\u001b[0m\u001b[0;34m)\u001b[0m\u001b[0;34m\u001b[0m\u001b[0m\n\u001b[0m\u001b[1;32m     94\u001b[0m \u001b[0;34m\u001b[0m\u001b[0m\n\u001b[1;32m     95\u001b[0m     \u001b[0;32mdef\u001b[0m \u001b[0mregister_hook\u001b[0m\u001b[0;34m(\u001b[0m\u001b[0mself\u001b[0m\u001b[0;34m,\u001b[0m \u001b[0mhook\u001b[0m\u001b[0;34m)\u001b[0m\u001b[0;34m:\u001b[0m\u001b[0;34m\u001b[0m\u001b[0m\n",
      "\u001b[0;32m~/anaconda/envs/patent-landscape/lib/python3.5/site-packages/torch/autograd/__init__.py\u001b[0m in \u001b[0;36mbackward\u001b[0;34m(tensors, grad_tensors, retain_graph, create_graph, grad_variables)\u001b[0m\n\u001b[1;32m     87\u001b[0m     Variable._execution_engine.run_backward(\n\u001b[1;32m     88\u001b[0m         \u001b[0mtensors\u001b[0m\u001b[0;34m,\u001b[0m \u001b[0mgrad_tensors\u001b[0m\u001b[0;34m,\u001b[0m \u001b[0mretain_graph\u001b[0m\u001b[0;34m,\u001b[0m \u001b[0mcreate_graph\u001b[0m\u001b[0;34m,\u001b[0m\u001b[0;34m\u001b[0m\u001b[0m\n\u001b[0;32m---> 89\u001b[0;31m         allow_unreachable=True)  # allow_unreachable flag\n\u001b[0m\u001b[1;32m     90\u001b[0m \u001b[0;34m\u001b[0m\u001b[0m\n\u001b[1;32m     91\u001b[0m \u001b[0;34m\u001b[0m\u001b[0m\n",
      "\u001b[0;31mKeyboardInterrupt\u001b[0m: "
     ]
    }
   ],
   "source": [
    "# dataloader training\n",
    "import time\n",
    "bar=Progbar(target=batch_round,width=30,interval=0.05)\n",
    "batch_time=AverageMeter()\n",
    "load_time=AverageMeter()\n",
    "# checkpoint=torch.load('./models/diaodu/best/rnn_with_inter_data_0.4954139292240143.pth.tar')\n",
    "# rnn.load_state_dict(checkpoint['state_dict'])\n",
    "for epoch in range(EPOCH):\n",
    "    end=time.time()\n",
    "    for id_,(s,label) in enumerate(dataloader):\n",
    "        load_time.update(time.time()-end)\n",
    "#         checkpoint=torch.load('./models/diaodu/rnn_with_inter_data.pth.tar')\n",
    "#         rnn.load_state_dict(checkpoint['state_dict'])\n",
    "#         s=torch.tensor(s,dtype=torch.float)\n",
    "#         label=torch.tensor(label,dtype=torch.long)\n",
    "        s=s.to(torch.float)\n",
    "        label=label.to(torch.long)\n",
    "\n",
    "        optimizer.zero_grad()\n",
    "        o=rnn(s)\n",
    "\n",
    "        loss=loss_fn(o,label)\n",
    "        loss.backward()\n",
    "        show_loss=[['loss',loss.data.numpy()]]\n",
    "#         show_loss+=[['sizeof rnn',getsizeof(rnn.state_dict())]]\n",
    "#         show_loss+=[['sizeof rnn para',getsizeof(rnn.parameters())]]\n",
    "        optimizer.step()\n",
    "    \n",
    "        batch_time.update(time.time()-end)\n",
    "        end=time.time()\n",
    "        show_loss+=[['batch_time',batch_time.avg]]\n",
    "        show_loss+=[['load_time',load_time.avg]]\n",
    "        bar.update(id_,show_loss)\n",
    "    save_checkpoint({'state_dict':rnn.state_dict()},is_best=False,\n",
    "                    fn='./models/diaodu/rnn_with_inter_data_{}.pth.tar'.format(loss.data.numpy()))\n",
    "#     rnn.parameters()[1]\n",
    "#     print(epoch)"
   ]
  },
  {
   "cell_type": "code",
   "execution_count": 7,
   "metadata": {
    "code_folding": [
     0
    ],
    "collapsed": true,
    "run_control": {
     "marked": false
    }
   },
   "outputs": [
    {
     "ename": "NameError",
     "evalue": "name 'dataloader' is not defined",
     "output_type": "error",
     "traceback": [
      "\u001b[0;31m---------------------------------------------------------------------------\u001b[0m",
      "\u001b[0;31mNameError\u001b[0m                                 Traceback (most recent call last)",
      "\u001b[0;32m<ipython-input-7-54595e4f5594>\u001b[0m in \u001b[0;36m<module>\u001b[0;34m()\u001b[0m\n\u001b[1;32m      1\u001b[0m \u001b[0;31m###single batch training\u001b[0m\u001b[0;34m\u001b[0m\u001b[0;34m\u001b[0m\u001b[0m\n\u001b[0;32m----> 2\u001b[0;31m \u001b[0mss\u001b[0m\u001b[0;34m,\u001b[0m\u001b[0mlabel\u001b[0m\u001b[0;34m=\u001b[0m\u001b[0mnext\u001b[0m\u001b[0;34m(\u001b[0m\u001b[0miter\u001b[0m\u001b[0;34m(\u001b[0m\u001b[0mdataloader\u001b[0m\u001b[0;34m)\u001b[0m\u001b[0;34m)\u001b[0m\u001b[0;34m\u001b[0m\u001b[0m\n\u001b[0m\u001b[1;32m      3\u001b[0m \u001b[0;34m\u001b[0m\u001b[0m\n\u001b[1;32m      4\u001b[0m \u001b[0;32mimport\u001b[0m \u001b[0mtime\u001b[0m\u001b[0;34m\u001b[0m\u001b[0m\n\u001b[1;32m      5\u001b[0m \u001b[0mbar\u001b[0m\u001b[0;34m=\u001b[0m\u001b[0mProgbar\u001b[0m\u001b[0;34m(\u001b[0m\u001b[0mtarget\u001b[0m\u001b[0;34m=\u001b[0m\u001b[0mEPOCH\u001b[0m\u001b[0;34m,\u001b[0m\u001b[0mwidth\u001b[0m\u001b[0;34m=\u001b[0m\u001b[0;36m30\u001b[0m\u001b[0;34m,\u001b[0m\u001b[0minterval\u001b[0m\u001b[0;34m=\u001b[0m\u001b[0;36m0.05\u001b[0m\u001b[0;34m)\u001b[0m\u001b[0;34m\u001b[0m\u001b[0m\n",
      "\u001b[0;31mNameError\u001b[0m: name 'dataloader' is not defined"
     ]
    }
   ],
   "source": [
    "###single batch training\n",
    "ss,label=next(iter(dataloader))\n",
    "\n",
    "import time\n",
    "bar=Progbar(target=EPOCH,width=30,interval=0.05)\n",
    "batch_time=AverageMeter()\n",
    "load_time=AverageMeter()\n",
    "checkpoint=torch.load('./models/diaodu/best/rnn_with_inter_data_0.020386777818202972.pth.tar')\n",
    "rnn.load_state_dict(checkpoint['state_dict'])\n",
    "for epoch in range(EPOCH):\n",
    "    end=time.time()\n",
    "    load_time.update(time.time()-end)\n",
    "#     checkpoint=torch.load('./models/diaodu/best/rnn_with_inter_data_0.0009381065028719604.pth.tar')\n",
    "#     rnn.load_state_dict(checkpoint['state_dict'])\n",
    "    ss=torch.tensor(ss,dtype=torch.float)\n",
    "    label=torch.tensor(label,dtype=torch.long)\n",
    "    ss=ss.to(torch.float)\n",
    "    label=label.to(torch.long)\n",
    "\n",
    "    optimizer.zero_grad()\n",
    "    o=rnn(ss)\n",
    "\n",
    "    loss=loss_fn(o,label)\n",
    "    loss.backward()\n",
    "    show_loss=[['loss',loss.data.numpy()]]\n",
    "#         show_loss+=[['sizeof rnn',getsizeof(rnn.state_dict())]]\n",
    "#         show_loss+=[['sizeof rnn para',getsizeof(rnn.parameters())]]\n",
    "    optimizer.step()\n",
    "\n",
    "    batch_time.update(time.time()-end)\n",
    "    end=time.time()\n",
    "#     show_loss+=[['batch_time',batch_time.avg]]\n",
    "#     show_loss+=[['load_time',load_time.avg]]\n",
    "    bar.update(epoch,show_loss)\n",
    "save_checkpoint({'state_dict':rnn.state_dict()},is_best=False,\n",
    "                    fn='./models/diaodu/rnn_with_inter_data_{}.pth.tar'.format(loss.data.numpy()))\n",
    "#     rnn.parameters()[1]\n",
    "#     print(epoch)"
   ]
  },
  {
   "cell_type": "code",
   "execution_count": 18,
   "metadata": {
    "run_control": {
     "marked": false
    }
   },
   "outputs": [],
   "source": [
    "import torch\n",
    "checkpoint=torch.load('./models/diaodu/best/rnn_with_inter_data_0.020386777818202972.pth.tar')\n",
    "rnn.load_state_dict(checkpoint['state_dict'])"
   ]
  },
  {
   "cell_type": "code",
   "execution_count": 19,
   "metadata": {
    "collapsed": true,
    "run_control": {
     "marked": false
    }
   },
   "outputs": [
    {
     "ename": "NameError",
     "evalue": "name 'save_checkpoint' is not defined",
     "output_type": "error",
     "traceback": [
      "\u001b[0;31m---------------------------------------------------------------------------\u001b[0m",
      "\u001b[0;31mNameError\u001b[0m                                 Traceback (most recent call last)",
      "\u001b[0;32m<ipython-input-19-6002d2a218be>\u001b[0m in \u001b[0;36m<module>\u001b[0;34m()\u001b[0m\n\u001b[0;32m----> 1\u001b[0;31m save_checkpoint({'state_dict':rnn.state_dict()},is_best=False,\n\u001b[0m\u001b[1;32m      2\u001b[0m                 fn='./models/diaodu/rnn_with_inter_data_{}.pth.tar'.format(loss.data.numpy()))\n",
      "\u001b[0;31mNameError\u001b[0m: name 'save_checkpoint' is not defined"
     ]
    }
   ],
   "source": [
    "save_checkpoint({'state_dict':rnn.state_dict()},is_best=False,\n",
    "                fn='./models/diaodu/rnn_with_inter_data_{}.pth.tar'.format(loss.data.numpy()))"
   ]
  },
  {
   "cell_type": "code",
   "execution_count": 13,
   "metadata": {
    "run_control": {
     "marked": false
    }
   },
   "outputs": [
    {
     "data": {
      "text/plain": [
       "92    3000\n",
       "32    3000\n",
       "Name: cpu, dtype: int64"
      ]
     },
     "execution_count": 13,
     "metadata": {},
     "output_type": "execute_result"
    }
   ],
   "source": [
    "df_machine.cpu.value_counts()"
   ]
  },
  {
   "cell_type": "code",
   "execution_count": 15,
   "metadata": {
    "run_control": {
     "marked": false
    }
   },
   "outputs": [],
   "source": [
    "df_machine_copy=df_machine.copy()"
   ]
  },
  {
   "cell_type": "code",
   "execution_count": 254,
   "metadata": {
    "run_control": {
     "marked": false
    }
   },
   "outputs": [],
   "source": [
    "df_machine=df_machine_copy"
   ]
  },
  {
   "cell_type": "code",
   "execution_count": 256,
   "metadata": {
    "run_control": {
     "marked": false
    }
   },
   "outputs": [],
   "source": [
    "df_machine['cpu_deploy']=pd.Series([],dtype=float)\n",
    "df_machine['cpu_deploy'].fillna(0,inplace=True)\n",
    "# df_machine['cpu_deploy']=pd.Series(0,dtype=float)"
   ]
  },
  {
   "cell_type": "markdown",
   "metadata": {},
   "source": [
    "#### action=update"
   ]
  },
  {
   "cell_type": "code",
   "execution_count": 13,
   "metadata": {
    "run_control": {
     "marked": false
    }
   },
   "outputs": [],
   "source": [
    "num_m=2000\n",
    "loss=np.zeros(num_m)\n",
    "res=df_machine.cpu.values\n",
    "op_update=lambda x,index: x/res[index]"
   ]
  },
  {
   "cell_type": "code",
   "execution_count": 40,
   "metadata": {
    "collapsed": true,
    "run_control": {
     "marked": false
    }
   },
   "outputs": [
    {
     "ename": "NameError",
     "evalue": "name 'req_v' is not defined",
     "output_type": "error",
     "traceback": [
      "\u001b[0;31m---------------------------------------------------------------------------\u001b[0m",
      "\u001b[0;31mNameError\u001b[0m                                 Traceback (most recent call last)",
      "\u001b[0;32m<ipython-input-40-6d6ce5038e9b>\u001b[0m in \u001b[0;36m<module>\u001b[0;34m()\u001b[0m\n\u001b[1;32m      1\u001b[0m \u001b[0mindex\u001b[0m\u001b[0;34m=\u001b[0m\u001b[0mnp\u001b[0m\u001b[0;34m.\u001b[0m\u001b[0mrandom\u001b[0m\u001b[0;34m.\u001b[0m\u001b[0mrandint\u001b[0m\u001b[0;34m(\u001b[0m\u001b[0;36m6000\u001b[0m\u001b[0;34m)\u001b[0m\u001b[0;34m\u001b[0m\u001b[0m\n\u001b[0;32m----> 2\u001b[0;31m \u001b[0mop_update\u001b[0m\u001b[0;34m(\u001b[0m\u001b[0mreq_v\u001b[0m\u001b[0;34m,\u001b[0m\u001b[0mindex\u001b[0m\u001b[0;34m)\u001b[0m\u001b[0;34m\u001b[0m\u001b[0m\n\u001b[0m",
      "\u001b[0;31mNameError\u001b[0m: name 'req_v' is not defined"
     ]
    }
   ],
   "source": [
    "index=np.random.randint(6000)\n",
    "op_update(req_v,index)"
   ]
  },
  {
   "cell_type": "code",
   "execution_count": 13,
   "metadata": {
    "run_control": {
     "marked": false
    }
   },
   "outputs": [],
   "source": [
    "cur=0\n",
    "\n",
    "col_req=np.arange(98)\n",
    "col_cpu_req=np.arange(98)*2\n",
    "col_mem_req=np.arange(98)*2+1\n",
    "# the one to choose:"
   ]
  },
  {
   "cell_type": "code",
   "execution_count": 16,
   "metadata": {
    "run_control": {
     "marked": false
    }
   },
   "outputs": [],
   "source": [
    "cur=0"
   ]
  },
  {
   "cell_type": "code",
   "execution_count": 62,
   "metadata": {
    "code_folding": [
     0
    ],
    "collapsed": true,
    "run_control": {
     "marked": false
    }
   },
   "outputs": [
    {
     "name": "stdout",
     "output_type": "stream",
     "text": [
      "Writing diaodu/env_stat.py\n"
     ]
    }
   ],
   "source": [
    "%%file diaodu/env_stat.py\n",
    "class Env_stat():    \n",
    "    def __init__(self,df_machine,df_app_res,verbose):\n",
    "        self.ret_v=[]\n",
    "        self.mn=df_machine.copy().reset_index()\n",
    "        self.app=df_app_res.copy()\n",
    "        self.verbose=verbose\n",
    "        self.cur=0\n",
    "#         self.cpu_limit=self.mn.cpu.values\n",
    "#         self.mem_limit=self.mn.mem.values\n",
    "        self.res_cpu=self.mn.cpu.values\n",
    "        self.res_mem=self.mn.mem.values\n",
    "\n",
    "        self.col_req=np.arange(98)\n",
    "        self.col_cpu_req=np.arange(98)*2\n",
    "        self.col_mem_req=np.arange(98)*2+1\n",
    "#         pass\n",
    "    def evaluate(self,cur,choice):\n",
    "#         pass\n",
    "        env=self.update(cur,choice)\n",
    "#         if any(self.update(cur,choice).max(0)>threshold):\n",
    "        print(''.format(self.env.max(0)))\n",
    "        if any(env.max(0)>1):\n",
    "            print('end')\n",
    "            \n",
    "        return self.env.sum(0).sum(0)\n",
    "    def update(self,cur,choice):\n",
    "#         cur is kind of timmer\n",
    "        def get_cpu_usage(cur,index):\n",
    "        #     res_v=res[index]\n",
    "            ps=self.app[self.col_req].iloc[cur,self.col_cpu_req].astype(float)\n",
    "            if self.verbose==1:\n",
    "                ps.apply(lambda x: x/self.res_cpu[index]).plot()\n",
    "            return ps.apply(lambda x: x/self.res_cpu[index])\n",
    "        \n",
    "        def get_mem_usage(cur,index):\n",
    "        #     res_v=res[index]\n",
    "            ps=self.app[self.col_req].iloc[cur,self.col_mem_req].astype(float)\n",
    "            if self.verbose==1:\n",
    "                ps.apply(lambda x: x/self.res_mem[index]).plot()\n",
    "            return ps.apply(lambda x: x/self.res_mem[index])\n",
    "#         op_policy=lambda cur: cur*10+1\n",
    "        \n",
    "        # s=df_machine.iloc[cur-3:cur+3][['index','cpu']]\n",
    "#         choice=op_policy(cur)\n",
    "        # s=df_machine.iloc[choice-3:choice+3][['index','cpu']]\n",
    "    \n",
    "        z=pd.Series(np.zeros(98))\n",
    "        v=get_cpu_usage(cur,choice)\n",
    "        map_={0:z,1:v}\n",
    "        \n",
    "        s=self.mn.iloc[:][['index','cpu']]\n",
    "        \n",
    "        self.ret_v.append(s.apply(lambda x:map_[choice==x['index']],axis=1).values)\n",
    "        \n",
    "        if self.verbose==1:\n",
    "            threed_view(np.sum(ret_v,0)[choice-10:choice+10,:].T,end=100)\n",
    "        # df_machine['cpu_deploy'].sum(axis=1).plot()\n",
    "        \n",
    "        return np.sum(self.ret_v,0)\n",
    "    \n",
    "# cur=cur+1\n",
    "# s.apply(lambda x:choice==x['index'],axis=1)"
   ]
  },
  {
   "cell_type": "code",
   "execution_count": 4,
   "metadata": {
    "run_control": {
     "marked": true
    }
   },
   "outputs": [
    {
     "name": "stderr",
     "output_type": "stream",
     "text": [
      "/opt/playground/diaodu/env_stat.py:20: FutureWarning: using a dict on a Series for aggregation\n",
      "is deprecated and will be removed in a future version\n",
      "  self.df_a_i=grouped.iid.agg(sum_()).reset_index()\n"
     ]
    },
    {
     "data": {
      "text/plain": [
       "101"
      ]
     },
     "execution_count": 4,
     "metadata": {},
     "output_type": "execute_result"
    }
   ],
   "source": [
    "from env_stat import Env_stat\n",
    "\n",
    "env=Env_stat(df_machine,df_app_res,df_app_inter,df_ins_sum,verbose=0)\n",
    "del df_machine,df_app_res,df_app_inter\n",
    "gc.collect()"
   ]
  },
  {
   "cell_type": "code",
   "execution_count": 7,
   "metadata": {
    "run_control": {
     "marked": false
    }
   },
   "outputs": [],
   "source": [
    "# pd.Series(env.update(3,10).max(1)).plot()\n",
    "x=env.update(276,10)\n",
    "# .max(1)"
   ]
  },
  {
   "cell_type": "code",
   "execution_count": 11,
   "metadata": {
    "run_control": {
     "marked": false
    }
   },
   "outputs": [
    {
     "data": {
      "text/plain": [
       "(6000,)"
      ]
     },
     "execution_count": 11,
     "metadata": {},
     "output_type": "execute_result"
    }
   ],
   "source": [
    "x['m'].shape"
   ]
  },
  {
   "cell_type": "code",
   "execution_count": 8,
   "metadata": {
    "collapsed": true,
    "run_control": {
     "marked": false
    }
   },
   "outputs": [
    {
     "ename": "TypeError",
     "evalue": "'int' object is not callable",
     "output_type": "error",
     "traceback": [
      "\u001b[0;31m---------------------------------------------------------------------------\u001b[0m",
      "\u001b[0;31mTypeError\u001b[0m                                 Traceback (most recent call last)",
      "\u001b[0;32m<ipython-input-8-ec9e21166a44>\u001b[0m in \u001b[0;36m<module>\u001b[0;34m()\u001b[0m\n\u001b[1;32m      1\u001b[0m \u001b[0;31m# pd.Series(env.update(3,10).max(1)).plot()\u001b[0m\u001b[0;34m\u001b[0m\u001b[0;34m\u001b[0m\u001b[0m\n\u001b[0;32m----> 2\u001b[0;31m \u001b[0mx\u001b[0m\u001b[0;34m=\u001b[0m\u001b[0menv\u001b[0m\u001b[0;34m.\u001b[0m\u001b[0mevaluate\u001b[0m\u001b[0;34m(\u001b[0m\u001b[0;36m276\u001b[0m\u001b[0;34m,\u001b[0m\u001b[0;36m10\u001b[0m\u001b[0;34m)\u001b[0m\u001b[0;34m\u001b[0m\u001b[0m\n\u001b[0m\u001b[1;32m      3\u001b[0m \u001b[0;31m# .max(1)\u001b[0m\u001b[0;34m\u001b[0m\u001b[0;34m\u001b[0m\u001b[0m\n",
      "\u001b[0;32m/opt/playground/diaodu/env_stat.py\u001b[0m in \u001b[0;36mevaluate\u001b[0;34m(self, cur, choice)\u001b[0m\n\u001b[1;32m    143\u001b[0m         \u001b[0;31m# print('{0}'.format(self.env_mem.sum(1).max()))\u001b[0m\u001b[0;34m\u001b[0m\u001b[0;34m\u001b[0m\u001b[0m\n\u001b[1;32m    144\u001b[0m \u001b[0;34m\u001b[0m\u001b[0m\n\u001b[0;32m--> 145\u001b[0;31m         \u001b[0mself\u001b[0m\u001b[0;34m.\u001b[0m\u001b[0menv_matrix\u001b[0m\u001b[0;34m(\u001b[0m\u001b[0mcur\u001b[0m\u001b[0;34m)\u001b[0m\u001b[0;34m\u001b[0m\u001b[0m\n\u001b[0m\u001b[1;32m    146\u001b[0m \u001b[0;34m\u001b[0m\u001b[0m\n\u001b[1;32m    147\u001b[0m         \u001b[0mself\u001b[0m\u001b[0;34m.\u001b[0m\u001b[0mdic\u001b[0m\u001b[0;34m[\u001b[0m\u001b[0;34m'matrix'\u001b[0m\u001b[0;34m]\u001b[0m\u001b[0;34m=\u001b[0m\u001b[0mself\u001b[0m\u001b[0;34m.\u001b[0m\u001b[0mmatrix\u001b[0m\u001b[0;34m\u001b[0m\u001b[0m\n",
      "\u001b[0;32m/opt/playground/diaodu/env_stat.py\u001b[0m in \u001b[0;36menv_matrix\u001b[0;34m(self, step)\u001b[0m\n\u001b[1;32m    321\u001b[0m         \u001b[0;32mfrom\u001b[0m \u001b[0mgen_expand\u001b[0m \u001b[0;32mimport\u001b[0m \u001b[0mnormalize\u001b[0m\u001b[0;34m\u001b[0m\u001b[0m\n\u001b[1;32m    322\u001b[0m \u001b[0;34m\u001b[0m\u001b[0m\n\u001b[0;32m--> 323\u001b[0;31m         \u001b[0mstep\u001b[0m\u001b[0;34m(\u001b[0m\u001b[0mstep\u001b[0m\u001b[0;34m)\u001b[0m\u001b[0;34m\u001b[0m\u001b[0m\n\u001b[0m\u001b[1;32m    324\u001b[0m \u001b[0;34m\u001b[0m\u001b[0m\n\u001b[1;32m    325\u001b[0m         \u001b[0mself\u001b[0m\u001b[0;34m.\u001b[0m\u001b[0mdump\u001b[0m\u001b[0;34m(\u001b[0m\u001b[0;34m)\u001b[0m\u001b[0;34m\u001b[0m\u001b[0m\n",
      "\u001b[0;31mTypeError\u001b[0m: 'int' object is not callable"
     ]
    }
   ],
   "source": [
    "# pd.Series(env.update(3,10).max(1)).plot()\n",
    "x=env.evaluate(276,10)\n",
    "# .max(1)"
   ]
  },
  {
   "cell_type": "code",
   "execution_count": 121,
   "metadata": {
    "run_control": {
     "marked": false
    }
   },
   "outputs": [
    {
     "data": {
      "text/plain": [
       "((6000, 98), (6000, 98))"
      ]
     },
     "execution_count": 121,
     "metadata": {},
     "output_type": "execute_result"
    }
   ],
   "source": [
    "cur_cpu.shape,cur_mem.shape"
   ]
  },
  {
   "cell_type": "code",
   "execution_count": 20,
   "metadata": {
    "collapsed": true,
    "run_control": {
     "marked": false
    }
   },
   "outputs": [
    {
     "ename": "TypeError",
     "evalue": "unorderable types: str() > int()",
     "output_type": "error",
     "traceback": [
      "\u001b[0;31m---------------------------------------------------------------------------\u001b[0m",
      "\u001b[0;31mTypeError\u001b[0m                                 Traceback (most recent call last)",
      "\u001b[0;32m<ipython-input-20-6a95293155da>\u001b[0m in \u001b[0;36m<module>\u001b[0;34m()\u001b[0m\n\u001b[0;32m----> 1\u001b[0;31m \u001b[0mget_ipython\u001b[0m\u001b[0;34m(\u001b[0m\u001b[0;34m)\u001b[0m\u001b[0;34m.\u001b[0m\u001b[0mrun_cell_magic\u001b[0m\u001b[0;34m(\u001b[0m\u001b[0;34m'timeit'\u001b[0m\u001b[0;34m,\u001b[0m \u001b[0;34m'-n 5'\u001b[0m\u001b[0;34m,\u001b[0m \u001b[0;34m\"# env.evaluate(793,'machine_55')\\nenv.evaluate(random.randint(1,9000),'machine_55')\\n# env.evaluate(4046,55)\"\u001b[0m\u001b[0;34m)\u001b[0m\u001b[0;34m\u001b[0m\u001b[0m\n\u001b[0m",
      "\u001b[0;32m~/anaconda/envs/patent-landscape/lib/python3.5/site-packages/IPython/core/interactiveshell.py\u001b[0m in \u001b[0;36mrun_cell_magic\u001b[0;34m(self, magic_name, line, cell)\u001b[0m\n\u001b[1;32m   2165\u001b[0m             \u001b[0mmagic_arg_s\u001b[0m \u001b[0;34m=\u001b[0m \u001b[0mself\u001b[0m\u001b[0;34m.\u001b[0m\u001b[0mvar_expand\u001b[0m\u001b[0;34m(\u001b[0m\u001b[0mline\u001b[0m\u001b[0;34m,\u001b[0m \u001b[0mstack_depth\u001b[0m\u001b[0;34m)\u001b[0m\u001b[0;34m\u001b[0m\u001b[0m\n\u001b[1;32m   2166\u001b[0m             \u001b[0;32mwith\u001b[0m \u001b[0mself\u001b[0m\u001b[0;34m.\u001b[0m\u001b[0mbuiltin_trap\u001b[0m\u001b[0;34m:\u001b[0m\u001b[0;34m\u001b[0m\u001b[0m\n\u001b[0;32m-> 2167\u001b[0;31m                 \u001b[0mresult\u001b[0m \u001b[0;34m=\u001b[0m \u001b[0mfn\u001b[0m\u001b[0;34m(\u001b[0m\u001b[0mmagic_arg_s\u001b[0m\u001b[0;34m,\u001b[0m \u001b[0mcell\u001b[0m\u001b[0;34m)\u001b[0m\u001b[0;34m\u001b[0m\u001b[0m\n\u001b[0m\u001b[1;32m   2168\u001b[0m             \u001b[0;32mreturn\u001b[0m \u001b[0mresult\u001b[0m\u001b[0;34m\u001b[0m\u001b[0m\n\u001b[1;32m   2169\u001b[0m \u001b[0;34m\u001b[0m\u001b[0m\n",
      "\u001b[0;32m<decorator-gen-61>\u001b[0m in \u001b[0;36mtimeit\u001b[0;34m(self, line, cell, local_ns)\u001b[0m\n",
      "\u001b[0;32m~/anaconda/envs/patent-landscape/lib/python3.5/site-packages/IPython/core/magic.py\u001b[0m in \u001b[0;36m<lambda>\u001b[0;34m(f, *a, **k)\u001b[0m\n\u001b[1;32m    185\u001b[0m     \u001b[0;31m# but it's overkill for just that one bit of state.\u001b[0m\u001b[0;34m\u001b[0m\u001b[0;34m\u001b[0m\u001b[0m\n\u001b[1;32m    186\u001b[0m     \u001b[0;32mdef\u001b[0m \u001b[0mmagic_deco\u001b[0m\u001b[0;34m(\u001b[0m\u001b[0marg\u001b[0m\u001b[0;34m)\u001b[0m\u001b[0;34m:\u001b[0m\u001b[0;34m\u001b[0m\u001b[0m\n\u001b[0;32m--> 187\u001b[0;31m         \u001b[0mcall\u001b[0m \u001b[0;34m=\u001b[0m \u001b[0;32mlambda\u001b[0m \u001b[0mf\u001b[0m\u001b[0;34m,\u001b[0m \u001b[0;34m*\u001b[0m\u001b[0ma\u001b[0m\u001b[0;34m,\u001b[0m \u001b[0;34m**\u001b[0m\u001b[0mk\u001b[0m\u001b[0;34m:\u001b[0m \u001b[0mf\u001b[0m\u001b[0;34m(\u001b[0m\u001b[0;34m*\u001b[0m\u001b[0ma\u001b[0m\u001b[0;34m,\u001b[0m \u001b[0;34m**\u001b[0m\u001b[0mk\u001b[0m\u001b[0;34m)\u001b[0m\u001b[0;34m\u001b[0m\u001b[0m\n\u001b[0m\u001b[1;32m    188\u001b[0m \u001b[0;34m\u001b[0m\u001b[0m\n\u001b[1;32m    189\u001b[0m         \u001b[0;32mif\u001b[0m \u001b[0mcallable\u001b[0m\u001b[0;34m(\u001b[0m\u001b[0marg\u001b[0m\u001b[0;34m)\u001b[0m\u001b[0;34m:\u001b[0m\u001b[0;34m\u001b[0m\u001b[0m\n",
      "\u001b[0;32m~/anaconda/envs/patent-landscape/lib/python3.5/site-packages/IPython/core/magics/execution.py\u001b[0m in \u001b[0;36mtimeit\u001b[0;34m(self, line, cell, local_ns)\u001b[0m\n\u001b[1;32m   1100\u001b[0m                     \u001b[0;32mbreak\u001b[0m\u001b[0;34m\u001b[0m\u001b[0m\n\u001b[1;32m   1101\u001b[0m \u001b[0;34m\u001b[0m\u001b[0m\n\u001b[0;32m-> 1102\u001b[0;31m         \u001b[0mall_runs\u001b[0m \u001b[0;34m=\u001b[0m \u001b[0mtimer\u001b[0m\u001b[0;34m.\u001b[0m\u001b[0mrepeat\u001b[0m\u001b[0;34m(\u001b[0m\u001b[0mrepeat\u001b[0m\u001b[0;34m,\u001b[0m \u001b[0mnumber\u001b[0m\u001b[0;34m)\u001b[0m\u001b[0;34m\u001b[0m\u001b[0m\n\u001b[0m\u001b[1;32m   1103\u001b[0m         \u001b[0mbest\u001b[0m \u001b[0;34m=\u001b[0m \u001b[0mmin\u001b[0m\u001b[0;34m(\u001b[0m\u001b[0mall_runs\u001b[0m\u001b[0;34m)\u001b[0m \u001b[0;34m/\u001b[0m \u001b[0mnumber\u001b[0m\u001b[0;34m\u001b[0m\u001b[0m\n\u001b[1;32m   1104\u001b[0m         \u001b[0mworst\u001b[0m \u001b[0;34m=\u001b[0m \u001b[0mmax\u001b[0m\u001b[0;34m(\u001b[0m\u001b[0mall_runs\u001b[0m\u001b[0;34m)\u001b[0m \u001b[0;34m/\u001b[0m \u001b[0mnumber\u001b[0m\u001b[0;34m\u001b[0m\u001b[0m\n",
      "\u001b[0;32m~/anaconda/envs/patent-landscape/lib/python3.5/timeit.py\u001b[0m in \u001b[0;36mrepeat\u001b[0;34m(self, repeat, number)\u001b[0m\n\u001b[1;32m    204\u001b[0m         \u001b[0mr\u001b[0m \u001b[0;34m=\u001b[0m \u001b[0;34m[\u001b[0m\u001b[0;34m]\u001b[0m\u001b[0;34m\u001b[0m\u001b[0m\n\u001b[1;32m    205\u001b[0m         \u001b[0;32mfor\u001b[0m \u001b[0mi\u001b[0m \u001b[0;32min\u001b[0m \u001b[0mrange\u001b[0m\u001b[0;34m(\u001b[0m\u001b[0mrepeat\u001b[0m\u001b[0;34m)\u001b[0m\u001b[0;34m:\u001b[0m\u001b[0;34m\u001b[0m\u001b[0m\n\u001b[0;32m--> 206\u001b[0;31m             \u001b[0mt\u001b[0m \u001b[0;34m=\u001b[0m \u001b[0mself\u001b[0m\u001b[0;34m.\u001b[0m\u001b[0mtimeit\u001b[0m\u001b[0;34m(\u001b[0m\u001b[0mnumber\u001b[0m\u001b[0;34m)\u001b[0m\u001b[0;34m\u001b[0m\u001b[0m\n\u001b[0m\u001b[1;32m    207\u001b[0m             \u001b[0mr\u001b[0m\u001b[0;34m.\u001b[0m\u001b[0mappend\u001b[0m\u001b[0;34m(\u001b[0m\u001b[0mt\u001b[0m\u001b[0;34m)\u001b[0m\u001b[0;34m\u001b[0m\u001b[0m\n\u001b[1;32m    208\u001b[0m         \u001b[0;32mreturn\u001b[0m \u001b[0mr\u001b[0m\u001b[0;34m\u001b[0m\u001b[0m\n",
      "\u001b[0;32m~/anaconda/envs/patent-landscape/lib/python3.5/site-packages/IPython/core/magics/execution.py\u001b[0m in \u001b[0;36mtimeit\u001b[0;34m(self, number)\u001b[0m\n\u001b[1;32m    158\u001b[0m         \u001b[0mgc\u001b[0m\u001b[0;34m.\u001b[0m\u001b[0mdisable\u001b[0m\u001b[0;34m(\u001b[0m\u001b[0;34m)\u001b[0m\u001b[0;34m\u001b[0m\u001b[0m\n\u001b[1;32m    159\u001b[0m         \u001b[0;32mtry\u001b[0m\u001b[0;34m:\u001b[0m\u001b[0;34m\u001b[0m\u001b[0m\n\u001b[0;32m--> 160\u001b[0;31m             \u001b[0mtiming\u001b[0m \u001b[0;34m=\u001b[0m \u001b[0mself\u001b[0m\u001b[0;34m.\u001b[0m\u001b[0minner\u001b[0m\u001b[0;34m(\u001b[0m\u001b[0mit\u001b[0m\u001b[0;34m,\u001b[0m \u001b[0mself\u001b[0m\u001b[0;34m.\u001b[0m\u001b[0mtimer\u001b[0m\u001b[0;34m)\u001b[0m\u001b[0;34m\u001b[0m\u001b[0m\n\u001b[0m\u001b[1;32m    161\u001b[0m         \u001b[0;32mfinally\u001b[0m\u001b[0;34m:\u001b[0m\u001b[0;34m\u001b[0m\u001b[0m\n\u001b[1;32m    162\u001b[0m             \u001b[0;32mif\u001b[0m \u001b[0mgcold\u001b[0m\u001b[0;34m:\u001b[0m\u001b[0;34m\u001b[0m\u001b[0m\n",
      "\u001b[0;32m<magic-timeit>\u001b[0m in \u001b[0;36minner\u001b[0;34m(_it, _timer)\u001b[0m\n",
      "\u001b[0;32m/opt/playground/diaodu/env_stat.py\u001b[0m in \u001b[0;36mevaluate\u001b[0;34m(self, cur, choice)\u001b[0m\n\u001b[1;32m    121\u001b[0m             \u001b[0;32mreturn\u001b[0m \u001b[0;36m0\u001b[0m\u001b[0;34m\u001b[0m\u001b[0m\n\u001b[1;32m    122\u001b[0m \u001b[0;34m\u001b[0m\u001b[0m\n\u001b[0;32m--> 123\u001b[0;31m         \u001b[0;32mif\u001b[0m \u001b[0mchoice\u001b[0m\u001b[0;34m>\u001b[0m\u001b[0mself\u001b[0m\u001b[0;34m.\u001b[0m\u001b[0mmn\u001b[0m\u001b[0;34m.\u001b[0m\u001b[0mshape\u001b[0m\u001b[0;34m[\u001b[0m\u001b[0;36m0\u001b[0m\u001b[0;34m]\u001b[0m\u001b[0;34m-\u001b[0m\u001b[0;36m1\u001b[0m\u001b[0;34m:\u001b[0m\u001b[0;34m\u001b[0m\u001b[0m\n\u001b[0m\u001b[1;32m    124\u001b[0m             \u001b[0;31m# return self.env_cpu.sum(0).sum(0),1\u001b[0m\u001b[0;34m\u001b[0m\u001b[0;34m\u001b[0m\u001b[0m\n\u001b[1;32m    125\u001b[0m             \u001b[0;32mreturn\u001b[0m \u001b[0;36m1\u001b[0m\u001b[0;34m,\u001b[0m\u001b[0;36m1\u001b[0m\u001b[0;34m\u001b[0m\u001b[0m\n",
      "\u001b[0;31mTypeError\u001b[0m: unorderable types: str() > int()"
     ]
    }
   ],
   "source": [
    "%%timeit -n 5\n",
    "# env.evaluate(793,'machine_55')\n",
    "env.evaluate(random.randint(1,9000),'machine_55')\n",
    "# env.evaluate(4046,55)"
   ]
  },
  {
   "cell_type": "code",
   "execution_count": 30,
   "metadata": {
    "run_control": {
     "marked": false
    }
   },
   "outputs": [
    {
     "data": {
      "text/plain": [
       "''"
      ]
     },
     "execution_count": 30,
     "metadata": {},
     "output_type": "execute_result"
    }
   ],
   "source": [
    "env.env_app[54]\n",
    "# env.env_app.shape"
   ]
  },
  {
   "cell_type": "code",
   "execution_count": 5,
   "metadata": {
    "collapsed": true
   },
   "outputs": [
    {
     "ename": "AxisError",
     "evalue": "axis 1 is out of bounds for array of dimension 1",
     "output_type": "error",
     "traceback": [
      "\u001b[0;31m---------------------------------------------------------------------------\u001b[0m",
      "\u001b[0;31mAxisError\u001b[0m                                 Traceback (most recent call last)",
      "\u001b[0;32m<ipython-input-5-d18a28bf9e3f>\u001b[0m in \u001b[0;36m<module>\u001b[0;34m()\u001b[0m\n\u001b[0;32m----> 1\u001b[0;31m \u001b[0menv\u001b[0m\u001b[0;34m.\u001b[0m\u001b[0mevaluate\u001b[0m\u001b[0;34m(\u001b[0m\u001b[0;36m234\u001b[0m\u001b[0;34m,\u001b[0m\u001b[0;36m567\u001b[0m\u001b[0;34m)\u001b[0m\u001b[0;34m\u001b[0m\u001b[0m\n\u001b[0m",
      "\u001b[0;32m/opt/playground/diaodu/env_stat.py\u001b[0m in \u001b[0;36mevaluate\u001b[0;34m(self, cur, choice)\u001b[0m\n\u001b[1;32m    148\u001b[0m         \u001b[0;31m# if any(self.env_mem.max(1)>1):\u001b[0m\u001b[0;34m\u001b[0m\u001b[0;34m\u001b[0m\u001b[0m\n\u001b[1;32m    149\u001b[0m         \u001b[0;32mfor\u001b[0m \u001b[0mk\u001b[0m \u001b[0;32min\u001b[0m  \u001b[0;34m[\u001b[0m\u001b[0;34m'c'\u001b[0m\u001b[0;34m,\u001b[0m\u001b[0;34m'm'\u001b[0m\u001b[0;34m,\u001b[0m\u001b[0;34m'p'\u001b[0m\u001b[0;34m,\u001b[0m\u001b[0;34m'm'\u001b[0m\u001b[0;34m,\u001b[0m\u001b[0;34m'pm'\u001b[0m\u001b[0;34m]\u001b[0m\u001b[0;34m:\u001b[0m\u001b[0;34m\u001b[0m\u001b[0m\n\u001b[0;32m--> 150\u001b[0;31m             \u001b[0;32mif\u001b[0m \u001b[0many\u001b[0m\u001b[0;34m(\u001b[0m\u001b[0mself\u001b[0m\u001b[0;34m.\u001b[0m\u001b[0mdeploy_state\u001b[0m\u001b[0;34m[\u001b[0m\u001b[0mk\u001b[0m\u001b[0;34m]\u001b[0m\u001b[0;34m.\u001b[0m\u001b[0mmax\u001b[0m\u001b[0;34m(\u001b[0m\u001b[0;36m1\u001b[0m\u001b[0;34m)\u001b[0m\u001b[0;34m)\u001b[0m\u001b[0;34m>\u001b[0m\u001b[0;36m1\u001b[0m\u001b[0;34m:\u001b[0m\u001b[0;34m\u001b[0m\u001b[0m\n\u001b[0m\u001b[1;32m    151\u001b[0m                 \u001b[0mprint\u001b[0m\u001b[0;34m(\u001b[0m\u001b[0mk\u001b[0m \u001b[0;34m,\u001b[0m\u001b[0;34m'end'\u001b[0m\u001b[0;34m)\u001b[0m\u001b[0;34m\u001b[0m\u001b[0m\n\u001b[1;32m    152\u001b[0m                 \u001b[0;31m# return self.env_cpu.sum(0).sum(0),1\u001b[0m\u001b[0;34m\u001b[0m\u001b[0;34m\u001b[0m\u001b[0m\n",
      "\u001b[0;32m~/anaconda/envs/patent-landscape/lib/python3.5/site-packages/numpy/core/_methods.py\u001b[0m in \u001b[0;36m_amax\u001b[0;34m(a, axis, out, keepdims)\u001b[0m\n\u001b[1;32m     24\u001b[0m \u001b[0;31m# small reductions\u001b[0m\u001b[0;34m\u001b[0m\u001b[0;34m\u001b[0m\u001b[0m\n\u001b[1;32m     25\u001b[0m \u001b[0;32mdef\u001b[0m \u001b[0m_amax\u001b[0m\u001b[0;34m(\u001b[0m\u001b[0ma\u001b[0m\u001b[0;34m,\u001b[0m \u001b[0maxis\u001b[0m\u001b[0;34m=\u001b[0m\u001b[0;32mNone\u001b[0m\u001b[0;34m,\u001b[0m \u001b[0mout\u001b[0m\u001b[0;34m=\u001b[0m\u001b[0;32mNone\u001b[0m\u001b[0;34m,\u001b[0m \u001b[0mkeepdims\u001b[0m\u001b[0;34m=\u001b[0m\u001b[0;32mFalse\u001b[0m\u001b[0;34m)\u001b[0m\u001b[0;34m:\u001b[0m\u001b[0;34m\u001b[0m\u001b[0m\n\u001b[0;32m---> 26\u001b[0;31m     \u001b[0;32mreturn\u001b[0m \u001b[0mumr_maximum\u001b[0m\u001b[0;34m(\u001b[0m\u001b[0ma\u001b[0m\u001b[0;34m,\u001b[0m \u001b[0maxis\u001b[0m\u001b[0;34m,\u001b[0m \u001b[0;32mNone\u001b[0m\u001b[0;34m,\u001b[0m \u001b[0mout\u001b[0m\u001b[0;34m,\u001b[0m \u001b[0mkeepdims\u001b[0m\u001b[0;34m)\u001b[0m\u001b[0;34m\u001b[0m\u001b[0m\n\u001b[0m\u001b[1;32m     27\u001b[0m \u001b[0;34m\u001b[0m\u001b[0m\n\u001b[1;32m     28\u001b[0m \u001b[0;32mdef\u001b[0m \u001b[0m_amin\u001b[0m\u001b[0;34m(\u001b[0m\u001b[0ma\u001b[0m\u001b[0;34m,\u001b[0m \u001b[0maxis\u001b[0m\u001b[0;34m=\u001b[0m\u001b[0;32mNone\u001b[0m\u001b[0;34m,\u001b[0m \u001b[0mout\u001b[0m\u001b[0;34m=\u001b[0m\u001b[0;32mNone\u001b[0m\u001b[0;34m,\u001b[0m \u001b[0mkeepdims\u001b[0m\u001b[0;34m=\u001b[0m\u001b[0;32mFalse\u001b[0m\u001b[0;34m)\u001b[0m\u001b[0;34m:\u001b[0m\u001b[0;34m\u001b[0m\u001b[0m\n",
      "\u001b[0;31mAxisError\u001b[0m: axis 1 is out of bounds for array of dimension 1"
     ]
    },
    {
     "data": {
      "image/png": "[encoded data removed]",
      "text/plain": [
       "<matplotlib.figure.Figure at 0x7fafd0eeeeb8>"
      ]
     },
     "metadata": {},
     "output_type": "display_data"
    }
   ],
   "source": [
    "env.evaluate(234,567)"
   ]
  },
  {
   "cell_type": "markdown",
   "metadata": {},
   "source": [
    "#### mark"
   ]
  },
  {
   "cell_type": "code",
   "execution_count": 9,
   "metadata": {
    "run_control": {
     "marked": false
    }
   },
   "outputs": [],
   "source": [
    "env.deploy_state['a'][54]='app_392app_6142app_8905app_1857app_5776app_372app_3432app_3631app_3997app_3984app_1976app_2617app_4614app_2004app_3591app_1256app_8443app_2579app_8755app_2038app_6319app_6332app_2089app_3271app_5798app_7652app_8618app_4850app_996app_4653app_7439app_1300app_5064app_4663app_8324'"
   ]
  },
  {
   "cell_type": "code",
   "execution_count": 13,
   "metadata": {
    "collapsed": true
   },
   "outputs": [
    {
     "ename": "AxisError",
     "evalue": "axis 1 is out of bounds for array of dimension 1",
     "output_type": "error",
     "traceback": [
      "\u001b[0;31m---------------------------------------------------------------------------\u001b[0m",
      "\u001b[0;31mAxisError\u001b[0m                                 Traceback (most recent call last)",
      "\u001b[0;32m<ipython-input-13-d18a28bf9e3f>\u001b[0m in \u001b[0;36m<module>\u001b[0;34m()\u001b[0m\n\u001b[0;32m----> 1\u001b[0;31m \u001b[0menv\u001b[0m\u001b[0;34m.\u001b[0m\u001b[0mevaluate\u001b[0m\u001b[0;34m(\u001b[0m\u001b[0;36m234\u001b[0m\u001b[0;34m,\u001b[0m\u001b[0;36m567\u001b[0m\u001b[0;34m)\u001b[0m\u001b[0;34m\u001b[0m\u001b[0m\n\u001b[0m",
      "\u001b[0;32m/opt/playground/diaodu/env_stat.py\u001b[0m in \u001b[0;36mevaluate\u001b[0;34m(self, cur, choice)\u001b[0m\n\u001b[1;32m    149\u001b[0m         \u001b[0;31m# if any(self.env_mem.max(1)>1):\u001b[0m\u001b[0;34m\u001b[0m\u001b[0;34m\u001b[0m\u001b[0m\n\u001b[1;32m    150\u001b[0m         \u001b[0;32mfor\u001b[0m \u001b[0mk\u001b[0m \u001b[0;32min\u001b[0m  \u001b[0;34m[\u001b[0m\u001b[0;34m'c'\u001b[0m\u001b[0;34m,\u001b[0m\u001b[0;34m'm'\u001b[0m\u001b[0;34m,\u001b[0m\u001b[0;34m'p'\u001b[0m\u001b[0;34m,\u001b[0m\u001b[0;34m'm'\u001b[0m\u001b[0;34m,\u001b[0m\u001b[0;34m'pm'\u001b[0m\u001b[0;34m]\u001b[0m\u001b[0;34m:\u001b[0m\u001b[0;34m\u001b[0m\u001b[0m\n\u001b[0;32m--> 151\u001b[0;31m             \u001b[0;32mif\u001b[0m \u001b[0many\u001b[0m\u001b[0;34m(\u001b[0m\u001b[0mself\u001b[0m\u001b[0;34m.\u001b[0m\u001b[0mdeploy_state\u001b[0m\u001b[0;34m[\u001b[0m\u001b[0mk\u001b[0m\u001b[0;34m]\u001b[0m\u001b[0;34m.\u001b[0m\u001b[0mmax\u001b[0m\u001b[0;34m(\u001b[0m\u001b[0;36m1\u001b[0m\u001b[0;34m)\u001b[0m\u001b[0;34m)\u001b[0m\u001b[0;34m>\u001b[0m\u001b[0;36m1\u001b[0m\u001b[0;34m:\u001b[0m\u001b[0;34m\u001b[0m\u001b[0m\n\u001b[0m\u001b[1;32m    152\u001b[0m                 \u001b[0mprint\u001b[0m\u001b[0;34m(\u001b[0m\u001b[0mk\u001b[0m \u001b[0;34m,\u001b[0m\u001b[0;34m'end'\u001b[0m\u001b[0;34m)\u001b[0m\u001b[0;34m\u001b[0m\u001b[0m\n\u001b[1;32m    153\u001b[0m                 \u001b[0;31m# return self.env_cpu.sum(0).sum(0),1\u001b[0m\u001b[0;34m\u001b[0m\u001b[0;34m\u001b[0m\u001b[0m\n",
      "\u001b[0;32m~/anaconda/envs/patent-landscape/lib/python3.5/site-packages/numpy/core/_methods.py\u001b[0m in \u001b[0;36m_amax\u001b[0;34m(a, axis, out, keepdims)\u001b[0m\n\u001b[1;32m     24\u001b[0m \u001b[0;31m# small reductions\u001b[0m\u001b[0;34m\u001b[0m\u001b[0;34m\u001b[0m\u001b[0m\n\u001b[1;32m     25\u001b[0m \u001b[0;32mdef\u001b[0m \u001b[0m_amax\u001b[0m\u001b[0;34m(\u001b[0m\u001b[0ma\u001b[0m\u001b[0;34m,\u001b[0m \u001b[0maxis\u001b[0m\u001b[0;34m=\u001b[0m\u001b[0;32mNone\u001b[0m\u001b[0;34m,\u001b[0m \u001b[0mout\u001b[0m\u001b[0;34m=\u001b[0m\u001b[0;32mNone\u001b[0m\u001b[0;34m,\u001b[0m \u001b[0mkeepdims\u001b[0m\u001b[0;34m=\u001b[0m\u001b[0;32mFalse\u001b[0m\u001b[0;34m)\u001b[0m\u001b[0;34m:\u001b[0m\u001b[0;34m\u001b[0m\u001b[0m\n\u001b[0;32m---> 26\u001b[0;31m     \u001b[0;32mreturn\u001b[0m \u001b[0mumr_maximum\u001b[0m\u001b[0;34m(\u001b[0m\u001b[0ma\u001b[0m\u001b[0;34m,\u001b[0m \u001b[0maxis\u001b[0m\u001b[0;34m,\u001b[0m \u001b[0;32mNone\u001b[0m\u001b[0;34m,\u001b[0m \u001b[0mout\u001b[0m\u001b[0;34m,\u001b[0m \u001b[0mkeepdims\u001b[0m\u001b[0;34m)\u001b[0m\u001b[0;34m\u001b[0m\u001b[0m\n\u001b[0m\u001b[1;32m     27\u001b[0m \u001b[0;34m\u001b[0m\u001b[0m\n\u001b[1;32m     28\u001b[0m \u001b[0;32mdef\u001b[0m \u001b[0m_amin\u001b[0m\u001b[0;34m(\u001b[0m\u001b[0ma\u001b[0m\u001b[0;34m,\u001b[0m \u001b[0maxis\u001b[0m\u001b[0;34m=\u001b[0m\u001b[0;32mNone\u001b[0m\u001b[0;34m,\u001b[0m \u001b[0mout\u001b[0m\u001b[0;34m=\u001b[0m\u001b[0;32mNone\u001b[0m\u001b[0;34m,\u001b[0m \u001b[0mkeepdims\u001b[0m\u001b[0;34m=\u001b[0m\u001b[0;32mFalse\u001b[0m\u001b[0;34m)\u001b[0m\u001b[0;34m:\u001b[0m\u001b[0;34m\u001b[0m\u001b[0m\n",
      "\u001b[0;31mAxisError\u001b[0m: axis 1 is out of bounds for array of dimension 1"
     ]
    },
    {
     "data": {
      "image/png": "[encoded data removed]",
      "text/plain": [
       "<matplotlib.figure.Figure at 0x7efbf561b320>"
      ]
     },
     "metadata": {},
     "output_type": "display_data"
    }
   ],
   "source": [
    "%load -r eve"
   ]
  },
  {
   "cell_type": "code",
   "execution_count": 14,
   "metadata": {},
   "outputs": [],
   "source": [
    "env.ret_app_infer=[]\n",
    "\n",
    "d='app_5732 app_3361app_3361app_5732app_3361app_3361app_5732 app_3361'\n",
    "env.ret_app_infer.append(d)"
   ]
  },
  {
   "cell_type": "code",
   "execution_count": 12,
   "metadata": {
    "run_control": {
     "marked": false
    }
   },
   "outputs": [
    {
     "data": {
      "text/plain": [
       "(1, 0)"
      ]
     },
     "execution_count": 12,
     "metadata": {},
     "output_type": "execute_result"
    }
   ],
   "source": [
    "import re\n",
    "# text=env.deploy_state['a'][54]\n",
    "# text=(env.deploy_state['a']+' ').sum()\n",
    "env.evaluate(2,256)\n",
    "# r=env.app_inter[['aid','ab']].apply(lambda x: re.findall(x.ab,text),axis=1).apply(lambda x: len(x)!=0)\n",
    "# r=env.app_inter[['aid','ab']].apply(lambda x: re.findall(x.ab,env.env_app[54]),axis=1).apply(lambda x: len(x)!=0)\n",
    "# any(r)"
   ]
  },
  {
   "cell_type": "code",
   "execution_count": 6,
   "metadata": {
    "collapsed": true
   },
   "outputs": [
    {
     "name": "stdout",
     "output_type": "stream",
     "text": [
      "> \u001b[0;32m/home/.tbxy09/anaconda/envs/patent-landscape/lib/python3.5/site-packages/numpy/core/_methods.py\u001b[0m(26)\u001b[0;36m_amax\u001b[0;34m()\u001b[0m\n",
      "\u001b[0;32m     24 \u001b[0;31m\u001b[0;31m# small reductions\u001b[0m\u001b[0;34m\u001b[0m\u001b[0;34m\u001b[0m\u001b[0m\n",
      "\u001b[0m\u001b[0;32m     25 \u001b[0;31m\u001b[0;32mdef\u001b[0m \u001b[0m_amax\u001b[0m\u001b[0;34m(\u001b[0m\u001b[0ma\u001b[0m\u001b[0;34m,\u001b[0m \u001b[0maxis\u001b[0m\u001b[0;34m=\u001b[0m\u001b[0;32mNone\u001b[0m\u001b[0;34m,\u001b[0m \u001b[0mout\u001b[0m\u001b[0;34m=\u001b[0m\u001b[0;32mNone\u001b[0m\u001b[0;34m,\u001b[0m \u001b[0mkeepdims\u001b[0m\u001b[0;34m=\u001b[0m\u001b[0;32mFalse\u001b[0m\u001b[0;34m)\u001b[0m\u001b[0;34m:\u001b[0m\u001b[0;34m\u001b[0m\u001b[0m\n",
      "\u001b[0m\u001b[0;32m---> 26 \u001b[0;31m    \u001b[0;32mreturn\u001b[0m \u001b[0mumr_maximum\u001b[0m\u001b[0;34m(\u001b[0m\u001b[0ma\u001b[0m\u001b[0;34m,\u001b[0m \u001b[0maxis\u001b[0m\u001b[0;34m,\u001b[0m \u001b[0;32mNone\u001b[0m\u001b[0;34m,\u001b[0m \u001b[0mout\u001b[0m\u001b[0;34m,\u001b[0m \u001b[0mkeepdims\u001b[0m\u001b[0;34m)\u001b[0m\u001b[0;34m\u001b[0m\u001b[0m\n",
      "\u001b[0m\u001b[0;32m     27 \u001b[0;31m\u001b[0;34m\u001b[0m\u001b[0m\n",
      "\u001b[0m\u001b[0;32m     28 \u001b[0;31m\u001b[0;32mdef\u001b[0m \u001b[0m_amin\u001b[0m\u001b[0;34m(\u001b[0m\u001b[0ma\u001b[0m\u001b[0;34m,\u001b[0m \u001b[0maxis\u001b[0m\u001b[0;34m=\u001b[0m\u001b[0;32mNone\u001b[0m\u001b[0;34m,\u001b[0m \u001b[0mout\u001b[0m\u001b[0;34m=\u001b[0m\u001b[0;32mNone\u001b[0m\u001b[0;34m,\u001b[0m \u001b[0mkeepdims\u001b[0m\u001b[0;34m=\u001b[0m\u001b[0;32mFalse\u001b[0m\u001b[0;34m)\u001b[0m\u001b[0;34m:\u001b[0m\u001b[0;34m\u001b[0m\u001b[0m\n",
      "\u001b[0m\n",
      "ipdb> a\n",
      "a = array([0, 0, 0, ..., 0, 0, 0], dtype=object)\n",
      "axis = 1\n",
      "out = None\n",
      "keepdims = False\n",
      "ipdb> \n",
      "a = array([0, 0, 0, ..., 0, 0, 0], dtype=object)\n",
      "axis = 1\n",
      "out = None\n",
      "keepdims = False\n",
      "ipdb> a.sum()\n",
      "a = array([0, 0, 0, ..., 0, 0, 0], dtype=object)\n",
      "axis = 1\n",
      "out = None\n",
      "keepdims = False\n",
      "ipdb> type(a)\n",
      "<class 'numpy.ndarray'>\n",
      "ipdb> \n",
      "<class 'numpy.ndarray'>\n",
      "ipdb> a.shape\n",
      "a = array([0, 0, 0, ..., 0, 0, 0], dtype=object)\n",
      "axis = 1\n",
      "out = None\n",
      "keepdims = False\n",
      "ipdb> a.shape\n",
      "a = array([0, 0, 0, ..., 0, 0, 0], dtype=object)\n",
      "axis = 1\n",
      "out = None\n",
      "keepdims = False\n",
      "ipdb> exit\n"
     ]
    }
   ],
   "source": [
    "%debug"
   ]
  },
  {
   "cell_type": "code",
   "execution_count": 16,
   "metadata": {},
   "outputs": [
    {
     "name": "stdout",
     "output_type": "stream",
     "text": [
      "0.1\n"
     ]
    }
   ],
   "source": [
    "for each in env.ret_v_disk[0]:\n",
    "    if each!=0:\n",
    "        print(each)"
   ]
  },
  {
   "cell_type": "code",
   "execution_count": 7,
   "metadata": {},
   "outputs": [
    {
     "name": "stdout",
     "output_type": "stream",
     "text": [
      "0.1\n"
     ]
    }
   ],
   "source": [
    "for each in env.deploy_state['d']:\n",
    "    if each!=0:\n",
    "        print(each)\n",
    "# env.deploy_state['d']"
   ]
  },
  {
   "cell_type": "code",
   "execution_count": 18,
   "metadata": {},
   "outputs": [
    {
     "data": {
      "text/plain": [
       "False"
      ]
     },
     "execution_count": 18,
     "metadata": {},
     "output_type": "execute_result"
    }
   ],
   "source": [
    "any(env.deploy_state['d'])>1"
   ]
  },
  {
   "cell_type": "code",
   "execution_count": 20,
   "metadata": {
    "collapsed": true,
    "run_control": {
     "marked": false
    }
   },
   "outputs": [
    {
     "data": {
      "text/plain": [
       "0"
      ]
     },
     "execution_count": 20,
     "metadata": {},
     "output_type": "execute_result"
    }
   ],
   "source": [
    "r.sum()"
   ]
  },
  {
   "cell_type": "code",
   "execution_count": 5,
   "metadata": {
    "collapsed": true,
    "run_control": {
     "marked": false
    }
   },
   "outputs": [
    {
     "ename": "KeyError",
     "evalue": "'a'",
     "output_type": "error",
     "traceback": [
      "\u001b[0;31m---------------------------------------------------------------------------\u001b[0m",
      "\u001b[0;31mKeyError\u001b[0m                                  Traceback (most recent call last)",
      "\u001b[0;32m<ipython-input-5-2591275545c1>\u001b[0m in \u001b[0;36m<module>\u001b[0;34m()\u001b[0m\n\u001b[1;32m      1\u001b[0m \u001b[0;31m# re.findall('(app_3432).*?(app8324)',(env.env_app+',').sum())\u001b[0m\u001b[0;34m\u001b[0m\u001b[0;34m\u001b[0m\u001b[0m\n\u001b[1;32m      2\u001b[0m \u001b[0;32mimport\u001b[0m \u001b[0mre\u001b[0m\u001b[0;34m\u001b[0m\u001b[0m\n\u001b[0;32m----> 3\u001b[0;31m \u001b[0mtext\u001b[0m\u001b[0;34m=\u001b[0m\u001b[0;34m(\u001b[0m\u001b[0menv\u001b[0m\u001b[0;34m.\u001b[0m\u001b[0mdeploy_state\u001b[0m\u001b[0;34m[\u001b[0m\u001b[0;34m'a'\u001b[0m\u001b[0;34m]\u001b[0m\u001b[0;34m+\u001b[0m\u001b[0;34m' '\u001b[0m\u001b[0;34m)\u001b[0m\u001b[0;34m.\u001b[0m\u001b[0msum\u001b[0m\u001b[0;34m(\u001b[0m\u001b[0;34m)\u001b[0m\u001b[0;34m\u001b[0m\u001b[0m\n\u001b[0m\u001b[1;32m      4\u001b[0m \u001b[0;34m\u001b[0m\u001b[0m\n\u001b[1;32m      5\u001b[0m \u001b[0;31m# [re.findall('(app_3432).*?(app_7652).*?(app_8618).*?(app_1300).*?(app_4663).*?(app_8324)',text) for i in range(35242)]\u001b[0m\u001b[0;34m\u001b[0m\u001b[0;34m\u001b[0m\u001b[0m\n",
      "\u001b[0;31mKeyError\u001b[0m: 'a'"
     ]
    }
   ],
   "source": [
    "# re.findall('(app_3432).*?(app8324)',(env.env_app+',').sum())\n",
    "import re\n",
    "text=(env.deploy_state['a']+' ').sum()\n",
    "\n",
    "# [re.findall('(app_3432).*?(app_7652).*?(app_8618).*?(app_1300).*?(app_4663).*?(app_8324)',text) for i in range(35242)]\n",
    "# [re.findall('app_3432',text) for i in range(35242)]\n",
    "t=['app_3432','app3222','app6422']\n",
    "if any([re.findall(each,text) for each in t]):\n",
    "    print('y')\n",
    "[re.findall(each,text) for each in t]"
   ]
  },
  {
   "cell_type": "code",
   "execution_count": 44,
   "metadata": {
    "collapsed": true,
    "run_control": {
     "marked": false
    }
   },
   "outputs": [
    {
     "data": {
      "text/plain": [
       "',,,,,,,,,,,,,,,,,,,,,,,,,,,,,,,,,,,,,,,,,,,,,,,,,,,,,,app_392app_6142app_8905app_1857app_5776app_372app_3432app_3631app_3997app_3984app_1976app_2617app_4614app_2004app_3591app_1256app_8443app_2579app_8755app_2038app_6319app_6332app_2089app_3271app_5798app_7652app_8618app_4850app_996app_4653app_7439app_1300app_5064app_4663app_8324,,,,,,,,,,,,,,,,,,,,,,,,,,,,,,,,,,,,,,,,,,,,,,,,,,,,,,,,,,,,,,,,,,,,,,,,,,,,,,,,,,,,,,,,,,,,,,,,,,,,,,,,,,,,,,,,,,,,,,,,,,,,,,,,,,,,,,,,,,,,,,,,,,,,,,,,,,,,,,,,,,,,,,,,,,,,,,,,,,,,,,,,,,,,,,,,,,,,,,,,,,,,,,,,,,,,,,,,,,,,,,,,,,,,,,,,,,,,,,,,,,,,,,,,,,,,,,,,,,,,,,,,,,,,,,,,,,,,,,,,,,,,,,,,,,,,,,,,,,,,,,,,,,,,,,,,,,,,,,,,,,,,,,,,,,,,,,,,,,,,,,,,,,,,,,,,,,,,,,,,,,,,,,,,,,,,,,,,,,,,,,,,,,,,,,,,,,,,,,,,,,,,,,,,,,,,,,,,,,,,,,,,,,,,,,,,,,,,,,,,,,,,,,,,,,app_4321,,,,,,,,,,,,,,,,,,,,,,,,,,,,,,,,,,,,,,,,,,,,,,,,,,,,,,,,,,,,,,,,,,,,,,,,,,,,,,,,,,,,,,,,,,,,,,,,,,,,,,,,,,,,,,,,,,,,,,,,,,,,,,,,,,,,,,,,,,,,,,,,,,,,,,,,,,,,,,,,,,,,,,,,,,,,,,,,,,,,,,,,,,,,,,,,,,,,,,,,,,,,,,,,,,,,,,,,,,,,,,,,,,,,,,,,,,,,,,,,,,,,,,,,,,,,,,,,,,,,,,,,,,,,,,,,,,,,,,,,,,,,,,,,,,,,,,,,,,,,,,,,,,,,,,,,,,,,,,,,,,,,,,,,,,,,,,,,,,,,,,,,,,,,,,,,,,,,,,,,,,,,,,,,,,,,,,,,,,,,,,,,,,,,,,,,,,,,,,,,,,,,,,,,,,,,,,,,,,,,,,,,,,,,,,,,,,,,,,,,,,,,,,,,,,,,,,,,,,,,,,,,,,,,,,,,,,,,,,,,,,,,,,,,,,,,,,,,,,,,,,,,,,,,,,,,,,,,,,,,,,,,,,,,,,,,,,,,,,,,,,,,,,,,,,,,,,,,,,,,,,,,,,,,,,,,,,,,,,,,,,,,,,,,,,,,,,,,,,,,,,,,,,,,,,,,,,,,,,,,,,,,,,,,,,,,,,,,,,,,,,,,,,,,,,,,,,,,,,,,,,,,,,,,,,,,,,,,,,,,,,,,,,,,,,,,,,,,,,,,,,,,,,,,,,,,,,,,,,,,,,,,,,,,,,,,,,,,,,,,,,,,,,,,,,,,,,,,,,,,,,,,,,,,,,,,,,,,,,,,,,,,,,,,,,,,,,,,,,,,,,,,,,,,,,,,,,,,,,,,,,,,,,,,,,,,,,,,,,,,,,,,,,,,,,,,,,,,,,,,,,,,,,,,,,,,,,,,,,,,,,,,,,,,,,,,,,,,,,,,,,,,,,,,,,,,,,,,,,,,,,,,,,,,,,,,,,,,,,,,,,,,,,,,,,,,,,,,,,,,,,,,,,,,,,,,,,,,,,,,,,,,,,,,,,,,,,,,,,,,,,,,,,,,,,,,,,,,,,,,,,,,,,,,,,,,,,,,,,,,,,,,,,,,,,,,,,,,,,,,,,,,,,,,,,,,,,,,,,,,,,,,,,,,,,,,,,,,,,,,,,,,,,,,,,,,,,,,,,,,,,,,,,,,,,,,,,,,,,,,,,,,,,,,,,,,,,,,,,,,,,,,,,,,,,,,,,,,,,,,,,,,,,,,,,,,,,,,,,,,,,,,,,,,,,,,,,,,,,,,,,,,,,,,,,,,,,,,,,,,,,,,,,,,,,,,,,,,,,,,,,,,,,,,,,,,,,,,,,,,,,,,,,,,,,,,,,,,,,,,,,,,,,,,,,,,,,,,,,,,,,,,,,,,,,,,,,,,,,,,,,,,,,,,,,,,,,,,,,,,,,,,,,,,,,,,,,,,,,,,,,,,,,,,,,,,,,,,,,,,,,,,,,,,,,,,,,,,,,,,,,,,,,,,,,,,,,,,,,,,,,,,,,,,,,,,,,,,,,,,,,,,,,,,,,,,,,,,,,,,,,,,,,,,,,,,,,,,,,,,,,,,,,,,,,,,,,,,,,,,,,,,,,,,,,,,,,,,,,,,,,,,,,,,,,,,,,,,,,,,,,,,,,,,,,,,,,,,,,,,,,,,,,,,,,,,,,,,,,,,,,,,,,,,,,,,,,,,,,,,,,,,,,,,,,,,,,,,,,,,,,,,,,,,,,,,,,,,,,,,,,,,,,,,,,,,,,,,,,,,,,,,,,,,,,,,,,,,,,,,,,,,,,,,,,,,,,,,,,,,,,,,,,,,,,,,,,,,,,,,,,,,,,,,,,,,,,,,,,,,,,,,,,,,,,,,,,,,,,,,,,,,,,,,,,,,,,,,,,,,,,,,,,,,,,,,,,,,,,,,,,,,,,,,,,,,,,,,,,,,,,,,,,,,,,,,,,,,,,,,,,,,,,,,,,,,,,,,,,,,,,,,,,,,,,,,,,,,,,,,,,,,,,,,,,,,,,,,,,,,,,,,,,,,,,,,,,,,,,,,,,,,,,,,,,,,,,,,,,,,,,,,,,,,,,,,,,,,,,,,,,,,,,,,,,,,,,,,,,,,,,,,,,,,,,,,,,,,,,,,,,,,,,,,,,,,,,,,,,,,,,,,,,,,,,,,,,,,,,,,,,,,,,,,,,,,,,,,,,,,,,,,,,,,,,,,,,,,,,,,,,,,,,,,,,,,,,,,,,,,,,,,,,,,,,,,,,,,,,,,,,,,,,,,,,,,,,,,,,,,,,,,,,,,,,,,,,,,,,,,,,,,,,,,,,,,,,,,,,,,,,,,,,,,,,,,,,,,,,,,,,,,,,,,,,,,,,,,,,,,,,,,,,,,,,,,,,,,,,,,,,,,,,,,,,,,,,,,,,,,,,,,,,,,,,,,,,,,,,,,,,,,,,,,,,,,,,,,,,,,,,,,,,,,,,,,,,,,,,,,,,,,,,,,,,,,,,,,,,,,,,,,,,,,,,,,,,,,,,,,,,,,,,,,,,,,,,,,,,,,,,,,,,,,,,,,,,,,,,,,,,,,,,,,,,,,,,,,,,,,,,,,,,,,,,,,,,,,,,,,,,,,,,,,,,,,,,,,,,,,,,,,,,,,,,,,,,,,,,,,,,,,,,,,,,,,,,,,,,,,,,,,,,,,,,,,,,,,,,,,,,,,,,,,,,,,,,,,,,,,,,,,,,,,,,,,,,,,,,,,,,,,,,,,,,,,,,,,,,,,,,,,,,,,,,,,,,,,,,,,,,,,,,,,,,,,,,,,,,,,,,,,,,,,,,,,,,,,,,,,,,,,,,,,,,,,,,,,,,,,,,,,,,,,,,,,,,,,,,,,,,,,,,,,,,,,,,,,,,,,,,,,,,,,,,,,,,,,,,,,,,,,,,,,,,,,,,,,,,,,,,,,,,,,,,,,,,,,,,,,,,,,,,,,,,,,,,,,,,,,,,,,,,,,,,,,,,,,,,,,,,,,,,,,,,,,,,,,,,,,,,,,,,,,,,,,,,,,,,,,,,,,,,,,,,,,,,,,,,,,,,,,,,,,,,,,,,,,,,,,,,,,,,,,,,,,,,,,,,,,,,,,,,,,,,,,,,,,,,,,,,,,,,,,,,,,,,,,,,,,,,,,,,,,,,,,,,,,,,,,,,,,,,,,,,,,,,,,,,,,,,,,,,,,,,,,,,,,,,,,,,,,,,,,,,,,,,,,,,,,,,,,,,,,,,,,,,,,,,,,,,,,,,,,,,,,,,,,,,,,,,,,,,,,,,,,,,,,,,,,,,,,,,,,,,,,,,,,,,,,,,,,,,,,,,,,,,,,,,,,,,,,,,,,,,,,,,,,,,,,,,,,,,,,,,,,,,,,,,,,,,,,,,,,,,,,,,,,,,,,,,,,,,,,,,,,,,,,,,,,,,,,,,,,,,,,,,,,,,,,,,,,,,,,,,,,,,,,,,,,,,,,,,,,,,,,,,,,,,,,,,,,,,,,,,,,,,,,,,,,,,,,,,,,,,,,,,,,,,,,,,,,,,,,,,,,,,,,,,,,,,,,,,,,,,,,,,,,,,,,,,,,,,,,,,,,,,,,,,,,,,,,,,,,,,,,,,,,,,,,,,,,,,,,,,,,,,,,,,,,,,,,,,,,,,,,,,,,,,,,,,,,,,,,,,,,,,,,,,,,,,,,,,,,,,,,,,,,,,,,,,,,,,,,,,,,,,,,,,,,,,,,,,,,,,,,,,,,,,,,,,,,,,,,,,,,,,,,,,,,,,,,,,,,,,,,,,,,,,,,,,,,,,,,,,,,,,,,,,,,,,,,,,,,,,,,,,,,,,,,,,,,,,,,,,,,,,,,,,,,,,,,,,,,,,,,,,,,,,,,,,,,,,,,,,,,,,,,,,,,,,,,,,,,,,,,,,,,,,,,,,,,,,,,,,,,,,,,,,,,,,,,,,,,,,,,,,,,,,,,,,,,,,,,,,,,,,,,,,,,,,,,,,,,,,,,,,,,,,,,,,,,,,,,,,,,,,,,,,,,,,,,,,,,,,,,,,,,,,,,,,,,,,,,,,,,,,,,,,,,,,,,,,,,,,,,,,,,,,,,,,,,,,,,,,,,,,,,,,,,,,,,,,,,,,,,,,,,,,,,,,,,,,,,,,,,,,,,,,,,,,,,,,,,,,,,,,,,,,,,,,,,,,,,,,,,,,,,,,,,,,,,,,,,,,,,,,,,,,,,,,,,,,,,,,,,,,,,,,,,,,,,,,,,,,,,,,,,,,,,,,,,,,,,,,,,,,,,,,,,,,,,,,,,,,,,,,,,,,,,,,,,,,,,,,,,,,,,,,,,,,,,,,,,,,,,,,,,,,,,,,,,,,,,,,,,,,,,,,,,,,,,,,,,,,,,,,,,,,,,,,,,,,,,,,,,,,,,,,,,,,,,,,,,,,,,,,,,,,,,,,,,,,,,,,,,,,,,,,,,,,,,,,,,,,,,,,,,,,,,,,,,,,,,,,,,,,,,,,,,,,,,,,,,,,,,,,,,,,,,,,,,,,,,,,,,,,,,,,,,,,,,,,,,,,,,,,,,,,,,,,,,,,,,,,,,,,,,,,,,,,,,,,,,,,,,,,,,,,,,,,,,,,,,,,,,,,,,,,,,,,,,,,,,,,,,,,,,,,,,,,,,,,,,,,,,,,,,,,,,,,,,,,,,,,,,,,,,,,,,,,,,,,,,,,,,,,,,,,,,,,,,,,,,,,,,,,,,,,,,,,,,,,,,,,,,,,,,,,,,,,,,,,,,,,,,,,,,,,,,,,,,,,,,,,,,,,,,,,,,,,,,,,,,,,,,,,,,,,,,,,,,,,,,,,,,,,,,,,,,,,,,,,,,,,,,,,,,,,,,,,,,,,,,,,,,,,,,,,,,,,,,,,,,,,,,,,,,,,,,,,,,,,,,,,,,,,,,,,,,,,,,,,,,,,,,,,,,,,,,,,,,,,,,,,,,,,,,,,,,,,,,,,,,,,,,,,,,,,,,,,,,,,,,,,,,,,,,,,,,,,,,,,,,,,,,,,,,,,,,,,,,,,,,,,,,,,,,,,,,,,,,,,,,,,,,,,,,,,,,,,,,,,,,,,,,,,,,,,,,,,,,,,,,,,,,,,,,,,,,,,,,,,,,,,,,,,,,,,,,,,,,,,,,,,,,,,,,,,,,,,,,,,,,,,,,,,,,,,,,,,,,,,,,,,,,,,,,,,,,,,,,,,,,,,,,,,,,,,,,,,,,,,,,,,,,,,,,,,,,,,,,,,,,,,,,,,,,,,,,,,,,,,,,,,,,,,,,,,,,,,,,,,,,,,,,,,,,,,,,,,,,,,,,,,,,,,,,,,,,,,,,,,,,,,,,,,,,,,,,,,,,,,,,,,,,,,,,,,,,,,,,,,,,,,,,,,,,,,,,,,,,,,,,,,,,,,,,,,,,,,,,,,,,,,,,,,,,,,,,,,,,,,,,,,,,,,,,,,,,,,,,,,,,,,,,,,,,,,,,,,,,,,,,,,,,,,,,,,,,,,,,,,,,,,,,,,,,,,,,,,,,,,,,,,,,,,,,,,,,,,,,,,,,,,,,,,,,,,,,,,,,,,,,,,,,,,,,,,,,,,,,,,,,,,,,,,,,,,,,,,,,,,,,,,,,,,,,,,,,,,,,,,,,,,,,,,,,,,,,,,,,,,,,,,,,,,,,,,,,,,,,,,,,,,,,,,,,,,,,,,,,,,,,,,,,,,,,,,,,,,,,,,,,,,,,,,,,,,,,,,,,,,,,,,,,,,,,,,,,,,,,,,,,,,,,,,,,,,,,,,,,,,,,,,,,,,,,,,,,,,,,,,,,,,,,,,,,,,,,,,,,,,,,,,,,,,,,,,,,,,,,,,,,,,,,,,,,'"
      ]
     },
     "execution_count": 44,
     "metadata": {},
     "output_type": "execute_result"
    }
   ],
   "source": [
    "(env.env_app+',').sum()"
   ]
  },
  {
   "cell_type": "code",
   "execution_count": 30,
   "metadata": {
    "run_control": {
     "marked": false
    }
   },
   "outputs": [
    {
     "data": {
      "text/plain": [
       "''"
      ]
     },
     "execution_count": 30,
     "metadata": {},
     "output_type": "execute_result"
    }
   ],
   "source": [
    "env.env_app[54]"
   ]
  },
  {
   "cell_type": "code",
   "execution_count": 31,
   "metadata": {
    "run_control": {
     "marked": false
    }
   },
   "outputs": [
    {
     "name": "stdout",
     "output_type": "stream",
     "text": [
      "1.16 s ± 57.3 ms per loop (mean ± std. dev. of 7 runs, 3 loops each)\n"
     ]
    }
   ],
   "source": [
    "%%timeit -n 3\n",
    "\n",
    "mid=env.mn.mid[random.randint(1,6000)]\n",
    "env.update(random.randint(1,9000),mid)"
   ]
  },
  {
   "cell_type": "code",
   "execution_count": 10,
   "metadata": {
    "collapsed": true,
    "run_control": {
     "marked": false
    }
   },
   "outputs": [
    {
     "ename": "TypeError",
     "evalue": "unorderable types: str() > int()",
     "output_type": "error",
     "traceback": [
      "\u001b[0;31m---------------------------------------------------------------------------\u001b[0m",
      "\u001b[0;31mTypeError\u001b[0m                                 Traceback (most recent call last)",
      "\u001b[0;32m<ipython-input-10-f5e2d38e0f3d>\u001b[0m in \u001b[0;36m<module>\u001b[0;34m()\u001b[0m\n\u001b[0;32m----> 1\u001b[0;31m \u001b[0mget_ipython\u001b[0m\u001b[0;34m(\u001b[0m\u001b[0;34m)\u001b[0m\u001b[0;34m.\u001b[0m\u001b[0mrun_cell_magic\u001b[0m\u001b[0;34m(\u001b[0m\u001b[0;34m'timeit'\u001b[0m\u001b[0;34m,\u001b[0m \u001b[0;34m'-n 1'\u001b[0m\u001b[0;34m,\u001b[0m \u001b[0;34m'mid=env.mn.mid[random.randint(1,6000)]\\n# mid=env.mn.mid[random.randint(1,6000)]\\nenv.evaluate(random.randint(1,9000),mid)'\u001b[0m\u001b[0;34m)\u001b[0m\u001b[0;34m\u001b[0m\u001b[0m\n\u001b[0m",
      "\u001b[0;32m~/anaconda/envs/patent-landscape/lib/python3.5/site-packages/IPython/core/interactiveshell.py\u001b[0m in \u001b[0;36mrun_cell_magic\u001b[0;34m(self, magic_name, line, cell)\u001b[0m\n\u001b[1;32m   2165\u001b[0m             \u001b[0mmagic_arg_s\u001b[0m \u001b[0;34m=\u001b[0m \u001b[0mself\u001b[0m\u001b[0;34m.\u001b[0m\u001b[0mvar_expand\u001b[0m\u001b[0;34m(\u001b[0m\u001b[0mline\u001b[0m\u001b[0;34m,\u001b[0m \u001b[0mstack_depth\u001b[0m\u001b[0;34m)\u001b[0m\u001b[0;34m\u001b[0m\u001b[0m\n\u001b[1;32m   2166\u001b[0m             \u001b[0;32mwith\u001b[0m \u001b[0mself\u001b[0m\u001b[0;34m.\u001b[0m\u001b[0mbuiltin_trap\u001b[0m\u001b[0;34m:\u001b[0m\u001b[0;34m\u001b[0m\u001b[0m\n\u001b[0;32m-> 2167\u001b[0;31m                 \u001b[0mresult\u001b[0m \u001b[0;34m=\u001b[0m \u001b[0mfn\u001b[0m\u001b[0;34m(\u001b[0m\u001b[0mmagic_arg_s\u001b[0m\u001b[0;34m,\u001b[0m \u001b[0mcell\u001b[0m\u001b[0;34m)\u001b[0m\u001b[0;34m\u001b[0m\u001b[0m\n\u001b[0m\u001b[1;32m   2168\u001b[0m             \u001b[0;32mreturn\u001b[0m \u001b[0mresult\u001b[0m\u001b[0;34m\u001b[0m\u001b[0m\n\u001b[1;32m   2169\u001b[0m \u001b[0;34m\u001b[0m\u001b[0m\n",
      "\u001b[0;32m<decorator-gen-61>\u001b[0m in \u001b[0;36mtimeit\u001b[0;34m(self, line, cell, local_ns)\u001b[0m\n",
      "\u001b[0;32m~/anaconda/envs/patent-landscape/lib/python3.5/site-packages/IPython/core/magic.py\u001b[0m in \u001b[0;36m<lambda>\u001b[0;34m(f, *a, **k)\u001b[0m\n\u001b[1;32m    185\u001b[0m     \u001b[0;31m# but it's overkill for just that one bit of state.\u001b[0m\u001b[0;34m\u001b[0m\u001b[0;34m\u001b[0m\u001b[0m\n\u001b[1;32m    186\u001b[0m     \u001b[0;32mdef\u001b[0m \u001b[0mmagic_deco\u001b[0m\u001b[0;34m(\u001b[0m\u001b[0marg\u001b[0m\u001b[0;34m)\u001b[0m\u001b[0;34m:\u001b[0m\u001b[0;34m\u001b[0m\u001b[0m\n\u001b[0;32m--> 187\u001b[0;31m         \u001b[0mcall\u001b[0m \u001b[0;34m=\u001b[0m \u001b[0;32mlambda\u001b[0m \u001b[0mf\u001b[0m\u001b[0;34m,\u001b[0m \u001b[0;34m*\u001b[0m\u001b[0ma\u001b[0m\u001b[0;34m,\u001b[0m \u001b[0;34m**\u001b[0m\u001b[0mk\u001b[0m\u001b[0;34m:\u001b[0m \u001b[0mf\u001b[0m\u001b[0;34m(\u001b[0m\u001b[0;34m*\u001b[0m\u001b[0ma\u001b[0m\u001b[0;34m,\u001b[0m \u001b[0;34m**\u001b[0m\u001b[0mk\u001b[0m\u001b[0;34m)\u001b[0m\u001b[0;34m\u001b[0m\u001b[0m\n\u001b[0m\u001b[1;32m    188\u001b[0m \u001b[0;34m\u001b[0m\u001b[0m\n\u001b[1;32m    189\u001b[0m         \u001b[0;32mif\u001b[0m \u001b[0mcallable\u001b[0m\u001b[0;34m(\u001b[0m\u001b[0marg\u001b[0m\u001b[0;34m)\u001b[0m\u001b[0;34m:\u001b[0m\u001b[0;34m\u001b[0m\u001b[0m\n",
      "\u001b[0;32m~/anaconda/envs/patent-landscape/lib/python3.5/site-packages/IPython/core/magics/execution.py\u001b[0m in \u001b[0;36mtimeit\u001b[0;34m(self, line, cell, local_ns)\u001b[0m\n\u001b[1;32m   1100\u001b[0m                     \u001b[0;32mbreak\u001b[0m\u001b[0;34m\u001b[0m\u001b[0m\n\u001b[1;32m   1101\u001b[0m \u001b[0;34m\u001b[0m\u001b[0m\n\u001b[0;32m-> 1102\u001b[0;31m         \u001b[0mall_runs\u001b[0m \u001b[0;34m=\u001b[0m \u001b[0mtimer\u001b[0m\u001b[0;34m.\u001b[0m\u001b[0mrepeat\u001b[0m\u001b[0;34m(\u001b[0m\u001b[0mrepeat\u001b[0m\u001b[0;34m,\u001b[0m \u001b[0mnumber\u001b[0m\u001b[0;34m)\u001b[0m\u001b[0;34m\u001b[0m\u001b[0m\n\u001b[0m\u001b[1;32m   1103\u001b[0m         \u001b[0mbest\u001b[0m \u001b[0;34m=\u001b[0m \u001b[0mmin\u001b[0m\u001b[0;34m(\u001b[0m\u001b[0mall_runs\u001b[0m\u001b[0;34m)\u001b[0m \u001b[0;34m/\u001b[0m \u001b[0mnumber\u001b[0m\u001b[0;34m\u001b[0m\u001b[0m\n\u001b[1;32m   1104\u001b[0m         \u001b[0mworst\u001b[0m \u001b[0;34m=\u001b[0m \u001b[0mmax\u001b[0m\u001b[0;34m(\u001b[0m\u001b[0mall_runs\u001b[0m\u001b[0;34m)\u001b[0m \u001b[0;34m/\u001b[0m \u001b[0mnumber\u001b[0m\u001b[0;34m\u001b[0m\u001b[0m\n",
      "\u001b[0;32m~/anaconda/envs/patent-landscape/lib/python3.5/timeit.py\u001b[0m in \u001b[0;36mrepeat\u001b[0;34m(self, repeat, number)\u001b[0m\n\u001b[1;32m    204\u001b[0m         \u001b[0mr\u001b[0m \u001b[0;34m=\u001b[0m \u001b[0;34m[\u001b[0m\u001b[0;34m]\u001b[0m\u001b[0;34m\u001b[0m\u001b[0m\n\u001b[1;32m    205\u001b[0m         \u001b[0;32mfor\u001b[0m \u001b[0mi\u001b[0m \u001b[0;32min\u001b[0m \u001b[0mrange\u001b[0m\u001b[0;34m(\u001b[0m\u001b[0mrepeat\u001b[0m\u001b[0;34m)\u001b[0m\u001b[0;34m:\u001b[0m\u001b[0;34m\u001b[0m\u001b[0m\n\u001b[0;32m--> 206\u001b[0;31m             \u001b[0mt\u001b[0m \u001b[0;34m=\u001b[0m \u001b[0mself\u001b[0m\u001b[0;34m.\u001b[0m\u001b[0mtimeit\u001b[0m\u001b[0;34m(\u001b[0m\u001b[0mnumber\u001b[0m\u001b[0;34m)\u001b[0m\u001b[0;34m\u001b[0m\u001b[0m\n\u001b[0m\u001b[1;32m    207\u001b[0m             \u001b[0mr\u001b[0m\u001b[0;34m.\u001b[0m\u001b[0mappend\u001b[0m\u001b[0;34m(\u001b[0m\u001b[0mt\u001b[0m\u001b[0;34m)\u001b[0m\u001b[0;34m\u001b[0m\u001b[0m\n\u001b[1;32m    208\u001b[0m         \u001b[0;32mreturn\u001b[0m \u001b[0mr\u001b[0m\u001b[0;34m\u001b[0m\u001b[0m\n",
      "\u001b[0;32m~/anaconda/envs/patent-landscape/lib/python3.5/site-packages/IPython/core/magics/execution.py\u001b[0m in \u001b[0;36mtimeit\u001b[0;34m(self, number)\u001b[0m\n\u001b[1;32m    158\u001b[0m         \u001b[0mgc\u001b[0m\u001b[0;34m.\u001b[0m\u001b[0mdisable\u001b[0m\u001b[0;34m(\u001b[0m\u001b[0;34m)\u001b[0m\u001b[0;34m\u001b[0m\u001b[0m\n\u001b[1;32m    159\u001b[0m         \u001b[0;32mtry\u001b[0m\u001b[0;34m:\u001b[0m\u001b[0;34m\u001b[0m\u001b[0m\n\u001b[0;32m--> 160\u001b[0;31m             \u001b[0mtiming\u001b[0m \u001b[0;34m=\u001b[0m \u001b[0mself\u001b[0m\u001b[0;34m.\u001b[0m\u001b[0minner\u001b[0m\u001b[0;34m(\u001b[0m\u001b[0mit\u001b[0m\u001b[0;34m,\u001b[0m \u001b[0mself\u001b[0m\u001b[0;34m.\u001b[0m\u001b[0mtimer\u001b[0m\u001b[0;34m)\u001b[0m\u001b[0;34m\u001b[0m\u001b[0m\n\u001b[0m\u001b[1;32m    161\u001b[0m         \u001b[0;32mfinally\u001b[0m\u001b[0;34m:\u001b[0m\u001b[0;34m\u001b[0m\u001b[0m\n\u001b[1;32m    162\u001b[0m             \u001b[0;32mif\u001b[0m \u001b[0mgcold\u001b[0m\u001b[0;34m:\u001b[0m\u001b[0;34m\u001b[0m\u001b[0m\n",
      "\u001b[0;32m<magic-timeit>\u001b[0m in \u001b[0;36minner\u001b[0;34m(_it, _timer)\u001b[0m\n",
      "\u001b[0;32m/opt/playground/diaodu/env_stat.py\u001b[0m in \u001b[0;36mevaluate\u001b[0;34m(self, cur, choice)\u001b[0m\n\u001b[1;32m    126\u001b[0m             \u001b[0;32mreturn\u001b[0m \u001b[0;36m0\u001b[0m\u001b[0;34m\u001b[0m\u001b[0m\n\u001b[1;32m    127\u001b[0m \u001b[0;34m\u001b[0m\u001b[0m\n\u001b[0;32m--> 128\u001b[0;31m         \u001b[0;32mif\u001b[0m \u001b[0mchoice\u001b[0m\u001b[0;34m>\u001b[0m\u001b[0mself\u001b[0m\u001b[0;34m.\u001b[0m\u001b[0mmn\u001b[0m\u001b[0;34m.\u001b[0m\u001b[0mshape\u001b[0m\u001b[0;34m[\u001b[0m\u001b[0;36m0\u001b[0m\u001b[0;34m]\u001b[0m\u001b[0;34m-\u001b[0m\u001b[0;36m1\u001b[0m\u001b[0;34m:\u001b[0m\u001b[0;34m\u001b[0m\u001b[0m\n\u001b[0m\u001b[1;32m    129\u001b[0m             \u001b[0;31m# return self.env_cpu.sum(0).sum(0),1\u001b[0m\u001b[0;34m\u001b[0m\u001b[0;34m\u001b[0m\u001b[0m\n\u001b[1;32m    130\u001b[0m             \u001b[0;32mreturn\u001b[0m \u001b[0;36m1\u001b[0m\u001b[0;34m,\u001b[0m\u001b[0;36m1\u001b[0m\u001b[0;34m\u001b[0m\u001b[0m\n",
      "\u001b[0;31mTypeError\u001b[0m: unorderable types: str() > int()"
     ]
    }
   ],
   "source": [
    "%%timeit -n 1\n",
    "mid=env.mn.mid[random.randint(1,6000)]\n",
    "# mid=env.mn.mid[random.randint(1,6000)]\n",
    "env.evaluate(random.randint(1,9000),mid)"
   ]
  },
  {
   "cell_type": "code",
   "execution_count": 4,
   "metadata": {
    "run_control": {
     "marked": false
    }
   },
   "outputs": [],
   "source": [
    "text='app_5732appp5223app_1148app_1148app_353app_1148app_1148'"
   ]
  },
  {
   "cell_type": "code",
   "execution_count": 42,
   "metadata": {
    "collapsed": true,
    "run_control": {
     "marked": false
    }
   },
   "outputs": [
    {
     "name": "stdout",
     "output_type": "stream",
     "text": [
      "y\n"
     ]
    },
    {
     "data": {
      "text/plain": [
       "[[], [], [], ['5732']]"
      ]
     },
     "execution_count": 42,
     "metadata": {},
     "output_type": "execute_result"
    }
   ],
   "source": [
    "# re.findall('(app_3432).*?(app8324)',(env.env_app+',').sum())\n",
    "import re\n",
    "# text=(env.deploy_state['a']+' ').sum()\n",
    "\n",
    "# [re.findall('(app_3432).*?(app_7652).*?(app_8618).*?(app_1300).*?(app_4663).*?(app_8324)',text) for i in range(35242)]\n",
    "# [re.findall('app_3432',text) for i in range(35242)]\n",
    "t=['app_3432','app3222','app6422','5732']\n",
    "if any([re.findall(each,text) for each in t]):\n",
    "    print('y')\n",
    "[re.findall(each,text) for each in t]"
   ]
  },
  {
   "cell_type": "code",
   "execution_count": 231,
   "metadata": {
    "code_folding": [],
    "run_control": {
     "marked": false
    }
   },
   "outputs": [
    {
     "name": "stdout",
     "output_type": "stream",
     "text": [
      "Writing ut.py\n"
     ]
    }
   ],
   "source": [
    "# %%file ut.py\n",
    "text='app5732 app5732app5223app1148'+'app1148app353'+'app_1148app_1148'\n",
    "\n",
    "text\n",
    "\n",
    "# re.findall('(app_3432).*?(app8324)',(env.env_app+',').sum())\n",
    "import re\n",
    "# text=(env.deploy_state['a']+' ').sum()\n",
    "\n",
    "# [re.findall('(app_3432).*?(app_7652).*?(app_8618).*?(app_1300).*?(app_4663).*?(app_8324)',text) for i in range(35242)]\n",
    "# [re.findall('app_3432',text) for i in range(35242)]\n",
    "# t=['app_3432','app3222','app6422','5712',env.app_inter.ab[5],\n",
    "t= ['app5732[^()]*app1148[^()]*app1148[^()]*app_1148[^( )]*app_1148']\n",
    "# t= ['app5732.*?app1148']\n",
    "#    [^( )]+app_1148']\n",
    "# t=['app_3432','app3222','app6422','5712',env.app_inter.ab[5],'app_5732.*?app_1148.*?app_1148']\n",
    "if any([re.findall(each,text) for each in t]):\n",
    "    print('y')\n",
    "[re.findall(each,text) for each in t]"
   ]
  },
  {
   "cell_type": "code",
   "execution_count": 279,
   "metadata": {
    "collapsed": true,
    "run_control": {
     "marked": false
    }
   },
   "outputs": [
    {
     "name": "stdout",
     "output_type": "stream",
     "text": [
      "-----------\n",
      "['app_5732app_5732app_5223app_1148app_1148app353app_1148app_1148'] app_5732[^(  )]*app_1148[^(  )]*app_1148[^(  )]*app_1148[^( )]*app_1148\n",
      "[] app_5732[^(  )]*app_1148[^(  )]*app_1148[^(  )]*app_1148[^( )]*app_1148\n",
      "[] app_5732[^(  )]*app_1148[^(  )]*app_1148[^(  )]*app_1148[^( )]*app_1148\n",
      "[] app_5732[^(  )]*app_1148[^(  )]*app_1148[^(  )]*app_1148[^( )]*app_1148\n",
      "-----------\n",
      "['app_5732 app_5732app_5732app_5223app_1148app_1148app353app_1148app_1148'] app_5732.*app_1148\n",
      "['app_5732 app_5732app_5223app_1148app_1148'] app_5732.*app_1148\n",
      "['app_5732app_5732app_5223app_1148'] app_5732.*app_1148\n",
      "['app_5732app_5732app_5223app_453app_1148'] app_5732.*app_1148\n",
      "-----------\n",
      "['app_5732 app_5732app_5732app_5223app_1148'] app_5732?.*?app_1148\n",
      "['app_5732 app_5732app_5223app_1148'] app_5732?.*?app_1148\n",
      "['app_5732app_5732app_5223app_1148'] app_5732?.*?app_1148\n",
      "['app_5732app_5732app_5223app_453app_1148'] app_5732?.*?app_1148\n",
      "-----------\n",
      "['app_5732app_5732app_5223app_1148app_1148app353app_1148app_1148'] app_5732{1}[^( )]*app_1148\n",
      "['app_5732app_5223app_1148app_1148'] app_5732{1}[^( )]*app_1148\n",
      "['app_5732app_5732app_5223app_1148'] app_5732{1}[^( )]*app_1148\n",
      "['app_5732app_5732app_5223app_453app_1148'] app_5732{1}[^( )]*app_1148\n",
      "-----------\n",
      "['app_5732app_5223app_1148'] app_5732[^( 7)]*?app_1148\n",
      "['app_5732app_5223app_1148'] app_5732[^( 7)]*?app_1148\n",
      "['app_5732app_5223app_1148'] app_5732[^( 7)]*?app_1148\n",
      "['app_5732app_5223app_453app_1148'] app_5732[^( 7)]*?app_1148\n",
      "-----------\n"
     ]
    },
    {
     "ename": "AttributeError",
     "evalue": "'NoneType' object has no attribute 'group'",
     "output_type": "error",
     "traceback": [
      "\u001b[0;31m---------------------------------------------------------------------------\u001b[0m",
      "\u001b[0;31mAttributeError\u001b[0m                            Traceback (most recent call last)",
      "\u001b[0;32m/opt/playground/diaodu/ut.py\u001b[0m in \u001b[0;36m<module>\u001b[0;34m()\u001b[0m\n\u001b[1;32m     27\u001b[0m \u001b[0;34m[\u001b[0m\u001b[0mprint\u001b[0m\u001b[0;34m(\u001b[0m\u001b[0mre\u001b[0m\u001b[0;34m.\u001b[0m\u001b[0mfindall\u001b[0m\u001b[0;34m(\u001b[0m\u001b[0mp\u001b[0m\u001b[0;34m[\u001b[0m\u001b[0;36m4\u001b[0m\u001b[0;34m]\u001b[0m\u001b[0;34m,\u001b[0m\u001b[0meach\u001b[0m\u001b[0;34m)\u001b[0m\u001b[0;34m,\u001b[0m\u001b[0mp\u001b[0m\u001b[0;34m[\u001b[0m\u001b[0;36m4\u001b[0m\u001b[0;34m]\u001b[0m\u001b[0;34m)\u001b[0m \u001b[0;32mfor\u001b[0m \u001b[0meach\u001b[0m \u001b[0;32min\u001b[0m \u001b[0mt\u001b[0m\u001b[0;34m]\u001b[0m\u001b[0;34m\u001b[0m\u001b[0m\n\u001b[1;32m     28\u001b[0m \u001b[0mprint\u001b[0m\u001b[0;34m(\u001b[0m\u001b[0;34m'-----------'\u001b[0m\u001b[0;34m)\u001b[0m\u001b[0;34m\u001b[0m\u001b[0m\n\u001b[0;32m---> 29\u001b[0;31m \u001b[0;34m[\u001b[0m\u001b[0mprint\u001b[0m\u001b[0;34m(\u001b[0m\u001b[0mre\u001b[0m\u001b[0;34m.\u001b[0m\u001b[0mmatch\u001b[0m\u001b[0;34m(\u001b[0m\u001b[0mp\u001b[0m\u001b[0;34m[\u001b[0m\u001b[0;36m4\u001b[0m\u001b[0;34m]\u001b[0m\u001b[0;34m,\u001b[0m\u001b[0meach\u001b[0m\u001b[0;34m)\u001b[0m\u001b[0;34m.\u001b[0m\u001b[0mgroup\u001b[0m\u001b[0;34m(\u001b[0m\u001b[0;36m0\u001b[0m\u001b[0;34m)\u001b[0m\u001b[0;34m)\u001b[0m \u001b[0;32mfor\u001b[0m \u001b[0meach\u001b[0m \u001b[0;32min\u001b[0m \u001b[0mt\u001b[0m\u001b[0;34m]\u001b[0m\u001b[0;34m\u001b[0m\u001b[0m\n\u001b[0m",
      "\u001b[0;32m/opt/playground/diaodu/ut.py\u001b[0m in \u001b[0;36m<listcomp>\u001b[0;34m(.0)\u001b[0m\n\u001b[1;32m     27\u001b[0m \u001b[0;34m[\u001b[0m\u001b[0mprint\u001b[0m\u001b[0;34m(\u001b[0m\u001b[0mre\u001b[0m\u001b[0;34m.\u001b[0m\u001b[0mfindall\u001b[0m\u001b[0;34m(\u001b[0m\u001b[0mp\u001b[0m\u001b[0;34m[\u001b[0m\u001b[0;36m4\u001b[0m\u001b[0;34m]\u001b[0m\u001b[0;34m,\u001b[0m\u001b[0meach\u001b[0m\u001b[0;34m)\u001b[0m\u001b[0;34m,\u001b[0m\u001b[0mp\u001b[0m\u001b[0;34m[\u001b[0m\u001b[0;36m4\u001b[0m\u001b[0;34m]\u001b[0m\u001b[0;34m)\u001b[0m \u001b[0;32mfor\u001b[0m \u001b[0meach\u001b[0m \u001b[0;32min\u001b[0m \u001b[0mt\u001b[0m\u001b[0;34m]\u001b[0m\u001b[0;34m\u001b[0m\u001b[0m\n\u001b[1;32m     28\u001b[0m \u001b[0mprint\u001b[0m\u001b[0;34m(\u001b[0m\u001b[0;34m'-----------'\u001b[0m\u001b[0;34m)\u001b[0m\u001b[0;34m\u001b[0m\u001b[0m\n\u001b[0;32m---> 29\u001b[0;31m \u001b[0;34m[\u001b[0m\u001b[0mprint\u001b[0m\u001b[0;34m(\u001b[0m\u001b[0mre\u001b[0m\u001b[0;34m.\u001b[0m\u001b[0mmatch\u001b[0m\u001b[0;34m(\u001b[0m\u001b[0mp\u001b[0m\u001b[0;34m[\u001b[0m\u001b[0;36m4\u001b[0m\u001b[0;34m]\u001b[0m\u001b[0;34m,\u001b[0m\u001b[0meach\u001b[0m\u001b[0;34m)\u001b[0m\u001b[0;34m.\u001b[0m\u001b[0mgroup\u001b[0m\u001b[0;34m(\u001b[0m\u001b[0;36m0\u001b[0m\u001b[0;34m)\u001b[0m\u001b[0;34m)\u001b[0m \u001b[0;32mfor\u001b[0m \u001b[0meach\u001b[0m \u001b[0;32min\u001b[0m \u001b[0mt\u001b[0m\u001b[0;34m]\u001b[0m\u001b[0;34m\u001b[0m\u001b[0m\n\u001b[0m",
      "\u001b[0;31mAttributeError\u001b[0m: 'NoneType' object has no attribute 'group'"
     ]
    }
   ],
   "source": [
    "%run ut.py"
   ]
  },
  {
   "cell_type": "code",
   "execution_count": 117,
   "metadata": {
    "run_control": {
     "marked": false
    }
   },
   "outputs": [
    {
     "data": {
      "text/plain": [
       "[]"
      ]
     },
     "execution_count": 117,
     "metadata": {},
     "output_type": "execute_result"
    }
   ],
   "source": [
    "re.findall(t[0],text)"
   ]
  },
  {
   "cell_type": "markdown",
   "metadata": {},
   "source": [
    "#### working on "
   ]
  },
  {
   "cell_type": "code",
   "execution_count": 429,
   "metadata": {
    "code_folding": [],
    "run_control": {
     "marked": false
    }
   },
   "outputs": [
    {
     "name": "stdout",
     "output_type": "stream",
     "text": [
      "y\n"
     ]
    },
    {
     "data": {
      "text/plain": [
       "[('',\n",
       "  'cat_342dog_123cat_342dog_539cat_342dog_539',\n",
       "  'cat_342dog_123cat_342dog_539')]"
      ]
     },
     "execution_count": 429,
     "metadata": {},
     "output_type": "execute_result"
    }
   ],
   "source": [
    "import re\n",
    "# env.app_inter.ab\n",
    "a=r'cat_342[^()]*?dog_539'\n",
    "a=r'cat_342(?!cat_342)[^()]*?dog_539'\n",
    "a=r'cat_342(?!cat_342$)[^()]*?dog_539'\n",
    "###need add verbose to ignore the white space\n",
    "r=re.compile(\"\"\"(^.*?) # group1\n",
    "(cat_342[^(|)]*?dog_539) # group2\n",
    "\"\"\",re.VERBOSE)\n",
    "r=re.compile(\"\"\"(^.*?)\n",
    "((cat_342\n",
    "[^(|)]*?dog_539)\n",
    "[^(|)]*?dog_539)\n",
    "\"\"\",re.VERBOSE)\n",
    "# a=r'^.*cat_342.*?dog_539'\n",
    "# a=r'cat_342.*?(?!cat_342).*?dog_539'\n",
    "# a='<.*?>'\n",
    "b='cat_342dog_123cat_342cat_675dog_539|dog_567|dog_539cat_539cat_539cat_123dog_539'\n",
    "b='cat_342dog_123cat_342dog_539cat_342dog_539cat_342cat_675dog_539|dog_567|dog_539cat_539cat_539cat_123dog_539'\n",
    "# b='cat_342|dog_123|cat_342'\n",
    "# b='dog_123|cat_342|dog_567|dog_539cat_539cat_539cat_123dog_539'\n",
    "# r=re.compile(a)\n",
    "# r.match(b).group(2)\n",
    "if r.match(b):\n",
    "    print('y')\n",
    "else:\n",
    "    print('n')\n",
    "# re.findall(r'BLA[^(BLA)]+LOOK', 'BLA text text text  text text text BLA text text text text LOOK text text text BLA text text BLA')\n",
    "# r.match(b).group(2)\n",
    "r.findall(b)"
   ]
  },
  {
   "cell_type": "markdown",
   "metadata": {},
   "source": [
    "#### regex"
   ]
  },
  {
   "cell_type": "markdown",
   "metadata": {},
   "source": [
    "#### https://docs.python.org/2/howto/regex.html#greedy-versus-non-greedy"
   ]
  },
  {
   "cell_type": "code",
   "execution_count": 170,
   "metadata": {
    "code_folding": [
     1
    ],
    "run_control": {
     "marked": false
    }
   },
   "outputs": [],
   "source": [
    "import re\n",
    "c=['foo.bar', 'autoexec.bat', 'auto.batf','sendmailcf', \n",
    "   'printers.conf',\n",
    "   'printers..conf']\n",
    "# p=re.compile('(.*)[.](.*$)')\n",
    "p=re.compile('.*[.][^b](.*$)')\n",
    "# p=re.compile(r'.*[.][^(bat)]*$')\n",
    "p=re.compile(r'(.*?)[.](.*)')\n",
    "#verison 1\n",
    "p=re.compile(r'(.*?)[.](?!bat$)([^.]*$)')\n",
    "p=re.compile(r'(^[^.]*)[.](?!bat$)([^.]*$)')\n",
    "p=re.compile(r'(^[^.]*)[.](?!bat$)([^.]*)')\n",
    "p=re.compile(r'(^[^.]*)[.](?!bat$|bar)([^.]*)')"
   ]
  },
  {
   "cell_type": "markdown",
   "metadata": {},
   "source": [
    "#### ^ and $ very useful, set a boundary for the start and end, filter parted matched case"
   ]
  },
  {
   "cell_type": "code",
   "execution_count": 364,
   "metadata": {
    "run_control": {
     "marked": false
    }
   },
   "outputs": [
    {
     "data": {
      "text/plain": [
       "['auto.batf', 'printers.conf', 'printers.']"
      ]
     },
     "execution_count": 364,
     "metadata": {},
     "output_type": "execute_result"
    }
   ],
   "source": [
    "g_target=[p.match(each).group(2) for each in c if p.match(each)]\n",
    "[p.match(each).group(0) for each in c if p.match(each)]"
   ]
  },
  {
   "cell_type": "code",
   "execution_count": 132,
   "metadata": {},
   "outputs": [],
   "source": [
    "pp=re.compile(r'^[^.]*')"
   ]
  },
  {
   "cell_type": "code",
   "execution_count": 133,
   "metadata": {
    "collapsed": true
   },
   "outputs": [
    {
     "data": {
      "text/plain": [
       "[<_sre.SRE_Match object; span=(0, 4), match='batf'>,\n",
       " <_sre.SRE_Match object; span=(0, 4), match='conf'>,\n",
       " <_sre.SRE_Match object; span=(0, 4), match='conf'>]"
      ]
     },
     "execution_count": 133,
     "metadata": {},
     "output_type": "execute_result"
    }
   ],
   "source": [
    "[pp.match(g) for g in g_target]"
   ]
  },
  {
   "cell_type": "code",
   "execution_count": 472,
   "metadata": {
    "run_control": {
     "marked": false
    }
   },
   "outputs": [],
   "source": [
    "p.match(c[1])"
   ]
  },
  {
   "cell_type": "code",
   "execution_count": 39,
   "metadata": {
    "collapsed": true,
    "run_control": {
     "marked": false
    }
   },
   "outputs": [
    {
     "name": "stdout",
     "output_type": "stream",
     "text": [
      "         aid                        ...                                                                         ab\n",
      "2   app_5732                        ...                          app_5732[^( )^(app_5732)]+app_3361[^( )^(app_5...\n",
      "3   app_5732                        ...                          app_5732[^( )^(app_5732)]+app_1919[^( )^(app_5...\n",
      "4   app_5732                        ...                          app_5732[^( )^(app_5732)]+app_2749[^( )^(app_5...\n",
      "5   app_5732                        ...                          app_5732[^( )^(app_5732)]+app_1148[^( )^(app_5...\n",
      "6   app_5732                        ...                          app_5732[^( )^(app_5732)]+app_2482[^( )^(app_5...\n",
      "7   app_5732                        ...                          app_5732[^( )^(app_5732)]+app_6234[^( )^(app_5...\n",
      "8   app_5732                        ...                          app_5732[^( )^(app_5732)]+app_8017[^( )^(app_5...\n",
      "9   app_5732                        ...                          app_5732[^( )^(app_5732)]+app_4193[^( )^(app_5...\n",
      "10  app_5732                        ...                          app_5732[^( )^(app_5732)]+app_8524[^( )^(app_5...\n",
      "11  app_5732                        ...                          app_5732[^( )^(app_5732)]+app_9201[^( )^(app_5...\n",
      "12  app_5732                        ...                          app_5732[^( )^(app_5732)]+app_7025[^( )^(app_5...\n",
      "13  app_5732                        ...                          app_5732[^( )^(app_5732)]+app_4883[^( )^(app_5...\n",
      "14  app_5732                        ...                          app_5732[^( )^(app_5732)]+app_4512[^( )^(app_5...\n",
      "15  app_5732                        ...                          app_5732[^( )^(app_5732)]+app_3571[^( )^(app_5...\n",
      "16  app_5732                        ...                          app_5732[^( )^(app_5732)]+app_9174[^( )^(app_5...\n",
      "17  app_5732                        ...                          app_5732[^( )^(app_5732)]+app_7818[^( )^(app_5...\n",
      "18  app_5732                        ...                          app_5732[^( )^(app_5732)]+app_8532[^( )^(app_5...\n",
      "19  app_5732                        ...                          app_5732[^( )^(app_5732)]+app_4157[^( )^(app_5...\n",
      "20  app_5732                        ...                          app_5732[^( )^(app_5732)]+app_4735[^( )^(app_5...\n",
      "21  app_5732                        ...                          app_5732[^( )^(app_5732)]+app_5148[^( )^(app_5...\n",
      "22  app_5732                        ...                          app_5732[^( )^(app_5732)]+app_4114[^( )^(app_5...\n",
      "23  app_5732                        ...                          app_5732[^( )^(app_5732)]+app_839[^( )^(app_57...\n",
      "24  app_5732                        ...                          app_5732[^( )^(app_5732)]+app_1644[^( )^(app_5...\n",
      "25  app_5732                        ...                          app_5732[^( )^(app_5732)]+app_1333[^( )^(app_5...\n",
      "26  app_5732                        ...                          app_5732[^( )^(app_5732)]+app_8166[^( )^(app_5...\n",
      "27  app_5732                        ...                          app_5732[^( )^(app_5732)]+app_3572[^( )^(app_5...\n",
      "28  app_5732                        ...                          app_5732[^( )^(app_5732)]+app_2499[^( )^(app_5...\n",
      "29  app_5732                        ...                          app_5732[^( )^(app_5732)]+app_4366[^( )^(app_5...\n",
      "30  app_5732                        ...                          app_5732[^( )^(app_5732)]+app_2489[^( )^(app_5...\n",
      "\n",
      "[29 rows x 4 columns]\n"
     ]
    }
   ],
   "source": [
    "import re\n",
    "# idx=env.ab.aid.app_100.index[1]\n",
    "for g,v in env.app_inter.groupby('aid'):\n",
    "    if g=='app_5732':\n",
    "#         pass\n",
    "        print(v)\n",
    "    if re.findall(g,text):\n",
    "        [print(re.findall(each,text)) for each in v.ab if re.findall(each,text)]\n",
    "# [re.findall(v,text) for g,v in self.app_inter.groupby('aid') if re.findall(g,text)]\n",
    "# env.ab.iloc[idx]\n",
    "# env.ab.aid\n",
    "# env.app_inter.iloc[idx]"
   ]
  },
  {
   "cell_type": "code",
   "execution_count": null,
   "metadata": {
    "run_control": {
     "marked": false
    }
   },
   "outputs": [],
   "source": [
    "%%timeit -n 1\n",
    "mid=env.mn.mid[random.randint(1,6000)]\n",
    "# mid=env.mn.mid[random.randint(1,6000)]\n",
    "env.update(random.randint(1,9000),mid)"
   ]
  },
  {
   "cell_type": "code",
   "execution_count": 2,
   "metadata": {
    "collapsed": true,
    "run_control": {
     "marked": false
    }
   },
   "outputs": [
    {
     "name": "stdout",
     "output_type": "stream",
     "text": [
      "> \u001b[0;32m/home/.tbxy09/anaconda/envs/patent-landscape/lib/python3.5/site-packages/IPython/core/magics/execution.py\u001b[0m(1021)\u001b[0;36mtimeit\u001b[0;34m()\u001b[0m\n",
      "\u001b[0;32m   1019 \u001b[0;31m\u001b[0;34m\u001b[0m\u001b[0m\n",
      "\u001b[0m\u001b[0;32m   1020 \u001b[0;31m        \u001b[0mtimefunc\u001b[0m \u001b[0;34m=\u001b[0m \u001b[0mtimeit\u001b[0m\u001b[0;34m.\u001b[0m\u001b[0mdefault_timer\u001b[0m\u001b[0;34m\u001b[0m\u001b[0m\n",
      "\u001b[0m\u001b[0;32m-> 1021 \u001b[0;31m        \u001b[0mnumber\u001b[0m \u001b[0;34m=\u001b[0m \u001b[0mint\u001b[0m\u001b[0;34m(\u001b[0m\u001b[0mgetattr\u001b[0m\u001b[0;34m(\u001b[0m\u001b[0mopts\u001b[0m\u001b[0;34m,\u001b[0m \u001b[0;34m\"n\"\u001b[0m\u001b[0;34m,\u001b[0m \u001b[0;36m0\u001b[0m\u001b[0;34m)\u001b[0m\u001b[0;34m)\u001b[0m\u001b[0;34m\u001b[0m\u001b[0m\n",
      "\u001b[0m\u001b[0;32m   1022 \u001b[0;31m        \u001b[0mdefault_repeat\u001b[0m \u001b[0;34m=\u001b[0m \u001b[0;36m7\u001b[0m \u001b[0;32mif\u001b[0m \u001b[0mtimeit\u001b[0m\u001b[0;34m.\u001b[0m\u001b[0mdefault_repeat\u001b[0m \u001b[0;34m<\u001b[0m \u001b[0;36m7\u001b[0m \u001b[0;32melse\u001b[0m \u001b[0mtimeit\u001b[0m\u001b[0;34m.\u001b[0m\u001b[0mdefault_repeat\u001b[0m\u001b[0;34m\u001b[0m\u001b[0m\n",
      "\u001b[0m\u001b[0;32m   1023 \u001b[0;31m        \u001b[0mrepeat\u001b[0m \u001b[0;34m=\u001b[0m \u001b[0mint\u001b[0m\u001b[0;34m(\u001b[0m\u001b[0mgetattr\u001b[0m\u001b[0;34m(\u001b[0m\u001b[0mopts\u001b[0m\u001b[0;34m,\u001b[0m \u001b[0;34m\"r\"\u001b[0m\u001b[0;34m,\u001b[0m \u001b[0mdefault_repeat\u001b[0m\u001b[0;34m)\u001b[0m\u001b[0;34m)\u001b[0m\u001b[0;34m\u001b[0m\u001b[0m\n",
      "\u001b[0m\n",
      "ipdb> exit\n"
     ]
    }
   ],
   "source": [
    "%debug"
   ]
  },
  {
   "cell_type": "code",
   "execution_count": 176,
   "metadata": {
    "collapsed": true,
    "run_control": {
     "marked": false
    }
   },
   "outputs": [
    {
     "data": {
      "text/plain": [
       "'app_7922app_1932app_7608app_8821app_7530app_6089'"
      ]
     },
     "execution_count": 176,
     "metadata": {},
     "output_type": "execute_result"
    }
   ],
   "source": [
    "env.env_app.max()"
   ]
  },
  {
   "cell_type": "code",
   "execution_count": 29,
   "metadata": {
    "run_control": {
     "marked": false
    }
   },
   "outputs": [
    {
     "data": {
      "text/plain": [
       "Series([], dtype: bool)"
      ]
     },
     "execution_count": 29,
     "metadata": {},
     "output_type": "execute_result"
    }
   ],
   "source": [
    "# %%timeit -n 5\n",
    "import re\n",
    "r=env.app_inter[['aid','ab']].apply(lambda x: re.findall(x.ab,(env.env_app+'|').sum()),axis=1).apply(lambda x: len(x)!=0)\n",
    "\n",
    "r[r==True]"
   ]
  },
  {
   "cell_type": "code",
   "execution_count": 30,
   "metadata": {
    "run_control": {
     "marked": false
    }
   },
   "outputs": [
    {
     "data": {
      "text/plain": [
       "False"
      ]
     },
     "execution_count": 30,
     "metadata": {},
     "output_type": "execute_result"
    }
   ],
   "source": [
    "any(r.values)"
   ]
  },
  {
   "cell_type": "code",
   "execution_count": 31,
   "metadata": {
    "run_control": {
     "marked": false
    }
   },
   "outputs": [
    {
     "data": {
      "text/plain": [
       "True"
      ]
     },
     "execution_count": 31,
     "metadata": {},
     "output_type": "execute_result"
    }
   ],
   "source": [
    "r=np.zeros(10)\n",
    "r[1]=1\n",
    "any(r)"
   ]
  },
  {
   "cell_type": "code",
   "execution_count": 28,
   "metadata": {
    "collapsed": true,
    "run_control": {
     "marked": false
    }
   },
   "outputs": [
    {
     "data": {
      "text/plain": [
       "'||||||||||||||||||||||||||||||||||||||||||||||||||||||app_1844app_2833||||||||||||||||||||||||||||||||||||||||||||||||||||||||||||||||||||||||||||||||||||||||||||||||||||||||||||||||||||||||||||||||||||||||||||||||||||||||||||||||||||||||||||||||||||||||||||||||||||||||||||||||||||||||||||||||||||||||||||||||||||||||||||||||||||||||||||||||||||||||||||||||||||||||||||||||||||||||||||||||||||||||||||||||||||||||||||||||||||||||||||||||||||||||||||||||||||||||||||||||||||||||||||||||||||||||||||||||||||||||||||||||||||||||||||||||||||||||||||||||||||||||||||||||||||||||||||||||||||||||||||||||||||||||||||||||||||||||||||||||||||||||||||||||||||||||||||||||||||||||||||||||||||||||||||||||||||||||||||||||||||||||||||||||||||||||||||||||||||||||||||||||||||||||||||||||||||||||||||||||||||||||||||||||||||||||||||||||||||||||||||||||||||||||||||||||||||||||||||||||||||||||||||||||||||||||||||||||||||||||||||||||||||||||||||||||||||||||||||||||||||||||||||||||||||||||||||||||||||||||||||||||||||||||||||||||||||||||||||||||||||||||||||||||||||||||||||||||||||||||||||||||||||||||||||||||||||||||||||||||||||||||||||||||||||||||||||||||||||||||||||||||||||||||||||||||||||||||||||||||||||||||||||||||||||||||||||||||||||||||||||||||||||||||||||||||||||||||||||||||||||||||||||||||||||||||||||||||||||||||||||||||||||||||||||||||||||||||||||||||||||||||||||||||||||||||||||||||||||||||||||||||||||||||||||||||||||||||||||||||||||||||||||||||||||||||||||||||||||||||||||||||||||||||||||||||||||||||||||||||||||||||||||||||||||||||||||||||||||||||||||||||||||||||||||||||||||||||||||||||||||||||||||||||||||||||||||||||||||||||||||||||||||||||||||||||||||||||||||||||||||||||||||||||||||||||||||||||||||||||||||||||||||||||||||||||||||||||||||||||||||||||||||||||||||||||||||||||||||||||||||||||||||||||||||||||||||||||||||||||||||||||||||||||||||||||||||||||||||||||||||||||||||||||||||||||||||||||||||||||||||||||||||||||||||||||||||||||||||||||||||||||||||||||||||||||||||||||||||||||||||||||||||||||||||||||||||||||||||||||||||||||||||||||||||||||||||||||||||||||||||||||||||||||||||||||||||||||||||||||||||||||||||||||||||||||||||||||||||||||||||||||||||||||||||||||||||||||||||||||||||||||||||||||||||||||||||||||||||||||||||||||||||||||||||||||||||||||||||||||||||||||||||||||||||||||||||||||||||||||||||||||||||||||||||||||||||||||||||||||||||||||||||||||||||||||||||||||||||||||||||||||||||||||||||||||||||||||||||||||||||||||||||||||||||||||||||||||||||||||||||||||||||||||||||||||||||||||||||||||||||||||||||||||||||||||||||||||||||||||||||||||||||||||||||||||||||||||||||||||||||||||||||||||||||||||||||||||||||||||||||||||||||||||||||||||||||||||||||||||||||||||||||||||||||||||||||||||||||||||||||||||||||||||||||||||||||||||||||||||||||||||||||||||||||||||||||||||||||||||||||||||||||||||||||||||||||||||||||||||||||||||||||||||||||||||||||||||||||||||||||||||||||||||||||||||||||||||||||||||||||||||||||||||||||||||||||||||||||||||||||||||||||||||||||||||||||||||||||||||||||||||||||||||||||||||||||||||||||||||||||||||||||||||||||||||||||||||||||||||||||||||||||||||||||||||||||||||||||||||||||||||||||||||||||||||||||||||||||||||||||||||||||||||||||||||||||||||||||||||||||||||||||||||||||||||||||||||||||||||||||||||||||||||||||||||||||||||||||||||||||||||||||||||||||||||||||||||||||||||||||||||||||||||||||||||||||||||||||||||||||||||||||||||||||||||||||||||||||||||||||||||||||||||||||||||||||||||||||||||||||||||||||||||||||||||||||||||||||||||||||||||||||||||||||||||||||||||||||||||||||||||||||||||||||||||||||||||||||||||||||||||||||||||||||||||||||||||||||||||||||||||||||||||||||||||||||||||||||||||||||||||||||||||||||||||||||||||||||||||||||||||||||||||||||||||||||||||||||||||||||||||||||||||||||||||||||||||||||||||||||||||||||||||||||||||||||||||||||||||||||||||||||||||||||||||||||||||||||||||||||||||||||||||||||||||||||||||||||||||||||||||||||||||||||||||||||||||||||||||||||||||||||||||||||||||||||||||||||||||||||||||||||||||||||||||||||||||||||||||||||||||||||||||||||||||||||||||||||||||||||||||||||||||||||||||||||||||||||||||||||||||||||||||||||||||||||||||||||||||||||||||||||||||||||||||||||||||||||||||||||||||||||||||||||||||||||||||||||||||||||||||||||||||||||||||||||||||||||||||||||||||||||||||||||||||||||||||||||||||||||||||||||||||||||||||||||||||||||||||||||||||||||||||||||||||||||||||||||||||||||||||||||||||||||||||||||||||||||||||||||||||||||||||||||||||||||||||||||||||||||||||||||||||||||||||||||||||||||||||||||||||||||||||||||||||||||||||||||||||||||||||||||||||||||||||||||||||||||||||||||||||||||||||||||||||||||||||||||||||||||||||||||||||||||||||||||||||||||||||||||||||||||||||||||||||||||||||||||||||||||||||||||||||||||||||||||||||||||||||||||||||||||||||||||||||||||||||||||||||||||||||||||||||||||||||||||||||||||||||||||||||||||||||||||||||||||||||||||||||||||||||||||||||||||||||||||||||||||||||||||||||||||||||||||||||||||||||||||||||||||||||||||||||||||||||||||||||||||||||||||||||||||||||||||||||||||||||||||||||||||||||||||||||||||||||||||||||||||||||||||||||||||||||||||||||||||||||||||||||||||||||||||||||||||||||||||||||||||||||||||||||||||||||||||||||||||||||||||||||||||||||||||||||||||||||||||||||||||||||||||||||||||||||||||||||||||||||||||||||||||||||||||||||||||||||||||||||||||||||||||||||||||||||||||||||||||||||||||||||||||||||||||||||||||||||||||||||||||||||||||||||||||||||||||||||||||||||||||||||||||||||||||||||||||||||||||||||||||||||||||||||||||||||||||||||||||||||||||||||||||||||||||||||||||||||||||||||||||||||||||||||||||||||||||||||||||||||||||||||||||||||||||||||||||||||||||||||||||||||||||||||||||||||||||||||||||||||||||||||||||||||||||||||||||||||||||||||||||||||||||||||||||||||||||||||||||||||||||||||||||||||||||||||||||||||||||||||||||||||||||||||||||||||||||||||||||||||||||||||||||||||||||||||||||||||||||||||||||||||||||||||||||||||||||||||||||||||||||||||||||||||||||||||||||||||||||||||||||||||||||||||||||||||||||||||||||||||||||||||||||||||||||||||||||||||||||||||||||||||||||||||||||||||||||||||||'"
      ]
     },
     "execution_count": 28,
     "metadata": {},
     "output_type": "execute_result"
    }
   ],
   "source": [
    "(env.env_app+'|').sum()"
   ]
  },
  {
   "cell_type": "code",
   "execution_count": 18,
   "metadata": {
    "collapsed": true,
    "run_control": {
     "marked": false
    }
   },
   "outputs": [
    {
     "data": {
      "text/plain": [
       "(6000,)"
      ]
     },
     "execution_count": 18,
     "metadata": {},
     "output_type": "execute_result"
    }
   ],
   "source": [
    "env.env_app.shape"
   ]
  },
  {
   "cell_type": "code",
   "execution_count": 192,
   "metadata": {
    "run_control": {
     "marked": false
    }
   },
   "outputs": [
    {
     "data": {
      "text/plain": [
       "''"
      ]
     },
     "execution_count": 192,
     "metadata": {},
     "output_type": "execute_result"
    }
   ],
   "source": [
    "env.env_app[2]"
   ]
  },
  {
   "cell_type": "code",
   "execution_count": 136,
   "metadata": {
    "run_control": {
     "marked": false
    }
   },
   "outputs": [
    {
     "data": {
      "text/plain": [
       "(6000, 98)"
      ]
     },
     "execution_count": 136,
     "metadata": {},
     "output_type": "execute_result"
    }
   ],
   "source": [
    "env.env_app.shape"
   ]
  },
  {
   "cell_type": "code",
   "execution_count": 82,
   "metadata": {
    "run_control": {
     "marked": false
    }
   },
   "outputs": [
    {
     "data": {
      "text/plain": [
       "(6000, 98)"
      ]
     },
     "execution_count": 82,
     "metadata": {},
     "output_type": "execute_result"
    }
   ],
   "source": [
    "env.env.shape"
   ]
  },
  {
   "cell_type": "code",
   "execution_count": 78,
   "metadata": {
    "run_control": {
     "marked": false
    }
   },
   "outputs": [
    {
     "data": {
      "text/plain": [
       "False"
      ]
     },
     "execution_count": 78,
     "metadata": {},
     "output_type": "execute_result"
    }
   ],
   "source": [
    "any(env.env.max(1)>1)"
   ]
  },
  {
   "cell_type": "code",
   "execution_count": 38,
   "metadata": {
    "collapsed": true,
    "run_control": {
     "marked": false
    }
   },
   "outputs": [
    {
     "ename": "AttributeError",
     "evalue": "'numpy.ndarray' object has no attribute 'plot'",
     "output_type": "error",
     "traceback": [
      "\u001b[0;31m---------------------------------------------------------------------------\u001b[0m",
      "\u001b[0;31mAttributeError\u001b[0m                            Traceback (most recent call last)",
      "\u001b[0;32m<ipython-input-38-33547bd42740>\u001b[0m in \u001b[0;36m<module>\u001b[0;34m()\u001b[0m\n\u001b[0;32m----> 1\u001b[0;31m \u001b[0menv\u001b[0m\u001b[0;34m.\u001b[0m\u001b[0menv\u001b[0m\u001b[0;34m.\u001b[0m\u001b[0mmax\u001b[0m\u001b[0;34m(\u001b[0m\u001b[0;36m1\u001b[0m\u001b[0;34m)\u001b[0m\u001b[0;34m.\u001b[0m\u001b[0mplot\u001b[0m\u001b[0;34m\u001b[0m\u001b[0m\n\u001b[0m",
      "\u001b[0;31mAttributeError\u001b[0m: 'numpy.ndarray' object has no attribute 'plot'"
     ]
    }
   ],
   "source": [
    "env.env.max(1).plot"
   ]
  },
  {
   "cell_type": "code",
   "execution_count": 33,
   "metadata": {
    "collapsed": true,
    "run_control": {
     "marked": false
    }
   },
   "outputs": [
    {
     "data": {
      "text/plain": [
       "10"
      ]
     },
     "execution_count": 33,
     "metadata": {},
     "output_type": "execute_result"
    }
   ],
   "source": [
    "np.argmax(cur_v)"
   ]
  },
  {
   "cell_type": "code",
   "execution_count": 89,
   "metadata": {
    "collapsed": true,
    "run_control": {
     "marked": false
    }
   },
   "outputs": [
    {
     "ename": "AttributeError",
     "evalue": "'Env_dst' object has no attribute 'env'",
     "output_type": "error",
     "traceback": [
      "\u001b[0;31m---------------------------------------------------------------------------\u001b[0m",
      "\u001b[0;31mAttributeError\u001b[0m                            Traceback (most recent call last)",
      "\u001b[0;32m<ipython-input-89-d12963c00e77>\u001b[0m in \u001b[0;36m<module>\u001b[0;34m()\u001b[0m\n\u001b[0;32m----> 1\u001b[0;31m \u001b[0menv\u001b[0m\u001b[0;34m.\u001b[0m\u001b[0menv\u001b[0m\u001b[0;34m\u001b[0m\u001b[0m\n\u001b[0m",
      "\u001b[0;31mAttributeError\u001b[0m: 'Env_dst' object has no attribute 'env'"
     ]
    }
   ],
   "source": [
    "env."
   ]
  },
  {
   "cell_type": "code",
   "execution_count": 75,
   "metadata": {
    "run_control": {
     "marked": false
    }
   },
   "outputs": [
    {
     "data": {
      "text/plain": [
       "[]"
      ]
     },
     "execution_count": 75,
     "metadata": {},
     "output_type": "execute_result"
    }
   ],
   "source": [
    "env.ret_v"
   ]
  },
  {
   "cell_type": "code",
   "execution_count": 14,
   "metadata": {
    "code_folding": [
     0
    ],
    "run_control": {
     "marked": false
    }
   },
   "outputs": [],
   "source": [
    "def get_ret(cur,index):\n",
    "#     res_v=res[index]\n",
    "    ps=df_app_res[col_req].iloc[cur,col_cpu_req].astype(float)\n",
    "    if verbose==1:\n",
    "        ps.apply(lambda x: x/res[index]).plot()\n",
    "    return ps.apply(lambda x: x/res[index])"
   ]
  },
  {
   "cell_type": "code",
   "execution_count": 15,
   "metadata": {
    "collapsed": true,
    "run_control": {
     "marked": false
    }
   },
   "outputs": [
    {
     "ename": "NameError",
     "evalue": "name 'verbose' is not defined",
     "output_type": "error",
     "traceback": [
      "\u001b[0;31m---------------------------------------------------------------------------\u001b[0m",
      "\u001b[0;31mNameError\u001b[0m                                 Traceback (most recent call last)",
      "\u001b[0;32m<ipython-input-15-119d2c04f6c5>\u001b[0m in \u001b[0;36m<module>\u001b[0;34m()\u001b[0m\n\u001b[1;32m      1\u001b[0m \u001b[0mop_policy\u001b[0m\u001b[0;34m=\u001b[0m\u001b[0;32mlambda\u001b[0m \u001b[0mcur\u001b[0m\u001b[0;34m:\u001b[0m \u001b[0mcur\u001b[0m\u001b[0;34m*\u001b[0m\u001b[0;36m10\u001b[0m\u001b[0;34m+\u001b[0m\u001b[0;36m1\u001b[0m\u001b[0;34m\u001b[0m\u001b[0m\n\u001b[0;32m----> 2\u001b[0;31m \u001b[0mget_ret\u001b[0m\u001b[0;34m(\u001b[0m\u001b[0mcur\u001b[0m\u001b[0;34m,\u001b[0m\u001b[0mop_policy\u001b[0m\u001b[0;34m(\u001b[0m\u001b[0mcur\u001b[0m\u001b[0;34m)\u001b[0m\u001b[0;34m)\u001b[0m\u001b[0;34m\u001b[0m\u001b[0m\n\u001b[0m\u001b[1;32m      3\u001b[0m \u001b[0;31m# cur+=1\u001b[0m\u001b[0;34m\u001b[0m\u001b[0;34m\u001b[0m\u001b[0m\n",
      "\u001b[0;32m<ipython-input-14-320c44a2c9aa>\u001b[0m in \u001b[0;36mget_ret\u001b[0;34m(cur, index)\u001b[0m\n\u001b[1;32m      2\u001b[0m \u001b[0;31m#     res_v=res[index]\u001b[0m\u001b[0;34m\u001b[0m\u001b[0;34m\u001b[0m\u001b[0m\n\u001b[1;32m      3\u001b[0m     \u001b[0mps\u001b[0m\u001b[0;34m=\u001b[0m\u001b[0mdf_app_res\u001b[0m\u001b[0;34m[\u001b[0m\u001b[0mcol_req\u001b[0m\u001b[0;34m]\u001b[0m\u001b[0;34m.\u001b[0m\u001b[0miloc\u001b[0m\u001b[0;34m[\u001b[0m\u001b[0mcur\u001b[0m\u001b[0;34m,\u001b[0m\u001b[0mcol_cpu_req\u001b[0m\u001b[0;34m]\u001b[0m\u001b[0;34m.\u001b[0m\u001b[0mastype\u001b[0m\u001b[0;34m(\u001b[0m\u001b[0mfloat\u001b[0m\u001b[0;34m)\u001b[0m\u001b[0;34m\u001b[0m\u001b[0m\n\u001b[0;32m----> 4\u001b[0;31m     \u001b[0;32mif\u001b[0m \u001b[0mverbose\u001b[0m\u001b[0;34m==\u001b[0m\u001b[0;36m1\u001b[0m\u001b[0;34m:\u001b[0m\u001b[0;34m\u001b[0m\u001b[0m\n\u001b[0m\u001b[1;32m      5\u001b[0m         \u001b[0mps\u001b[0m\u001b[0;34m.\u001b[0m\u001b[0mapply\u001b[0m\u001b[0;34m(\u001b[0m\u001b[0;32mlambda\u001b[0m \u001b[0mx\u001b[0m\u001b[0;34m:\u001b[0m \u001b[0mx\u001b[0m\u001b[0;34m/\u001b[0m\u001b[0mres\u001b[0m\u001b[0;34m[\u001b[0m\u001b[0mindex\u001b[0m\u001b[0;34m]\u001b[0m\u001b[0;34m)\u001b[0m\u001b[0;34m.\u001b[0m\u001b[0mplot\u001b[0m\u001b[0;34m(\u001b[0m\u001b[0;34m)\u001b[0m\u001b[0;34m\u001b[0m\u001b[0m\n\u001b[1;32m      6\u001b[0m     \u001b[0;32mreturn\u001b[0m \u001b[0mps\u001b[0m\u001b[0;34m.\u001b[0m\u001b[0mapply\u001b[0m\u001b[0;34m(\u001b[0m\u001b[0;32mlambda\u001b[0m \u001b[0mx\u001b[0m\u001b[0;34m:\u001b[0m \u001b[0mx\u001b[0m\u001b[0;34m/\u001b[0m\u001b[0mres\u001b[0m\u001b[0;34m[\u001b[0m\u001b[0mindex\u001b[0m\u001b[0;34m]\u001b[0m\u001b[0;34m)\u001b[0m\u001b[0;34m\u001b[0m\u001b[0m\n",
      "\u001b[0;31mNameError\u001b[0m: name 'verbose' is not defined"
     ]
    }
   ],
   "source": [
    "op_policy=lambda cur: cur*10+1\n",
    "get_ret(cur,op_policy(cur))\n",
    "# cur+=1"
   ]
  },
  {
   "cell_type": "code",
   "execution_count": 16,
   "metadata": {
    "run_control": {
     "marked": false
    }
   },
   "outputs": [],
   "source": [
    "df_machine=df_machine.reset_index()\n",
    "ret_v=[]"
   ]
  },
  {
   "cell_type": "code",
   "execution_count": 17,
   "metadata": {
    "run_control": {
     "marked": false
    }
   },
   "outputs": [],
   "source": [
    "ret_v=[]"
   ]
  },
  {
   "cell_type": "code",
   "execution_count": 25,
   "metadata": {
    "run_control": {
     "marked": false
    }
   },
   "outputs": [
    {
     "data": {
      "text/plain": [
       "6"
      ]
     },
     "execution_count": 25,
     "metadata": {},
     "output_type": "execute_result"
    }
   ],
   "source": [
    "/len ret_v"
   ]
  },
  {
   "cell_type": "code",
   "execution_count": 343,
   "metadata": {
    "collapsed": true,
    "run_control": {
     "marked": false
    }
   },
   "outputs": [
    {
     "data": {
      "text/plain": [
       "[array([[0., 0., 0., ..., 0., 0., 0.],\n",
       "        [0., 0., 0., ..., 0., 0., 0.],\n",
       "        [0., 0., 0., ..., 0., 0., 0.],\n",
       "        ...,\n",
       "        [0., 0., 0., ..., 0., 0., 0.],\n",
       "        [0., 0., 0., ..., 0., 0., 0.],\n",
       "        [0., 0., 0., ..., 0., 0., 0.]]), array([[0., 0., 0., ..., 0., 0., 0.],\n",
       "        [0., 0., 0., ..., 0., 0., 0.],\n",
       "        [0., 0., 0., ..., 0., 0., 0.],\n",
       "        ...,\n",
       "        [0., 0., 0., ..., 0., 0., 0.],\n",
       "        [0., 0., 0., ..., 0., 0., 0.],\n",
       "        [0., 0., 0., ..., 0., 0., 0.]]), array([[0., 0., 0., ..., 0., 0., 0.],\n",
       "        [0., 0., 0., ..., 0., 0., 0.],\n",
       "        [0., 0., 0., ..., 0., 0., 0.],\n",
       "        ...,\n",
       "        [0., 0., 0., ..., 0., 0., 0.],\n",
       "        [0., 0., 0., ..., 0., 0., 0.],\n",
       "        [0., 0., 0., ..., 0., 0., 0.]])]"
      ]
     },
     "execution_count": 343,
     "metadata": {},
     "output_type": "execute_result"
    }
   ],
   "source": [
    "ret_v"
   ]
  },
  {
   "cell_type": "code",
   "execution_count": null,
   "metadata": {
    "run_control": {
     "marked": false
    }
   },
   "outputs": [
    {
     "data": {
      "text/plain": [
       "<mpl_toolkits.mplot3d.axes3d.Axes3D at 0x7fb4e7a289e8>"
      ]
     },
     "execution_count": 382,
     "metadata": {},
     "output_type": "execute_result"
    }
   ],
   "source": [
    "# np.hstack(ret_v).sum(axis=1).shape\n",
    "# pd.DataFrame(np.sum(ret_v,0)[:10,:].T).plot()\n",
    "# pd.DataFrame(np.sum(ret_v,0)[:10,:].T).plot()\n",
    "threed_view(np.sum(ret_v,0)[choi:,:].T,end=100)\n"
   ]
  },
  {
   "cell_type": "code",
   "execution_count": 351,
   "metadata": {
    "run_control": {
     "marked": false
    }
   },
   "outputs": [],
   "source": [
    "np.sum?"
   ]
  },
  {
   "cell_type": "code",
   "execution_count": 287,
   "metadata": {
    "collapsed": true,
    "run_control": {
     "marked": false
    }
   },
   "outputs": [
    {
     "data": {
      "text/plain": [
       "<matplotlib.axes._subplots.AxesSubplot at 0x7fb4f013ee80>"
      ]
     },
     "execution_count": 287,
     "metadata": {},
     "output_type": "execute_result"
    },
    {
     "data": {
      "image/png": "[encoded data removed]",
      "text/plain": [
       "<matplotlib.figure.Figure at 0x7fb4eab6ae10>"
      ]
     },
     "metadata": {},
     "output_type": "display_data"
    }
   ],
   "source": [
    "ret_v.sum(axis=1).plot()"
   ]
  },
  {
   "cell_type": "code",
   "execution_count": 304,
   "metadata": {
    "run_control": {
     "marked": false
    }
   },
   "outputs": [],
   "source": [
    "torch(ret_v).cat"
   ]
  },
  {
   "cell_type": "code",
   "execution_count": 279,
   "metadata": {
    "run_control": {
     "marked": false
    }
   },
   "outputs": [
    {
     "data": {
      "text/plain": [
       "(6000, 16)"
      ]
     },
     "execution_count": 279,
     "metadata": {},
     "output_type": "execute_result"
    }
   ],
   "source": [
    "df_machine.shape"
   ]
  },
  {
   "cell_type": "code",
   "execution_count": 280,
   "metadata": {
    "run_control": {
     "marked": false
    }
   },
   "outputs": [
    {
     "data": {
      "text/plain": [
       "(6000, 98)"
      ]
     },
     "execution_count": 280,
     "metadata": {},
     "output_type": "execute_result"
    }
   ],
   "source": [
    "ret_v.shape"
   ]
  },
  {
   "cell_type": "code",
   "execution_count": 267,
   "metadata": {
    "collapsed": true,
    "run_control": {
     "marked": false
    }
   },
   "outputs": [
    {
     "data": {
      "text/plain": [
       "<matplotlib.axes._subplots.AxesSubplot at 0x7fb4ea5d17f0>"
      ]
     },
     "execution_count": 267,
     "metadata": {},
     "output_type": "execute_result"
    },
    {
     "data": {
      "image/png": "[encoded data removed]",
      "text/plain": [
       "<matplotlib.figure.Figure at 0x7fb4ead08a20>"
      ]
     },
     "metadata": {},
     "output_type": "display_data"
    }
   ],
   "source": [
    "df_machine.cpu_deploy.plot()"
   ]
  },
  {
   "cell_type": "code",
   "execution_count": 265,
   "metadata": {
    "collapsed": true,
    "run_control": {
     "marked": false
    }
   },
   "outputs": [
    {
     "data": {
      "text/plain": [
       "0       1.0\n",
       "1       1.0\n",
       "2       1.0\n",
       "3       1.0\n",
       "4       1.0\n",
       "5       1.0\n",
       "6       1.0\n",
       "7       1.0\n",
       "8       1.0\n",
       "9       1.0\n",
       "10      1.0\n",
       "11      1.0\n",
       "12      1.0\n",
       "13      1.0\n",
       "14      1.0\n",
       "15      1.0\n",
       "16      1.0\n",
       "17      1.0\n",
       "18      1.0\n",
       "19      1.0\n",
       "20      1.0\n",
       "21      1.0\n",
       "22      1.0\n",
       "23      1.0\n",
       "24      1.0\n",
       "25      1.0\n",
       "26      1.0\n",
       "27      1.0\n",
       "28      1.0\n",
       "29      1.0\n",
       "       ... \n",
       "5970    1.0\n",
       "5971    1.0\n",
       "5972    1.0\n",
       "5973    1.0\n",
       "5974    1.0\n",
       "5975    1.0\n",
       "5976    1.0\n",
       "5977    1.0\n",
       "5978    1.0\n",
       "5979    1.0\n",
       "5980    1.0\n",
       "5981    1.0\n",
       "5982    1.0\n",
       "5983    1.0\n",
       "5984    1.0\n",
       "5985    1.0\n",
       "5986    1.0\n",
       "5987    1.0\n",
       "5988    1.0\n",
       "5989    1.0\n",
       "5990    1.0\n",
       "5991    1.0\n",
       "5992    1.0\n",
       "5993    1.0\n",
       "5994    1.0\n",
       "5995    1.0\n",
       "5996    1.0\n",
       "5997    1.0\n",
       "5998    1.0\n",
       "5999    1.0\n",
       "Name: cpu_deploy, Length: 6000, dtype: float64"
      ]
     },
     "execution_count": 265,
     "metadata": {},
     "output_type": "execute_result"
    }
   ],
   "source": [
    "df_machine.cpu_deploy.apply(lambda x: x+1)"
   ]
  },
  {
   "cell_type": "code",
   "execution_count": 245,
   "metadata": {
    "run_control": {
     "marked": false
    }
   },
   "outputs": [
    {
     "data": {
      "text/plain": [
       "908    0.000000\n",
       "909    0.000000\n",
       "910    0.000000\n",
       "911    6.435937\n",
       "912    0.000000\n",
       "913    0.000000\n",
       "dtype: float64"
      ]
     },
     "execution_count": 245,
     "metadata": {},
     "output_type": "execute_result"
    }
   ],
   "source": [
    "ret_v.sum(axis=1)\n"
   ]
  },
  {
   "cell_type": "code",
   "execution_count": 215,
   "metadata": {
    "run_control": {
     "marked": false
    }
   },
   "outputs": [],
   "source": [
    "map_[1]"
   ]
  },
  {
   "cell_type": "code",
   "execution_count": 190,
   "metadata": {
    "run_control": {
     "marked": false
    }
   },
   "outputs": [
    {
     "data": {
      "text/html": [
       "<div>\n",
       "<style scoped>\n",
       "    .dataframe tbody tr th:only-of-type {\n",
       "        vertical-align: middle;\n",
       "    }\n",
       "\n",
       "    .dataframe tbody tr th {\n",
       "        vertical-align: top;\n",
       "    }\n",
       "\n",
       "    .dataframe thead th {\n",
       "        text-align: right;\n",
       "    }\n",
       "</style>\n",
       "<table border=\"1\" class=\"dataframe\">\n",
       "  <thead>\n",
       "    <tr style=\"text-align: right;\">\n",
       "      <th></th>\n",
       "      <th>index</th>\n",
       "      <th>mid</th>\n",
       "      <th>cpu</th>\n",
       "      <th>mem</th>\n",
       "      <th>disk</th>\n",
       "      <th>p</th>\n",
       "      <th>m</th>\n",
       "      <th>pm</th>\n",
       "      <th>cpu_en</th>\n",
       "      <th>mem_en</th>\n",
       "      <th>disk_en</th>\n",
       "      <th>p_en</th>\n",
       "      <th>m_en</th>\n",
       "      <th>pm_en</th>\n",
       "      <th>target</th>\n",
       "      <th>cpu_deploy</th>\n",
       "    </tr>\n",
       "  </thead>\n",
       "  <tbody>\n",
       "    <tr>\n",
       "      <th>0</th>\n",
       "      <td>0</td>\n",
       "      <td>machine_1</td>\n",
       "      <td>32</td>\n",
       "      <td>64</td>\n",
       "      <td>600</td>\n",
       "      <td>7</td>\n",
       "      <td>3</td>\n",
       "      <td>7</td>\n",
       "      <td>0</td>\n",
       "      <td>0</td>\n",
       "      <td>0</td>\n",
       "      <td>0</td>\n",
       "      <td>0</td>\n",
       "      <td>0</td>\n",
       "      <td>0</td>\n",
       "      <td>0.0</td>\n",
       "    </tr>\n",
       "    <tr>\n",
       "      <th>1</th>\n",
       "      <td>1</td>\n",
       "      <td>machine_2</td>\n",
       "      <td>32</td>\n",
       "      <td>64</td>\n",
       "      <td>600</td>\n",
       "      <td>7</td>\n",
       "      <td>3</td>\n",
       "      <td>7</td>\n",
       "      <td>0</td>\n",
       "      <td>0</td>\n",
       "      <td>0</td>\n",
       "      <td>0</td>\n",
       "      <td>0</td>\n",
       "      <td>0</td>\n",
       "      <td>0</td>\n",
       "      <td>0.0</td>\n",
       "    </tr>\n",
       "    <tr>\n",
       "      <th>2</th>\n",
       "      <td>2</td>\n",
       "      <td>machine_3</td>\n",
       "      <td>32</td>\n",
       "      <td>64</td>\n",
       "      <td>600</td>\n",
       "      <td>7</td>\n",
       "      <td>3</td>\n",
       "      <td>7</td>\n",
       "      <td>0</td>\n",
       "      <td>0</td>\n",
       "      <td>0</td>\n",
       "      <td>0</td>\n",
       "      <td>0</td>\n",
       "      <td>0</td>\n",
       "      <td>0</td>\n",
       "      <td>0.0</td>\n",
       "    </tr>\n",
       "    <tr>\n",
       "      <th>3</th>\n",
       "      <td>3</td>\n",
       "      <td>machine_4</td>\n",
       "      <td>32</td>\n",
       "      <td>64</td>\n",
       "      <td>600</td>\n",
       "      <td>7</td>\n",
       "      <td>3</td>\n",
       "      <td>7</td>\n",
       "      <td>0</td>\n",
       "      <td>0</td>\n",
       "      <td>0</td>\n",
       "      <td>0</td>\n",
       "      <td>0</td>\n",
       "      <td>0</td>\n",
       "      <td>0</td>\n",
       "      <td>0.0</td>\n",
       "    </tr>\n",
       "    <tr>\n",
       "      <th>4</th>\n",
       "      <td>4</td>\n",
       "      <td>machine_5</td>\n",
       "      <td>32</td>\n",
       "      <td>64</td>\n",
       "      <td>600</td>\n",
       "      <td>7</td>\n",
       "      <td>3</td>\n",
       "      <td>7</td>\n",
       "      <td>0</td>\n",
       "      <td>0</td>\n",
       "      <td>0</td>\n",
       "      <td>0</td>\n",
       "      <td>0</td>\n",
       "      <td>0</td>\n",
       "      <td>0</td>\n",
       "      <td>0.0</td>\n",
       "    </tr>\n",
       "  </tbody>\n",
       "</table>\n",
       "</div>"
      ],
      "text/plain": [
       "   index        mid  cpu  mem     ...      m_en  pm_en  target  cpu_deploy\n",
       "0      0  machine_1   32   64     ...         0      0       0         0.0\n",
       "1      1  machine_2   32   64     ...         0      0       0         0.0\n",
       "2      2  machine_3   32   64     ...         0      0       0         0.0\n",
       "3      3  machine_4   32   64     ...         0      0       0         0.0\n",
       "4      4  machine_5   32   64     ...         0      0       0         0.0\n",
       "\n",
       "[5 rows x 16 columns]"
      ]
     },
     "execution_count": 190,
     "metadata": {},
     "output_type": "execute_result"
    }
   ],
   "source": [
    "df_machine.head()"
   ]
  },
  {
   "cell_type": "code",
   "execution_count": 164,
   "metadata": {
    "run_control": {
     "marked": false
    }
   },
   "outputs": [
    {
     "data": {
      "text/plain": [
       "[None, None, None, None, None]"
      ]
     },
     "execution_count": 164,
     "metadata": {},
     "output_type": "execute_result"
    }
   ],
   "source": [
    "gen=lambda x,y:np.arange(x*y).reshape(x,y)\n",
    "li=[]\n",
    "# li.append(gen(5,3))\n",
    "# li.append(gen(5,3))\n",
    "# li.append(gen(5,3))\n",
    "# li.append(gen(5,3))\n",
    "# li+=gen(5,3)\n",
    "x=np.ones(5,dtype=int)*4\n",
    "y=np.ones(5,dtype=int)*3\n",
    "[li.append(gen(x,y)) for x,y in zip(x,y)]\n",
    "# {x:y for x,y in zip(x,y)}\n",
    "\n",
    "\n",
    "np.vstack(li).shape"
   ]
  },
  {
   "cell_type": "code",
   "execution_count": 96,
   "metadata": {
    "collapsed": true,
    "run_control": {
     "marked": false
    }
   },
   "outputs": [
    {
     "data": {
      "image/png": "[encoded data removed]",
      "text/plain": [
       "<matplotlib.figure.Figure at 0x7fb4eacb4f28>"
      ]
     },
     "metadata": {},
     "output_type": "display_data"
    }
   ],
   "source": [
    "df_app_res[col_req].iloc[cur,col_cpu_req].astype(float).plot()\n",
    "df_app_res[col_req].iloc[cur,col_cpu_req].astype(float).apply(lambda x: x/res[index])\n",
    "cur=cur+1\n",
    "# .iloc[:,col_cpu_req].apply(lambda x:x)"
   ]
  },
  {
   "cell_type": "code",
   "execution_count": 73,
   "metadata": {
    "collapsed": true,
    "run_control": {
     "marked": false
    }
   },
   "outputs": [
    {
     "data": {
      "text/plain": [
       "0         0.5\n",
       "1         0.5\n",
       "2         0.5\n",
       "3         0.5\n",
       "4         0.5\n",
       "5         0.5\n",
       "6         0.5\n",
       "7         0.5\n",
       "8         0.5\n",
       "9           4\n",
       "10        0.5\n",
       "11        0.5\n",
       "12       0.91\n",
       "13        0.5\n",
       "14        0.5\n",
       "15        0.5\n",
       "16        0.5\n",
       "17        0.5\n",
       "18        0.5\n",
       "19        0.5\n",
       "20        0.5\n",
       "21      2.092\n",
       "22        0.5\n",
       "23        0.5\n",
       "24        0.5\n",
       "25        0.5\n",
       "26        0.5\n",
       "27        0.5\n",
       "28        0.5\n",
       "29      0.903\n",
       "        ...  \n",
       "9308        4\n",
       "9309        4\n",
       "9310      0.5\n",
       "9311      0.5\n",
       "9312    1.832\n",
       "9313    1.009\n",
       "9314      0.5\n",
       "9315      0.5\n",
       "9316      0.5\n",
       "9317      0.5\n",
       "9318      0.5\n",
       "9319      0.5\n",
       "9320        4\n",
       "9321      0.5\n",
       "9322      0.5\n",
       "9323    0.862\n",
       "9324      0.5\n",
       "9325    0.572\n",
       "9326    0.519\n",
       "9327    2.516\n",
       "9328    1.122\n",
       "9329    1.303\n",
       "9330      0.5\n",
       "9331     0.56\n",
       "9332      0.5\n",
       "9333    1.148\n",
       "9334    2.054\n",
       "9335      0.5\n",
       "9336      0.5\n",
       "9337      0.5\n",
       "Name: 0, Length: 9338, dtype: object"
      ]
     },
     "execution_count": 73,
     "metadata": {},
     "output_type": "execute_result"
    }
   ],
   "source": [
    "df_app_res[0].iloc[:,0]"
   ]
  },
  {
   "cell_type": "code",
   "execution_count": 33,
   "metadata": {
    "collapsed": true,
    "run_control": {
     "marked": false
    }
   },
   "outputs": [
    {
     "ename": "TypeError",
     "evalue": "<lambda>() missing 1 required positional argument: 'index'",
     "output_type": "error",
     "traceback": [
      "\u001b[0;31m---------------------------------------------------------------------------\u001b[0m",
      "\u001b[0;31mTypeError\u001b[0m                                 Traceback (most recent call last)",
      "\u001b[0;32m<ipython-input-33-5492856dc6be>\u001b[0m in \u001b[0;36m<module>\u001b[0;34m()\u001b[0m\n\u001b[0;32m----> 1\u001b[0;31m \u001b[0mdf_machine\u001b[0m\u001b[0;34m.\u001b[0m\u001b[0mcpu_deploy\u001b[0m\u001b[0;34m.\u001b[0m\u001b[0mapply\u001b[0m\u001b[0;34m(\u001b[0m\u001b[0mop_update\u001b[0m\u001b[0;34m)\u001b[0m\u001b[0;34m\u001b[0m\u001b[0m\n\u001b[0m",
      "\u001b[0;32m~/anaconda/envs/patent-landscape/lib/python3.5/site-packages/pandas/core/series.py\u001b[0m in \u001b[0;36mapply\u001b[0;34m(self, func, convert_dtype, args, **kwds)\u001b[0m\n\u001b[1;32m   3192\u001b[0m             \u001b[0;32melse\u001b[0m\u001b[0;34m:\u001b[0m\u001b[0;34m\u001b[0m\u001b[0m\n\u001b[1;32m   3193\u001b[0m                 \u001b[0mvalues\u001b[0m \u001b[0;34m=\u001b[0m \u001b[0mself\u001b[0m\u001b[0;34m.\u001b[0m\u001b[0mastype\u001b[0m\u001b[0;34m(\u001b[0m\u001b[0mobject\u001b[0m\u001b[0;34m)\u001b[0m\u001b[0;34m.\u001b[0m\u001b[0mvalues\u001b[0m\u001b[0;34m\u001b[0m\u001b[0m\n\u001b[0;32m-> 3194\u001b[0;31m                 \u001b[0mmapped\u001b[0m \u001b[0;34m=\u001b[0m \u001b[0mlib\u001b[0m\u001b[0;34m.\u001b[0m\u001b[0mmap_infer\u001b[0m\u001b[0;34m(\u001b[0m\u001b[0mvalues\u001b[0m\u001b[0;34m,\u001b[0m \u001b[0mf\u001b[0m\u001b[0;34m,\u001b[0m \u001b[0mconvert\u001b[0m\u001b[0;34m=\u001b[0m\u001b[0mconvert_dtype\u001b[0m\u001b[0;34m)\u001b[0m\u001b[0;34m\u001b[0m\u001b[0m\n\u001b[0m\u001b[1;32m   3195\u001b[0m \u001b[0;34m\u001b[0m\u001b[0m\n\u001b[1;32m   3196\u001b[0m         \u001b[0;32mif\u001b[0m \u001b[0mlen\u001b[0m\u001b[0;34m(\u001b[0m\u001b[0mmapped\u001b[0m\u001b[0;34m)\u001b[0m \u001b[0;32mand\u001b[0m \u001b[0misinstance\u001b[0m\u001b[0;34m(\u001b[0m\u001b[0mmapped\u001b[0m\u001b[0;34m[\u001b[0m\u001b[0;36m0\u001b[0m\u001b[0;34m]\u001b[0m\u001b[0;34m,\u001b[0m \u001b[0mSeries\u001b[0m\u001b[0;34m)\u001b[0m\u001b[0;34m:\u001b[0m\u001b[0;34m\u001b[0m\u001b[0m\n",
      "\u001b[0;32mpandas/_libs/src/inference.pyx\u001b[0m in \u001b[0;36mpandas._libs.lib.map_infer\u001b[0;34m()\u001b[0m\n",
      "\u001b[0;31mTypeError\u001b[0m: <lambda>() missing 1 required positional argument: 'index'"
     ]
    }
   ],
   "source": [
    "df_machine.cpu_deploy.apply(op_update)"
   ]
  },
  {
   "cell_type": "code",
   "execution_count": 15,
   "metadata": {
    "run_control": {
     "marked": false
    }
   },
   "outputs": [],
   "source": [
    "loss=df_machine['cpu_deploy'].sum()"
   ]
  },
  {
   "cell_type": "code",
   "execution_count": 44,
   "metadata": {
    "collapsed": true,
    "run_control": {
     "marked": false
    }
   },
   "outputs": [
    {
     "data": {
      "text/plain": [
       "<matplotlib.axes._subplots.AxesSubplot at 0x7fb4f35a23c8>"
      ]
     },
     "execution_count": 44,
     "metadata": {},
     "output_type": "execute_result"
    },
    {
     "data": {
      "image/png": "[encoded data removed]",
      "text/plain": [
       "<matplotlib.figure.Figure at 0x7fb4f36cb470>"
      ]
     },
     "metadata": {},
     "output_type": "display_data"
    }
   ],
   "source": [
    "df_machine.cpu_deploy.cumsum().plot()"
   ]
  },
  {
   "cell_type": "code",
   "execution_count": 46,
   "metadata": {
    "collapsed": true,
    "run_control": {
     "marked": false
    }
   },
   "outputs": [
    {
     "data": {
      "text/plain": [
       "<matplotlib.axes._subplots.AxesSubplot at 0x7fb4f364a4e0>"
      ]
     },
     "execution_count": 46,
     "metadata": {},
     "output_type": "execute_result"
    },
    {
     "data": {
      "image/png": "[encoded data removed]",
      "text/plain": [
       "<matplotlib.figure.Figure at 0x7fb4f36b0ac8>"
      ]
     },
     "metadata": {},
     "output_type": "display_data"
    }
   ],
   "source": [
    "df_machine.cpu.plot()"
   ]
  },
  {
   "cell_type": "code",
   "execution_count": 94,
   "metadata": {
    "collapsed": true,
    "run_control": {
     "marked": false
    }
   },
   "outputs": [
    {
     "data": {
      "text/plain": [
       "4.41985321045"
      ]
     },
     "execution_count": 94,
     "metadata": {},
     "output_type": "execute_result"
    },
    {
     "data": {
      "image/png": "[encoded data removed]",
      "text/plain": [
       "<matplotlib.figure.Figure at 0x7f8c01417eb8>"
      ]
     },
     "metadata": {},
     "output_type": "display_data"
    }
   ],
   "source": [
    "col=[]\n",
    "col=list(range(98))\n",
    "col_op=list(2*np.array(col)+1)\n",
    "col_db=list(2*np.array(col))\n",
    "tmp_vc=df_app_res[col].values[:,col_db].astype(float).max(axis=1)\n",
    "tmp_vm=df_app_res[col].values[:,col_op].astype(float).max(axis=1)\n",
    "plt.plot(tmp_v)\n",
    "tmp_v[1]\n",
    "# tmp_v=df_app_res[col].values[:,col_op].astype(float).sum(axis=1)\n",
    "# plt.figure()\n",
    "# plt.plot(tmp_v)\n",
    "# df_app_res.cpu.str.split('|').astype(float).sum()"
   ]
  },
  {
   "cell_type": "code",
   "execution_count": 96,
   "metadata": {
    "run_control": {
     "marked": false
    }
   },
   "outputs": [
    {
     "data": {
      "text/plain": [
       "(793, 4046)"
      ]
     },
     "execution_count": 96,
     "metadata": {},
     "output_type": "execute_result"
    }
   ],
   "source": [
    "np.argmax(tmp_vc),np.argmax(tmp_vm)"
   ]
  },
  {
   "cell_type": "code",
   "execution_count": 102,
   "metadata": {
    "run_control": {
     "marked": false
    }
   },
   "outputs": [
    {
     "data": {
      "text/plain": [
       "128.0"
      ]
     },
     "execution_count": 102,
     "metadata": {},
     "output_type": "execute_result"
    }
   ],
   "source": [
    "tmp_vm[4046]"
   ]
  },
  {
   "cell_type": "code",
   "execution_count": 15,
   "metadata": {
    "run_control": {
     "marked": false
    }
   },
   "outputs": [
    {
     "data": {
      "text/plain": [
       "(9338,)"
      ]
     },
     "execution_count": 15,
     "metadata": {},
     "output_type": "execute_result"
    }
   ],
   "source": [
    "tmp_v.shape"
   ]
  },
  {
   "cell_type": "code",
   "execution_count": 98,
   "metadata": {
    "run_control": {
     "marked": false
    }
   },
   "outputs": [
    {
     "data": {
      "text/plain": [
       "92"
      ]
     },
     "execution_count": 98,
     "metadata": {},
     "output_type": "execute_result"
    }
   ],
   "source": [
    "df_machine.cpu.max()"
   ]
  },
  {
   "cell_type": "code",
   "execution_count": 99,
   "metadata": {
    "run_control": {
     "marked": false
    }
   },
   "outputs": [
    {
     "data": {
      "text/plain": [
       "288"
      ]
     },
     "execution_count": 99,
     "metadata": {},
     "output_type": "execute_result"
    }
   ],
   "source": [
    "df_machine.mem.max()"
   ]
  }
 ],
 "metadata": {
  "kernelspec": {
   "display_name": "Python 3",
   "language": "python",
   "name": "python3"
  },
  "language_info": {
   "codemirror_mode": {
    "name": "ipython",
    "version": 3
   },
   "file_extension": ".py",
   "mimetype": "text/x-python",
   "name": "python",
   "nbconvert_exporter": "python",
   "pygments_lexer": "ipython3",
   "version": "3.5.4"
  },
  "latex_envs": {
   "LaTeX_envs_menu_present": true,
   "autoclose": true,
   "autocomplete": true,
   "bibliofile": "biblio.bib",
   "cite_by": "apalike",
   "current_citInitial": 1,
   "eqLabelWithNumbers": true,
   "eqNumInitial": 1,
   "hotkeys": {
    "equation": "Ctrl-E",
    "itemize": "Ctrl-I"
   },
   "labels_anchors": false,
   "latex_user_defs": false,
   "report_style_numbering": false,
   "user_envs_cfg": true
  },
  "toc": {
   "base_numbering": 1,
   "nav_menu": {},
   "number_sections": true,
   "sideBar": true,
   "skip_h1_title": false,
   "title_cell": "Table of Contents",
   "title_sidebar": "Contents",
   "toc_cell": false,
   "toc_position": {
    "height": "409px",
    "left": "935px",
    "top": "333.301px",
    "width": "235px"
   },
   "toc_section_display": true,
   "toc_window_display": false
  },
  "varInspector": {
   "cols": {
    "lenName": 16,
    "lenType": 16,
    "lenVar": 40
   },
   "kernels_config": {
    "python": {
     "delete_cmd_postfix": "",
     "delete_cmd_prefix": "del ",
     "library": "var_list.py",
     "varRefreshCmd": "print(var_dic_list())"
    },
    "r": {
     "delete_cmd_postfix": ") ",
     "delete_cmd_prefix": "rm(",
     "library": "var_list.r",
     "varRefreshCmd": "cat(var_dic_list()) "
    }
   },
   "types_to_exclude": [
    "module",
    "function",
    "builtin_function_or_method",
    "instance",
    "_Feature"
   ],
   "window_display": false
  }
 },
 "nbformat": 4,
 "nbformat_minor": 2
}
